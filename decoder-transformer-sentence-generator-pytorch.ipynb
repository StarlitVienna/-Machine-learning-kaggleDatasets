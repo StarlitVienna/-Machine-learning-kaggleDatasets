{
 "cells": [
  {
   "cell_type": "markdown",
   "id": "2db5d1f4",
   "metadata": {
    "papermill": {
     "duration": 0.009635,
     "end_time": "2024-07-12T01:46:15.575726",
     "exception": false,
     "start_time": "2024-07-12T01:46:15.566091",
     "status": "completed"
    },
    "tags": []
   },
   "source": [
    "# Introduction\n",
    "- this notebook aims to build a sentence generator using wikisent2 dataset;\n",
    "- for text generation, the focus is to use top_k sampling\n",
    "- *** This is a decoder only transformer ***"
   ]
  },
  {
   "cell_type": "markdown",
   "id": "8fae5635",
   "metadata": {
    "papermill": {
     "duration": 0.008665,
     "end_time": "2024-07-12T01:46:15.593303",
     "exception": false,
     "start_time": "2024-07-12T01:46:15.584638",
     "status": "completed"
    },
    "tags": []
   },
   "source": [
    "# Import needed libraries"
   ]
  },
  {
   "cell_type": "code",
   "execution_count": 1,
   "id": "62f0b66b",
   "metadata": {
    "execution": {
     "iopub.execute_input": "2024-07-12T01:46:15.612404Z",
     "iopub.status.busy": "2024-07-12T01:46:15.612038Z",
     "iopub.status.idle": "2024-07-12T01:46:20.309299Z",
     "shell.execute_reply": "2024-07-12T01:46:20.308108Z"
    },
    "papermill": {
     "duration": 4.710647,
     "end_time": "2024-07-12T01:46:20.312733",
     "exception": false,
     "start_time": "2024-07-12T01:46:15.602086",
     "status": "completed"
    },
    "tags": []
   },
   "outputs": [],
   "source": [
    "from tqdm import tqdm\n",
    "\n",
    "import torch\n",
    "from torch import nn\n",
    "from transformers import AutoTokenizer"
   ]
  },
  {
   "cell_type": "markdown",
   "id": "551753b0",
   "metadata": {
    "papermill": {
     "duration": 0.00908,
     "end_time": "2024-07-12T01:46:20.331649",
     "exception": false,
     "start_time": "2024-07-12T01:46:20.322569",
     "status": "completed"
    },
    "tags": []
   },
   "source": [
    "# Device agnostic code"
   ]
  },
  {
   "cell_type": "code",
   "execution_count": 2,
   "id": "bc7ec971",
   "metadata": {
    "execution": {
     "iopub.execute_input": "2024-07-12T01:46:20.351230Z",
     "iopub.status.busy": "2024-07-12T01:46:20.350839Z",
     "iopub.status.idle": "2024-07-12T01:46:20.415418Z",
     "shell.execute_reply": "2024-07-12T01:46:20.414238Z"
    },
    "papermill": {
     "duration": 0.076609,
     "end_time": "2024-07-12T01:46:20.417474",
     "exception": false,
     "start_time": "2024-07-12T01:46:20.340865",
     "status": "completed"
    },
    "tags": []
   },
   "outputs": [
    {
     "name": "stdout",
     "output_type": "stream",
     "text": [
      "default device set to cuda\n"
     ]
    }
   ],
   "source": [
    "device = \"cuda\" if torch.cuda.is_available() else \"cpu\"\n",
    "torch.set_default_device(device)\n",
    "print(f\"default device set to {device}\")\n"
   ]
  },
  {
   "cell_type": "markdown",
   "id": "1fc41ed7",
   "metadata": {
    "papermill": {
     "duration": 0.009086,
     "end_time": "2024-07-12T01:46:20.435738",
     "exception": false,
     "start_time": "2024-07-12T01:46:20.426652",
     "status": "completed"
    },
    "tags": []
   },
   "source": [
    "# Prepare the data"
   ]
  },
  {
   "cell_type": "code",
   "execution_count": 3,
   "id": "e21b02a3",
   "metadata": {
    "execution": {
     "iopub.execute_input": "2024-07-12T01:46:20.455744Z",
     "iopub.status.busy": "2024-07-12T01:46:20.455452Z",
     "iopub.status.idle": "2024-07-12T01:46:20.459264Z",
     "shell.execute_reply": "2024-07-12T01:46:20.458518Z"
    },
    "papermill": {
     "duration": 0.015616,
     "end_time": "2024-07-12T01:46:20.461162",
     "exception": false,
     "start_time": "2024-07-12T01:46:20.445546",
     "status": "completed"
    },
    "tags": []
   },
   "outputs": [],
   "source": [
    "text_path = \"/kaggle/input/wikipedia-sentences/wikisent2.txt\""
   ]
  },
  {
   "cell_type": "code",
   "execution_count": 4,
   "id": "39fa9c3e",
   "metadata": {
    "execution": {
     "iopub.execute_input": "2024-07-12T01:46:20.480951Z",
     "iopub.status.busy": "2024-07-12T01:46:20.480271Z",
     "iopub.status.idle": "2024-07-12T01:46:32.867561Z",
     "shell.execute_reply": "2024-07-12T01:46:32.866792Z"
    },
    "papermill": {
     "duration": 12.399704,
     "end_time": "2024-07-12T01:46:32.869943",
     "exception": false,
     "start_time": "2024-07-12T01:46:20.470239",
     "status": "completed"
    },
    "tags": []
   },
   "outputs": [],
   "source": [
    "with open(text_path, 'r', encoding=\"utf-8\") as f:\n",
    "    lines = f.read().splitlines()[:100000]\n",
    "    max_length = max([len(line) for line in lines])"
   ]
  },
  {
   "cell_type": "code",
   "execution_count": 5,
   "id": "31c7c614",
   "metadata": {
    "execution": {
     "iopub.execute_input": "2024-07-12T01:46:32.890187Z",
     "iopub.status.busy": "2024-07-12T01:46:32.889427Z",
     "iopub.status.idle": "2024-07-12T01:46:34.805884Z",
     "shell.execute_reply": "2024-07-12T01:46:34.805090Z"
    },
    "papermill": {
     "duration": 1.928751,
     "end_time": "2024-07-12T01:46:34.808204",
     "exception": false,
     "start_time": "2024-07-12T01:46:32.879453",
     "status": "completed"
    },
    "tags": []
   },
   "outputs": [
    {
     "data": {
      "application/vnd.jupyter.widget-view+json": {
       "model_id": "2e0106407f7c4fc19984d95b1b2d524e",
       "version_major": 2,
       "version_minor": 0
      },
      "text/plain": [
       "tokenizer_config.json:   0%|          | 0.00/26.0 [00:00<?, ?B/s]"
      ]
     },
     "metadata": {},
     "output_type": "display_data"
    },
    {
     "data": {
      "application/vnd.jupyter.widget-view+json": {
       "model_id": "67d9b9da9afe4f29a3f7a85cd1d47a5c",
       "version_major": 2,
       "version_minor": 0
      },
      "text/plain": [
       "config.json:   0%|          | 0.00/665 [00:00<?, ?B/s]"
      ]
     },
     "metadata": {},
     "output_type": "display_data"
    },
    {
     "data": {
      "application/vnd.jupyter.widget-view+json": {
       "model_id": "01a29a62ca874972add174e631fafe69",
       "version_major": 2,
       "version_minor": 0
      },
      "text/plain": [
       "vocab.json:   0%|          | 0.00/1.04M [00:00<?, ?B/s]"
      ]
     },
     "metadata": {},
     "output_type": "display_data"
    },
    {
     "data": {
      "application/vnd.jupyter.widget-view+json": {
       "model_id": "44856017f9bb4772bddfc3d150c988ec",
       "version_major": 2,
       "version_minor": 0
      },
      "text/plain": [
       "merges.txt:   0%|          | 0.00/456k [00:00<?, ?B/s]"
      ]
     },
     "metadata": {},
     "output_type": "display_data"
    },
    {
     "data": {
      "application/vnd.jupyter.widget-view+json": {
       "model_id": "e14702ae9a1b4379bd5a12d690767ac4",
       "version_major": 2,
       "version_minor": 0
      },
      "text/plain": [
       "tokenizer.json:   0%|          | 0.00/1.36M [00:00<?, ?B/s]"
      ]
     },
     "metadata": {},
     "output_type": "display_data"
    }
   ],
   "source": [
    "gpt2tokenizer = AutoTokenizer.from_pretrained(\"gpt2\")\n",
    "gpt2tokenizer.pad_token = gpt2tokenizer.eos_token"
   ]
  },
  {
   "cell_type": "code",
   "execution_count": 6,
   "id": "9c81b2db",
   "metadata": {
    "execution": {
     "iopub.execute_input": "2024-07-12T01:46:34.829743Z",
     "iopub.status.busy": "2024-07-12T01:46:34.829440Z",
     "iopub.status.idle": "2024-07-12T01:46:34.836625Z",
     "shell.execute_reply": "2024-07-12T01:46:34.835622Z"
    },
    "papermill": {
     "duration": 0.019982,
     "end_time": "2024-07-12T01:46:34.838569",
     "exception": false,
     "start_time": "2024-07-12T01:46:34.818587",
     "status": "completed"
    },
    "tags": []
   },
   "outputs": [],
   "source": [
    "def get_random_batch(lines, batch_size, max_length):\n",
    "    random_lines_batch_idx = torch.randint(0, len(lines)-1, size=(batch_size,))\n",
    "    \n",
    "    batch_inputs = []\n",
    "    batch_labels = []\n",
    "    \n",
    "    for idx in random_lines_batch_idx:\n",
    "        #print(f\"lines is -->{lines[idx]}\")\n",
    "        encoded_line = gpt2tokenizer.encode(\n",
    "            lines[idx],\n",
    "            max_length=max_length,\n",
    "            padding=\"max_length\",\n",
    "            truncation=True,\n",
    "            add_special_tokens=True,\n",
    "        )\n",
    "        \n",
    "        #decoded_line = gpt2tokenizer.decode(encoded_line)\n",
    "        batch_inputs.append(encoded_line)\n",
    "        batch_labels.append(encoded_line[1:] + [gpt2tokenizer.pad_token_id])\n",
    "        #print(encoded_line)\n",
    "    batch_inputs = torch.tensor(batch_inputs, dtype=torch.long)\n",
    "    batch_labels = torch.tensor(batch_labels, dtype=torch.long)\n",
    "    return (batch_inputs, batch_labels)"
   ]
  },
  {
   "cell_type": "code",
   "execution_count": 7,
   "id": "f90c9261",
   "metadata": {
    "execution": {
     "iopub.execute_input": "2024-07-12T01:46:34.860705Z",
     "iopub.status.busy": "2024-07-12T01:46:34.860437Z",
     "iopub.status.idle": "2024-07-12T01:46:35.052908Z",
     "shell.execute_reply": "2024-07-12T01:46:35.051805Z"
    },
    "papermill": {
     "duration": 0.206393,
     "end_time": "2024-07-12T01:46:35.054951",
     "exception": false,
     "start_time": "2024-07-12T01:46:34.848558",
     "status": "completed"
    },
    "tags": []
   },
   "outputs": [
    {
     "name": "stdout",
     "output_type": "stream",
     "text": [
      "max_length set to --> 1034\n",
      "torch.Size([1, 1034])\n",
      "torch.Size([1, 1034])\n",
      "cuda:0\n"
     ]
    }
   ],
   "source": [
    "print(f\"max_length set to --> {max_length}\")\n",
    "sample_batch = get_random_batch(lines=lines, batch_size=1, max_length=max_length)\n",
    "print(sample_batch[0].shape)\n",
    "print(sample_batch[1].shape)\n",
    "print(sample_batch[0].device)"
   ]
  },
  {
   "cell_type": "code",
   "execution_count": 8,
   "id": "cf053546",
   "metadata": {
    "execution": {
     "iopub.execute_input": "2024-07-12T01:46:35.076854Z",
     "iopub.status.busy": "2024-07-12T01:46:35.076506Z",
     "iopub.status.idle": "2024-07-12T01:46:35.081447Z",
     "shell.execute_reply": "2024-07-12T01:46:35.080631Z"
    },
    "papermill": {
     "duration": 0.0179,
     "end_time": "2024-07-12T01:46:35.083241",
     "exception": false,
     "start_time": "2024-07-12T01:46:35.065341",
     "status": "completed"
    },
    "tags": []
   },
   "outputs": [],
   "source": [
    "def batch_tester(num_samples, batch_size, max_length):\n",
    "    for _ in range(num_samples):\n",
    "        try:\n",
    "            batch_sample = get_random_batch(lines=lines, batch_size=batch_size, max_length=max_length)\n",
    "        except Exception as e:\n",
    "            print(f\"error:\\n{e}\")"
   ]
  },
  {
   "cell_type": "code",
   "execution_count": 9,
   "id": "e5e17e5a",
   "metadata": {
    "execution": {
     "iopub.execute_input": "2024-07-12T01:46:35.104548Z",
     "iopub.status.busy": "2024-07-12T01:46:35.104273Z",
     "iopub.status.idle": "2024-07-12T01:46:39.012590Z",
     "shell.execute_reply": "2024-07-12T01:46:39.011817Z"
    },
    "papermill": {
     "duration": 3.92134,
     "end_time": "2024-07-12T01:46:39.014795",
     "exception": false,
     "start_time": "2024-07-12T01:46:35.093455",
     "status": "completed"
    },
    "tags": []
   },
   "outputs": [],
   "source": [
    "lines = lines\n",
    "batch_size = 64\n",
    "max_length = max_length\n",
    "\n",
    "batch_tester(num_samples=100, batch_size=batch_size, max_length=max_length)"
   ]
  },
  {
   "cell_type": "code",
   "execution_count": 10,
   "id": "375a1d7c",
   "metadata": {
    "execution": {
     "iopub.execute_input": "2024-07-12T01:46:39.036800Z",
     "iopub.status.busy": "2024-07-12T01:46:39.036493Z",
     "iopub.status.idle": "2024-07-12T01:46:39.042301Z",
     "shell.execute_reply": "2024-07-12T01:46:39.041564Z"
    },
    "papermill": {
     "duration": 0.019076,
     "end_time": "2024-07-12T01:46:39.044224",
     "exception": false,
     "start_time": "2024-07-12T01:46:39.025148",
     "status": "completed"
    },
    "tags": []
   },
   "outputs": [
    {
     "data": {
      "text/plain": [
       "50257"
      ]
     },
     "execution_count": 10,
     "metadata": {},
     "output_type": "execute_result"
    }
   ],
   "source": [
    "gpt2tokenizer.vocab_size"
   ]
  },
  {
   "cell_type": "markdown",
   "id": "2c9be76a",
   "metadata": {
    "papermill": {
     "duration": 0.009855,
     "end_time": "2024-07-12T01:46:39.064203",
     "exception": false,
     "start_time": "2024-07-12T01:46:39.054348",
     "status": "completed"
    },
    "tags": []
   },
   "source": [
    "# Transformer decoder model"
   ]
  },
  {
   "cell_type": "markdown",
   "id": "932fb6f1",
   "metadata": {
    "papermill": {
     "duration": 0.009928,
     "end_time": "2024-07-12T01:46:39.084198",
     "exception": false,
     "start_time": "2024-07-12T01:46:39.074270",
     "status": "completed"
    },
    "tags": []
   },
   "source": [
    "# Head\n",
    "- not taking k and v since there is no encoder block"
   ]
  },
  {
   "cell_type": "code",
   "execution_count": 11,
   "id": "9e54e873",
   "metadata": {
    "execution": {
     "iopub.execute_input": "2024-07-12T01:46:39.105355Z",
     "iopub.status.busy": "2024-07-12T01:46:39.105078Z",
     "iopub.status.idle": "2024-07-12T01:46:39.113629Z",
     "shell.execute_reply": "2024-07-12T01:46:39.112785Z"
    },
    "papermill": {
     "duration": 0.02131,
     "end_time": "2024-07-12T01:46:39.115483",
     "exception": false,
     "start_time": "2024-07-12T01:46:39.094173",
     "status": "completed"
    },
    "tags": []
   },
   "outputs": [],
   "source": [
    "class Head(nn.Module):\n",
    "    def __init__(self, n_embd, head_size, context_size, dropout):\n",
    "        super(Head, self).__init__()\n",
    "\n",
    "        self.Q = nn.Linear(in_features=n_embd, out_features=head_size)\n",
    "        self.K = nn.Linear(in_features=n_embd, out_features=head_size)\n",
    "        self.V = nn.Linear(in_features=n_embd, out_features=head_size)\n",
    "\n",
    "        self.register_buffer(\"tril\", torch.tril(torch.ones(context_size, context_size)))\n",
    "\n",
    "        self.dropout_layer = nn.Dropout(dropout)\n",
    "\n",
    "    def forward(self, x: torch.Tensor) -> torch.Tensor:\n",
    "        B, T, C = x.shape\n",
    "        q = self.Q(x) # (B, T, head_size)\n",
    "        k = self.K(x) # (B, T, head_size)\n",
    "\n",
    "        wei = q @ k.transpose(-2, -1) * (C ** -0.5) # (B, T, head_size) @ (B, head_size, T ) --> (B, T, T)\n",
    "        wei = wei.masked_fill(self.tril[:T, :T]==0, float('-inf')) # (B, T, T)\n",
    "        wei = torch.softmax(wei, dim=-1)\n",
    "        wei = self.dropout_layer(wei)\n",
    "\n",
    "        v = self.V(x)\n",
    "\n",
    "        x = wei @ v # (B, T, T) @ (B, T, head_size) --> (B, T, head_size)\n",
    "\n",
    "        return x "
   ]
  },
  {
   "cell_type": "markdown",
   "id": "5db60365",
   "metadata": {
    "papermill": {
     "duration": 0.010556,
     "end_time": "2024-07-12T01:46:39.136175",
     "exception": false,
     "start_time": "2024-07-12T01:46:39.125619",
     "status": "completed"
    },
    "tags": []
   },
   "source": [
    "# Multiheaded attention\n",
    "- just a simple multiheaded attention layer with dropout to avoid overffiting; thus better inference time"
   ]
  },
  {
   "cell_type": "code",
   "execution_count": 12,
   "id": "8a323a2f",
   "metadata": {
    "execution": {
     "iopub.execute_input": "2024-07-12T01:46:39.157721Z",
     "iopub.status.busy": "2024-07-12T01:46:39.157449Z",
     "iopub.status.idle": "2024-07-12T01:46:39.164151Z",
     "shell.execute_reply": "2024-07-12T01:46:39.163317Z"
    },
    "papermill": {
     "duration": 0.019762,
     "end_time": "2024-07-12T01:46:39.166029",
     "exception": false,
     "start_time": "2024-07-12T01:46:39.146267",
     "status": "completed"
    },
    "tags": []
   },
   "outputs": [],
   "source": [
    "class MultiHeadedAttention(nn.Module):\n",
    "    def __init__(self, n_embd, n_heads, head_size, context_size, dropout):\n",
    "        super(MultiHeadedAttention, self).__init__()\n",
    "\n",
    "        self.heads = nn.ModuleList([Head(n_embd=n_embd, head_size=head_size, context_size=context_size, dropout=dropout) for _ in range(n_heads)]) # (B, T, n_heads*head_size)\n",
    "        self.projection = nn.Linear(in_features=n_heads*head_size, out_features=n_embd)\n",
    "        self.dropout_layer = nn.Dropout(dropout) \n",
    "\n",
    "    def forward(self, x: torch.Tensor) -> torch.Tensor:\n",
    "        x = torch.cat([head(x) for head in self.heads], dim=-1) # (B, T, n_heads*head_size)\n",
    "        x = self.dropout_layer(self.projection(x))\n",
    "        return x"
   ]
  },
  {
   "cell_type": "markdown",
   "id": "015537fa",
   "metadata": {
    "papermill": {
     "duration": 0.009934,
     "end_time": "2024-07-12T01:46:39.186279",
     "exception": false,
     "start_time": "2024-07-12T01:46:39.176345",
     "status": "completed"
    },
    "tags": []
   },
   "source": [
    "# Feedforward"
   ]
  },
  {
   "cell_type": "code",
   "execution_count": 13,
   "id": "31bbab94",
   "metadata": {
    "execution": {
     "iopub.execute_input": "2024-07-12T01:46:39.207897Z",
     "iopub.status.busy": "2024-07-12T01:46:39.207615Z",
     "iopub.status.idle": "2024-07-12T01:46:39.213069Z",
     "shell.execute_reply": "2024-07-12T01:46:39.212308Z"
    },
    "papermill": {
     "duration": 0.018245,
     "end_time": "2024-07-12T01:46:39.214955",
     "exception": false,
     "start_time": "2024-07-12T01:46:39.196710",
     "status": "completed"
    },
    "tags": []
   },
   "outputs": [],
   "source": [
    "class FeedForward(nn.Module):\n",
    "    def __init__(self, in_features, out_features, dropout):\n",
    "        super().__init__()\n",
    "\n",
    "        self.ffwrd_layer = nn.Sequential(\n",
    "            nn.Linear(in_features=in_features, out_features=in_features*4),\n",
    "            nn.ReLU(),\n",
    "            nn.Linear(in_features=in_features*4, out_features=out_features),\n",
    "            nn.Dropout(dropout)\n",
    "        ) # (B, T, in_features)\n",
    "\n",
    "    def forward(self, x: torch.Tensor):\n",
    "        return self.ffwrd_layer(x)"
   ]
  },
  {
   "cell_type": "markdown",
   "id": "af8bf037",
   "metadata": {
    "papermill": {
     "duration": 0.009915,
     "end_time": "2024-07-12T01:46:39.235378",
     "exception": false,
     "start_time": "2024-07-12T01:46:39.225463",
     "status": "completed"
    },
    "tags": []
   },
   "source": [
    "# Attention block"
   ]
  },
  {
   "cell_type": "code",
   "execution_count": 14,
   "id": "1e35ce2f",
   "metadata": {
    "execution": {
     "iopub.execute_input": "2024-07-12T01:46:39.256758Z",
     "iopub.status.busy": "2024-07-12T01:46:39.256494Z",
     "iopub.status.idle": "2024-07-12T01:46:39.262689Z",
     "shell.execute_reply": "2024-07-12T01:46:39.261947Z"
    },
    "papermill": {
     "duration": 0.018978,
     "end_time": "2024-07-12T01:46:39.264541",
     "exception": false,
     "start_time": "2024-07-12T01:46:39.245563",
     "status": "completed"
    },
    "tags": []
   },
   "outputs": [],
   "source": [
    "class Block(nn.Module):\n",
    "    def __init__(self, n_embd, n_heads, head_size, context_size, dropout):\n",
    "        super(Block, self).__init__()\n",
    "\n",
    "        self.multiheaded_attention = MultiHeadedAttention(n_embd=n_embd, n_heads=n_heads, head_size=head_size, context_size=context_size, dropout=dropout)\n",
    "        self.ffwrd = FeedForward(in_features=n_embd, out_features=n_embd, dropout=dropout)\n",
    "        self.layer_norm1 = nn.LayerNorm(n_embd)\n",
    "        self.layer_norm2 = nn.LayerNorm(n_embd)\n",
    "    \n",
    "    def forward(self, x: torch.Tensor) -> torch.Tensor:\n",
    "        x = x + self.multiheaded_attention(self.layer_norm1(x))\n",
    "        x = x + self.ffwrd(self.layer_norm2(x))\n",
    "        return x"
   ]
  },
  {
   "cell_type": "markdown",
   "id": "829a52ed",
   "metadata": {
    "papermill": {
     "duration": 0.010008,
     "end_time": "2024-07-12T01:46:39.284891",
     "exception": false,
     "start_time": "2024-07-12T01:46:39.274883",
     "status": "completed"
    },
    "tags": []
   },
   "source": [
    "# Decoder model"
   ]
  },
  {
   "cell_type": "code",
   "execution_count": 15,
   "id": "6038d33b",
   "metadata": {
    "execution": {
     "iopub.execute_input": "2024-07-12T01:46:39.307000Z",
     "iopub.status.busy": "2024-07-12T01:46:39.306724Z",
     "iopub.status.idle": "2024-07-12T01:46:39.328486Z",
     "shell.execute_reply": "2024-07-12T01:46:39.327647Z"
    },
    "papermill": {
     "duration": 0.034919,
     "end_time": "2024-07-12T01:46:39.330446",
     "exception": false,
     "start_time": "2024-07-12T01:46:39.295527",
     "status": "completed"
    },
    "tags": []
   },
   "outputs": [],
   "source": [
    "class Decoder(nn.Module):\n",
    "    def __init__(self, context_size, n_embd, n_heads, head_size, n_blocks, vocab_size, dropout, top_k):\n",
    "        super(Decoder, self).__init__()\n",
    "        self.context_size = context_size\n",
    "        self.n_embd = n_embd\n",
    "        self.vocab_size = vocab_size\n",
    "\n",
    "        self.top_k = top_k\n",
    "        \n",
    "        self.token_embedding_table = nn.Embedding(vocab_size, n_embd)\n",
    "        self.position_embedding_table = nn.Embedding(context_size, n_embd)\n",
    "\n",
    "        self.blocks = nn.Sequential(*[Block(n_embd=n_embd, n_heads=n_heads, head_size=head_size, context_size=context_size, dropout=dropout) for _ in range(n_blocks)])\n",
    "        self.layer_norm = nn.LayerNorm(n_embd)\n",
    "        \n",
    "        self.lm_head = nn.Linear(in_features=n_embd, out_features=vocab_size)\n",
    "        \n",
    "    def forward(self, x: torch.Tensor) -> torch.Tensor:\n",
    "        B, T = x.shape\n",
    "        #print(f\"context_size is {T}\")\n",
    "        if T > self.position_embedding_table.num_embeddings:\n",
    "            raise ValueError(f\"Sequence length {T} exceeds the maximum context size \"\n",
    "                             f\"{self.position_embedding_table.num_embeddings}\")\n",
    "        \n",
    "        positions = torch.arange(start=0, end=T, step=1)\n",
    "        token_emb = self.token_embedding_table(x) # (B, T, C)\n",
    "        pos_emb = self.position_embedding_table(positions) # (T, C)\n",
    "        \n",
    "        x = token_emb + pos_emb\n",
    "        x = self.blocks(x)\n",
    "        x = self.layer_norm(x)\n",
    "        B, T, C = x.shape\n",
    "        \n",
    "        #x = self.lm_head(x.view(B*T, C)) # (B, T, vocab_size)\n",
    "        x = self.lm_head(x) # (B, T, vocab_size)\n",
    "        return x\n",
    "\n",
    "    def greedy_sampler(self, context: torch.Tensor, max_new_tokens: int, eos_id: int):\n",
    "        full_output = context\n",
    "        context = context[:, -self.context_size:]\n",
    "\n",
    "        for _ in range(max_new_tokens):\n",
    "            context = context[:, -self.context_size:]\n",
    "            logits = self(context) # (B, T, vocab_size)\n",
    "            logits = logits[:, -1, :] # take the prediction for the last token (B, 1, vocab_size); whereas B is 1\n",
    "            percents = torch.softmax(logits, dim=-1)\n",
    "            pred = torch.argmax(percents, dim=1).view(1, -1)\n",
    "\n",
    "            if pred.item() == eos_id:\n",
    "                return full_output\n",
    "\n",
    "            full_output = torch.cat([full_output, pred], dim=1)\n",
    "            context = full_output  # update context with the new tokens\n",
    "\n",
    "        return full_output\n",
    "\n",
    "    def random_sampler(self, context: torch.Tensor, max_new_tokens: int, eos_id: int):\n",
    "            full_output = context\n",
    "            context = context[:, -self.context_size:] # limit the context_size\n",
    "        \n",
    "            for _ in range(max_new_tokens):\n",
    "                context = context[:, -self.context_size:] \n",
    "                logits = self(context)\n",
    "                logits = logits[:, -1, :]  # get the prediction for the last token only; (B, vocab_size)\n",
    "                percents = torch.softmax(logits, dim=-1)  # (B, vocab_size)\n",
    "                pred = torch.multinomial(percents, num_samples=1)  # (B, 1)\n",
    "                \n",
    "                if pred.item() == eos_id:\n",
    "                    return full_output\n",
    "                \n",
    "                full_output = torch.cat([full_output, pred], dim=1)\n",
    "                context = full_output  # update context with the new tokens\n",
    "                \n",
    "            return full_output \n",
    "\n",
    "    def top_k_sampler(self, context: torch.Tensor, max_new_tokens: int, eos_id: int):\n",
    "        full_output = context\n",
    "        context = context[:, -self.context_size:]\n",
    "        \n",
    "        for _ in range(max_new_tokens):\n",
    "            context = context[:, -self.context_size:]\n",
    "            logits = self(context)\n",
    "            logits = logits[:, -1, :]\n",
    "            top_k_logits, top_k_indices = torch.topk(logits, self.top_k) # both of shape (B, top_k)\n",
    "            top_k_percents = torch.softmax(top_k_logits, dim=-1)\n",
    "            pred = top_k_indices.gather(-1, torch.multinomial(top_k_percents, num_samples=1)) # gather across the last dim' (B, 1)\n",
    "\n",
    "            if pred.item() == eos_id:\n",
    "                return full_output\n",
    "            \n",
    "            full_output = torch.cat([full_output, pred], dim=1)\n",
    "            context = full_output\n",
    "\n",
    "        return full_output            \n",
    "\n",
    "    def generate(self, context: torch.Tensor, max_new_tokens: int, eos_id: int, sampler_type: str = \"random\"):\n",
    "        if sampler_type == \"greedy\":\n",
    "            return self.greedy_sampler(context=context, max_new_tokens=max_new_tokens, eos_id=eos_id)\n",
    "        elif sampler_type == \"random\":\n",
    "            return self.random_sampler(context=context, max_new_tokens=max_new_tokens, eos_id=eos_id)\n",
    "        elif sampler_type == \"top_k\":\n",
    "            return self.top_k_sampler(context=context, max_new_tokens=max_new_tokens, eos_id=eos_id)\n",
    "\n",
    "        \n",
    "\n",
    "\n",
    "    \"\"\"\n",
    "    def generate(self, context: torch.Tensor, max_new_tokens: int, eos_id: int):\n",
    "        full_output = context\n",
    "        context = context[:, -self.context_size:] # limit the context_size\n",
    "        \n",
    "        for _ in range(max_new_tokens):\n",
    "            context = context[:, -self.context_size:] \n",
    "            logits = self(context)\n",
    "            logits = logits[-1, :].view(1, -1) # get the prediction for the last token only; (1, vocab_size)\n",
    "            percents = torch.softmax(logits, dim=1) # (1, vocab_size)\n",
    "            pred = torch.multinomial(percents, num_samples=1)\n",
    "            if pred.view(-1).item() == eos_id:\n",
    "                return full_output\n",
    "            \n",
    "            context = torch.cat([context, pred], dim=1)\n",
    "            full_output = torch.cat([context, pred], dim=1)\n",
    "            \n",
    "            \n",
    "        return full_output\n",
    "        \n",
    "        \n",
    "    \"\"\"\n",
    "        "
   ]
  },
  {
   "cell_type": "markdown",
   "id": "eb30bd39",
   "metadata": {
    "papermill": {
     "duration": 0.010138,
     "end_time": "2024-07-12T01:46:39.351003",
     "exception": false,
     "start_time": "2024-07-12T01:46:39.340865",
     "status": "completed"
    },
    "tags": []
   },
   "source": [
    "# Hyperparameters"
   ]
  },
  {
   "cell_type": "code",
   "execution_count": 16,
   "id": "ddb92827",
   "metadata": {
    "execution": {
     "iopub.execute_input": "2024-07-12T01:46:39.372745Z",
     "iopub.status.busy": "2024-07-12T01:46:39.372254Z",
     "iopub.status.idle": "2024-07-12T01:46:39.453687Z",
     "shell.execute_reply": "2024-07-12T01:46:39.452816Z"
    },
    "papermill": {
     "duration": 0.09451,
     "end_time": "2024-07-12T01:46:39.455834",
     "exception": false,
     "start_time": "2024-07-12T01:46:39.361324",
     "status": "completed"
    },
    "tags": []
   },
   "outputs": [],
   "source": [
    "n_embd = 256\n",
    "context_size = max_length # how many tokens to look at a time; also affects positional_embedding_table\n",
    "n_heads = 8\n",
    "head_size = 32\n",
    "n_blocks = 3\n",
    "\n",
    "dropout = 0.2\n",
    "top_k = 55\n",
    "\n",
    "decoder = Decoder(\n",
    "    context_size=context_size, \n",
    "    n_embd=n_embd, n_heads=n_heads, head_size=head_size, \n",
    "    n_blocks=n_blocks, vocab_size=gpt2tokenizer.vocab_size, \n",
    "    dropout=dropout, top_k=top_k\n",
    "    )"
   ]
  },
  {
   "cell_type": "markdown",
   "id": "2d3f3bae",
   "metadata": {
    "papermill": {
     "duration": 0.010272,
     "end_time": "2024-07-12T01:46:39.476711",
     "exception": false,
     "start_time": "2024-07-12T01:46:39.466439",
     "status": "completed"
    },
    "tags": []
   },
   "source": [
    "# Text generator made by me"
   ]
  },
  {
   "cell_type": "code",
   "execution_count": 17,
   "id": "e100bc04",
   "metadata": {
    "execution": {
     "iopub.execute_input": "2024-07-12T01:46:39.498927Z",
     "iopub.status.busy": "2024-07-12T01:46:39.498605Z",
     "iopub.status.idle": "2024-07-12T01:46:39.511621Z",
     "shell.execute_reply": "2024-07-12T01:46:39.510795Z"
    },
    "papermill": {
     "duration": 0.026447,
     "end_time": "2024-07-12T01:46:39.513483",
     "exception": false,
     "start_time": "2024-07-12T01:46:39.487036",
     "status": "completed"
    },
    "tags": []
   },
   "outputs": [],
   "source": [
    "class ModelTextGenerator():\n",
    "    def __init__(self, model: object, tokenizer: object, num_samples: int, max_new_tokens: int, eos_token_id: int):\n",
    "        self.model = model\n",
    "        self.num_samples = num_samples\n",
    "        self.max_new_tokens = max_new_tokens\n",
    "        self.tokenizer = tokenizer\n",
    "        self.last_output = \"\"\n",
    "\n",
    "        self.params_dict = {\n",
    "            \"model\": model,\n",
    "            \"max_new_tokens\": max_new_tokens,\n",
    "            \"num_samples\": num_samples,\n",
    "            \"previous_outputs\": []\n",
    "        }\n",
    "    \n",
    "    @torch.no_grad\n",
    "    def generate(self, starting_text: str, clear_outputs: bool = True, debug: bool = False, sampler_type: str = \"random\"):\n",
    "        self.model.eval()\n",
    "        full_text = \"\"\n",
    "        #context = starting_text[-self.model.context_size:]\n",
    "        \n",
    "        #[-self.model.context:] cuts the context so to make predictions based on a certain context length; basically for optimization\n",
    "        for _ in range(self.num_samples):\n",
    "            full_text = \"\"\n",
    "            encoded_text = self.tokenizer.encode(\n",
    "                starting_text[-self.model.context_size:],\n",
    "                truncation=True,\n",
    "                add_special_tokens=True,\n",
    "            )\n",
    "            \n",
    "            context = torch.tensor(encoded_text, dtype=torch.long).view(1, -1) # make it batched\n",
    "            model_outputs = self.model.generate(context=context, max_new_tokens=self.max_new_tokens, eos_id=self.tokenizer.eos_token_id, sampler_type=sampler_type)\n",
    "            text_output = self.tokenizer.decode(model_outputs.view(-1).tolist())\n",
    "            full_text += text_output\n",
    "            \n",
    "            self.last_output = full_text\n",
    "            self.params_dict[\"previous_outputs\"].append(full_text)\n",
    "            \n",
    "    def update_params(self, model: object = None, max_length: int = None, num_samples: int = None, clear_outputs: bool = None):\n",
    "            if clear_outputs:\n",
    "                self.clear_outputs()\n",
    "                \n",
    "            updated_dict = {\n",
    "                \"model\": model,\n",
    "                \"max_length\": max_length,\n",
    "                \"num_samples\": num_samples\n",
    "            }\n",
    "            \n",
    "            for attribute, value in updated_dict.items():\n",
    "                if value is not None:\n",
    "                    self.params_dict[attribute] = value\n",
    "                    setattr(self, attribute, value)\n",
    "        \n",
    "    def clear_outputs(self):\n",
    "        self.params_dict[\"previous_outputs\"] = []\n",
    "        self.last_output = \"\"\n",
    "        \n",
    "    def print_outputs(self, last: bool = None):\n",
    "        if last:\n",
    "            print(self.last_output)\n",
    "        else:\n",
    "            for output in self.params_dict[\"previous_outputs\"]:\n",
    "                print(f\"\\n{output}\\n\\n\")"
   ]
  },
  {
   "cell_type": "markdown",
   "id": "b42ac418",
   "metadata": {
    "papermill": {
     "duration": 0.010254,
     "end_time": "2024-07-12T01:46:39.534005",
     "exception": false,
     "start_time": "2024-07-12T01:46:39.523751",
     "status": "completed"
    },
    "tags": []
   },
   "source": [
    "# Sample from the model"
   ]
  },
  {
   "cell_type": "code",
   "execution_count": 18,
   "id": "6ffdef4d",
   "metadata": {
    "execution": {
     "iopub.execute_input": "2024-07-12T01:46:39.555815Z",
     "iopub.status.busy": "2024-07-12T01:46:39.555524Z",
     "iopub.status.idle": "2024-07-12T01:46:52.262776Z",
     "shell.execute_reply": "2024-07-12T01:46:52.261909Z"
    },
    "papermill": {
     "duration": 12.72047,
     "end_time": "2024-07-12T01:46:52.264843",
     "exception": false,
     "start_time": "2024-07-12T01:46:39.544373",
     "status": "completed"
    },
    "tags": []
   },
   "outputs": [
    {
     "name": "stderr",
     "output_type": "stream",
     "text": [
      "2024-07-12 01:46:41.942968: E external/local_xla/xla/stream_executor/cuda/cuda_dnn.cc:9261] Unable to register cuDNN factory: Attempting to register factory for plugin cuDNN when one has already been registered\n",
      "2024-07-12 01:46:41.943092: E external/local_xla/xla/stream_executor/cuda/cuda_fft.cc:607] Unable to register cuFFT factory: Attempting to register factory for plugin cuFFT when one has already been registered\n",
      "2024-07-12 01:46:42.066120: E external/local_xla/xla/stream_executor/cuda/cuda_blas.cc:1515] Unable to register cuBLAS factory: Attempting to register factory for plugin cuBLAS when one has already been registered\n"
     ]
    },
    {
     "name": "stdout",
     "output_type": "stream",
     "text": [
      "\n",
      ". martyr 1918otiation Sanct flouratum SIM tailoribrarian gib\n",
      "\n",
      "\n",
      "\n",
      ". botherKa descent806letterminimum Soci Harelege Sega\n",
      "\n",
      "\n"
     ]
    },
    {
     "data": {
      "text/plain": [
       "Decoder(\n",
       "  (token_embedding_table): Embedding(50257, 256)\n",
       "  (position_embedding_table): Embedding(1034, 256)\n",
       "  (blocks): Sequential(\n",
       "    (0): Block(\n",
       "      (multiheaded_attention): MultiHeadedAttention(\n",
       "        (heads): ModuleList(\n",
       "          (0-7): 8 x Head(\n",
       "            (Q): Linear(in_features=256, out_features=32, bias=True)\n",
       "            (K): Linear(in_features=256, out_features=32, bias=True)\n",
       "            (V): Linear(in_features=256, out_features=32, bias=True)\n",
       "            (dropout_layer): Dropout(p=0.2, inplace=False)\n",
       "          )\n",
       "        )\n",
       "        (projection): Linear(in_features=256, out_features=256, bias=True)\n",
       "        (dropout_layer): Dropout(p=0.2, inplace=False)\n",
       "      )\n",
       "      (ffwrd): FeedForward(\n",
       "        (ffwrd_layer): Sequential(\n",
       "          (0): Linear(in_features=256, out_features=1024, bias=True)\n",
       "          (1): ReLU()\n",
       "          (2): Linear(in_features=1024, out_features=256, bias=True)\n",
       "          (3): Dropout(p=0.2, inplace=False)\n",
       "        )\n",
       "      )\n",
       "      (layer_norm1): LayerNorm((256,), eps=1e-05, elementwise_affine=True)\n",
       "      (layer_norm2): LayerNorm((256,), eps=1e-05, elementwise_affine=True)\n",
       "    )\n",
       "    (1): Block(\n",
       "      (multiheaded_attention): MultiHeadedAttention(\n",
       "        (heads): ModuleList(\n",
       "          (0-7): 8 x Head(\n",
       "            (Q): Linear(in_features=256, out_features=32, bias=True)\n",
       "            (K): Linear(in_features=256, out_features=32, bias=True)\n",
       "            (V): Linear(in_features=256, out_features=32, bias=True)\n",
       "            (dropout_layer): Dropout(p=0.2, inplace=False)\n",
       "          )\n",
       "        )\n",
       "        (projection): Linear(in_features=256, out_features=256, bias=True)\n",
       "        (dropout_layer): Dropout(p=0.2, inplace=False)\n",
       "      )\n",
       "      (ffwrd): FeedForward(\n",
       "        (ffwrd_layer): Sequential(\n",
       "          (0): Linear(in_features=256, out_features=1024, bias=True)\n",
       "          (1): ReLU()\n",
       "          (2): Linear(in_features=1024, out_features=256, bias=True)\n",
       "          (3): Dropout(p=0.2, inplace=False)\n",
       "        )\n",
       "      )\n",
       "      (layer_norm1): LayerNorm((256,), eps=1e-05, elementwise_affine=True)\n",
       "      (layer_norm2): LayerNorm((256,), eps=1e-05, elementwise_affine=True)\n",
       "    )\n",
       "    (2): Block(\n",
       "      (multiheaded_attention): MultiHeadedAttention(\n",
       "        (heads): ModuleList(\n",
       "          (0-7): 8 x Head(\n",
       "            (Q): Linear(in_features=256, out_features=32, bias=True)\n",
       "            (K): Linear(in_features=256, out_features=32, bias=True)\n",
       "            (V): Linear(in_features=256, out_features=32, bias=True)\n",
       "            (dropout_layer): Dropout(p=0.2, inplace=False)\n",
       "          )\n",
       "        )\n",
       "        (projection): Linear(in_features=256, out_features=256, bias=True)\n",
       "        (dropout_layer): Dropout(p=0.2, inplace=False)\n",
       "      )\n",
       "      (ffwrd): FeedForward(\n",
       "        (ffwrd_layer): Sequential(\n",
       "          (0): Linear(in_features=256, out_features=1024, bias=True)\n",
       "          (1): ReLU()\n",
       "          (2): Linear(in_features=1024, out_features=256, bias=True)\n",
       "          (3): Dropout(p=0.2, inplace=False)\n",
       "        )\n",
       "      )\n",
       "      (layer_norm1): LayerNorm((256,), eps=1e-05, elementwise_affine=True)\n",
       "      (layer_norm2): LayerNorm((256,), eps=1e-05, elementwise_affine=True)\n",
       "    )\n",
       "  )\n",
       "  (layer_norm): LayerNorm((256,), eps=1e-05, elementwise_affine=True)\n",
       "  (lm_head): Linear(in_features=256, out_features=50257, bias=True)\n",
       ")"
      ]
     },
     "execution_count": 18,
     "metadata": {},
     "output_type": "execute_result"
    }
   ],
   "source": [
    "decoder_generator = ModelTextGenerator(model=decoder, tokenizer=gpt2tokenizer, num_samples=2, max_new_tokens=10, eos_token_id=gpt2tokenizer.eos_token_id)\n",
    "decoder_generator.generate(starting_text=\".\", sampler_type=\"random\")\n",
    "decoder_generator.print_outputs()\n",
    "decoder"
   ]
  },
  {
   "cell_type": "markdown",
   "id": "57d54208",
   "metadata": {
    "papermill": {
     "duration": 0.010466,
     "end_time": "2024-07-12T01:46:52.286361",
     "exception": false,
     "start_time": "2024-07-12T01:46:52.275895",
     "status": "completed"
    },
    "tags": []
   },
   "source": [
    "# Training loop"
   ]
  },
  {
   "cell_type": "code",
   "execution_count": 19,
   "id": "3cb54700",
   "metadata": {
    "execution": {
     "iopub.execute_input": "2024-07-12T01:46:52.309280Z",
     "iopub.status.busy": "2024-07-12T01:46:52.308517Z",
     "iopub.status.idle": "2024-07-12T01:46:52.315140Z",
     "shell.execute_reply": "2024-07-12T01:46:52.314319Z"
    },
    "papermill": {
     "duration": 0.019922,
     "end_time": "2024-07-12T01:46:52.317000",
     "exception": false,
     "start_time": "2024-07-12T01:46:52.297078",
     "status": "completed"
    },
    "tags": []
   },
   "outputs": [],
   "source": [
    "def train_model(model, lines, batch_size, loss_fn, optimizer, epochs):\n",
    "    model.train()\n",
    "    for epoch in tqdm(range(epochs)):\n",
    "        batch_inputs, batch_labels = get_random_batch(lines=lines, batch_size=batch_size, max_length=max_length)\n",
    "        B, T = batch_labels.shape\n",
    "        logits = model(batch_inputs) # (B, T vocab_size)\n",
    "        loss = loss_fn(logits.view(B*T, -1), batch_labels.view(-1)) # (B*T, vocab_size) matching (B*T)\n",
    "        optimizer.zero_grad()\n",
    "        loss.backward()\n",
    "        optimizer.step()\n",
    "        \n",
    "        if epoch % 25 == 0:\n",
    "            print(f\"loss for epoch {epoch} --> {loss}\")"
   ]
  },
  {
   "cell_type": "code",
   "execution_count": 20,
   "id": "d0b94380",
   "metadata": {
    "execution": {
     "iopub.execute_input": "2024-07-12T01:46:52.339312Z",
     "iopub.status.busy": "2024-07-12T01:46:52.339042Z",
     "iopub.status.idle": "2024-07-12T01:46:52.931343Z",
     "shell.execute_reply": "2024-07-12T01:46:52.930275Z"
    },
    "papermill": {
     "duration": 0.606615,
     "end_time": "2024-07-12T01:46:52.934283",
     "exception": false,
     "start_time": "2024-07-12T01:46:52.327668",
     "status": "completed"
    },
    "tags": []
   },
   "outputs": [],
   "source": [
    "optimizer = torch.optim.AdamW(params=decoder.parameters(), lr=1e-3)\n",
    "loss_fn = nn.CrossEntropyLoss()"
   ]
  },
  {
   "cell_type": "code",
   "execution_count": 21,
   "id": "ac14fbfb",
   "metadata": {
    "execution": {
     "iopub.execute_input": "2024-07-12T01:46:52.963531Z",
     "iopub.status.busy": "2024-07-12T01:46:52.962735Z",
     "iopub.status.idle": "2024-07-12T01:48:01.353377Z",
     "shell.execute_reply": "2024-07-12T01:48:01.352426Z"
    },
    "papermill": {
     "duration": 68.405571,
     "end_time": "2024-07-12T01:48:01.355500",
     "exception": false,
     "start_time": "2024-07-12T01:46:52.949929",
     "status": "completed"
    },
    "tags": []
   },
   "outputs": [
    {
     "name": "stderr",
     "output_type": "stream",
     "text": [
      "  0%|          | 1/250 [00:00<01:59,  2.08it/s]"
     ]
    },
    {
     "name": "stdout",
     "output_type": "stream",
     "text": [
      "loss for epoch 0 --> 11.23080062866211\n"
     ]
    },
    {
     "name": "stderr",
     "output_type": "stream",
     "text": [
      " 10%|█         | 26/250 [00:07<01:01,  3.65it/s]"
     ]
    },
    {
     "name": "stdout",
     "output_type": "stream",
     "text": [
      "loss for epoch 25 --> 0.2406264692544937\n"
     ]
    },
    {
     "name": "stderr",
     "output_type": "stream",
     "text": [
      " 20%|██        | 51/250 [00:14<00:54,  3.67it/s]"
     ]
    },
    {
     "name": "stdout",
     "output_type": "stream",
     "text": [
      "loss for epoch 50 --> 0.1925031691789627\n"
     ]
    },
    {
     "name": "stderr",
     "output_type": "stream",
     "text": [
      " 30%|███       | 76/250 [00:20<00:47,  3.66it/s]"
     ]
    },
    {
     "name": "stdout",
     "output_type": "stream",
     "text": [
      "loss for epoch 75 --> 0.21951882541179657\n"
     ]
    },
    {
     "name": "stderr",
     "output_type": "stream",
     "text": [
      " 40%|████      | 101/250 [00:27<00:40,  3.64it/s]"
     ]
    },
    {
     "name": "stdout",
     "output_type": "stream",
     "text": [
      "loss for epoch 100 --> 0.2181881219148636\n"
     ]
    },
    {
     "name": "stderr",
     "output_type": "stream",
     "text": [
      " 50%|█████     | 126/250 [00:34<00:33,  3.66it/s]"
     ]
    },
    {
     "name": "stdout",
     "output_type": "stream",
     "text": [
      "loss for epoch 125 --> 0.18306320905685425\n"
     ]
    },
    {
     "name": "stderr",
     "output_type": "stream",
     "text": [
      " 60%|██████    | 151/250 [00:41<00:27,  3.65it/s]"
     ]
    },
    {
     "name": "stdout",
     "output_type": "stream",
     "text": [
      "loss for epoch 150 --> 0.19811087846755981\n"
     ]
    },
    {
     "name": "stderr",
     "output_type": "stream",
     "text": [
      " 70%|███████   | 176/250 [00:48<00:20,  3.67it/s]"
     ]
    },
    {
     "name": "stdout",
     "output_type": "stream",
     "text": [
      "loss for epoch 175 --> 0.136253222823143\n"
     ]
    },
    {
     "name": "stderr",
     "output_type": "stream",
     "text": [
      " 80%|████████  | 201/250 [00:55<00:13,  3.67it/s]"
     ]
    },
    {
     "name": "stdout",
     "output_type": "stream",
     "text": [
      "loss for epoch 200 --> 0.2249298393726349\n"
     ]
    },
    {
     "name": "stderr",
     "output_type": "stream",
     "text": [
      " 90%|█████████ | 226/250 [01:01<00:06,  3.69it/s]"
     ]
    },
    {
     "name": "stdout",
     "output_type": "stream",
     "text": [
      "loss for epoch 225 --> 0.15054036676883698\n"
     ]
    },
    {
     "name": "stderr",
     "output_type": "stream",
     "text": [
      "100%|██████████| 250/250 [01:08<00:00,  3.66it/s]\n"
     ]
    }
   ],
   "source": [
    "train_model(model=decoder, lines=lines, batch_size=8, loss_fn=loss_fn, optimizer=optimizer, epochs=250)"
   ]
  },
  {
   "cell_type": "markdown",
   "id": "0bfb73fd",
   "metadata": {
    "papermill": {
     "duration": 0.030279,
     "end_time": "2024-07-12T01:48:01.416908",
     "exception": false,
     "start_time": "2024-07-12T01:48:01.386629",
     "status": "completed"
    },
    "tags": []
   },
   "source": [
    "# Model inference"
   ]
  },
  {
   "cell_type": "code",
   "execution_count": 22,
   "id": "4b021601",
   "metadata": {
    "execution": {
     "iopub.execute_input": "2024-07-12T01:48:01.520450Z",
     "iopub.status.busy": "2024-07-12T01:48:01.519618Z",
     "iopub.status.idle": "2024-07-12T01:48:02.004144Z",
     "shell.execute_reply": "2024-07-12T01:48:02.002813Z"
    },
    "papermill": {
     "duration": 0.518304,
     "end_time": "2024-07-12T01:48:02.006148",
     "exception": false,
     "start_time": "2024-07-12T01:48:01.487844",
     "status": "completed"
    },
    "tags": []
   },
   "outputs": [
    {
     "name": "stdout",
     "output_type": "stream",
     "text": [
      "\n",
      "Friday to is of's population,, a tournament, an-.\n",
      "\n",
      "\n",
      "\n",
      "Friday of the also, is a. is a from is a who is a to (.\n",
      "\n",
      "\n"
     ]
    }
   ],
   "source": [
    "decoder_generator = ModelTextGenerator(model=decoder, tokenizer=gpt2tokenizer, num_samples=2, max_new_tokens=100, eos_token_id=gpt2tokenizer.eos_token_id)\n",
    "decoder_generator.generate(starting_text=\"Friday\", sampler_type=\"top_k\")\n",
    "decoder_generator.print_outputs()"
   ]
  },
  {
   "cell_type": "markdown",
   "id": "0d139041",
   "metadata": {
    "papermill": {
     "duration": 0.030647,
     "end_time": "2024-07-12T01:48:02.068465",
     "exception": false,
     "start_time": "2024-07-12T01:48:02.037818",
     "status": "completed"
    },
    "tags": []
   },
   "source": [
    "# Model size in params and architecture"
   ]
  },
  {
   "cell_type": "code",
   "execution_count": 23,
   "id": "445a2337",
   "metadata": {
    "execution": {
     "iopub.execute_input": "2024-07-12T01:48:02.132517Z",
     "iopub.status.busy": "2024-07-12T01:48:02.132188Z",
     "iopub.status.idle": "2024-07-12T01:48:02.140343Z",
     "shell.execute_reply": "2024-07-12T01:48:02.139439Z"
    },
    "papermill": {
     "duration": 0.043255,
     "end_time": "2024-07-12T01:48:02.142323",
     "exception": false,
     "start_time": "2024-07-12T01:48:02.099068",
     "status": "completed"
    },
    "tags": []
   },
   "outputs": [
    {
     "data": {
      "text/plain": [
       "28416337"
      ]
     },
     "execution_count": 23,
     "metadata": {},
     "output_type": "execute_result"
    }
   ],
   "source": [
    "def count_parameters(model: nn.Module):\n",
    "    return sum(p.numel() for p in model.parameters() if p.requires_grad)\n",
    "\n",
    "count_parameters(decoder)"
   ]
  },
  {
   "cell_type": "code",
   "execution_count": 24,
   "id": "9fb537c8",
   "metadata": {
    "execution": {
     "iopub.execute_input": "2024-07-12T01:48:02.207967Z",
     "iopub.status.busy": "2024-07-12T01:48:02.207599Z",
     "iopub.status.idle": "2024-07-12T01:48:02.214620Z",
     "shell.execute_reply": "2024-07-12T01:48:02.213785Z"
    },
    "papermill": {
     "duration": 0.041082,
     "end_time": "2024-07-12T01:48:02.216533",
     "exception": false,
     "start_time": "2024-07-12T01:48:02.175451",
     "status": "completed"
    },
    "tags": []
   },
   "outputs": [
    {
     "data": {
      "text/plain": [
       "Decoder(\n",
       "  (token_embedding_table): Embedding(50257, 256)\n",
       "  (position_embedding_table): Embedding(1034, 256)\n",
       "  (blocks): Sequential(\n",
       "    (0): Block(\n",
       "      (multiheaded_attention): MultiHeadedAttention(\n",
       "        (heads): ModuleList(\n",
       "          (0-7): 8 x Head(\n",
       "            (Q): Linear(in_features=256, out_features=32, bias=True)\n",
       "            (K): Linear(in_features=256, out_features=32, bias=True)\n",
       "            (V): Linear(in_features=256, out_features=32, bias=True)\n",
       "            (dropout_layer): Dropout(p=0.2, inplace=False)\n",
       "          )\n",
       "        )\n",
       "        (projection): Linear(in_features=256, out_features=256, bias=True)\n",
       "        (dropout_layer): Dropout(p=0.2, inplace=False)\n",
       "      )\n",
       "      (ffwrd): FeedForward(\n",
       "        (ffwrd_layer): Sequential(\n",
       "          (0): Linear(in_features=256, out_features=1024, bias=True)\n",
       "          (1): ReLU()\n",
       "          (2): Linear(in_features=1024, out_features=256, bias=True)\n",
       "          (3): Dropout(p=0.2, inplace=False)\n",
       "        )\n",
       "      )\n",
       "      (layer_norm1): LayerNorm((256,), eps=1e-05, elementwise_affine=True)\n",
       "      (layer_norm2): LayerNorm((256,), eps=1e-05, elementwise_affine=True)\n",
       "    )\n",
       "    (1): Block(\n",
       "      (multiheaded_attention): MultiHeadedAttention(\n",
       "        (heads): ModuleList(\n",
       "          (0-7): 8 x Head(\n",
       "            (Q): Linear(in_features=256, out_features=32, bias=True)\n",
       "            (K): Linear(in_features=256, out_features=32, bias=True)\n",
       "            (V): Linear(in_features=256, out_features=32, bias=True)\n",
       "            (dropout_layer): Dropout(p=0.2, inplace=False)\n",
       "          )\n",
       "        )\n",
       "        (projection): Linear(in_features=256, out_features=256, bias=True)\n",
       "        (dropout_layer): Dropout(p=0.2, inplace=False)\n",
       "      )\n",
       "      (ffwrd): FeedForward(\n",
       "        (ffwrd_layer): Sequential(\n",
       "          (0): Linear(in_features=256, out_features=1024, bias=True)\n",
       "          (1): ReLU()\n",
       "          (2): Linear(in_features=1024, out_features=256, bias=True)\n",
       "          (3): Dropout(p=0.2, inplace=False)\n",
       "        )\n",
       "      )\n",
       "      (layer_norm1): LayerNorm((256,), eps=1e-05, elementwise_affine=True)\n",
       "      (layer_norm2): LayerNorm((256,), eps=1e-05, elementwise_affine=True)\n",
       "    )\n",
       "    (2): Block(\n",
       "      (multiheaded_attention): MultiHeadedAttention(\n",
       "        (heads): ModuleList(\n",
       "          (0-7): 8 x Head(\n",
       "            (Q): Linear(in_features=256, out_features=32, bias=True)\n",
       "            (K): Linear(in_features=256, out_features=32, bias=True)\n",
       "            (V): Linear(in_features=256, out_features=32, bias=True)\n",
       "            (dropout_layer): Dropout(p=0.2, inplace=False)\n",
       "          )\n",
       "        )\n",
       "        (projection): Linear(in_features=256, out_features=256, bias=True)\n",
       "        (dropout_layer): Dropout(p=0.2, inplace=False)\n",
       "      )\n",
       "      (ffwrd): FeedForward(\n",
       "        (ffwrd_layer): Sequential(\n",
       "          (0): Linear(in_features=256, out_features=1024, bias=True)\n",
       "          (1): ReLU()\n",
       "          (2): Linear(in_features=1024, out_features=256, bias=True)\n",
       "          (3): Dropout(p=0.2, inplace=False)\n",
       "        )\n",
       "      )\n",
       "      (layer_norm1): LayerNorm((256,), eps=1e-05, elementwise_affine=True)\n",
       "      (layer_norm2): LayerNorm((256,), eps=1e-05, elementwise_affine=True)\n",
       "    )\n",
       "  )\n",
       "  (layer_norm): LayerNorm((256,), eps=1e-05, elementwise_affine=True)\n",
       "  (lm_head): Linear(in_features=256, out_features=50257, bias=True)\n",
       ")"
      ]
     },
     "execution_count": 24,
     "metadata": {},
     "output_type": "execute_result"
    }
   ],
   "source": [
    "decoder"
   ]
  }
 ],
 "metadata": {
  "kaggle": {
   "accelerator": "none",
   "dataSources": [
    {
     "datasetId": 46601,
     "sourceId": 84740,
     "sourceType": "datasetVersion"
    }
   ],
   "isGpuEnabled": false,
   "isInternetEnabled": true,
   "language": "python",
   "sourceType": "notebook"
  },
  "kernelspec": {
   "display_name": "Python 3",
   "language": "python",
   "name": "python3"
  },
  "language_info": {
   "codemirror_mode": {
    "name": "ipython",
    "version": 3
   },
   "file_extension": ".py",
   "mimetype": "text/x-python",
   "name": "python",
   "nbconvert_exporter": "python",
   "pygments_lexer": "ipython3",
   "version": "3.10.13"
  },
  "papermill": {
   "default_parameters": {},
   "duration": 112.249856,
   "end_time": "2024-07-12T01:48:05.018431",
   "environment_variables": {},
   "exception": null,
   "input_path": "__notebook__.ipynb",
   "output_path": "__notebook__.ipynb",
   "parameters": {},
   "start_time": "2024-07-12T01:46:12.768575",
   "version": "2.5.0"
  },
  "widgets": {
   "application/vnd.jupyter.widget-state+json": {
    "state": {
     "005b5195302b4c3586b39db1fd3ed10c": {
      "model_module": "@jupyter-widgets/controls",
      "model_module_version": "1.5.0",
      "model_name": "DescriptionStyleModel",
      "state": {
       "_model_module": "@jupyter-widgets/controls",
       "_model_module_version": "1.5.0",
       "_model_name": "DescriptionStyleModel",
       "_view_count": null,
       "_view_module": "@jupyter-widgets/base",
       "_view_module_version": "1.2.0",
       "_view_name": "StyleView",
       "description_width": ""
      }
     },
     "01a29a62ca874972add174e631fafe69": {
      "model_module": "@jupyter-widgets/controls",
      "model_module_version": "1.5.0",
      "model_name": "HBoxModel",
      "state": {
       "_dom_classes": [],
       "_model_module": "@jupyter-widgets/controls",
       "_model_module_version": "1.5.0",
       "_model_name": "HBoxModel",
       "_view_count": null,
       "_view_module": "@jupyter-widgets/controls",
       "_view_module_version": "1.5.0",
       "_view_name": "HBoxView",
       "box_style": "",
       "children": [
        "IPY_MODEL_faa0bd7c463c40c9be6a7401ddb7d674",
        "IPY_MODEL_12896ba240984ae799af28d1bee37f73",
        "IPY_MODEL_e2820e7dd6fc4fe3a47d88e8dc9bb33c"
       ],
       "layout": "IPY_MODEL_4f572664617a449e9cf38bb850459f06"
      }
     },
     "032d7127d7da44d0876bf306d2df9acf": {
      "model_module": "@jupyter-widgets/controls",
      "model_module_version": "1.5.0",
      "model_name": "HTMLModel",
      "state": {
       "_dom_classes": [],
       "_model_module": "@jupyter-widgets/controls",
       "_model_module_version": "1.5.0",
       "_model_name": "HTMLModel",
       "_view_count": null,
       "_view_module": "@jupyter-widgets/controls",
       "_view_module_version": "1.5.0",
       "_view_name": "HTMLView",
       "description": "",
       "description_tooltip": null,
       "layout": "IPY_MODEL_5a04ac67c2be4a17beeb9f031dbe0a2c",
       "placeholder": "​",
       "style": "IPY_MODEL_005b5195302b4c3586b39db1fd3ed10c",
       "value": "merges.txt: 100%"
      }
     },
     "04c12489ba1f4dacb2c2fda6bf3447fe": {
      "model_module": "@jupyter-widgets/base",
      "model_module_version": "1.2.0",
      "model_name": "LayoutModel",
      "state": {
       "_model_module": "@jupyter-widgets/base",
       "_model_module_version": "1.2.0",
       "_model_name": "LayoutModel",
       "_view_count": null,
       "_view_module": "@jupyter-widgets/base",
       "_view_module_version": "1.2.0",
       "_view_name": "LayoutView",
       "align_content": null,
       "align_items": null,
       "align_self": null,
       "border": null,
       "bottom": null,
       "display": null,
       "flex": null,
       "flex_flow": null,
       "grid_area": null,
       "grid_auto_columns": null,
       "grid_auto_flow": null,
       "grid_auto_rows": null,
       "grid_column": null,
       "grid_gap": null,
       "grid_row": null,
       "grid_template_areas": null,
       "grid_template_columns": null,
       "grid_template_rows": null,
       "height": null,
       "justify_content": null,
       "justify_items": null,
       "left": null,
       "margin": null,
       "max_height": null,
       "max_width": null,
       "min_height": null,
       "min_width": null,
       "object_fit": null,
       "object_position": null,
       "order": null,
       "overflow": null,
       "overflow_x": null,
       "overflow_y": null,
       "padding": null,
       "right": null,
       "top": null,
       "visibility": null,
       "width": null
      }
     },
     "088f13614d114f9c9ac1b22eeb85f6eb": {
      "model_module": "@jupyter-widgets/controls",
      "model_module_version": "1.5.0",
      "model_name": "DescriptionStyleModel",
      "state": {
       "_model_module": "@jupyter-widgets/controls",
       "_model_module_version": "1.5.0",
       "_model_name": "DescriptionStyleModel",
       "_view_count": null,
       "_view_module": "@jupyter-widgets/base",
       "_view_module_version": "1.2.0",
       "_view_name": "StyleView",
       "description_width": ""
      }
     },
     "0d6c4674be5142e1a2ebe777e1538b4c": {
      "model_module": "@jupyter-widgets/controls",
      "model_module_version": "1.5.0",
      "model_name": "ProgressStyleModel",
      "state": {
       "_model_module": "@jupyter-widgets/controls",
       "_model_module_version": "1.5.0",
       "_model_name": "ProgressStyleModel",
       "_view_count": null,
       "_view_module": "@jupyter-widgets/base",
       "_view_module_version": "1.2.0",
       "_view_name": "StyleView",
       "bar_color": null,
       "description_width": ""
      }
     },
     "12896ba240984ae799af28d1bee37f73": {
      "model_module": "@jupyter-widgets/controls",
      "model_module_version": "1.5.0",
      "model_name": "FloatProgressModel",
      "state": {
       "_dom_classes": [],
       "_model_module": "@jupyter-widgets/controls",
       "_model_module_version": "1.5.0",
       "_model_name": "FloatProgressModel",
       "_view_count": null,
       "_view_module": "@jupyter-widgets/controls",
       "_view_module_version": "1.5.0",
       "_view_name": "ProgressView",
       "bar_style": "success",
       "description": "",
       "description_tooltip": null,
       "layout": "IPY_MODEL_e7d524919b3d4642a3359d27ee290dee",
       "max": 1042301.0,
       "min": 0.0,
       "orientation": "horizontal",
       "style": "IPY_MODEL_0d6c4674be5142e1a2ebe777e1538b4c",
       "value": 1042301.0
      }
     },
     "18b51b6d738e470992acb1c56b238433": {
      "model_module": "@jupyter-widgets/base",
      "model_module_version": "1.2.0",
      "model_name": "LayoutModel",
      "state": {
       "_model_module": "@jupyter-widgets/base",
       "_model_module_version": "1.2.0",
       "_model_name": "LayoutModel",
       "_view_count": null,
       "_view_module": "@jupyter-widgets/base",
       "_view_module_version": "1.2.0",
       "_view_name": "LayoutView",
       "align_content": null,
       "align_items": null,
       "align_self": null,
       "border": null,
       "bottom": null,
       "display": null,
       "flex": null,
       "flex_flow": null,
       "grid_area": null,
       "grid_auto_columns": null,
       "grid_auto_flow": null,
       "grid_auto_rows": null,
       "grid_column": null,
       "grid_gap": null,
       "grid_row": null,
       "grid_template_areas": null,
       "grid_template_columns": null,
       "grid_template_rows": null,
       "height": null,
       "justify_content": null,
       "justify_items": null,
       "left": null,
       "margin": null,
       "max_height": null,
       "max_width": null,
       "min_height": null,
       "min_width": null,
       "object_fit": null,
       "object_position": null,
       "order": null,
       "overflow": null,
       "overflow_x": null,
       "overflow_y": null,
       "padding": null,
       "right": null,
       "top": null,
       "visibility": null,
       "width": null
      }
     },
     "194115ceab7049a09a7f3ff5f997c4da": {
      "model_module": "@jupyter-widgets/controls",
      "model_module_version": "1.5.0",
      "model_name": "HTMLModel",
      "state": {
       "_dom_classes": [],
       "_model_module": "@jupyter-widgets/controls",
       "_model_module_version": "1.5.0",
       "_model_name": "HTMLModel",
       "_view_count": null,
       "_view_module": "@jupyter-widgets/controls",
       "_view_module_version": "1.5.0",
       "_view_name": "HTMLView",
       "description": "",
       "description_tooltip": null,
       "layout": "IPY_MODEL_a54ed14703574eecb2c6e144f494efc1",
       "placeholder": "​",
       "style": "IPY_MODEL_74c7164c3ffa43d6b6bb4b0892e2f1a2",
       "value": " 1.36M/1.36M [00:00&lt;00:00, 16.8MB/s]"
      }
     },
     "1bc4e8caaeda439490d7b55c6d72909c": {
      "model_module": "@jupyter-widgets/controls",
      "model_module_version": "1.5.0",
      "model_name": "DescriptionStyleModel",
      "state": {
       "_model_module": "@jupyter-widgets/controls",
       "_model_module_version": "1.5.0",
       "_model_name": "DescriptionStyleModel",
       "_view_count": null,
       "_view_module": "@jupyter-widgets/base",
       "_view_module_version": "1.2.0",
       "_view_name": "StyleView",
       "description_width": ""
      }
     },
     "1ccc38c552dc428e88bf9f7df34764ae": {
      "model_module": "@jupyter-widgets/base",
      "model_module_version": "1.2.0",
      "model_name": "LayoutModel",
      "state": {
       "_model_module": "@jupyter-widgets/base",
       "_model_module_version": "1.2.0",
       "_model_name": "LayoutModel",
       "_view_count": null,
       "_view_module": "@jupyter-widgets/base",
       "_view_module_version": "1.2.0",
       "_view_name": "LayoutView",
       "align_content": null,
       "align_items": null,
       "align_self": null,
       "border": null,
       "bottom": null,
       "display": null,
       "flex": null,
       "flex_flow": null,
       "grid_area": null,
       "grid_auto_columns": null,
       "grid_auto_flow": null,
       "grid_auto_rows": null,
       "grid_column": null,
       "grid_gap": null,
       "grid_row": null,
       "grid_template_areas": null,
       "grid_template_columns": null,
       "grid_template_rows": null,
       "height": null,
       "justify_content": null,
       "justify_items": null,
       "left": null,
       "margin": null,
       "max_height": null,
       "max_width": null,
       "min_height": null,
       "min_width": null,
       "object_fit": null,
       "object_position": null,
       "order": null,
       "overflow": null,
       "overflow_x": null,
       "overflow_y": null,
       "padding": null,
       "right": null,
       "top": null,
       "visibility": null,
       "width": null
      }
     },
     "1cf857164bc740b6b702856ea56fb788": {
      "model_module": "@jupyter-widgets/controls",
      "model_module_version": "1.5.0",
      "model_name": "HTMLModel",
      "state": {
       "_dom_classes": [],
       "_model_module": "@jupyter-widgets/controls",
       "_model_module_version": "1.5.0",
       "_model_name": "HTMLModel",
       "_view_count": null,
       "_view_module": "@jupyter-widgets/controls",
       "_view_module_version": "1.5.0",
       "_view_name": "HTMLView",
       "description": "",
       "description_tooltip": null,
       "layout": "IPY_MODEL_782e75d0cc744951a993526cb1299844",
       "placeholder": "​",
       "style": "IPY_MODEL_c49baf2c35994206805d00301d08e7df",
       "value": "config.json: 100%"
      }
     },
     "1de4080487fc439ab650cd2996d97a5b": {
      "model_module": "@jupyter-widgets/controls",
      "model_module_version": "1.5.0",
      "model_name": "ProgressStyleModel",
      "state": {
       "_model_module": "@jupyter-widgets/controls",
       "_model_module_version": "1.5.0",
       "_model_name": "ProgressStyleModel",
       "_view_count": null,
       "_view_module": "@jupyter-widgets/base",
       "_view_module_version": "1.2.0",
       "_view_name": "StyleView",
       "bar_color": null,
       "description_width": ""
      }
     },
     "221260bc730e43e6a4edec2d811c9e95": {
      "model_module": "@jupyter-widgets/base",
      "model_module_version": "1.2.0",
      "model_name": "LayoutModel",
      "state": {
       "_model_module": "@jupyter-widgets/base",
       "_model_module_version": "1.2.0",
       "_model_name": "LayoutModel",
       "_view_count": null,
       "_view_module": "@jupyter-widgets/base",
       "_view_module_version": "1.2.0",
       "_view_name": "LayoutView",
       "align_content": null,
       "align_items": null,
       "align_self": null,
       "border": null,
       "bottom": null,
       "display": null,
       "flex": null,
       "flex_flow": null,
       "grid_area": null,
       "grid_auto_columns": null,
       "grid_auto_flow": null,
       "grid_auto_rows": null,
       "grid_column": null,
       "grid_gap": null,
       "grid_row": null,
       "grid_template_areas": null,
       "grid_template_columns": null,
       "grid_template_rows": null,
       "height": null,
       "justify_content": null,
       "justify_items": null,
       "left": null,
       "margin": null,
       "max_height": null,
       "max_width": null,
       "min_height": null,
       "min_width": null,
       "object_fit": null,
       "object_position": null,
       "order": null,
       "overflow": null,
       "overflow_x": null,
       "overflow_y": null,
       "padding": null,
       "right": null,
       "top": null,
       "visibility": null,
       "width": null
      }
     },
     "28cb0e8a19334dcdbb3814df9c75c298": {
      "model_module": "@jupyter-widgets/base",
      "model_module_version": "1.2.0",
      "model_name": "LayoutModel",
      "state": {
       "_model_module": "@jupyter-widgets/base",
       "_model_module_version": "1.2.0",
       "_model_name": "LayoutModel",
       "_view_count": null,
       "_view_module": "@jupyter-widgets/base",
       "_view_module_version": "1.2.0",
       "_view_name": "LayoutView",
       "align_content": null,
       "align_items": null,
       "align_self": null,
       "border": null,
       "bottom": null,
       "display": null,
       "flex": null,
       "flex_flow": null,
       "grid_area": null,
       "grid_auto_columns": null,
       "grid_auto_flow": null,
       "grid_auto_rows": null,
       "grid_column": null,
       "grid_gap": null,
       "grid_row": null,
       "grid_template_areas": null,
       "grid_template_columns": null,
       "grid_template_rows": null,
       "height": null,
       "justify_content": null,
       "justify_items": null,
       "left": null,
       "margin": null,
       "max_height": null,
       "max_width": null,
       "min_height": null,
       "min_width": null,
       "object_fit": null,
       "object_position": null,
       "order": null,
       "overflow": null,
       "overflow_x": null,
       "overflow_y": null,
       "padding": null,
       "right": null,
       "top": null,
       "visibility": null,
       "width": null
      }
     },
     "2bc00fed65e54bd49dc70ea60612bbeb": {
      "model_module": "@jupyter-widgets/controls",
      "model_module_version": "1.5.0",
      "model_name": "HTMLModel",
      "state": {
       "_dom_classes": [],
       "_model_module": "@jupyter-widgets/controls",
       "_model_module_version": "1.5.0",
       "_model_name": "HTMLModel",
       "_view_count": null,
       "_view_module": "@jupyter-widgets/controls",
       "_view_module_version": "1.5.0",
       "_view_name": "HTMLView",
       "description": "",
       "description_tooltip": null,
       "layout": "IPY_MODEL_ce36b5aa55c547db8f59cd9799875592",
       "placeholder": "​",
       "style": "IPY_MODEL_1bc4e8caaeda439490d7b55c6d72909c",
       "value": " 665/665 [00:00&lt;00:00, 59.9kB/s]"
      }
     },
     "2bf60ba7fab7440fbcecfd0401b33136": {
      "model_module": "@jupyter-widgets/base",
      "model_module_version": "1.2.0",
      "model_name": "LayoutModel",
      "state": {
       "_model_module": "@jupyter-widgets/base",
       "_model_module_version": "1.2.0",
       "_model_name": "LayoutModel",
       "_view_count": null,
       "_view_module": "@jupyter-widgets/base",
       "_view_module_version": "1.2.0",
       "_view_name": "LayoutView",
       "align_content": null,
       "align_items": null,
       "align_self": null,
       "border": null,
       "bottom": null,
       "display": null,
       "flex": null,
       "flex_flow": null,
       "grid_area": null,
       "grid_auto_columns": null,
       "grid_auto_flow": null,
       "grid_auto_rows": null,
       "grid_column": null,
       "grid_gap": null,
       "grid_row": null,
       "grid_template_areas": null,
       "grid_template_columns": null,
       "grid_template_rows": null,
       "height": null,
       "justify_content": null,
       "justify_items": null,
       "left": null,
       "margin": null,
       "max_height": null,
       "max_width": null,
       "min_height": null,
       "min_width": null,
       "object_fit": null,
       "object_position": null,
       "order": null,
       "overflow": null,
       "overflow_x": null,
       "overflow_y": null,
       "padding": null,
       "right": null,
       "top": null,
       "visibility": null,
       "width": null
      }
     },
     "2cb0e89500784687aba8658e5d4d4a20": {
      "model_module": "@jupyter-widgets/base",
      "model_module_version": "1.2.0",
      "model_name": "LayoutModel",
      "state": {
       "_model_module": "@jupyter-widgets/base",
       "_model_module_version": "1.2.0",
       "_model_name": "LayoutModel",
       "_view_count": null,
       "_view_module": "@jupyter-widgets/base",
       "_view_module_version": "1.2.0",
       "_view_name": "LayoutView",
       "align_content": null,
       "align_items": null,
       "align_self": null,
       "border": null,
       "bottom": null,
       "display": null,
       "flex": null,
       "flex_flow": null,
       "grid_area": null,
       "grid_auto_columns": null,
       "grid_auto_flow": null,
       "grid_auto_rows": null,
       "grid_column": null,
       "grid_gap": null,
       "grid_row": null,
       "grid_template_areas": null,
       "grid_template_columns": null,
       "grid_template_rows": null,
       "height": null,
       "justify_content": null,
       "justify_items": null,
       "left": null,
       "margin": null,
       "max_height": null,
       "max_width": null,
       "min_height": null,
       "min_width": null,
       "object_fit": null,
       "object_position": null,
       "order": null,
       "overflow": null,
       "overflow_x": null,
       "overflow_y": null,
       "padding": null,
       "right": null,
       "top": null,
       "visibility": null,
       "width": null
      }
     },
     "2e0106407f7c4fc19984d95b1b2d524e": {
      "model_module": "@jupyter-widgets/controls",
      "model_module_version": "1.5.0",
      "model_name": "HBoxModel",
      "state": {
       "_dom_classes": [],
       "_model_module": "@jupyter-widgets/controls",
       "_model_module_version": "1.5.0",
       "_model_name": "HBoxModel",
       "_view_count": null,
       "_view_module": "@jupyter-widgets/controls",
       "_view_module_version": "1.5.0",
       "_view_name": "HBoxView",
       "box_style": "",
       "children": [
        "IPY_MODEL_e56c0ec1916c4b9cb9e8c18140ebe6c4",
        "IPY_MODEL_704f1ee797f54cd69706e59236c22bdf",
        "IPY_MODEL_69ab15e454f44d69a378a5e31f0aabe5"
       ],
       "layout": "IPY_MODEL_42d3e3a2d076488eab73a8a63f2c3af8"
      }
     },
     "3da659b8aa8e4b2e91c71288474a8751": {
      "model_module": "@jupyter-widgets/controls",
      "model_module_version": "1.5.0",
      "model_name": "FloatProgressModel",
      "state": {
       "_dom_classes": [],
       "_model_module": "@jupyter-widgets/controls",
       "_model_module_version": "1.5.0",
       "_model_name": "FloatProgressModel",
       "_view_count": null,
       "_view_module": "@jupyter-widgets/controls",
       "_view_module_version": "1.5.0",
       "_view_name": "ProgressView",
       "bar_style": "success",
       "description": "",
       "description_tooltip": null,
       "layout": "IPY_MODEL_3dbfdf47eaf4422c9ccba47dcd44b464",
       "max": 1355256.0,
       "min": 0.0,
       "orientation": "horizontal",
       "style": "IPY_MODEL_9fc42caacca64c879209514c139bd54d",
       "value": 1355256.0
      }
     },
     "3dbfdf47eaf4422c9ccba47dcd44b464": {
      "model_module": "@jupyter-widgets/base",
      "model_module_version": "1.2.0",
      "model_name": "LayoutModel",
      "state": {
       "_model_module": "@jupyter-widgets/base",
       "_model_module_version": "1.2.0",
       "_model_name": "LayoutModel",
       "_view_count": null,
       "_view_module": "@jupyter-widgets/base",
       "_view_module_version": "1.2.0",
       "_view_name": "LayoutView",
       "align_content": null,
       "align_items": null,
       "align_self": null,
       "border": null,
       "bottom": null,
       "display": null,
       "flex": null,
       "flex_flow": null,
       "grid_area": null,
       "grid_auto_columns": null,
       "grid_auto_flow": null,
       "grid_auto_rows": null,
       "grid_column": null,
       "grid_gap": null,
       "grid_row": null,
       "grid_template_areas": null,
       "grid_template_columns": null,
       "grid_template_rows": null,
       "height": null,
       "justify_content": null,
       "justify_items": null,
       "left": null,
       "margin": null,
       "max_height": null,
       "max_width": null,
       "min_height": null,
       "min_width": null,
       "object_fit": null,
       "object_position": null,
       "order": null,
       "overflow": null,
       "overflow_x": null,
       "overflow_y": null,
       "padding": null,
       "right": null,
       "top": null,
       "visibility": null,
       "width": null
      }
     },
     "3e8a42bf8b71484f80f182167d7ed0c5": {
      "model_module": "@jupyter-widgets/controls",
      "model_module_version": "1.5.0",
      "model_name": "HTMLModel",
      "state": {
       "_dom_classes": [],
       "_model_module": "@jupyter-widgets/controls",
       "_model_module_version": "1.5.0",
       "_model_name": "HTMLModel",
       "_view_count": null,
       "_view_module": "@jupyter-widgets/controls",
       "_view_module_version": "1.5.0",
       "_view_name": "HTMLView",
       "description": "",
       "description_tooltip": null,
       "layout": "IPY_MODEL_2cb0e89500784687aba8658e5d4d4a20",
       "placeholder": "​",
       "style": "IPY_MODEL_bef3313b21014a99b666d5ed96d7f17c",
       "value": " 456k/456k [00:00&lt;00:00, 2.46MB/s]"
      }
     },
     "42d3e3a2d076488eab73a8a63f2c3af8": {
      "model_module": "@jupyter-widgets/base",
      "model_module_version": "1.2.0",
      "model_name": "LayoutModel",
      "state": {
       "_model_module": "@jupyter-widgets/base",
       "_model_module_version": "1.2.0",
       "_model_name": "LayoutModel",
       "_view_count": null,
       "_view_module": "@jupyter-widgets/base",
       "_view_module_version": "1.2.0",
       "_view_name": "LayoutView",
       "align_content": null,
       "align_items": null,
       "align_self": null,
       "border": null,
       "bottom": null,
       "display": null,
       "flex": null,
       "flex_flow": null,
       "grid_area": null,
       "grid_auto_columns": null,
       "grid_auto_flow": null,
       "grid_auto_rows": null,
       "grid_column": null,
       "grid_gap": null,
       "grid_row": null,
       "grid_template_areas": null,
       "grid_template_columns": null,
       "grid_template_rows": null,
       "height": null,
       "justify_content": null,
       "justify_items": null,
       "left": null,
       "margin": null,
       "max_height": null,
       "max_width": null,
       "min_height": null,
       "min_width": null,
       "object_fit": null,
       "object_position": null,
       "order": null,
       "overflow": null,
       "overflow_x": null,
       "overflow_y": null,
       "padding": null,
       "right": null,
       "top": null,
       "visibility": null,
       "width": null
      }
     },
     "44856017f9bb4772bddfc3d150c988ec": {
      "model_module": "@jupyter-widgets/controls",
      "model_module_version": "1.5.0",
      "model_name": "HBoxModel",
      "state": {
       "_dom_classes": [],
       "_model_module": "@jupyter-widgets/controls",
       "_model_module_version": "1.5.0",
       "_model_name": "HBoxModel",
       "_view_count": null,
       "_view_module": "@jupyter-widgets/controls",
       "_view_module_version": "1.5.0",
       "_view_name": "HBoxView",
       "box_style": "",
       "children": [
        "IPY_MODEL_032d7127d7da44d0876bf306d2df9acf",
        "IPY_MODEL_86291a0c95e54153818d1f2a8d23ea9b",
        "IPY_MODEL_3e8a42bf8b71484f80f182167d7ed0c5"
       ],
       "layout": "IPY_MODEL_5ca21d6d473f4937859e3e4b700b485d"
      }
     },
     "4f572664617a449e9cf38bb850459f06": {
      "model_module": "@jupyter-widgets/base",
      "model_module_version": "1.2.0",
      "model_name": "LayoutModel",
      "state": {
       "_model_module": "@jupyter-widgets/base",
       "_model_module_version": "1.2.0",
       "_model_name": "LayoutModel",
       "_view_count": null,
       "_view_module": "@jupyter-widgets/base",
       "_view_module_version": "1.2.0",
       "_view_name": "LayoutView",
       "align_content": null,
       "align_items": null,
       "align_self": null,
       "border": null,
       "bottom": null,
       "display": null,
       "flex": null,
       "flex_flow": null,
       "grid_area": null,
       "grid_auto_columns": null,
       "grid_auto_flow": null,
       "grid_auto_rows": null,
       "grid_column": null,
       "grid_gap": null,
       "grid_row": null,
       "grid_template_areas": null,
       "grid_template_columns": null,
       "grid_template_rows": null,
       "height": null,
       "justify_content": null,
       "justify_items": null,
       "left": null,
       "margin": null,
       "max_height": null,
       "max_width": null,
       "min_height": null,
       "min_width": null,
       "object_fit": null,
       "object_position": null,
       "order": null,
       "overflow": null,
       "overflow_x": null,
       "overflow_y": null,
       "padding": null,
       "right": null,
       "top": null,
       "visibility": null,
       "width": null
      }
     },
     "5a04ac67c2be4a17beeb9f031dbe0a2c": {
      "model_module": "@jupyter-widgets/base",
      "model_module_version": "1.2.0",
      "model_name": "LayoutModel",
      "state": {
       "_model_module": "@jupyter-widgets/base",
       "_model_module_version": "1.2.0",
       "_model_name": "LayoutModel",
       "_view_count": null,
       "_view_module": "@jupyter-widgets/base",
       "_view_module_version": "1.2.0",
       "_view_name": "LayoutView",
       "align_content": null,
       "align_items": null,
       "align_self": null,
       "border": null,
       "bottom": null,
       "display": null,
       "flex": null,
       "flex_flow": null,
       "grid_area": null,
       "grid_auto_columns": null,
       "grid_auto_flow": null,
       "grid_auto_rows": null,
       "grid_column": null,
       "grid_gap": null,
       "grid_row": null,
       "grid_template_areas": null,
       "grid_template_columns": null,
       "grid_template_rows": null,
       "height": null,
       "justify_content": null,
       "justify_items": null,
       "left": null,
       "margin": null,
       "max_height": null,
       "max_width": null,
       "min_height": null,
       "min_width": null,
       "object_fit": null,
       "object_position": null,
       "order": null,
       "overflow": null,
       "overflow_x": null,
       "overflow_y": null,
       "padding": null,
       "right": null,
       "top": null,
       "visibility": null,
       "width": null
      }
     },
     "5ca21d6d473f4937859e3e4b700b485d": {
      "model_module": "@jupyter-widgets/base",
      "model_module_version": "1.2.0",
      "model_name": "LayoutModel",
      "state": {
       "_model_module": "@jupyter-widgets/base",
       "_model_module_version": "1.2.0",
       "_model_name": "LayoutModel",
       "_view_count": null,
       "_view_module": "@jupyter-widgets/base",
       "_view_module_version": "1.2.0",
       "_view_name": "LayoutView",
       "align_content": null,
       "align_items": null,
       "align_self": null,
       "border": null,
       "bottom": null,
       "display": null,
       "flex": null,
       "flex_flow": null,
       "grid_area": null,
       "grid_auto_columns": null,
       "grid_auto_flow": null,
       "grid_auto_rows": null,
       "grid_column": null,
       "grid_gap": null,
       "grid_row": null,
       "grid_template_areas": null,
       "grid_template_columns": null,
       "grid_template_rows": null,
       "height": null,
       "justify_content": null,
       "justify_items": null,
       "left": null,
       "margin": null,
       "max_height": null,
       "max_width": null,
       "min_height": null,
       "min_width": null,
       "object_fit": null,
       "object_position": null,
       "order": null,
       "overflow": null,
       "overflow_x": null,
       "overflow_y": null,
       "padding": null,
       "right": null,
       "top": null,
       "visibility": null,
       "width": null
      }
     },
     "65c31f39225c4de0948d62a9f21ac51b": {
      "model_module": "@jupyter-widgets/controls",
      "model_module_version": "1.5.0",
      "model_name": "DescriptionStyleModel",
      "state": {
       "_model_module": "@jupyter-widgets/controls",
       "_model_module_version": "1.5.0",
       "_model_name": "DescriptionStyleModel",
       "_view_count": null,
       "_view_module": "@jupyter-widgets/base",
       "_view_module_version": "1.2.0",
       "_view_name": "StyleView",
       "description_width": ""
      }
     },
     "67d9b9da9afe4f29a3f7a85cd1d47a5c": {
      "model_module": "@jupyter-widgets/controls",
      "model_module_version": "1.5.0",
      "model_name": "HBoxModel",
      "state": {
       "_dom_classes": [],
       "_model_module": "@jupyter-widgets/controls",
       "_model_module_version": "1.5.0",
       "_model_name": "HBoxModel",
       "_view_count": null,
       "_view_module": "@jupyter-widgets/controls",
       "_view_module_version": "1.5.0",
       "_view_name": "HBoxView",
       "box_style": "",
       "children": [
        "IPY_MODEL_1cf857164bc740b6b702856ea56fb788",
        "IPY_MODEL_969184400f6f4b35b362ac870e0c9764",
        "IPY_MODEL_2bc00fed65e54bd49dc70ea60612bbeb"
       ],
       "layout": "IPY_MODEL_e4a54a6b7f464c269760d70171639c75"
      }
     },
     "689bacf5a9b541c5864bdac6adcae56a": {
      "model_module": "@jupyter-widgets/controls",
      "model_module_version": "1.5.0",
      "model_name": "HTMLModel",
      "state": {
       "_dom_classes": [],
       "_model_module": "@jupyter-widgets/controls",
       "_model_module_version": "1.5.0",
       "_model_name": "HTMLModel",
       "_view_count": null,
       "_view_module": "@jupyter-widgets/controls",
       "_view_module_version": "1.5.0",
       "_view_name": "HTMLView",
       "description": "",
       "description_tooltip": null,
       "layout": "IPY_MODEL_04c12489ba1f4dacb2c2fda6bf3447fe",
       "placeholder": "​",
       "style": "IPY_MODEL_edd18f1b55214365b1e1f47893f16de4",
       "value": "tokenizer.json: 100%"
      }
     },
     "69ab15e454f44d69a378a5e31f0aabe5": {
      "model_module": "@jupyter-widgets/controls",
      "model_module_version": "1.5.0",
      "model_name": "HTMLModel",
      "state": {
       "_dom_classes": [],
       "_model_module": "@jupyter-widgets/controls",
       "_model_module_version": "1.5.0",
       "_model_name": "HTMLModel",
       "_view_count": null,
       "_view_module": "@jupyter-widgets/controls",
       "_view_module_version": "1.5.0",
       "_view_name": "HTMLView",
       "description": "",
       "description_tooltip": null,
       "layout": "IPY_MODEL_701ae95fd3e94b8e99cfeddc8264caea",
       "placeholder": "​",
       "style": "IPY_MODEL_088f13614d114f9c9ac1b22eeb85f6eb",
       "value": " 26.0/26.0 [00:00&lt;00:00, 2.21kB/s]"
      }
     },
     "701ae95fd3e94b8e99cfeddc8264caea": {
      "model_module": "@jupyter-widgets/base",
      "model_module_version": "1.2.0",
      "model_name": "LayoutModel",
      "state": {
       "_model_module": "@jupyter-widgets/base",
       "_model_module_version": "1.2.0",
       "_model_name": "LayoutModel",
       "_view_count": null,
       "_view_module": "@jupyter-widgets/base",
       "_view_module_version": "1.2.0",
       "_view_name": "LayoutView",
       "align_content": null,
       "align_items": null,
       "align_self": null,
       "border": null,
       "bottom": null,
       "display": null,
       "flex": null,
       "flex_flow": null,
       "grid_area": null,
       "grid_auto_columns": null,
       "grid_auto_flow": null,
       "grid_auto_rows": null,
       "grid_column": null,
       "grid_gap": null,
       "grid_row": null,
       "grid_template_areas": null,
       "grid_template_columns": null,
       "grid_template_rows": null,
       "height": null,
       "justify_content": null,
       "justify_items": null,
       "left": null,
       "margin": null,
       "max_height": null,
       "max_width": null,
       "min_height": null,
       "min_width": null,
       "object_fit": null,
       "object_position": null,
       "order": null,
       "overflow": null,
       "overflow_x": null,
       "overflow_y": null,
       "padding": null,
       "right": null,
       "top": null,
       "visibility": null,
       "width": null
      }
     },
     "704f1ee797f54cd69706e59236c22bdf": {
      "model_module": "@jupyter-widgets/controls",
      "model_module_version": "1.5.0",
      "model_name": "FloatProgressModel",
      "state": {
       "_dom_classes": [],
       "_model_module": "@jupyter-widgets/controls",
       "_model_module_version": "1.5.0",
       "_model_name": "FloatProgressModel",
       "_view_count": null,
       "_view_module": "@jupyter-widgets/controls",
       "_view_module_version": "1.5.0",
       "_view_name": "ProgressView",
       "bar_style": "success",
       "description": "",
       "description_tooltip": null,
       "layout": "IPY_MODEL_28cb0e8a19334dcdbb3814df9c75c298",
       "max": 26.0,
       "min": 0.0,
       "orientation": "horizontal",
       "style": "IPY_MODEL_1de4080487fc439ab650cd2996d97a5b",
       "value": 26.0
      }
     },
     "74c7164c3ffa43d6b6bb4b0892e2f1a2": {
      "model_module": "@jupyter-widgets/controls",
      "model_module_version": "1.5.0",
      "model_name": "DescriptionStyleModel",
      "state": {
       "_model_module": "@jupyter-widgets/controls",
       "_model_module_version": "1.5.0",
       "_model_name": "DescriptionStyleModel",
       "_view_count": null,
       "_view_module": "@jupyter-widgets/base",
       "_view_module_version": "1.2.0",
       "_view_name": "StyleView",
       "description_width": ""
      }
     },
     "782e75d0cc744951a993526cb1299844": {
      "model_module": "@jupyter-widgets/base",
      "model_module_version": "1.2.0",
      "model_name": "LayoutModel",
      "state": {
       "_model_module": "@jupyter-widgets/base",
       "_model_module_version": "1.2.0",
       "_model_name": "LayoutModel",
       "_view_count": null,
       "_view_module": "@jupyter-widgets/base",
       "_view_module_version": "1.2.0",
       "_view_name": "LayoutView",
       "align_content": null,
       "align_items": null,
       "align_self": null,
       "border": null,
       "bottom": null,
       "display": null,
       "flex": null,
       "flex_flow": null,
       "grid_area": null,
       "grid_auto_columns": null,
       "grid_auto_flow": null,
       "grid_auto_rows": null,
       "grid_column": null,
       "grid_gap": null,
       "grid_row": null,
       "grid_template_areas": null,
       "grid_template_columns": null,
       "grid_template_rows": null,
       "height": null,
       "justify_content": null,
       "justify_items": null,
       "left": null,
       "margin": null,
       "max_height": null,
       "max_width": null,
       "min_height": null,
       "min_width": null,
       "object_fit": null,
       "object_position": null,
       "order": null,
       "overflow": null,
       "overflow_x": null,
       "overflow_y": null,
       "padding": null,
       "right": null,
       "top": null,
       "visibility": null,
       "width": null
      }
     },
     "86291a0c95e54153818d1f2a8d23ea9b": {
      "model_module": "@jupyter-widgets/controls",
      "model_module_version": "1.5.0",
      "model_name": "FloatProgressModel",
      "state": {
       "_dom_classes": [],
       "_model_module": "@jupyter-widgets/controls",
       "_model_module_version": "1.5.0",
       "_model_name": "FloatProgressModel",
       "_view_count": null,
       "_view_module": "@jupyter-widgets/controls",
       "_view_module_version": "1.5.0",
       "_view_name": "ProgressView",
       "bar_style": "success",
       "description": "",
       "description_tooltip": null,
       "layout": "IPY_MODEL_ed4c7b36b7e940caaf9b1db93598fc6d",
       "max": 456318.0,
       "min": 0.0,
       "orientation": "horizontal",
       "style": "IPY_MODEL_cd337d366b6c400c9a2749f59a631ac6",
       "value": 456318.0
      }
     },
     "969184400f6f4b35b362ac870e0c9764": {
      "model_module": "@jupyter-widgets/controls",
      "model_module_version": "1.5.0",
      "model_name": "FloatProgressModel",
      "state": {
       "_dom_classes": [],
       "_model_module": "@jupyter-widgets/controls",
       "_model_module_version": "1.5.0",
       "_model_name": "FloatProgressModel",
       "_view_count": null,
       "_view_module": "@jupyter-widgets/controls",
       "_view_module_version": "1.5.0",
       "_view_name": "ProgressView",
       "bar_style": "success",
       "description": "",
       "description_tooltip": null,
       "layout": "IPY_MODEL_2bf60ba7fab7440fbcecfd0401b33136",
       "max": 665.0,
       "min": 0.0,
       "orientation": "horizontal",
       "style": "IPY_MODEL_f0d0ebaaab16448db42a3134194ba578",
       "value": 665.0
      }
     },
     "9fc42caacca64c879209514c139bd54d": {
      "model_module": "@jupyter-widgets/controls",
      "model_module_version": "1.5.0",
      "model_name": "ProgressStyleModel",
      "state": {
       "_model_module": "@jupyter-widgets/controls",
       "_model_module_version": "1.5.0",
       "_model_name": "ProgressStyleModel",
       "_view_count": null,
       "_view_module": "@jupyter-widgets/base",
       "_view_module_version": "1.2.0",
       "_view_name": "StyleView",
       "bar_color": null,
       "description_width": ""
      }
     },
     "a54ed14703574eecb2c6e144f494efc1": {
      "model_module": "@jupyter-widgets/base",
      "model_module_version": "1.2.0",
      "model_name": "LayoutModel",
      "state": {
       "_model_module": "@jupyter-widgets/base",
       "_model_module_version": "1.2.0",
       "_model_name": "LayoutModel",
       "_view_count": null,
       "_view_module": "@jupyter-widgets/base",
       "_view_module_version": "1.2.0",
       "_view_name": "LayoutView",
       "align_content": null,
       "align_items": null,
       "align_self": null,
       "border": null,
       "bottom": null,
       "display": null,
       "flex": null,
       "flex_flow": null,
       "grid_area": null,
       "grid_auto_columns": null,
       "grid_auto_flow": null,
       "grid_auto_rows": null,
       "grid_column": null,
       "grid_gap": null,
       "grid_row": null,
       "grid_template_areas": null,
       "grid_template_columns": null,
       "grid_template_rows": null,
       "height": null,
       "justify_content": null,
       "justify_items": null,
       "left": null,
       "margin": null,
       "max_height": null,
       "max_width": null,
       "min_height": null,
       "min_width": null,
       "object_fit": null,
       "object_position": null,
       "order": null,
       "overflow": null,
       "overflow_x": null,
       "overflow_y": null,
       "padding": null,
       "right": null,
       "top": null,
       "visibility": null,
       "width": null
      }
     },
     "a7cd5c1e4ddc4b14ae687f9a066d77b7": {
      "model_module": "@jupyter-widgets/controls",
      "model_module_version": "1.5.0",
      "model_name": "DescriptionStyleModel",
      "state": {
       "_model_module": "@jupyter-widgets/controls",
       "_model_module_version": "1.5.0",
       "_model_name": "DescriptionStyleModel",
       "_view_count": null,
       "_view_module": "@jupyter-widgets/base",
       "_view_module_version": "1.2.0",
       "_view_name": "StyleView",
       "description_width": ""
      }
     },
     "bef3313b21014a99b666d5ed96d7f17c": {
      "model_module": "@jupyter-widgets/controls",
      "model_module_version": "1.5.0",
      "model_name": "DescriptionStyleModel",
      "state": {
       "_model_module": "@jupyter-widgets/controls",
       "_model_module_version": "1.5.0",
       "_model_name": "DescriptionStyleModel",
       "_view_count": null,
       "_view_module": "@jupyter-widgets/base",
       "_view_module_version": "1.2.0",
       "_view_name": "StyleView",
       "description_width": ""
      }
     },
     "c3c5bf6ef863410bb48d60e43a949ebd": {
      "model_module": "@jupyter-widgets/base",
      "model_module_version": "1.2.0",
      "model_name": "LayoutModel",
      "state": {
       "_model_module": "@jupyter-widgets/base",
       "_model_module_version": "1.2.0",
       "_model_name": "LayoutModel",
       "_view_count": null,
       "_view_module": "@jupyter-widgets/base",
       "_view_module_version": "1.2.0",
       "_view_name": "LayoutView",
       "align_content": null,
       "align_items": null,
       "align_self": null,
       "border": null,
       "bottom": null,
       "display": null,
       "flex": null,
       "flex_flow": null,
       "grid_area": null,
       "grid_auto_columns": null,
       "grid_auto_flow": null,
       "grid_auto_rows": null,
       "grid_column": null,
       "grid_gap": null,
       "grid_row": null,
       "grid_template_areas": null,
       "grid_template_columns": null,
       "grid_template_rows": null,
       "height": null,
       "justify_content": null,
       "justify_items": null,
       "left": null,
       "margin": null,
       "max_height": null,
       "max_width": null,
       "min_height": null,
       "min_width": null,
       "object_fit": null,
       "object_position": null,
       "order": null,
       "overflow": null,
       "overflow_x": null,
       "overflow_y": null,
       "padding": null,
       "right": null,
       "top": null,
       "visibility": null,
       "width": null
      }
     },
     "c49baf2c35994206805d00301d08e7df": {
      "model_module": "@jupyter-widgets/controls",
      "model_module_version": "1.5.0",
      "model_name": "DescriptionStyleModel",
      "state": {
       "_model_module": "@jupyter-widgets/controls",
       "_model_module_version": "1.5.0",
       "_model_name": "DescriptionStyleModel",
       "_view_count": null,
       "_view_module": "@jupyter-widgets/base",
       "_view_module_version": "1.2.0",
       "_view_name": "StyleView",
       "description_width": ""
      }
     },
     "cd337d366b6c400c9a2749f59a631ac6": {
      "model_module": "@jupyter-widgets/controls",
      "model_module_version": "1.5.0",
      "model_name": "ProgressStyleModel",
      "state": {
       "_model_module": "@jupyter-widgets/controls",
       "_model_module_version": "1.5.0",
       "_model_name": "ProgressStyleModel",
       "_view_count": null,
       "_view_module": "@jupyter-widgets/base",
       "_view_module_version": "1.2.0",
       "_view_name": "StyleView",
       "bar_color": null,
       "description_width": ""
      }
     },
     "ce36b5aa55c547db8f59cd9799875592": {
      "model_module": "@jupyter-widgets/base",
      "model_module_version": "1.2.0",
      "model_name": "LayoutModel",
      "state": {
       "_model_module": "@jupyter-widgets/base",
       "_model_module_version": "1.2.0",
       "_model_name": "LayoutModel",
       "_view_count": null,
       "_view_module": "@jupyter-widgets/base",
       "_view_module_version": "1.2.0",
       "_view_name": "LayoutView",
       "align_content": null,
       "align_items": null,
       "align_self": null,
       "border": null,
       "bottom": null,
       "display": null,
       "flex": null,
       "flex_flow": null,
       "grid_area": null,
       "grid_auto_columns": null,
       "grid_auto_flow": null,
       "grid_auto_rows": null,
       "grid_column": null,
       "grid_gap": null,
       "grid_row": null,
       "grid_template_areas": null,
       "grid_template_columns": null,
       "grid_template_rows": null,
       "height": null,
       "justify_content": null,
       "justify_items": null,
       "left": null,
       "margin": null,
       "max_height": null,
       "max_width": null,
       "min_height": null,
       "min_width": null,
       "object_fit": null,
       "object_position": null,
       "order": null,
       "overflow": null,
       "overflow_x": null,
       "overflow_y": null,
       "padding": null,
       "right": null,
       "top": null,
       "visibility": null,
       "width": null
      }
     },
     "e14702ae9a1b4379bd5a12d690767ac4": {
      "model_module": "@jupyter-widgets/controls",
      "model_module_version": "1.5.0",
      "model_name": "HBoxModel",
      "state": {
       "_dom_classes": [],
       "_model_module": "@jupyter-widgets/controls",
       "_model_module_version": "1.5.0",
       "_model_name": "HBoxModel",
       "_view_count": null,
       "_view_module": "@jupyter-widgets/controls",
       "_view_module_version": "1.5.0",
       "_view_name": "HBoxView",
       "box_style": "",
       "children": [
        "IPY_MODEL_689bacf5a9b541c5864bdac6adcae56a",
        "IPY_MODEL_3da659b8aa8e4b2e91c71288474a8751",
        "IPY_MODEL_194115ceab7049a09a7f3ff5f997c4da"
       ],
       "layout": "IPY_MODEL_c3c5bf6ef863410bb48d60e43a949ebd"
      }
     },
     "e2820e7dd6fc4fe3a47d88e8dc9bb33c": {
      "model_module": "@jupyter-widgets/controls",
      "model_module_version": "1.5.0",
      "model_name": "HTMLModel",
      "state": {
       "_dom_classes": [],
       "_model_module": "@jupyter-widgets/controls",
       "_model_module_version": "1.5.0",
       "_model_name": "HTMLModel",
       "_view_count": null,
       "_view_module": "@jupyter-widgets/controls",
       "_view_module_version": "1.5.0",
       "_view_name": "HTMLView",
       "description": "",
       "description_tooltip": null,
       "layout": "IPY_MODEL_1ccc38c552dc428e88bf9f7df34764ae",
       "placeholder": "​",
       "style": "IPY_MODEL_fe8f429c9a5d4d438276ff0d13355711",
       "value": " 1.04M/1.04M [00:00&lt;00:00, 5.45MB/s]"
      }
     },
     "e4a54a6b7f464c269760d70171639c75": {
      "model_module": "@jupyter-widgets/base",
      "model_module_version": "1.2.0",
      "model_name": "LayoutModel",
      "state": {
       "_model_module": "@jupyter-widgets/base",
       "_model_module_version": "1.2.0",
       "_model_name": "LayoutModel",
       "_view_count": null,
       "_view_module": "@jupyter-widgets/base",
       "_view_module_version": "1.2.0",
       "_view_name": "LayoutView",
       "align_content": null,
       "align_items": null,
       "align_self": null,
       "border": null,
       "bottom": null,
       "display": null,
       "flex": null,
       "flex_flow": null,
       "grid_area": null,
       "grid_auto_columns": null,
       "grid_auto_flow": null,
       "grid_auto_rows": null,
       "grid_column": null,
       "grid_gap": null,
       "grid_row": null,
       "grid_template_areas": null,
       "grid_template_columns": null,
       "grid_template_rows": null,
       "height": null,
       "justify_content": null,
       "justify_items": null,
       "left": null,
       "margin": null,
       "max_height": null,
       "max_width": null,
       "min_height": null,
       "min_width": null,
       "object_fit": null,
       "object_position": null,
       "order": null,
       "overflow": null,
       "overflow_x": null,
       "overflow_y": null,
       "padding": null,
       "right": null,
       "top": null,
       "visibility": null,
       "width": null
      }
     },
     "e56c0ec1916c4b9cb9e8c18140ebe6c4": {
      "model_module": "@jupyter-widgets/controls",
      "model_module_version": "1.5.0",
      "model_name": "HTMLModel",
      "state": {
       "_dom_classes": [],
       "_model_module": "@jupyter-widgets/controls",
       "_model_module_version": "1.5.0",
       "_model_name": "HTMLModel",
       "_view_count": null,
       "_view_module": "@jupyter-widgets/controls",
       "_view_module_version": "1.5.0",
       "_view_name": "HTMLView",
       "description": "",
       "description_tooltip": null,
       "layout": "IPY_MODEL_18b51b6d738e470992acb1c56b238433",
       "placeholder": "​",
       "style": "IPY_MODEL_a7cd5c1e4ddc4b14ae687f9a066d77b7",
       "value": "tokenizer_config.json: 100%"
      }
     },
     "e7d524919b3d4642a3359d27ee290dee": {
      "model_module": "@jupyter-widgets/base",
      "model_module_version": "1.2.0",
      "model_name": "LayoutModel",
      "state": {
       "_model_module": "@jupyter-widgets/base",
       "_model_module_version": "1.2.0",
       "_model_name": "LayoutModel",
       "_view_count": null,
       "_view_module": "@jupyter-widgets/base",
       "_view_module_version": "1.2.0",
       "_view_name": "LayoutView",
       "align_content": null,
       "align_items": null,
       "align_self": null,
       "border": null,
       "bottom": null,
       "display": null,
       "flex": null,
       "flex_flow": null,
       "grid_area": null,
       "grid_auto_columns": null,
       "grid_auto_flow": null,
       "grid_auto_rows": null,
       "grid_column": null,
       "grid_gap": null,
       "grid_row": null,
       "grid_template_areas": null,
       "grid_template_columns": null,
       "grid_template_rows": null,
       "height": null,
       "justify_content": null,
       "justify_items": null,
       "left": null,
       "margin": null,
       "max_height": null,
       "max_width": null,
       "min_height": null,
       "min_width": null,
       "object_fit": null,
       "object_position": null,
       "order": null,
       "overflow": null,
       "overflow_x": null,
       "overflow_y": null,
       "padding": null,
       "right": null,
       "top": null,
       "visibility": null,
       "width": null
      }
     },
     "ed4c7b36b7e940caaf9b1db93598fc6d": {
      "model_module": "@jupyter-widgets/base",
      "model_module_version": "1.2.0",
      "model_name": "LayoutModel",
      "state": {
       "_model_module": "@jupyter-widgets/base",
       "_model_module_version": "1.2.0",
       "_model_name": "LayoutModel",
       "_view_count": null,
       "_view_module": "@jupyter-widgets/base",
       "_view_module_version": "1.2.0",
       "_view_name": "LayoutView",
       "align_content": null,
       "align_items": null,
       "align_self": null,
       "border": null,
       "bottom": null,
       "display": null,
       "flex": null,
       "flex_flow": null,
       "grid_area": null,
       "grid_auto_columns": null,
       "grid_auto_flow": null,
       "grid_auto_rows": null,
       "grid_column": null,
       "grid_gap": null,
       "grid_row": null,
       "grid_template_areas": null,
       "grid_template_columns": null,
       "grid_template_rows": null,
       "height": null,
       "justify_content": null,
       "justify_items": null,
       "left": null,
       "margin": null,
       "max_height": null,
       "max_width": null,
       "min_height": null,
       "min_width": null,
       "object_fit": null,
       "object_position": null,
       "order": null,
       "overflow": null,
       "overflow_x": null,
       "overflow_y": null,
       "padding": null,
       "right": null,
       "top": null,
       "visibility": null,
       "width": null
      }
     },
     "edd18f1b55214365b1e1f47893f16de4": {
      "model_module": "@jupyter-widgets/controls",
      "model_module_version": "1.5.0",
      "model_name": "DescriptionStyleModel",
      "state": {
       "_model_module": "@jupyter-widgets/controls",
       "_model_module_version": "1.5.0",
       "_model_name": "DescriptionStyleModel",
       "_view_count": null,
       "_view_module": "@jupyter-widgets/base",
       "_view_module_version": "1.2.0",
       "_view_name": "StyleView",
       "description_width": ""
      }
     },
     "f0d0ebaaab16448db42a3134194ba578": {
      "model_module": "@jupyter-widgets/controls",
      "model_module_version": "1.5.0",
      "model_name": "ProgressStyleModel",
      "state": {
       "_model_module": "@jupyter-widgets/controls",
       "_model_module_version": "1.5.0",
       "_model_name": "ProgressStyleModel",
       "_view_count": null,
       "_view_module": "@jupyter-widgets/base",
       "_view_module_version": "1.2.0",
       "_view_name": "StyleView",
       "bar_color": null,
       "description_width": ""
      }
     },
     "faa0bd7c463c40c9be6a7401ddb7d674": {
      "model_module": "@jupyter-widgets/controls",
      "model_module_version": "1.5.0",
      "model_name": "HTMLModel",
      "state": {
       "_dom_classes": [],
       "_model_module": "@jupyter-widgets/controls",
       "_model_module_version": "1.5.0",
       "_model_name": "HTMLModel",
       "_view_count": null,
       "_view_module": "@jupyter-widgets/controls",
       "_view_module_version": "1.5.0",
       "_view_name": "HTMLView",
       "description": "",
       "description_tooltip": null,
       "layout": "IPY_MODEL_221260bc730e43e6a4edec2d811c9e95",
       "placeholder": "​",
       "style": "IPY_MODEL_65c31f39225c4de0948d62a9f21ac51b",
       "value": "vocab.json: 100%"
      }
     },
     "fe8f429c9a5d4d438276ff0d13355711": {
      "model_module": "@jupyter-widgets/controls",
      "model_module_version": "1.5.0",
      "model_name": "DescriptionStyleModel",
      "state": {
       "_model_module": "@jupyter-widgets/controls",
       "_model_module_version": "1.5.0",
       "_model_name": "DescriptionStyleModel",
       "_view_count": null,
       "_view_module": "@jupyter-widgets/base",
       "_view_module_version": "1.2.0",
       "_view_name": "StyleView",
       "description_width": ""
      }
     }
    },
    "version_major": 2,
    "version_minor": 0
   }
  }
 },
 "nbformat": 4,
 "nbformat_minor": 5
}
