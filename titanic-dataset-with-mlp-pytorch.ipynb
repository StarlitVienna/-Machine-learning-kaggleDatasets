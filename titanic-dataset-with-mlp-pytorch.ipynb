{
 "cells": [
  {
   "cell_type": "code",
   "execution_count": 1,
   "id": "551408c4",
   "metadata": {
    "execution": {
     "iopub.execute_input": "2024-07-13T18:43:18.516759Z",
     "iopub.status.busy": "2024-07-13T18:43:18.516118Z",
     "iopub.status.idle": "2024-07-13T18:43:19.272045Z",
     "shell.execute_reply": "2024-07-13T18:43:19.270939Z"
    },
    "papermill": {
     "duration": 0.76836,
     "end_time": "2024-07-13T18:43:19.274045",
     "exception": false,
     "start_time": "2024-07-13T18:43:18.505685",
     "status": "completed"
    },
    "tags": []
   },
   "outputs": [
    {
     "name": "stdout",
     "output_type": "stream",
     "text": [
      "/kaggle/input/titanic/train.csv\n",
      "/kaggle/input/titanic/test.csv\n",
      "/kaggle/input/titanic/gender_submission.csv\n"
     ]
    }
   ],
   "source": [
    "# This Python 3 environment comes with many helpful analytics libraries installed\n",
    "# It is defined by the kaggle/python Docker image: https://github.com/kaggle/docker-python\n",
    "# For example, here's several helpful packages to load\n",
    "\n",
    "import numpy as np # linear algebra\n",
    "import pandas as pd # data processing, CSV file I/O (e.g. pd.read_csv)\n",
    "\n",
    "# Input data files are available in the read-only \"../input/\" directory\n",
    "# For example, running this (by clicking run or pressing Shift+Enter) will list all files under the input directory\n",
    "\n",
    "import os\n",
    "for dirname, _, filenames in os.walk('/kaggle/input'):\n",
    "    for filename in filenames:\n",
    "        print(os.path.join(dirname, filename))\n",
    "\n",
    "# You can write up to 20GB to the current directory (/kaggle/working/) that gets preserved as output when you create a version using \"Save & Run All\" \n",
    "# You can also write temporary files to /kaggle/temp/, but they won't be saved outside of the current session"
   ]
  },
  {
   "cell_type": "code",
   "execution_count": 2,
   "id": "f66fc6be",
   "metadata": {
    "execution": {
     "iopub.execute_input": "2024-07-13T18:43:19.292265Z",
     "iopub.status.busy": "2024-07-13T18:43:19.291882Z",
     "iopub.status.idle": "2024-07-13T18:43:24.130287Z",
     "shell.execute_reply": "2024-07-13T18:43:24.129487Z"
    },
    "papermill": {
     "duration": 4.85106,
     "end_time": "2024-07-13T18:43:24.133698",
     "exception": false,
     "start_time": "2024-07-13T18:43:19.282638",
     "status": "completed"
    },
    "tags": []
   },
   "outputs": [],
   "source": [
    "import matplotlib.pyplot as plt\n",
    "from tqdm import tqdm\n",
    "import seaborn as sns\n",
    "\n",
    "import torch\n",
    "from torch import nn"
   ]
  },
  {
   "cell_type": "code",
   "execution_count": 3,
   "id": "a1b17a83",
   "metadata": {
    "execution": {
     "iopub.execute_input": "2024-07-13T18:43:24.158439Z",
     "iopub.status.busy": "2024-07-13T18:43:24.157978Z",
     "iopub.status.idle": "2024-07-13T18:43:24.220807Z",
     "shell.execute_reply": "2024-07-13T18:43:24.219881Z"
    },
    "papermill": {
     "duration": 0.077117,
     "end_time": "2024-07-13T18:43:24.222890",
     "exception": false,
     "start_time": "2024-07-13T18:43:24.145773",
     "status": "completed"
    },
    "tags": []
   },
   "outputs": [
    {
     "name": "stdout",
     "output_type": "stream",
     "text": [
      "default device set to cuda\n"
     ]
    }
   ],
   "source": [
    "device = \"cuda\" if torch.cuda.is_available() else \"cpu\"\n",
    "torch.set_default_device(device)\n",
    "print(f\"default device set to {device}\")"
   ]
  },
  {
   "cell_type": "markdown",
   "id": "502ce578",
   "metadata": {
    "papermill": {
     "duration": 0.008093,
     "end_time": "2024-07-13T18:43:24.239593",
     "exception": false,
     "start_time": "2024-07-13T18:43:24.231500",
     "status": "completed"
    },
    "tags": []
   },
   "source": [
    "# Data cleaning\n",
    "- Remove columns that won't be passed through the model\n",
    "- Find and replace/remove missing data"
   ]
  },
  {
   "cell_type": "code",
   "execution_count": 4,
   "id": "be43e01c",
   "metadata": {
    "execution": {
     "iopub.execute_input": "2024-07-13T18:43:24.257278Z",
     "iopub.status.busy": "2024-07-13T18:43:24.256974Z",
     "iopub.status.idle": "2024-07-13T18:43:24.302582Z",
     "shell.execute_reply": "2024-07-13T18:43:24.301704Z"
    },
    "papermill": {
     "duration": 0.05679,
     "end_time": "2024-07-13T18:43:24.304601",
     "exception": false,
     "start_time": "2024-07-13T18:43:24.247811",
     "status": "completed"
    },
    "tags": []
   },
   "outputs": [
    {
     "data": {
      "text/html": [
       "<div>\n",
       "<style scoped>\n",
       "    .dataframe tbody tr th:only-of-type {\n",
       "        vertical-align: middle;\n",
       "    }\n",
       "\n",
       "    .dataframe tbody tr th {\n",
       "        vertical-align: top;\n",
       "    }\n",
       "\n",
       "    .dataframe thead th {\n",
       "        text-align: right;\n",
       "    }\n",
       "</style>\n",
       "<table border=\"1\" class=\"dataframe\">\n",
       "  <thead>\n",
       "    <tr style=\"text-align: right;\">\n",
       "      <th></th>\n",
       "      <th>PassengerId</th>\n",
       "      <th>Survived</th>\n",
       "      <th>Pclass</th>\n",
       "      <th>Name</th>\n",
       "      <th>Sex</th>\n",
       "      <th>Age</th>\n",
       "      <th>SibSp</th>\n",
       "      <th>Parch</th>\n",
       "      <th>Ticket</th>\n",
       "      <th>Fare</th>\n",
       "      <th>Cabin</th>\n",
       "      <th>Embarked</th>\n",
       "    </tr>\n",
       "  </thead>\n",
       "  <tbody>\n",
       "    <tr>\n",
       "      <th>504</th>\n",
       "      <td>505</td>\n",
       "      <td>1</td>\n",
       "      <td>1</td>\n",
       "      <td>Maioni, Miss. Roberta</td>\n",
       "      <td>female</td>\n",
       "      <td>16.0</td>\n",
       "      <td>0</td>\n",
       "      <td>0</td>\n",
       "      <td>110152</td>\n",
       "      <td>86.5000</td>\n",
       "      <td>B79</td>\n",
       "      <td>S</td>\n",
       "    </tr>\n",
       "    <tr>\n",
       "      <th>114</th>\n",
       "      <td>115</td>\n",
       "      <td>0</td>\n",
       "      <td>3</td>\n",
       "      <td>Attalah, Miss. Malake</td>\n",
       "      <td>female</td>\n",
       "      <td>17.0</td>\n",
       "      <td>0</td>\n",
       "      <td>0</td>\n",
       "      <td>2627</td>\n",
       "      <td>14.4583</td>\n",
       "      <td>NaN</td>\n",
       "      <td>C</td>\n",
       "    </tr>\n",
       "    <tr>\n",
       "      <th>852</th>\n",
       "      <td>853</td>\n",
       "      <td>0</td>\n",
       "      <td>3</td>\n",
       "      <td>Boulos, Miss. Nourelain</td>\n",
       "      <td>female</td>\n",
       "      <td>9.0</td>\n",
       "      <td>1</td>\n",
       "      <td>1</td>\n",
       "      <td>2678</td>\n",
       "      <td>15.2458</td>\n",
       "      <td>NaN</td>\n",
       "      <td>C</td>\n",
       "    </tr>\n",
       "    <tr>\n",
       "      <th>589</th>\n",
       "      <td>590</td>\n",
       "      <td>0</td>\n",
       "      <td>3</td>\n",
       "      <td>Murdlin, Mr. Joseph</td>\n",
       "      <td>male</td>\n",
       "      <td>NaN</td>\n",
       "      <td>0</td>\n",
       "      <td>0</td>\n",
       "      <td>A./5. 3235</td>\n",
       "      <td>8.0500</td>\n",
       "      <td>NaN</td>\n",
       "      <td>S</td>\n",
       "    </tr>\n",
       "    <tr>\n",
       "      <th>708</th>\n",
       "      <td>709</td>\n",
       "      <td>1</td>\n",
       "      <td>1</td>\n",
       "      <td>Cleaver, Miss. Alice</td>\n",
       "      <td>female</td>\n",
       "      <td>22.0</td>\n",
       "      <td>0</td>\n",
       "      <td>0</td>\n",
       "      <td>113781</td>\n",
       "      <td>151.5500</td>\n",
       "      <td>NaN</td>\n",
       "      <td>S</td>\n",
       "    </tr>\n",
       "  </tbody>\n",
       "</table>\n",
       "</div>"
      ],
      "text/plain": [
       "     PassengerId  Survived  Pclass                     Name     Sex   Age  \\\n",
       "504          505         1       1    Maioni, Miss. Roberta  female  16.0   \n",
       "114          115         0       3    Attalah, Miss. Malake  female  17.0   \n",
       "852          853         0       3  Boulos, Miss. Nourelain  female   9.0   \n",
       "589          590         0       3      Murdlin, Mr. Joseph    male   NaN   \n",
       "708          709         1       1     Cleaver, Miss. Alice  female  22.0   \n",
       "\n",
       "     SibSp  Parch      Ticket      Fare Cabin Embarked  \n",
       "504      0      0      110152   86.5000   B79        S  \n",
       "114      0      0        2627   14.4583   NaN        C  \n",
       "852      1      1        2678   15.2458   NaN        C  \n",
       "589      0      0  A./5. 3235    8.0500   NaN        S  \n",
       "708      0      0      113781  151.5500   NaN        S  "
      ]
     },
     "execution_count": 4,
     "metadata": {},
     "output_type": "execute_result"
    }
   ],
   "source": [
    "train_dataset = pd.read_csv(\"/kaggle/input/titanic/train.csv\")\n",
    "train_dataset.sample(n=5)"
   ]
  },
  {
   "cell_type": "code",
   "execution_count": 5,
   "id": "1308fb38",
   "metadata": {
    "execution": {
     "iopub.execute_input": "2024-07-13T18:43:24.323430Z",
     "iopub.status.busy": "2024-07-13T18:43:24.323153Z",
     "iopub.status.idle": "2024-07-13T18:43:24.345080Z",
     "shell.execute_reply": "2024-07-13T18:43:24.344248Z"
    },
    "papermill": {
     "duration": 0.033809,
     "end_time": "2024-07-13T18:43:24.347195",
     "exception": false,
     "start_time": "2024-07-13T18:43:24.313386",
     "status": "completed"
    },
    "tags": []
   },
   "outputs": [
    {
     "data": {
      "text/html": [
       "<div>\n",
       "<style scoped>\n",
       "    .dataframe tbody tr th:only-of-type {\n",
       "        vertical-align: middle;\n",
       "    }\n",
       "\n",
       "    .dataframe tbody tr th {\n",
       "        vertical-align: top;\n",
       "    }\n",
       "\n",
       "    .dataframe thead th {\n",
       "        text-align: right;\n",
       "    }\n",
       "</style>\n",
       "<table border=\"1\" class=\"dataframe\">\n",
       "  <thead>\n",
       "    <tr style=\"text-align: right;\">\n",
       "      <th></th>\n",
       "      <th>PassengerId</th>\n",
       "      <th>Pclass</th>\n",
       "      <th>Name</th>\n",
       "      <th>Sex</th>\n",
       "      <th>Age</th>\n",
       "      <th>SibSp</th>\n",
       "      <th>Parch</th>\n",
       "      <th>Ticket</th>\n",
       "      <th>Fare</th>\n",
       "      <th>Cabin</th>\n",
       "      <th>Embarked</th>\n",
       "    </tr>\n",
       "  </thead>\n",
       "  <tbody>\n",
       "    <tr>\n",
       "      <th>0</th>\n",
       "      <td>892</td>\n",
       "      <td>3</td>\n",
       "      <td>Kelly, Mr. James</td>\n",
       "      <td>male</td>\n",
       "      <td>34.5</td>\n",
       "      <td>0</td>\n",
       "      <td>0</td>\n",
       "      <td>330911</td>\n",
       "      <td>7.8292</td>\n",
       "      <td>NaN</td>\n",
       "      <td>Q</td>\n",
       "    </tr>\n",
       "    <tr>\n",
       "      <th>1</th>\n",
       "      <td>893</td>\n",
       "      <td>3</td>\n",
       "      <td>Wilkes, Mrs. James (Ellen Needs)</td>\n",
       "      <td>female</td>\n",
       "      <td>47.0</td>\n",
       "      <td>1</td>\n",
       "      <td>0</td>\n",
       "      <td>363272</td>\n",
       "      <td>7.0000</td>\n",
       "      <td>NaN</td>\n",
       "      <td>S</td>\n",
       "    </tr>\n",
       "    <tr>\n",
       "      <th>2</th>\n",
       "      <td>894</td>\n",
       "      <td>2</td>\n",
       "      <td>Myles, Mr. Thomas Francis</td>\n",
       "      <td>male</td>\n",
       "      <td>62.0</td>\n",
       "      <td>0</td>\n",
       "      <td>0</td>\n",
       "      <td>240276</td>\n",
       "      <td>9.6875</td>\n",
       "      <td>NaN</td>\n",
       "      <td>Q</td>\n",
       "    </tr>\n",
       "    <tr>\n",
       "      <th>3</th>\n",
       "      <td>895</td>\n",
       "      <td>3</td>\n",
       "      <td>Wirz, Mr. Albert</td>\n",
       "      <td>male</td>\n",
       "      <td>27.0</td>\n",
       "      <td>0</td>\n",
       "      <td>0</td>\n",
       "      <td>315154</td>\n",
       "      <td>8.6625</td>\n",
       "      <td>NaN</td>\n",
       "      <td>S</td>\n",
       "    </tr>\n",
       "    <tr>\n",
       "      <th>4</th>\n",
       "      <td>896</td>\n",
       "      <td>3</td>\n",
       "      <td>Hirvonen, Mrs. Alexander (Helga E Lindqvist)</td>\n",
       "      <td>female</td>\n",
       "      <td>22.0</td>\n",
       "      <td>1</td>\n",
       "      <td>1</td>\n",
       "      <td>3101298</td>\n",
       "      <td>12.2875</td>\n",
       "      <td>NaN</td>\n",
       "      <td>S</td>\n",
       "    </tr>\n",
       "    <tr>\n",
       "      <th>...</th>\n",
       "      <td>...</td>\n",
       "      <td>...</td>\n",
       "      <td>...</td>\n",
       "      <td>...</td>\n",
       "      <td>...</td>\n",
       "      <td>...</td>\n",
       "      <td>...</td>\n",
       "      <td>...</td>\n",
       "      <td>...</td>\n",
       "      <td>...</td>\n",
       "      <td>...</td>\n",
       "    </tr>\n",
       "    <tr>\n",
       "      <th>413</th>\n",
       "      <td>1305</td>\n",
       "      <td>3</td>\n",
       "      <td>Spector, Mr. Woolf</td>\n",
       "      <td>male</td>\n",
       "      <td>NaN</td>\n",
       "      <td>0</td>\n",
       "      <td>0</td>\n",
       "      <td>A.5. 3236</td>\n",
       "      <td>8.0500</td>\n",
       "      <td>NaN</td>\n",
       "      <td>S</td>\n",
       "    </tr>\n",
       "    <tr>\n",
       "      <th>414</th>\n",
       "      <td>1306</td>\n",
       "      <td>1</td>\n",
       "      <td>Oliva y Ocana, Dona. Fermina</td>\n",
       "      <td>female</td>\n",
       "      <td>39.0</td>\n",
       "      <td>0</td>\n",
       "      <td>0</td>\n",
       "      <td>PC 17758</td>\n",
       "      <td>108.9000</td>\n",
       "      <td>C105</td>\n",
       "      <td>C</td>\n",
       "    </tr>\n",
       "    <tr>\n",
       "      <th>415</th>\n",
       "      <td>1307</td>\n",
       "      <td>3</td>\n",
       "      <td>Saether, Mr. Simon Sivertsen</td>\n",
       "      <td>male</td>\n",
       "      <td>38.5</td>\n",
       "      <td>0</td>\n",
       "      <td>0</td>\n",
       "      <td>SOTON/O.Q. 3101262</td>\n",
       "      <td>7.2500</td>\n",
       "      <td>NaN</td>\n",
       "      <td>S</td>\n",
       "    </tr>\n",
       "    <tr>\n",
       "      <th>416</th>\n",
       "      <td>1308</td>\n",
       "      <td>3</td>\n",
       "      <td>Ware, Mr. Frederick</td>\n",
       "      <td>male</td>\n",
       "      <td>NaN</td>\n",
       "      <td>0</td>\n",
       "      <td>0</td>\n",
       "      <td>359309</td>\n",
       "      <td>8.0500</td>\n",
       "      <td>NaN</td>\n",
       "      <td>S</td>\n",
       "    </tr>\n",
       "    <tr>\n",
       "      <th>417</th>\n",
       "      <td>1309</td>\n",
       "      <td>3</td>\n",
       "      <td>Peter, Master. Michael J</td>\n",
       "      <td>male</td>\n",
       "      <td>NaN</td>\n",
       "      <td>1</td>\n",
       "      <td>1</td>\n",
       "      <td>2668</td>\n",
       "      <td>22.3583</td>\n",
       "      <td>NaN</td>\n",
       "      <td>C</td>\n",
       "    </tr>\n",
       "  </tbody>\n",
       "</table>\n",
       "<p>418 rows × 11 columns</p>\n",
       "</div>"
      ],
      "text/plain": [
       "     PassengerId  Pclass                                          Name  \\\n",
       "0            892       3                              Kelly, Mr. James   \n",
       "1            893       3              Wilkes, Mrs. James (Ellen Needs)   \n",
       "2            894       2                     Myles, Mr. Thomas Francis   \n",
       "3            895       3                              Wirz, Mr. Albert   \n",
       "4            896       3  Hirvonen, Mrs. Alexander (Helga E Lindqvist)   \n",
       "..           ...     ...                                           ...   \n",
       "413         1305       3                            Spector, Mr. Woolf   \n",
       "414         1306       1                  Oliva y Ocana, Dona. Fermina   \n",
       "415         1307       3                  Saether, Mr. Simon Sivertsen   \n",
       "416         1308       3                           Ware, Mr. Frederick   \n",
       "417         1309       3                      Peter, Master. Michael J   \n",
       "\n",
       "        Sex   Age  SibSp  Parch              Ticket      Fare Cabin Embarked  \n",
       "0      male  34.5      0      0              330911    7.8292   NaN        Q  \n",
       "1    female  47.0      1      0              363272    7.0000   NaN        S  \n",
       "2      male  62.0      0      0              240276    9.6875   NaN        Q  \n",
       "3      male  27.0      0      0              315154    8.6625   NaN        S  \n",
       "4    female  22.0      1      1             3101298   12.2875   NaN        S  \n",
       "..      ...   ...    ...    ...                 ...       ...   ...      ...  \n",
       "413    male   NaN      0      0           A.5. 3236    8.0500   NaN        S  \n",
       "414  female  39.0      0      0            PC 17758  108.9000  C105        C  \n",
       "415    male  38.5      0      0  SOTON/O.Q. 3101262    7.2500   NaN        S  \n",
       "416    male   NaN      0      0              359309    8.0500   NaN        S  \n",
       "417    male   NaN      1      1                2668   22.3583   NaN        C  \n",
       "\n",
       "[418 rows x 11 columns]"
      ]
     },
     "execution_count": 5,
     "metadata": {},
     "output_type": "execute_result"
    }
   ],
   "source": [
    "test_dataset = pd.read_csv(\"/kaggle/input/titanic/test.csv\")\n",
    "test_dataset"
   ]
  },
  {
   "cell_type": "code",
   "execution_count": 6,
   "id": "8081e303",
   "metadata": {
    "execution": {
     "iopub.execute_input": "2024-07-13T18:43:24.368560Z",
     "iopub.status.busy": "2024-07-13T18:43:24.368261Z",
     "iopub.status.idle": "2024-07-13T18:43:24.375175Z",
     "shell.execute_reply": "2024-07-13T18:43:24.374060Z"
    },
    "papermill": {
     "duration": 0.019097,
     "end_time": "2024-07-13T18:43:24.377137",
     "exception": false,
     "start_time": "2024-07-13T18:43:24.358040",
     "status": "completed"
    },
    "tags": []
   },
   "outputs": [],
   "source": [
    "train_dataset.drop(columns=[\"Name\", \"Cabin\", \"Ticket\", \"PassengerId\"], inplace=True)"
   ]
  },
  {
   "cell_type": "code",
   "execution_count": 7,
   "id": "e920c803",
   "metadata": {
    "execution": {
     "iopub.execute_input": "2024-07-13T18:43:24.396516Z",
     "iopub.status.busy": "2024-07-13T18:43:24.396037Z",
     "iopub.status.idle": "2024-07-13T18:43:24.408500Z",
     "shell.execute_reply": "2024-07-13T18:43:24.407610Z"
    },
    "papermill": {
     "duration": 0.024107,
     "end_time": "2024-07-13T18:43:24.410415",
     "exception": false,
     "start_time": "2024-07-13T18:43:24.386308",
     "status": "completed"
    },
    "tags": []
   },
   "outputs": [
    {
     "data": {
      "text/html": [
       "<div>\n",
       "<style scoped>\n",
       "    .dataframe tbody tr th:only-of-type {\n",
       "        vertical-align: middle;\n",
       "    }\n",
       "\n",
       "    .dataframe tbody tr th {\n",
       "        vertical-align: top;\n",
       "    }\n",
       "\n",
       "    .dataframe thead th {\n",
       "        text-align: right;\n",
       "    }\n",
       "</style>\n",
       "<table border=\"1\" class=\"dataframe\">\n",
       "  <thead>\n",
       "    <tr style=\"text-align: right;\">\n",
       "      <th></th>\n",
       "      <th>Survived</th>\n",
       "      <th>Pclass</th>\n",
       "      <th>Sex</th>\n",
       "      <th>Age</th>\n",
       "      <th>SibSp</th>\n",
       "      <th>Parch</th>\n",
       "      <th>Fare</th>\n",
       "      <th>Embarked</th>\n",
       "    </tr>\n",
       "  </thead>\n",
       "  <tbody>\n",
       "    <tr>\n",
       "      <th>401</th>\n",
       "      <td>0</td>\n",
       "      <td>3</td>\n",
       "      <td>male</td>\n",
       "      <td>26.0</td>\n",
       "      <td>0</td>\n",
       "      <td>0</td>\n",
       "      <td>8.0500</td>\n",
       "      <td>S</td>\n",
       "    </tr>\n",
       "    <tr>\n",
       "      <th>740</th>\n",
       "      <td>1</td>\n",
       "      <td>1</td>\n",
       "      <td>male</td>\n",
       "      <td>NaN</td>\n",
       "      <td>0</td>\n",
       "      <td>0</td>\n",
       "      <td>30.0000</td>\n",
       "      <td>S</td>\n",
       "    </tr>\n",
       "    <tr>\n",
       "      <th>680</th>\n",
       "      <td>0</td>\n",
       "      <td>3</td>\n",
       "      <td>female</td>\n",
       "      <td>NaN</td>\n",
       "      <td>0</td>\n",
       "      <td>0</td>\n",
       "      <td>8.1375</td>\n",
       "      <td>Q</td>\n",
       "    </tr>\n",
       "    <tr>\n",
       "      <th>697</th>\n",
       "      <td>1</td>\n",
       "      <td>3</td>\n",
       "      <td>female</td>\n",
       "      <td>NaN</td>\n",
       "      <td>0</td>\n",
       "      <td>0</td>\n",
       "      <td>7.7333</td>\n",
       "      <td>Q</td>\n",
       "    </tr>\n",
       "  </tbody>\n",
       "</table>\n",
       "</div>"
      ],
      "text/plain": [
       "     Survived  Pclass     Sex   Age  SibSp  Parch     Fare Embarked\n",
       "401         0       3    male  26.0      0      0   8.0500        S\n",
       "740         1       1    male   NaN      0      0  30.0000        S\n",
       "680         0       3  female   NaN      0      0   8.1375        Q\n",
       "697         1       3  female   NaN      0      0   7.7333        Q"
      ]
     },
     "execution_count": 7,
     "metadata": {},
     "output_type": "execute_result"
    }
   ],
   "source": [
    "train_dataset.sample(n=4)"
   ]
  },
  {
   "cell_type": "code",
   "execution_count": 8,
   "id": "450f9b7f",
   "metadata": {
    "execution": {
     "iopub.execute_input": "2024-07-13T18:43:24.430303Z",
     "iopub.status.busy": "2024-07-13T18:43:24.429816Z",
     "iopub.status.idle": "2024-07-13T18:43:24.436723Z",
     "shell.execute_reply": "2024-07-13T18:43:24.435894Z"
    },
    "papermill": {
     "duration": 0.01902,
     "end_time": "2024-07-13T18:43:24.438649",
     "exception": false,
     "start_time": "2024-07-13T18:43:24.419629",
     "status": "completed"
    },
    "tags": []
   },
   "outputs": [],
   "source": [
    "def clean_data(data, column, total_null):\n",
    "    if total_null <= len(data) * (5/100): # less than 5%\n",
    "        data.dropna(subset=[column], inplace=True)\n",
    "        \n",
    "def check_data(data, clean: bool):\n",
    "    for column in data.columns:\n",
    "        if data[column].isnull().any():\n",
    "            total_null_entries = data[column].isnull().sum()\n",
    "            null_percent = total_null_entries / len(data) * 100\n",
    "            print(f\"null value found in the column {column}; totaling {total_null_entries} null entries; {null_percent}%\")\n",
    "            \n",
    "            if clean:\n",
    "                clean_data(data=data, column=column, total_null=total_null_entries)\n",
    "        if column not in [\"Age\", \"Fare\", \"PassengerId\"]:\n",
    "            print(f\"{column} unique values --> {data[column].unique()}\")"
   ]
  },
  {
   "cell_type": "code",
   "execution_count": 9,
   "id": "50f9fbdf",
   "metadata": {
    "execution": {
     "iopub.execute_input": "2024-07-13T18:43:24.457855Z",
     "iopub.status.busy": "2024-07-13T18:43:24.457592Z",
     "iopub.status.idle": "2024-07-13T18:43:24.472426Z",
     "shell.execute_reply": "2024-07-13T18:43:24.471475Z"
    },
    "papermill": {
     "duration": 0.026628,
     "end_time": "2024-07-13T18:43:24.474326",
     "exception": false,
     "start_time": "2024-07-13T18:43:24.447698",
     "status": "completed"
    },
    "tags": []
   },
   "outputs": [
    {
     "name": "stdout",
     "output_type": "stream",
     "text": [
      "Survived unique values --> [0 1]\n",
      "Pclass unique values --> [3 1 2]\n",
      "Sex unique values --> ['male' 'female']\n",
      "null value found in the column Age; totaling 177 null entries; 19.865319865319865%\n",
      "SibSp unique values --> [1 0 3 4 2 5 8]\n",
      "Parch unique values --> [0 1 2 5 3 4 6]\n",
      "null value found in the column Embarked; totaling 2 null entries; 0.22446689113355783%\n",
      "Embarked unique values --> ['S' 'C' 'Q']\n",
      "Survived unique values --> [0 1]\n",
      "Pclass unique values --> [3 1 2]\n",
      "Sex unique values --> ['male' 'female']\n",
      "null value found in the column Age; totaling 177 null entries; 19.910011248593925%\n",
      "SibSp unique values --> [1 0 3 4 2 5 8]\n",
      "Parch unique values --> [0 1 2 5 3 4 6]\n",
      "Embarked unique values --> ['S' 'C' 'Q']\n"
     ]
    }
   ],
   "source": [
    "check_data(data=train_dataset, clean=True)\n",
    "check_data(data=train_dataset, clean=False)"
   ]
  },
  {
   "cell_type": "code",
   "execution_count": 10,
   "id": "dc978cca",
   "metadata": {
    "execution": {
     "iopub.execute_input": "2024-07-13T18:43:24.496535Z",
     "iopub.status.busy": "2024-07-13T18:43:24.496089Z",
     "iopub.status.idle": "2024-07-13T18:43:24.504591Z",
     "shell.execute_reply": "2024-07-13T18:43:24.503523Z"
    },
    "papermill": {
     "duration": 0.023182,
     "end_time": "2024-07-13T18:43:24.506901",
     "exception": false,
     "start_time": "2024-07-13T18:43:24.483719",
     "status": "completed"
    },
    "tags": []
   },
   "outputs": [],
   "source": [
    "median_age = train_dataset[\"Age\"].median()\n",
    "train_dataset.fillna({\"Age\": median_age}, inplace=True)"
   ]
  },
  {
   "cell_type": "code",
   "execution_count": 11,
   "id": "2e085462",
   "metadata": {
    "execution": {
     "iopub.execute_input": "2024-07-13T18:43:24.531795Z",
     "iopub.status.busy": "2024-07-13T18:43:24.531472Z",
     "iopub.status.idle": "2024-07-13T18:43:24.544150Z",
     "shell.execute_reply": "2024-07-13T18:43:24.543288Z"
    },
    "papermill": {
     "duration": 0.027541,
     "end_time": "2024-07-13T18:43:24.546108",
     "exception": false,
     "start_time": "2024-07-13T18:43:24.518567",
     "status": "completed"
    },
    "tags": []
   },
   "outputs": [
    {
     "data": {
      "text/html": [
       "<div>\n",
       "<style scoped>\n",
       "    .dataframe tbody tr th:only-of-type {\n",
       "        vertical-align: middle;\n",
       "    }\n",
       "\n",
       "    .dataframe tbody tr th {\n",
       "        vertical-align: top;\n",
       "    }\n",
       "\n",
       "    .dataframe thead th {\n",
       "        text-align: right;\n",
       "    }\n",
       "</style>\n",
       "<table border=\"1\" class=\"dataframe\">\n",
       "  <thead>\n",
       "    <tr style=\"text-align: right;\">\n",
       "      <th></th>\n",
       "      <th>Survived</th>\n",
       "      <th>Pclass</th>\n",
       "      <th>Sex</th>\n",
       "      <th>Age</th>\n",
       "      <th>SibSp</th>\n",
       "      <th>Parch</th>\n",
       "      <th>Fare</th>\n",
       "      <th>Embarked</th>\n",
       "    </tr>\n",
       "  </thead>\n",
       "  <tbody>\n",
       "    <tr>\n",
       "      <th>55</th>\n",
       "      <td>1</td>\n",
       "      <td>1</td>\n",
       "      <td>male</td>\n",
       "      <td>28.0</td>\n",
       "      <td>0</td>\n",
       "      <td>0</td>\n",
       "      <td>35.5000</td>\n",
       "      <td>S</td>\n",
       "    </tr>\n",
       "    <tr>\n",
       "      <th>618</th>\n",
       "      <td>1</td>\n",
       "      <td>2</td>\n",
       "      <td>female</td>\n",
       "      <td>4.0</td>\n",
       "      <td>2</td>\n",
       "      <td>1</td>\n",
       "      <td>39.0000</td>\n",
       "      <td>S</td>\n",
       "    </tr>\n",
       "    <tr>\n",
       "      <th>541</th>\n",
       "      <td>0</td>\n",
       "      <td>3</td>\n",
       "      <td>female</td>\n",
       "      <td>9.0</td>\n",
       "      <td>4</td>\n",
       "      <td>2</td>\n",
       "      <td>31.2750</td>\n",
       "      <td>S</td>\n",
       "    </tr>\n",
       "    <tr>\n",
       "      <th>473</th>\n",
       "      <td>1</td>\n",
       "      <td>2</td>\n",
       "      <td>female</td>\n",
       "      <td>23.0</td>\n",
       "      <td>0</td>\n",
       "      <td>0</td>\n",
       "      <td>13.7917</td>\n",
       "      <td>C</td>\n",
       "    </tr>\n",
       "    <tr>\n",
       "      <th>826</th>\n",
       "      <td>0</td>\n",
       "      <td>3</td>\n",
       "      <td>male</td>\n",
       "      <td>28.0</td>\n",
       "      <td>0</td>\n",
       "      <td>0</td>\n",
       "      <td>56.4958</td>\n",
       "      <td>S</td>\n",
       "    </tr>\n",
       "  </tbody>\n",
       "</table>\n",
       "</div>"
      ],
      "text/plain": [
       "     Survived  Pclass     Sex   Age  SibSp  Parch     Fare Embarked\n",
       "55          1       1    male  28.0      0      0  35.5000        S\n",
       "618         1       2  female   4.0      2      1  39.0000        S\n",
       "541         0       3  female   9.0      4      2  31.2750        S\n",
       "473         1       2  female  23.0      0      0  13.7917        C\n",
       "826         0       3    male  28.0      0      0  56.4958        S"
      ]
     },
     "execution_count": 11,
     "metadata": {},
     "output_type": "execute_result"
    }
   ],
   "source": [
    "train_dataset.sample(n=5)"
   ]
  },
  {
   "cell_type": "markdown",
   "id": "ce6074ef",
   "metadata": {
    "papermill": {
     "duration": 0.009347,
     "end_time": "2024-07-13T18:43:24.565100",
     "exception": false,
     "start_time": "2024-07-13T18:43:24.555753",
     "status": "completed"
    },
    "tags": []
   },
   "source": [
    "# Data visualization, survival comparison\n",
    "- Visualize the relation within the data"
   ]
  },
  {
   "cell_type": "code",
   "execution_count": 12,
   "id": "a39e1d20",
   "metadata": {
    "execution": {
     "iopub.execute_input": "2024-07-13T18:43:24.585541Z",
     "iopub.status.busy": "2024-07-13T18:43:24.585213Z",
     "iopub.status.idle": "2024-07-13T18:43:25.807518Z",
     "shell.execute_reply": "2024-07-13T18:43:25.806555Z"
    },
    "papermill": {
     "duration": 1.235225,
     "end_time": "2024-07-13T18:43:25.809841",
     "exception": false,
     "start_time": "2024-07-13T18:43:24.574616",
     "status": "completed"
    },
    "tags": []
   },
   "outputs": [
    {
     "data": {
      "image/png": "[encoded data removed]",
      "text/plain": [
       "<Figure size 2400x600 with 5 Axes>"
      ]
     },
     "metadata": {},
     "output_type": "display_data"
    }
   ],
   "source": [
    "def plot_data(data):\n",
    "    fig, axis = plt.subplots(1, 5, figsize=(24, 6))\n",
    "    sns.countplot(data=data, x=\"Survived\", hue=\"Parch\", palette=\"magma\", ax=axis[0])\n",
    "    sns.countplot(data=data, x=\"Survived\", hue=\"Pclass\", palette=\"magma\", ax=axis[1])\n",
    "    sns.countplot(data=data, x=\"Survived\", hue=\"Embarked\", palette=\"magma\", ax=axis[2])\n",
    "    sns.countplot(data=data, x=\"Survived\", hue=\"SibSp\", palette=\"magma\", ax=axis[3])\n",
    "    sns.countplot(data=data, x=\"Survived\", hue=\"Sex\", palette=\"magma\", ax=axis[4])\n",
    "    \n",
    "    axis[0].set_title(\"Survived X Parch\")\n",
    "    axis[1].set_title(\"Survived X Class\")\n",
    "    axis[2].set_title(\"Survived X Embarked\")\n",
    "    axis[3].set_title(\"Survived X SibblingSpouse\")\n",
    "    axis[4].set_title(\"Survived X Sex\")\n",
    "    \n",
    "    plt.show()\n",
    "plot_data(data=train_dataset)"
   ]
  },
  {
   "cell_type": "markdown",
   "id": "c41b6481",
   "metadata": {
    "papermill": {
     "duration": 0.010601,
     "end_time": "2024-07-13T18:43:25.831181",
     "exception": false,
     "start_time": "2024-07-13T18:43:25.820580",
     "status": "completed"
    },
    "tags": []
   },
   "source": [
    "# Mapping classes to numbers"
   ]
  },
  {
   "cell_type": "code",
   "execution_count": 13,
   "id": "6a9266d5",
   "metadata": {
    "execution": {
     "iopub.execute_input": "2024-07-13T18:43:25.853048Z",
     "iopub.status.busy": "2024-07-13T18:43:25.852709Z",
     "iopub.status.idle": "2024-07-13T18:43:25.869499Z",
     "shell.execute_reply": "2024-07-13T18:43:25.868565Z"
    },
    "papermill": {
     "duration": 0.029953,
     "end_time": "2024-07-13T18:43:25.871392",
     "exception": false,
     "start_time": "2024-07-13T18:43:25.841439",
     "status": "completed"
    },
    "tags": []
   },
   "outputs": [
    {
     "data": {
      "text/html": [
       "<div>\n",
       "<style scoped>\n",
       "    .dataframe tbody tr th:only-of-type {\n",
       "        vertical-align: middle;\n",
       "    }\n",
       "\n",
       "    .dataframe tbody tr th {\n",
       "        vertical-align: top;\n",
       "    }\n",
       "\n",
       "    .dataframe thead th {\n",
       "        text-align: right;\n",
       "    }\n",
       "</style>\n",
       "<table border=\"1\" class=\"dataframe\">\n",
       "  <thead>\n",
       "    <tr style=\"text-align: right;\">\n",
       "      <th></th>\n",
       "      <th>Survived</th>\n",
       "      <th>Pclass</th>\n",
       "      <th>Sex</th>\n",
       "      <th>Age</th>\n",
       "      <th>SibSp</th>\n",
       "      <th>Parch</th>\n",
       "      <th>Fare</th>\n",
       "      <th>Embarked</th>\n",
       "    </tr>\n",
       "  </thead>\n",
       "  <tbody>\n",
       "    <tr>\n",
       "      <th>91</th>\n",
       "      <td>0</td>\n",
       "      <td>3</td>\n",
       "      <td>0</td>\n",
       "      <td>20.0</td>\n",
       "      <td>0</td>\n",
       "      <td>0</td>\n",
       "      <td>7.8542</td>\n",
       "      <td>0</td>\n",
       "    </tr>\n",
       "    <tr>\n",
       "      <th>241</th>\n",
       "      <td>1</td>\n",
       "      <td>3</td>\n",
       "      <td>1</td>\n",
       "      <td>28.0</td>\n",
       "      <td>1</td>\n",
       "      <td>0</td>\n",
       "      <td>15.5000</td>\n",
       "      <td>2</td>\n",
       "    </tr>\n",
       "    <tr>\n",
       "      <th>272</th>\n",
       "      <td>1</td>\n",
       "      <td>2</td>\n",
       "      <td>1</td>\n",
       "      <td>41.0</td>\n",
       "      <td>0</td>\n",
       "      <td>1</td>\n",
       "      <td>19.5000</td>\n",
       "      <td>0</td>\n",
       "    </tr>\n",
       "    <tr>\n",
       "      <th>36</th>\n",
       "      <td>1</td>\n",
       "      <td>3</td>\n",
       "      <td>0</td>\n",
       "      <td>28.0</td>\n",
       "      <td>0</td>\n",
       "      <td>0</td>\n",
       "      <td>7.2292</td>\n",
       "      <td>1</td>\n",
       "    </tr>\n",
       "    <tr>\n",
       "      <th>780</th>\n",
       "      <td>1</td>\n",
       "      <td>3</td>\n",
       "      <td>1</td>\n",
       "      <td>13.0</td>\n",
       "      <td>0</td>\n",
       "      <td>0</td>\n",
       "      <td>7.2292</td>\n",
       "      <td>1</td>\n",
       "    </tr>\n",
       "  </tbody>\n",
       "</table>\n",
       "</div>"
      ],
      "text/plain": [
       "     Survived  Pclass  Sex   Age  SibSp  Parch     Fare  Embarked\n",
       "91          0       3    0  20.0      0      0   7.8542         0\n",
       "241         1       3    1  28.0      1      0  15.5000         2\n",
       "272         1       2    1  41.0      0      1  19.5000         0\n",
       "36          1       3    0  28.0      0      0   7.2292         1\n",
       "780         1       3    1  13.0      0      0   7.2292         1"
      ]
     },
     "execution_count": 13,
     "metadata": {},
     "output_type": "execute_result"
    }
   ],
   "source": [
    "sex_mapping = {k: v for v, k in enumerate(train_dataset[\"Sex\"].unique())}\n",
    "embarked_mapping = {k: v for v, k in enumerate(train_dataset[\"Embarked\"].unique())}\n",
    "\n",
    "train_dataset[\"Sex\"] = train_dataset[\"Sex\"].map(sex_mapping)\n",
    "train_dataset[\"Embarked\"] = train_dataset[\"Embarked\"].map(embarked_mapping)\n",
    "train_dataset.sample(n=5)"
   ]
  },
  {
   "cell_type": "markdown",
   "id": "aab1b6c8",
   "metadata": {
    "papermill": {
     "duration": 0.010346,
     "end_time": "2024-07-13T18:43:25.892342",
     "exception": false,
     "start_time": "2024-07-13T18:43:25.881996",
     "status": "completed"
    },
    "tags": []
   },
   "source": [
    "# Get batch function"
   ]
  },
  {
   "cell_type": "code",
   "execution_count": 14,
   "id": "7dfa6c41",
   "metadata": {
    "execution": {
     "iopub.execute_input": "2024-07-13T18:43:25.914576Z",
     "iopub.status.busy": "2024-07-13T18:43:25.914259Z",
     "iopub.status.idle": "2024-07-13T18:43:26.358876Z",
     "shell.execute_reply": "2024-07-13T18:43:26.357999Z"
    },
    "papermill": {
     "duration": 0.458262,
     "end_time": "2024-07-13T18:43:26.361016",
     "exception": false,
     "start_time": "2024-07-13T18:43:25.902754",
     "status": "completed"
    },
    "tags": []
   },
   "outputs": [
    {
     "data": {
      "text/plain": [
       "(tensor([[ 2.0000,  1.0000, 34.0000,  0.0000,  1.0000, 23.0000,  0.0000],\n",
       "         [ 3.0000,  1.0000, 28.0000,  1.0000,  0.0000, 15.5000,  2.0000],\n",
       "         [ 3.0000,  1.0000, 14.0000,  0.0000,  0.0000,  7.8542,  0.0000],\n",
       "         [ 2.0000,  0.0000, 42.0000,  0.0000,  0.0000, 13.0000,  0.0000]],\n",
       "        device='cuda:0'),\n",
       " tensor([1, 1, 0, 1], device='cuda:0'))"
      ]
     },
     "execution_count": 14,
     "metadata": {},
     "output_type": "execute_result"
    }
   ],
   "source": [
    "def get_batch(data, batch_size):\n",
    "    batch = data.sample(n=batch_size)\n",
    "    batch_labels = batch[\"Survived\"].to_numpy()\n",
    "    batch_inputs = batch.drop(columns=[\"Survived\"]).to_numpy()\n",
    "    \n",
    "    batch_inputs = torch.tensor(batch_inputs, dtype=torch.float32)\n",
    "    batch_labels = torch.tensor(batch_labels, dtype=torch.long)\n",
    "    \n",
    "    return (batch_inputs, batch_labels)\n",
    "\n",
    "get_batch(data=train_dataset, batch_size=4)"
   ]
  },
  {
   "cell_type": "code",
   "execution_count": 15,
   "id": "a6d16ef7",
   "metadata": {
    "execution": {
     "iopub.execute_input": "2024-07-13T18:43:26.383847Z",
     "iopub.status.busy": "2024-07-13T18:43:26.383556Z",
     "iopub.status.idle": "2024-07-13T18:43:26.391648Z",
     "shell.execute_reply": "2024-07-13T18:43:26.390928Z"
    },
    "papermill": {
     "duration": 0.021659,
     "end_time": "2024-07-13T18:43:26.393489",
     "exception": false,
     "start_time": "2024-07-13T18:43:26.371830",
     "status": "completed"
    },
    "tags": []
   },
   "outputs": [],
   "source": [
    "class MLP(nn.Module):\n",
    "    def __init__(self, n_inputs, n_classes, hidden_units_array, n_layers, dropout):\n",
    "        super(MLP, self).__init__()\n",
    "        layers = []\n",
    "        prev_hidden_units = n_inputs\n",
    "        \n",
    "        for _ in range(n_layers):\n",
    "            for hidden_units in hidden_units_array:\n",
    "                layers.append(nn.Linear(in_features=prev_hidden_units, out_features=hidden_units))\n",
    "                #layers.append(nn.BatchNorm1d(hidden_units))\n",
    "                layers.append(nn.LayerNorm(hidden_units))\n",
    "                layers.append(nn.LeakyReLU())\n",
    "                layers.append(nn.Dropout(dropout))\n",
    "                print(f\"from {prev_hidden_units} to {hidden_units}\")\n",
    "                prev_hidden_units = hidden_units\n",
    "            #layers.append(nn.LayerNorm(hidden_units_array[-1]))\n",
    "        #layers.append(nn.LayerNorm(hidden_units_array[-1]))\n",
    "        layers.append(nn.Linear(in_features=hidden_units_array[-1], out_features=n_classes))\n",
    "        \n",
    "        \n",
    "        self.network = nn.Sequential(*layers)\n",
    "    \n",
    "    def forward(self, x: torch.Tensor) -> torch.Tensor:\n",
    "        #return self.network(x) # (B, n_classes)\n",
    "        x = self.network(x)\n",
    "        return x"
   ]
  },
  {
   "cell_type": "code",
   "execution_count": 16,
   "id": "6f6e94cd",
   "metadata": {
    "execution": {
     "iopub.execute_input": "2024-07-13T18:43:26.415821Z",
     "iopub.status.busy": "2024-07-13T18:43:26.415554Z",
     "iopub.status.idle": "2024-07-13T18:43:26.456816Z",
     "shell.execute_reply": "2024-07-13T18:43:26.455817Z"
    },
    "papermill": {
     "duration": 0.054659,
     "end_time": "2024-07-13T18:43:26.458786",
     "exception": false,
     "start_time": "2024-07-13T18:43:26.404127",
     "status": "completed"
    },
    "tags": []
   },
   "outputs": [
    {
     "name": "stdout",
     "output_type": "stream",
     "text": [
      "from 7 to 512\n",
      "from 512 to 512\n",
      "from 512 to 512\n",
      "from 512 to 512\n",
      "from 512 to 512\n",
      "from 512 to 512\n",
      "from 512 to 512\n",
      "from 512 to 512\n",
      "from 512 to 512\n",
      "from 512 to 512\n",
      "from 512 to 512\n",
      "from 512 to 512\n",
      "from 512 to 512\n",
      "from 512 to 512\n",
      "from 512 to 512\n",
      "from 512 to 512\n"
     ]
    }
   ],
   "source": [
    "n_inputs = len(train_dataset.drop(columns=[\"Survived\"]).columns)\n",
    "n_classes = 1 # Either dead of alive; Binary Cross Entropy should suffice\n",
    "#hidden_units_array = [8*8, 8*8*8, 8*8*8*8, 8*8*8*8]\n",
    "hidden_units_array = [8*8*8, 8*8*8, 8*8*8, 8*8*8]\n",
    "n_layers = 4\n",
    "dropout = 0.25\n",
    "model = MLP(n_inputs=n_inputs, n_classes=n_classes, hidden_units_array=hidden_units_array, n_layers=n_layers, dropout=dropout)"
   ]
  },
  {
   "cell_type": "code",
   "execution_count": 17,
   "id": "84b16c51",
   "metadata": {
    "execution": {
     "iopub.execute_input": "2024-07-13T18:43:26.481643Z",
     "iopub.status.busy": "2024-07-13T18:43:26.481354Z",
     "iopub.status.idle": "2024-07-13T18:43:26.741154Z",
     "shell.execute_reply": "2024-07-13T18:43:26.740087Z"
    },
    "papermill": {
     "duration": 0.27348,
     "end_time": "2024-07-13T18:43:26.743119",
     "exception": false,
     "start_time": "2024-07-13T18:43:26.469639",
     "status": "completed"
    },
    "tags": []
   },
   "outputs": [
    {
     "name": "stdout",
     "output_type": "stream",
     "text": [
      "tensor(0.7164, device='cuda:0')\n"
     ]
    }
   ],
   "source": [
    "test_loss_fn = nn.BCEWithLogitsLoss()\n",
    "model.eval()\n",
    "with torch.inference_mode():\n",
    "    batch_inputs, batch_labels = get_batch(data=train_dataset, batch_size=32)\n",
    "    logits = model(batch_inputs) # (B, n_classes); labels are (B,)\n",
    "    loss = test_loss_fn(logits.view(-1), batch_labels.to(torch.float32)) # For BCEWithLogitsLoss, labels must be in float32 format; for CrossEntropyLoss use torch.long instead\n",
    "    print(loss)"
   ]
  },
  {
   "cell_type": "code",
   "execution_count": 18,
   "id": "8dd389b6",
   "metadata": {
    "execution": {
     "iopub.execute_input": "2024-07-13T18:43:26.766369Z",
     "iopub.status.busy": "2024-07-13T18:43:26.766090Z",
     "iopub.status.idle": "2024-07-13T18:43:26.772624Z",
     "shell.execute_reply": "2024-07-13T18:43:26.771783Z"
    },
    "papermill": {
     "duration": 0.020194,
     "end_time": "2024-07-13T18:43:26.774444",
     "exception": false,
     "start_time": "2024-07-13T18:43:26.754250",
     "status": "completed"
    },
    "tags": []
   },
   "outputs": [],
   "source": [
    "def train_model(model, data, batch_size, loss_fn, optimizer, epochs):\n",
    "    model.train()\n",
    "\n",
    "    #writer = SummaryWriter()\n",
    "    #writer.add_text('Model Architecture', str(model))\n",
    "\n",
    "    for epoch in tqdm(range(epochs)):\n",
    "        batch_inputs, batch_labels = get_batch(data=train_dataset, batch_size=batch_size)\n",
    "        logits = model(batch_inputs) # (B, n_classes)\n",
    "        loss = loss_fn(logits.view(-1), batch_labels.to(torch.float32))\n",
    "        optimizer.zero_grad()\n",
    "        loss.backward()\n",
    "        optimizer.step()\n",
    "\n",
    "        #scheduler.step()\n",
    "\n",
    "        #writer.add_scalar(\"Training Loss\", loss.item(), epoch)\n",
    "\n",
    "        \n",
    "        if (epoch+1) % 500 == 0:\n",
    "            print(f\"loss for epoch {epoch+1} --> {loss}\")\n",
    "            #print(batch_inputs)\n",
    "            #print(logits)\n",
    "    #writer.close()"
   ]
  },
  {
   "cell_type": "code",
   "execution_count": 19,
   "id": "24157ffa",
   "metadata": {
    "execution": {
     "iopub.execute_input": "2024-07-13T18:43:26.798266Z",
     "iopub.status.busy": "2024-07-13T18:43:26.797999Z",
     "iopub.status.idle": "2024-07-13T18:54:03.022003Z",
     "shell.execute_reply": "2024-07-13T18:54:03.020873Z"
    },
    "papermill": {
     "duration": 636.23941,
     "end_time": "2024-07-13T18:54:03.024618",
     "exception": false,
     "start_time": "2024-07-13T18:43:26.785208",
     "status": "completed"
    },
    "tags": []
   },
   "outputs": [
    {
     "name": "stderr",
     "output_type": "stream",
     "text": [
      "  1%|          | 512/50000 [00:06<10:24, 79.23it/s]"
     ]
    },
    {
     "name": "stdout",
     "output_type": "stream",
     "text": [
      "loss for epoch 500 --> 0.5964613556861877\n"
     ]
    },
    {
     "name": "stderr",
     "output_type": "stream",
     "text": [
      "  2%|▏         | 1008/50000 [00:12<10:06, 80.79it/s]"
     ]
    },
    {
     "name": "stdout",
     "output_type": "stream",
     "text": [
      "loss for epoch 1000 --> 0.48799675703048706\n"
     ]
    },
    {
     "name": "stderr",
     "output_type": "stream",
     "text": [
      "  3%|▎         | 1512/50000 [00:19<10:07, 79.86it/s]"
     ]
    },
    {
     "name": "stdout",
     "output_type": "stream",
     "text": [
      "loss for epoch 1500 --> 0.47143200039863586\n"
     ]
    },
    {
     "name": "stderr",
     "output_type": "stream",
     "text": [
      "  4%|▍         | 2010/50000 [00:25<09:58, 80.16it/s]"
     ]
    },
    {
     "name": "stdout",
     "output_type": "stream",
     "text": [
      "loss for epoch 2000 --> 0.4731435775756836\n"
     ]
    },
    {
     "name": "stderr",
     "output_type": "stream",
     "text": [
      "  5%|▌         | 2515/50000 [00:32<10:01, 78.94it/s]"
     ]
    },
    {
     "name": "stdout",
     "output_type": "stream",
     "text": [
      "loss for epoch 2500 --> 0.4273771643638611\n"
     ]
    },
    {
     "name": "stderr",
     "output_type": "stream",
     "text": [
      "  6%|▌         | 3014/50000 [00:38<09:55, 78.94it/s]"
     ]
    },
    {
     "name": "stdout",
     "output_type": "stream",
     "text": [
      "loss for epoch 3000 --> 0.4740360975265503\n"
     ]
    },
    {
     "name": "stderr",
     "output_type": "stream",
     "text": [
      "  7%|▋         | 3509/50000 [00:44<09:37, 80.51it/s]"
     ]
    },
    {
     "name": "stdout",
     "output_type": "stream",
     "text": [
      "loss for epoch 3500 --> 0.41508036851882935\n"
     ]
    },
    {
     "name": "stderr",
     "output_type": "stream",
     "text": [
      "  8%|▊         | 4011/50000 [00:51<09:42, 78.99it/s]"
     ]
    },
    {
     "name": "stdout",
     "output_type": "stream",
     "text": [
      "loss for epoch 4000 --> 0.44857174158096313\n"
     ]
    },
    {
     "name": "stderr",
     "output_type": "stream",
     "text": [
      "  9%|▉         | 4510/50000 [00:57<09:31, 79.55it/s]"
     ]
    },
    {
     "name": "stdout",
     "output_type": "stream",
     "text": [
      "loss for epoch 4500 --> 0.4000456631183624\n"
     ]
    },
    {
     "name": "stderr",
     "output_type": "stream",
     "text": [
      " 10%|█         | 5011/50000 [01:03<09:41, 77.37it/s]"
     ]
    },
    {
     "name": "stdout",
     "output_type": "stream",
     "text": [
      "loss for epoch 5000 --> 0.42348504066467285\n"
     ]
    },
    {
     "name": "stderr",
     "output_type": "stream",
     "text": [
      " 11%|█         | 5508/50000 [01:10<09:07, 81.20it/s]"
     ]
    },
    {
     "name": "stdout",
     "output_type": "stream",
     "text": [
      "loss for epoch 5500 --> 0.4642329812049866\n"
     ]
    },
    {
     "name": "stderr",
     "output_type": "stream",
     "text": [
      " 12%|█▏        | 6009/50000 [01:16<09:32, 76.83it/s]"
     ]
    },
    {
     "name": "stdout",
     "output_type": "stream",
     "text": [
      "loss for epoch 6000 --> 0.36869773268699646\n"
     ]
    },
    {
     "name": "stderr",
     "output_type": "stream",
     "text": [
      " 13%|█▎        | 6510/50000 [01:22<09:10, 79.07it/s]"
     ]
    },
    {
     "name": "stdout",
     "output_type": "stream",
     "text": [
      "loss for epoch 6500 --> 0.42418596148490906\n"
     ]
    },
    {
     "name": "stderr",
     "output_type": "stream",
     "text": [
      " 14%|█▍        | 7013/50000 [01:29<08:59, 79.61it/s]"
     ]
    },
    {
     "name": "stdout",
     "output_type": "stream",
     "text": [
      "loss for epoch 7000 --> 0.35383474826812744\n"
     ]
    },
    {
     "name": "stderr",
     "output_type": "stream",
     "text": [
      " 15%|█▌        | 7511/50000 [01:35<08:57, 79.09it/s]"
     ]
    },
    {
     "name": "stdout",
     "output_type": "stream",
     "text": [
      "loss for epoch 7500 --> 0.3812240958213806\n"
     ]
    },
    {
     "name": "stderr",
     "output_type": "stream",
     "text": [
      " 16%|█▌        | 8009/50000 [01:41<08:41, 80.54it/s]"
     ]
    },
    {
     "name": "stdout",
     "output_type": "stream",
     "text": [
      "loss for epoch 8000 --> 0.41986531019210815\n"
     ]
    },
    {
     "name": "stderr",
     "output_type": "stream",
     "text": [
      " 17%|█▋        | 8513/50000 [01:47<08:46, 78.75it/s]"
     ]
    },
    {
     "name": "stdout",
     "output_type": "stream",
     "text": [
      "loss for epoch 8500 --> 0.4621899724006653\n"
     ]
    },
    {
     "name": "stderr",
     "output_type": "stream",
     "text": [
      " 18%|█▊        | 9011/50000 [01:54<08:37, 79.24it/s]"
     ]
    },
    {
     "name": "stdout",
     "output_type": "stream",
     "text": [
      "loss for epoch 9000 --> 0.4164177179336548\n"
     ]
    },
    {
     "name": "stderr",
     "output_type": "stream",
     "text": [
      " 19%|█▉        | 9515/50000 [02:00<08:32, 78.97it/s]"
     ]
    },
    {
     "name": "stdout",
     "output_type": "stream",
     "text": [
      "loss for epoch 9500 --> 0.381691575050354\n"
     ]
    },
    {
     "name": "stderr",
     "output_type": "stream",
     "text": [
      " 20%|██        | 10013/50000 [02:07<08:29, 78.56it/s]"
     ]
    },
    {
     "name": "stdout",
     "output_type": "stream",
     "text": [
      "loss for epoch 10000 --> 0.35081619024276733\n"
     ]
    },
    {
     "name": "stderr",
     "output_type": "stream",
     "text": [
      " 21%|██        | 10512/50000 [02:13<08:23, 78.35it/s]"
     ]
    },
    {
     "name": "stdout",
     "output_type": "stream",
     "text": [
      "loss for epoch 10500 --> 0.3692455291748047\n"
     ]
    },
    {
     "name": "stderr",
     "output_type": "stream",
     "text": [
      " 22%|██▏       | 11010/50000 [02:20<08:23, 77.38it/s]"
     ]
    },
    {
     "name": "stdout",
     "output_type": "stream",
     "text": [
      "loss for epoch 11000 --> 0.3588925004005432\n"
     ]
    },
    {
     "name": "stderr",
     "output_type": "stream",
     "text": [
      " 23%|██▎       | 11515/50000 [02:26<08:23, 76.41it/s]"
     ]
    },
    {
     "name": "stdout",
     "output_type": "stream",
     "text": [
      "loss for epoch 11500 --> 0.3409411311149597\n"
     ]
    },
    {
     "name": "stderr",
     "output_type": "stream",
     "text": [
      " 24%|██▍       | 12011/50000 [02:33<07:58, 79.36it/s]"
     ]
    },
    {
     "name": "stdout",
     "output_type": "stream",
     "text": [
      "loss for epoch 12000 --> 0.3990427553653717\n"
     ]
    },
    {
     "name": "stderr",
     "output_type": "stream",
     "text": [
      " 25%|██▌       | 12512/50000 [02:39<07:58, 78.35it/s]"
     ]
    },
    {
     "name": "stdout",
     "output_type": "stream",
     "text": [
      "loss for epoch 12500 --> 0.3560618758201599\n"
     ]
    },
    {
     "name": "stderr",
     "output_type": "stream",
     "text": [
      " 26%|██▌       | 13008/50000 [02:45<07:53, 78.11it/s]"
     ]
    },
    {
     "name": "stdout",
     "output_type": "stream",
     "text": [
      "loss for epoch 13000 --> 0.3463370203971863\n"
     ]
    },
    {
     "name": "stderr",
     "output_type": "stream",
     "text": [
      " 27%|██▋       | 13515/50000 [02:52<07:36, 79.88it/s]"
     ]
    },
    {
     "name": "stdout",
     "output_type": "stream",
     "text": [
      "loss for epoch 13500 --> 0.3622052073478699\n"
     ]
    },
    {
     "name": "stderr",
     "output_type": "stream",
     "text": [
      " 28%|██▊       | 14011/50000 [02:58<07:41, 78.00it/s]"
     ]
    },
    {
     "name": "stdout",
     "output_type": "stream",
     "text": [
      "loss for epoch 14000 --> 0.37089425325393677\n"
     ]
    },
    {
     "name": "stderr",
     "output_type": "stream",
     "text": [
      " 29%|██▉       | 14513/50000 [03:05<07:23, 80.07it/s]"
     ]
    },
    {
     "name": "stdout",
     "output_type": "stream",
     "text": [
      "loss for epoch 14500 --> 0.28315824270248413\n"
     ]
    },
    {
     "name": "stderr",
     "output_type": "stream",
     "text": [
      " 30%|███       | 15016/50000 [03:11<07:17, 79.94it/s]"
     ]
    },
    {
     "name": "stdout",
     "output_type": "stream",
     "text": [
      "loss for epoch 15000 --> 0.3937946557998657\n"
     ]
    },
    {
     "name": "stderr",
     "output_type": "stream",
     "text": [
      " 31%|███       | 15511/50000 [03:17<07:09, 80.31it/s]"
     ]
    },
    {
     "name": "stdout",
     "output_type": "stream",
     "text": [
      "loss for epoch 15500 --> 0.32191377878189087\n"
     ]
    },
    {
     "name": "stderr",
     "output_type": "stream",
     "text": [
      " 32%|███▏      | 16016/50000 [03:23<07:06, 79.64it/s]"
     ]
    },
    {
     "name": "stdout",
     "output_type": "stream",
     "text": [
      "loss for epoch 16000 --> 0.37202125787734985\n"
     ]
    },
    {
     "name": "stderr",
     "output_type": "stream",
     "text": [
      " 33%|███▎      | 16515/50000 [03:30<07:04, 78.97it/s]"
     ]
    },
    {
     "name": "stdout",
     "output_type": "stream",
     "text": [
      "loss for epoch 16500 --> 0.29860398173332214\n"
     ]
    },
    {
     "name": "stderr",
     "output_type": "stream",
     "text": [
      " 34%|███▍      | 17014/50000 [03:36<07:04, 77.75it/s]"
     ]
    },
    {
     "name": "stdout",
     "output_type": "stream",
     "text": [
      "loss for epoch 17000 --> 0.3318324685096741\n"
     ]
    },
    {
     "name": "stderr",
     "output_type": "stream",
     "text": [
      " 35%|███▌      | 17511/50000 [03:43<06:45, 80.13it/s]"
     ]
    },
    {
     "name": "stdout",
     "output_type": "stream",
     "text": [
      "loss for epoch 17500 --> 0.3610391318798065\n"
     ]
    },
    {
     "name": "stderr",
     "output_type": "stream",
     "text": [
      " 36%|███▌      | 18012/50000 [03:49<06:35, 80.82it/s]"
     ]
    },
    {
     "name": "stdout",
     "output_type": "stream",
     "text": [
      "loss for epoch 18000 --> 0.31361332535743713\n"
     ]
    },
    {
     "name": "stderr",
     "output_type": "stream",
     "text": [
      " 37%|███▋      | 18509/50000 [03:55<06:32, 80.27it/s]"
     ]
    },
    {
     "name": "stdout",
     "output_type": "stream",
     "text": [
      "loss for epoch 18500 --> 0.291157066822052\n"
     ]
    },
    {
     "name": "stderr",
     "output_type": "stream",
     "text": [
      " 38%|███▊      | 19016/50000 [04:02<06:28, 79.85it/s]"
     ]
    },
    {
     "name": "stdout",
     "output_type": "stream",
     "text": [
      "loss for epoch 19000 --> 0.3562510907649994\n"
     ]
    },
    {
     "name": "stderr",
     "output_type": "stream",
     "text": [
      " 39%|███▉      | 19508/50000 [04:08<06:22, 79.71it/s]"
     ]
    },
    {
     "name": "stdout",
     "output_type": "stream",
     "text": [
      "loss for epoch 19500 --> 0.33754557371139526\n"
     ]
    },
    {
     "name": "stderr",
     "output_type": "stream",
     "text": [
      " 40%|████      | 20007/50000 [04:14<06:13, 80.32it/s]"
     ]
    },
    {
     "name": "stdout",
     "output_type": "stream",
     "text": [
      "loss for epoch 20000 --> 0.30474287271499634\n"
     ]
    },
    {
     "name": "stderr",
     "output_type": "stream",
     "text": [
      " 41%|████      | 20513/50000 [04:20<06:06, 80.51it/s]"
     ]
    },
    {
     "name": "stdout",
     "output_type": "stream",
     "text": [
      "loss for epoch 20500 --> 0.3006485104560852\n"
     ]
    },
    {
     "name": "stderr",
     "output_type": "stream",
     "text": [
      " 42%|████▏     | 21012/50000 [04:27<06:04, 79.63it/s]"
     ]
    },
    {
     "name": "stdout",
     "output_type": "stream",
     "text": [
      "loss for epoch 21000 --> 0.34812358021736145\n"
     ]
    },
    {
     "name": "stderr",
     "output_type": "stream",
     "text": [
      " 43%|████▎     | 21510/50000 [04:33<06:21, 74.70it/s]"
     ]
    },
    {
     "name": "stdout",
     "output_type": "stream",
     "text": [
      "loss for epoch 21500 --> 0.3227112591266632\n"
     ]
    },
    {
     "name": "stderr",
     "output_type": "stream",
     "text": [
      " 44%|████▍     | 22011/50000 [04:39<06:00, 77.58it/s]"
     ]
    },
    {
     "name": "stdout",
     "output_type": "stream",
     "text": [
      "loss for epoch 22000 --> 0.30521705746650696\n"
     ]
    },
    {
     "name": "stderr",
     "output_type": "stream",
     "text": [
      " 45%|████▌     | 22513/50000 [04:46<05:54, 77.54it/s]"
     ]
    },
    {
     "name": "stdout",
     "output_type": "stream",
     "text": [
      "loss for epoch 22500 --> 0.26205748319625854\n"
     ]
    },
    {
     "name": "stderr",
     "output_type": "stream",
     "text": [
      " 46%|████▌     | 23015/50000 [04:52<05:46, 77.97it/s]"
     ]
    },
    {
     "name": "stdout",
     "output_type": "stream",
     "text": [
      "loss for epoch 23000 --> 0.28931209444999695\n"
     ]
    },
    {
     "name": "stderr",
     "output_type": "stream",
     "text": [
      " 47%|████▋     | 23511/50000 [04:59<05:36, 78.66it/s]"
     ]
    },
    {
     "name": "stdout",
     "output_type": "stream",
     "text": [
      "loss for epoch 23500 --> 0.3186829686164856\n"
     ]
    },
    {
     "name": "stderr",
     "output_type": "stream",
     "text": [
      " 48%|████▊     | 24009/50000 [05:05<05:34, 77.75it/s]"
     ]
    },
    {
     "name": "stdout",
     "output_type": "stream",
     "text": [
      "loss for epoch 24000 --> 0.38783949613571167\n"
     ]
    },
    {
     "name": "stderr",
     "output_type": "stream",
     "text": [
      " 49%|████▉     | 24511/50000 [05:11<05:23, 78.88it/s]"
     ]
    },
    {
     "name": "stdout",
     "output_type": "stream",
     "text": [
      "loss for epoch 24500 --> 0.30028030276298523\n"
     ]
    },
    {
     "name": "stderr",
     "output_type": "stream",
     "text": [
      " 50%|█████     | 25012/50000 [05:18<05:20, 77.96it/s]"
     ]
    },
    {
     "name": "stdout",
     "output_type": "stream",
     "text": [
      "loss for epoch 25000 --> 0.2595749497413635\n"
     ]
    },
    {
     "name": "stderr",
     "output_type": "stream",
     "text": [
      " 51%|█████     | 25512/50000 [05:24<05:06, 79.80it/s]"
     ]
    },
    {
     "name": "stdout",
     "output_type": "stream",
     "text": [
      "loss for epoch 25500 --> 0.2616592347621918\n"
     ]
    },
    {
     "name": "stderr",
     "output_type": "stream",
     "text": [
      " 52%|█████▏    | 26006/50000 [05:31<05:54, 67.72it/s]"
     ]
    },
    {
     "name": "stdout",
     "output_type": "stream",
     "text": [
      "loss for epoch 26000 --> 0.23579175770282745\n"
     ]
    },
    {
     "name": "stderr",
     "output_type": "stream",
     "text": [
      " 53%|█████▎    | 26512/50000 [05:37<04:55, 79.37it/s]"
     ]
    },
    {
     "name": "stdout",
     "output_type": "stream",
     "text": [
      "loss for epoch 26500 --> 0.2657061517238617\n"
     ]
    },
    {
     "name": "stderr",
     "output_type": "stream",
     "text": [
      " 54%|█████▍    | 27014/50000 [05:44<05:03, 75.71it/s]"
     ]
    },
    {
     "name": "stdout",
     "output_type": "stream",
     "text": [
      "loss for epoch 27000 --> 0.23296794295310974\n"
     ]
    },
    {
     "name": "stderr",
     "output_type": "stream",
     "text": [
      " 55%|█████▌    | 27516/50000 [05:50<04:46, 78.61it/s]"
     ]
    },
    {
     "name": "stdout",
     "output_type": "stream",
     "text": [
      "loss for epoch 27500 --> 0.36504706740379333\n"
     ]
    },
    {
     "name": "stderr",
     "output_type": "stream",
     "text": [
      " 56%|█████▌    | 28008/50000 [05:56<04:39, 78.72it/s]"
     ]
    },
    {
     "name": "stdout",
     "output_type": "stream",
     "text": [
      "loss for epoch 28000 --> 0.26034653186798096\n"
     ]
    },
    {
     "name": "stderr",
     "output_type": "stream",
     "text": [
      " 57%|█████▋    | 28508/50000 [06:03<04:57, 72.21it/s]"
     ]
    },
    {
     "name": "stdout",
     "output_type": "stream",
     "text": [
      "loss for epoch 28500 --> 0.25797054171562195\n"
     ]
    },
    {
     "name": "stderr",
     "output_type": "stream",
     "text": [
      " 58%|█████▊    | 29011/50000 [06:09<04:22, 80.01it/s]"
     ]
    },
    {
     "name": "stdout",
     "output_type": "stream",
     "text": [
      "loss for epoch 29000 --> 0.27061253786087036\n"
     ]
    },
    {
     "name": "stderr",
     "output_type": "stream",
     "text": [
      " 59%|█████▉    | 29509/50000 [06:15<04:37, 73.82it/s]"
     ]
    },
    {
     "name": "stdout",
     "output_type": "stream",
     "text": [
      "loss for epoch 29500 --> 0.3024190366268158\n"
     ]
    },
    {
     "name": "stderr",
     "output_type": "stream",
     "text": [
      " 60%|██████    | 30011/50000 [06:22<04:23, 75.90it/s]"
     ]
    },
    {
     "name": "stdout",
     "output_type": "stream",
     "text": [
      "loss for epoch 30000 --> 0.26373130083084106\n"
     ]
    },
    {
     "name": "stderr",
     "output_type": "stream",
     "text": [
      " 61%|██████    | 30511/50000 [06:28<04:04, 79.61it/s]"
     ]
    },
    {
     "name": "stdout",
     "output_type": "stream",
     "text": [
      "loss for epoch 30500 --> 0.293998658657074\n"
     ]
    },
    {
     "name": "stderr",
     "output_type": "stream",
     "text": [
      " 62%|██████▏   | 31012/50000 [06:35<04:05, 77.41it/s]"
     ]
    },
    {
     "name": "stdout",
     "output_type": "stream",
     "text": [
      "loss for epoch 31000 --> 0.31099143624305725\n"
     ]
    },
    {
     "name": "stderr",
     "output_type": "stream",
     "text": [
      " 63%|██████▎   | 31513/50000 [06:41<03:50, 80.30it/s]"
     ]
    },
    {
     "name": "stdout",
     "output_type": "stream",
     "text": [
      "loss for epoch 31500 --> 0.25513365864753723\n"
     ]
    },
    {
     "name": "stderr",
     "output_type": "stream",
     "text": [
      " 64%|██████▍   | 32008/50000 [06:47<03:46, 79.51it/s]"
     ]
    },
    {
     "name": "stdout",
     "output_type": "stream",
     "text": [
      "loss for epoch 32000 --> 0.2805929183959961\n"
     ]
    },
    {
     "name": "stderr",
     "output_type": "stream",
     "text": [
      " 65%|██████▌   | 32512/50000 [06:53<03:39, 79.75it/s]"
     ]
    },
    {
     "name": "stdout",
     "output_type": "stream",
     "text": [
      "loss for epoch 32500 --> 0.30249613523483276\n"
     ]
    },
    {
     "name": "stderr",
     "output_type": "stream",
     "text": [
      " 66%|██████▌   | 33012/50000 [07:00<03:30, 80.54it/s]"
     ]
    },
    {
     "name": "stdout",
     "output_type": "stream",
     "text": [
      "loss for epoch 33000 --> 0.1875525712966919\n"
     ]
    },
    {
     "name": "stderr",
     "output_type": "stream",
     "text": [
      " 67%|██████▋   | 33514/50000 [07:06<03:51, 71.35it/s]"
     ]
    },
    {
     "name": "stdout",
     "output_type": "stream",
     "text": [
      "loss for epoch 33500 --> 0.3012000024318695\n"
     ]
    },
    {
     "name": "stderr",
     "output_type": "stream",
     "text": [
      " 68%|██████▊   | 34010/50000 [07:12<03:18, 80.45it/s]"
     ]
    },
    {
     "name": "stdout",
     "output_type": "stream",
     "text": [
      "loss for epoch 34000 --> 0.2738907039165497\n"
     ]
    },
    {
     "name": "stderr",
     "output_type": "stream",
     "text": [
      " 69%|██████▉   | 34512/50000 [07:19<03:10, 81.17it/s]"
     ]
    },
    {
     "name": "stdout",
     "output_type": "stream",
     "text": [
      "loss for epoch 34500 --> 0.2612338960170746\n"
     ]
    },
    {
     "name": "stderr",
     "output_type": "stream",
     "text": [
      " 70%|███████   | 35012/50000 [07:25<03:05, 80.83it/s]"
     ]
    },
    {
     "name": "stdout",
     "output_type": "stream",
     "text": [
      "loss for epoch 35000 --> 0.2042948305606842\n"
     ]
    },
    {
     "name": "stderr",
     "output_type": "stream",
     "text": [
      " 71%|███████   | 35514/50000 [07:31<02:59, 80.82it/s]"
     ]
    },
    {
     "name": "stdout",
     "output_type": "stream",
     "text": [
      "loss for epoch 35500 --> 0.2673605680465698\n"
     ]
    },
    {
     "name": "stderr",
     "output_type": "stream",
     "text": [
      " 72%|███████▏  | 36008/50000 [07:38<03:18, 70.37it/s]"
     ]
    },
    {
     "name": "stdout",
     "output_type": "stream",
     "text": [
      "loss for epoch 36000 --> 0.25838667154312134\n"
     ]
    },
    {
     "name": "stderr",
     "output_type": "stream",
     "text": [
      " 73%|███████▎  | 36510/50000 [07:44<02:50, 79.08it/s]"
     ]
    },
    {
     "name": "stdout",
     "output_type": "stream",
     "text": [
      "loss for epoch 36500 --> 0.26103174686431885\n"
     ]
    },
    {
     "name": "stderr",
     "output_type": "stream",
     "text": [
      " 74%|███████▍  | 37010/50000 [07:50<02:43, 79.34it/s]"
     ]
    },
    {
     "name": "stdout",
     "output_type": "stream",
     "text": [
      "loss for epoch 37000 --> 0.24567124247550964\n"
     ]
    },
    {
     "name": "stderr",
     "output_type": "stream",
     "text": [
      " 75%|███████▌  | 37509/50000 [07:57<02:37, 79.32it/s]"
     ]
    },
    {
     "name": "stdout",
     "output_type": "stream",
     "text": [
      "loss for epoch 37500 --> 0.24181988835334778\n"
     ]
    },
    {
     "name": "stderr",
     "output_type": "stream",
     "text": [
      " 76%|███████▌  | 38009/50000 [08:03<02:30, 79.58it/s]"
     ]
    },
    {
     "name": "stdout",
     "output_type": "stream",
     "text": [
      "loss for epoch 38000 --> 0.24906399846076965\n"
     ]
    },
    {
     "name": "stderr",
     "output_type": "stream",
     "text": [
      " 77%|███████▋  | 38513/50000 [08:09<02:29, 76.88it/s]"
     ]
    },
    {
     "name": "stdout",
     "output_type": "stream",
     "text": [
      "loss for epoch 38500 --> 0.20982050895690918\n"
     ]
    },
    {
     "name": "stderr",
     "output_type": "stream",
     "text": [
      " 78%|███████▊  | 39015/50000 [08:16<02:23, 76.44it/s]"
     ]
    },
    {
     "name": "stdout",
     "output_type": "stream",
     "text": [
      "loss for epoch 39000 --> 0.27641385793685913\n"
     ]
    },
    {
     "name": "stderr",
     "output_type": "stream",
     "text": [
      " 79%|███████▉  | 39512/50000 [08:22<02:12, 79.25it/s]"
     ]
    },
    {
     "name": "stdout",
     "output_type": "stream",
     "text": [
      "loss for epoch 39500 --> 0.25701916217803955\n"
     ]
    },
    {
     "name": "stderr",
     "output_type": "stream",
     "text": [
      " 80%|████████  | 40015/50000 [08:28<02:05, 79.72it/s]"
     ]
    },
    {
     "name": "stdout",
     "output_type": "stream",
     "text": [
      "loss for epoch 40000 --> 0.2203224152326584\n"
     ]
    },
    {
     "name": "stderr",
     "output_type": "stream",
     "text": [
      " 81%|████████  | 40514/50000 [08:35<01:57, 81.04it/s]"
     ]
    },
    {
     "name": "stdout",
     "output_type": "stream",
     "text": [
      "loss for epoch 40500 --> 0.2734355926513672\n"
     ]
    },
    {
     "name": "stderr",
     "output_type": "stream",
     "text": [
      " 82%|████████▏ | 41012/50000 [08:41<02:13, 67.28it/s]"
     ]
    },
    {
     "name": "stdout",
     "output_type": "stream",
     "text": [
      "loss for epoch 41000 --> 0.2193109095096588\n"
     ]
    },
    {
     "name": "stderr",
     "output_type": "stream",
     "text": [
      " 83%|████████▎ | 41511/50000 [08:47<01:44, 81.01it/s]"
     ]
    },
    {
     "name": "stdout",
     "output_type": "stream",
     "text": [
      "loss for epoch 41500 --> 0.2166740596294403\n"
     ]
    },
    {
     "name": "stderr",
     "output_type": "stream",
     "text": [
      " 84%|████████▍ | 42012/50000 [08:53<01:39, 80.42it/s]"
     ]
    },
    {
     "name": "stdout",
     "output_type": "stream",
     "text": [
      "loss for epoch 42000 --> 0.2909904420375824\n"
     ]
    },
    {
     "name": "stderr",
     "output_type": "stream",
     "text": [
      " 85%|████████▌ | 42508/50000 [09:00<01:33, 79.71it/s]"
     ]
    },
    {
     "name": "stdout",
     "output_type": "stream",
     "text": [
      "loss for epoch 42500 --> 0.2632981538772583\n"
     ]
    },
    {
     "name": "stderr",
     "output_type": "stream",
     "text": [
      " 86%|████████▌ | 43016/50000 [09:06<01:28, 79.36it/s]"
     ]
    },
    {
     "name": "stdout",
     "output_type": "stream",
     "text": [
      "loss for epoch 43000 --> 0.27546167373657227\n"
     ]
    },
    {
     "name": "stderr",
     "output_type": "stream",
     "text": [
      " 87%|████████▋ | 43508/50000 [09:12<01:28, 73.03it/s]"
     ]
    },
    {
     "name": "stdout",
     "output_type": "stream",
     "text": [
      "loss for epoch 43500 --> 0.2761370837688446\n"
     ]
    },
    {
     "name": "stderr",
     "output_type": "stream",
     "text": [
      " 88%|████████▊ | 44014/50000 [09:19<01:14, 79.86it/s]"
     ]
    },
    {
     "name": "stdout",
     "output_type": "stream",
     "text": [
      "loss for epoch 44000 --> 0.2697339653968811\n"
     ]
    },
    {
     "name": "stderr",
     "output_type": "stream",
     "text": [
      " 89%|████████▉ | 44513/50000 [09:25<01:09, 78.66it/s]"
     ]
    },
    {
     "name": "stdout",
     "output_type": "stream",
     "text": [
      "loss for epoch 44500 --> 0.2052796483039856\n"
     ]
    },
    {
     "name": "stderr",
     "output_type": "stream",
     "text": [
      " 90%|█████████ | 45016/50000 [09:31<01:02, 80.03it/s]"
     ]
    },
    {
     "name": "stdout",
     "output_type": "stream",
     "text": [
      "loss for epoch 45000 --> 0.2798031270503998\n"
     ]
    },
    {
     "name": "stderr",
     "output_type": "stream",
     "text": [
      " 91%|█████████ | 45515/50000 [09:38<00:56, 79.68it/s]"
     ]
    },
    {
     "name": "stdout",
     "output_type": "stream",
     "text": [
      "loss for epoch 45500 --> 0.2523086667060852\n"
     ]
    },
    {
     "name": "stderr",
     "output_type": "stream",
     "text": [
      " 92%|█████████▏| 46015/50000 [09:44<00:52, 75.37it/s]"
     ]
    },
    {
     "name": "stdout",
     "output_type": "stream",
     "text": [
      "loss for epoch 46000 --> 0.2537824511528015\n"
     ]
    },
    {
     "name": "stderr",
     "output_type": "stream",
     "text": [
      " 93%|█████████▎| 46515/50000 [09:50<00:43, 80.32it/s]"
     ]
    },
    {
     "name": "stdout",
     "output_type": "stream",
     "text": [
      "loss for epoch 46500 --> 0.23976296186447144\n"
     ]
    },
    {
     "name": "stderr",
     "output_type": "stream",
     "text": [
      " 94%|█████████▍| 47014/50000 [09:57<00:37, 79.43it/s]"
     ]
    },
    {
     "name": "stdout",
     "output_type": "stream",
     "text": [
      "loss for epoch 47000 --> 0.1867971271276474\n"
     ]
    },
    {
     "name": "stderr",
     "output_type": "stream",
     "text": [
      " 95%|█████████▌| 47508/50000 [10:03<00:31, 79.58it/s]"
     ]
    },
    {
     "name": "stdout",
     "output_type": "stream",
     "text": [
      "loss for epoch 47500 --> 0.2548079490661621\n"
     ]
    },
    {
     "name": "stderr",
     "output_type": "stream",
     "text": [
      " 96%|█████████▌| 48010/50000 [10:09<00:24, 80.22it/s]"
     ]
    },
    {
     "name": "stdout",
     "output_type": "stream",
     "text": [
      "loss for epoch 48000 --> 0.24469545483589172\n"
     ]
    },
    {
     "name": "stderr",
     "output_type": "stream",
     "text": [
      " 97%|█████████▋| 48510/50000 [10:16<00:21, 68.84it/s]"
     ]
    },
    {
     "name": "stdout",
     "output_type": "stream",
     "text": [
      "loss for epoch 48500 --> 0.2290773093700409\n"
     ]
    },
    {
     "name": "stderr",
     "output_type": "stream",
     "text": [
      " 98%|█████████▊| 49016/50000 [10:22<00:12, 79.93it/s]"
     ]
    },
    {
     "name": "stdout",
     "output_type": "stream",
     "text": [
      "loss for epoch 49000 --> 0.22499428689479828\n"
     ]
    },
    {
     "name": "stderr",
     "output_type": "stream",
     "text": [
      " 99%|█████████▉| 49511/50000 [10:28<00:06, 76.84it/s]"
     ]
    },
    {
     "name": "stdout",
     "output_type": "stream",
     "text": [
      "loss for epoch 49500 --> 0.2756706476211548\n"
     ]
    },
    {
     "name": "stderr",
     "output_type": "stream",
     "text": [
      "100%|██████████| 50000/50000 [10:35<00:00, 78.73it/s]"
     ]
    },
    {
     "name": "stdout",
     "output_type": "stream",
     "text": [
      "loss for epoch 50000 --> 0.20731136202812195\n"
     ]
    },
    {
     "name": "stderr",
     "output_type": "stream",
     "text": [
      "\n"
     ]
    }
   ],
   "source": [
    "optimizer = torch.optim.AdamW(params=model.parameters(), lr=1e-4)\n",
    "#scheduler = torch.optim.lr_scheduler.StepLR(optimizer, step_size=5, gamma=0.05)\n",
    "loss_fn = nn.BCEWithLogitsLoss()\n",
    "\n",
    "epochs = 50000\n",
    "train_model(model=model, data=train_dataset, batch_size=256, loss_fn=loss_fn, optimizer=optimizer, epochs=epochs)"
   ]
  },
  {
   "cell_type": "code",
   "execution_count": 20,
   "id": "2f8f53d9",
   "metadata": {
    "execution": {
     "iopub.execute_input": "2024-07-13T18:54:03.998226Z",
     "iopub.status.busy": "2024-07-13T18:54:03.997357Z",
     "iopub.status.idle": "2024-07-13T18:56:11.937969Z",
     "shell.execute_reply": "2024-07-13T18:56:11.936873Z"
    },
    "papermill": {
     "duration": 128.437224,
     "end_time": "2024-07-13T18:56:11.940484",
     "exception": false,
     "start_time": "2024-07-13T18:54:03.503260",
     "status": "completed"
    },
    "tags": []
   },
   "outputs": [
    {
     "name": "stderr",
     "output_type": "stream",
     "text": [
      "  5%|▌         | 514/10000 [00:06<02:02, 77.58it/s]"
     ]
    },
    {
     "name": "stdout",
     "output_type": "stream",
     "text": [
      "loss for epoch 500 --> 0.23674288392066956\n"
     ]
    },
    {
     "name": "stderr",
     "output_type": "stream",
     "text": [
      " 10%|█         | 1013/10000 [00:13<01:54, 78.74it/s]"
     ]
    },
    {
     "name": "stdout",
     "output_type": "stream",
     "text": [
      "loss for epoch 1000 --> 0.24446246027946472\n"
     ]
    },
    {
     "name": "stderr",
     "output_type": "stream",
     "text": [
      " 15%|█▌        | 1511/10000 [00:19<01:46, 79.35it/s]"
     ]
    },
    {
     "name": "stdout",
     "output_type": "stream",
     "text": [
      "loss for epoch 1500 --> 0.25813308358192444\n"
     ]
    },
    {
     "name": "stderr",
     "output_type": "stream",
     "text": [
      " 20%|██        | 2011/10000 [00:25<01:39, 80.15it/s]"
     ]
    },
    {
     "name": "stdout",
     "output_type": "stream",
     "text": [
      "loss for epoch 2000 --> 0.20686575770378113\n"
     ]
    },
    {
     "name": "stderr",
     "output_type": "stream",
     "text": [
      " 25%|██▌       | 2514/10000 [00:32<01:34, 79.31it/s]"
     ]
    },
    {
     "name": "stdout",
     "output_type": "stream",
     "text": [
      "loss for epoch 2500 --> 0.19284352660179138\n"
     ]
    },
    {
     "name": "stderr",
     "output_type": "stream",
     "text": [
      " 30%|███       | 3011/10000 [00:38<01:31, 76.20it/s]"
     ]
    },
    {
     "name": "stdout",
     "output_type": "stream",
     "text": [
      "loss for epoch 3000 --> 0.24203208088874817\n"
     ]
    },
    {
     "name": "stderr",
     "output_type": "stream",
     "text": [
      " 35%|███▌      | 3514/10000 [00:44<01:20, 80.49it/s]"
     ]
    },
    {
     "name": "stdout",
     "output_type": "stream",
     "text": [
      "loss for epoch 3500 --> 0.22178901731967926\n"
     ]
    },
    {
     "name": "stderr",
     "output_type": "stream",
     "text": [
      " 40%|████      | 4009/10000 [00:51<01:14, 80.15it/s]"
     ]
    },
    {
     "name": "stdout",
     "output_type": "stream",
     "text": [
      "loss for epoch 4000 --> 0.2251547873020172\n"
     ]
    },
    {
     "name": "stderr",
     "output_type": "stream",
     "text": [
      " 45%|████▌     | 4514/10000 [00:57<01:09, 79.45it/s]"
     ]
    },
    {
     "name": "stdout",
     "output_type": "stream",
     "text": [
      "loss for epoch 4500 --> 0.17997810244560242\n"
     ]
    },
    {
     "name": "stderr",
     "output_type": "stream",
     "text": [
      " 50%|█████     | 5008/10000 [01:03<01:03, 79.01it/s]"
     ]
    },
    {
     "name": "stdout",
     "output_type": "stream",
     "text": [
      "loss for epoch 5000 --> 0.19915089011192322\n"
     ]
    },
    {
     "name": "stderr",
     "output_type": "stream",
     "text": [
      " 55%|█████▌    | 5509/10000 [01:10<00:59, 75.26it/s]"
     ]
    },
    {
     "name": "stdout",
     "output_type": "stream",
     "text": [
      "loss for epoch 5500 --> 0.23449286818504333\n"
     ]
    },
    {
     "name": "stderr",
     "output_type": "stream",
     "text": [
      " 60%|██████    | 6012/10000 [01:16<00:50, 78.97it/s]"
     ]
    },
    {
     "name": "stdout",
     "output_type": "stream",
     "text": [
      "loss for epoch 6000 --> 0.19690066576004028\n"
     ]
    },
    {
     "name": "stderr",
     "output_type": "stream",
     "text": [
      " 65%|██████▌   | 6512/10000 [01:23<00:45, 76.76it/s]"
     ]
    },
    {
     "name": "stdout",
     "output_type": "stream",
     "text": [
      "loss for epoch 6500 --> 0.22382418811321259\n"
     ]
    },
    {
     "name": "stderr",
     "output_type": "stream",
     "text": [
      " 70%|███████   | 7008/10000 [01:29<00:38, 77.34it/s]"
     ]
    },
    {
     "name": "stdout",
     "output_type": "stream",
     "text": [
      "loss for epoch 7000 --> 0.2553333342075348\n"
     ]
    },
    {
     "name": "stderr",
     "output_type": "stream",
     "text": [
      " 75%|███████▌  | 7510/10000 [01:35<00:31, 79.57it/s]"
     ]
    },
    {
     "name": "stdout",
     "output_type": "stream",
     "text": [
      "loss for epoch 7500 --> 0.23250369727611542\n"
     ]
    },
    {
     "name": "stderr",
     "output_type": "stream",
     "text": [
      " 80%|████████  | 8013/10000 [01:42<00:24, 79.76it/s]"
     ]
    },
    {
     "name": "stdout",
     "output_type": "stream",
     "text": [
      "loss for epoch 8000 --> 0.2111835777759552\n"
     ]
    },
    {
     "name": "stderr",
     "output_type": "stream",
     "text": [
      " 85%|████████▌ | 8513/10000 [01:48<00:18, 78.45it/s]"
     ]
    },
    {
     "name": "stdout",
     "output_type": "stream",
     "text": [
      "loss for epoch 8500 --> 0.20578208565711975\n"
     ]
    },
    {
     "name": "stderr",
     "output_type": "stream",
     "text": [
      " 90%|█████████ | 9011/10000 [01:55<00:12, 78.38it/s]"
     ]
    },
    {
     "name": "stdout",
     "output_type": "stream",
     "text": [
      "loss for epoch 9000 --> 0.19438692927360535\n"
     ]
    },
    {
     "name": "stderr",
     "output_type": "stream",
     "text": [
      " 95%|█████████▌| 9515/10000 [02:01<00:06, 76.85it/s]"
     ]
    },
    {
     "name": "stdout",
     "output_type": "stream",
     "text": [
      "loss for epoch 9500 --> 0.22048011422157288\n"
     ]
    },
    {
     "name": "stderr",
     "output_type": "stream",
     "text": [
      "100%|██████████| 10000/10000 [02:07<00:00, 78.17it/s]"
     ]
    },
    {
     "name": "stdout",
     "output_type": "stream",
     "text": [
      "loss for epoch 10000 --> 0.1980825960636139\n"
     ]
    },
    {
     "name": "stderr",
     "output_type": "stream",
     "text": [
      "\n"
     ]
    }
   ],
   "source": [
    "optimizer = torch.optim.AdamW(params=model.parameters(), lr=1e-5)\n",
    "#scheduler = torch.optim.lr_scheduler.StepLR(optimizer, step_size=5, gamma=0.05)\n",
    "loss_fn = nn.BCEWithLogitsLoss()\n",
    "\n",
    "epochs = 10000\n",
    "train_model(model=model, data=train_dataset, batch_size=256, loss_fn=loss_fn, optimizer=optimizer, epochs=epochs)"
   ]
  },
  {
   "cell_type": "code",
   "execution_count": 21,
   "id": "8dd60917",
   "metadata": {
    "execution": {
     "iopub.execute_input": "2024-07-13T18:56:13.148869Z",
     "iopub.status.busy": "2024-07-13T18:56:13.147976Z",
     "iopub.status.idle": "2024-07-13T18:56:13.169440Z",
     "shell.execute_reply": "2024-07-13T18:56:13.168496Z"
    },
    "papermill": {
     "duration": 0.657692,
     "end_time": "2024-07-13T18:56:13.171376",
     "exception": false,
     "start_time": "2024-07-13T18:56:12.513684",
     "status": "completed"
    },
    "tags": []
   },
   "outputs": [
    {
     "name": "stdout",
     "output_type": "stream",
     "text": [
      "Pclass unique values --> [3 2 1]\n",
      "Sex unique values --> ['male' 'female']\n",
      "null value found in the column Age; totaling 86 null entries; 20.574162679425836%\n",
      "SibSp unique values --> [0 1 2 3 4 5 8]\n",
      "Parch unique values --> [0 1 3 2 4 6 5 9]\n",
      "null value found in the column Fare; totaling 1 null entries; 0.23923444976076555%\n",
      "Embarked unique values --> ['Q' 'S' 'C']\n"
     ]
    },
    {
     "data": {
      "text/plain": [
       "PassengerId    418\n",
       "Pclass         418\n",
       "Sex            418\n",
       "Age            332\n",
       "SibSp          418\n",
       "Parch          418\n",
       "Fare           417\n",
       "Embarked       418\n",
       "dtype: int64"
      ]
     },
     "execution_count": 21,
     "metadata": {},
     "output_type": "execute_result"
    }
   ],
   "source": [
    "test_dataset = pd.read_csv(\"/kaggle/input/titanic/test.csv\")\n",
    "test_dataset.drop(columns=[\"Name\", \"Cabin\", \"Ticket\"], inplace=True)\n",
    "check_data(data=test_dataset, clean=False)\n",
    "test_dataset.count()"
   ]
  },
  {
   "cell_type": "code",
   "execution_count": 22,
   "id": "a63fe88a",
   "metadata": {
    "execution": {
     "iopub.execute_input": "2024-07-13T18:56:14.360856Z",
     "iopub.status.busy": "2024-07-13T18:56:14.360524Z",
     "iopub.status.idle": "2024-07-13T18:56:14.379862Z",
     "shell.execute_reply": "2024-07-13T18:56:14.378774Z"
    },
    "papermill": {
     "duration": 0.618243,
     "end_time": "2024-07-13T18:56:14.381987",
     "exception": false,
     "start_time": "2024-07-13T18:56:13.763744",
     "status": "completed"
    },
    "tags": []
   },
   "outputs": [
    {
     "name": "stdout",
     "output_type": "stream",
     "text": [
      "Pclass unique values --> [3 2 1]\n",
      "Sex unique values --> ['male' 'female']\n",
      "null value found in the column Age; totaling 86 null entries; 20.574162679425836%\n",
      "SibSp unique values --> [0 1 2 3 4 5 8]\n",
      "Parch unique values --> [0 1 3 2 4 6 5 9]\n",
      "Embarked unique values --> ['Q' 'S' 'C']\n"
     ]
    },
    {
     "data": {
      "text/html": [
       "<div>\n",
       "<style scoped>\n",
       "    .dataframe tbody tr th:only-of-type {\n",
       "        vertical-align: middle;\n",
       "    }\n",
       "\n",
       "    .dataframe tbody tr th {\n",
       "        vertical-align: top;\n",
       "    }\n",
       "\n",
       "    .dataframe thead th {\n",
       "        text-align: right;\n",
       "    }\n",
       "</style>\n",
       "<table border=\"1\" class=\"dataframe\">\n",
       "  <thead>\n",
       "    <tr style=\"text-align: right;\">\n",
       "      <th></th>\n",
       "      <th>PassengerId</th>\n",
       "      <th>Pclass</th>\n",
       "      <th>Sex</th>\n",
       "      <th>Age</th>\n",
       "      <th>SibSp</th>\n",
       "      <th>Parch</th>\n",
       "      <th>Fare</th>\n",
       "      <th>Embarked</th>\n",
       "    </tr>\n",
       "  </thead>\n",
       "  <tbody>\n",
       "    <tr>\n",
       "      <th>0</th>\n",
       "      <td>892</td>\n",
       "      <td>3</td>\n",
       "      <td>male</td>\n",
       "      <td>34.5</td>\n",
       "      <td>0</td>\n",
       "      <td>0</td>\n",
       "      <td>7.8292</td>\n",
       "      <td>Q</td>\n",
       "    </tr>\n",
       "    <tr>\n",
       "      <th>1</th>\n",
       "      <td>893</td>\n",
       "      <td>3</td>\n",
       "      <td>female</td>\n",
       "      <td>47.0</td>\n",
       "      <td>1</td>\n",
       "      <td>0</td>\n",
       "      <td>7.0000</td>\n",
       "      <td>S</td>\n",
       "    </tr>\n",
       "    <tr>\n",
       "      <th>2</th>\n",
       "      <td>894</td>\n",
       "      <td>2</td>\n",
       "      <td>male</td>\n",
       "      <td>62.0</td>\n",
       "      <td>0</td>\n",
       "      <td>0</td>\n",
       "      <td>9.6875</td>\n",
       "      <td>Q</td>\n",
       "    </tr>\n",
       "    <tr>\n",
       "      <th>3</th>\n",
       "      <td>895</td>\n",
       "      <td>3</td>\n",
       "      <td>male</td>\n",
       "      <td>27.0</td>\n",
       "      <td>0</td>\n",
       "      <td>0</td>\n",
       "      <td>8.6625</td>\n",
       "      <td>S</td>\n",
       "    </tr>\n",
       "    <tr>\n",
       "      <th>4</th>\n",
       "      <td>896</td>\n",
       "      <td>3</td>\n",
       "      <td>female</td>\n",
       "      <td>22.0</td>\n",
       "      <td>1</td>\n",
       "      <td>1</td>\n",
       "      <td>12.2875</td>\n",
       "      <td>S</td>\n",
       "    </tr>\n",
       "    <tr>\n",
       "      <th>...</th>\n",
       "      <td>...</td>\n",
       "      <td>...</td>\n",
       "      <td>...</td>\n",
       "      <td>...</td>\n",
       "      <td>...</td>\n",
       "      <td>...</td>\n",
       "      <td>...</td>\n",
       "      <td>...</td>\n",
       "    </tr>\n",
       "    <tr>\n",
       "      <th>413</th>\n",
       "      <td>1305</td>\n",
       "      <td>3</td>\n",
       "      <td>male</td>\n",
       "      <td>NaN</td>\n",
       "      <td>0</td>\n",
       "      <td>0</td>\n",
       "      <td>8.0500</td>\n",
       "      <td>S</td>\n",
       "    </tr>\n",
       "    <tr>\n",
       "      <th>414</th>\n",
       "      <td>1306</td>\n",
       "      <td>1</td>\n",
       "      <td>female</td>\n",
       "      <td>39.0</td>\n",
       "      <td>0</td>\n",
       "      <td>0</td>\n",
       "      <td>108.9000</td>\n",
       "      <td>C</td>\n",
       "    </tr>\n",
       "    <tr>\n",
       "      <th>415</th>\n",
       "      <td>1307</td>\n",
       "      <td>3</td>\n",
       "      <td>male</td>\n",
       "      <td>38.5</td>\n",
       "      <td>0</td>\n",
       "      <td>0</td>\n",
       "      <td>7.2500</td>\n",
       "      <td>S</td>\n",
       "    </tr>\n",
       "    <tr>\n",
       "      <th>416</th>\n",
       "      <td>1308</td>\n",
       "      <td>3</td>\n",
       "      <td>male</td>\n",
       "      <td>NaN</td>\n",
       "      <td>0</td>\n",
       "      <td>0</td>\n",
       "      <td>8.0500</td>\n",
       "      <td>S</td>\n",
       "    </tr>\n",
       "    <tr>\n",
       "      <th>417</th>\n",
       "      <td>1309</td>\n",
       "      <td>3</td>\n",
       "      <td>male</td>\n",
       "      <td>NaN</td>\n",
       "      <td>1</td>\n",
       "      <td>1</td>\n",
       "      <td>22.3583</td>\n",
       "      <td>C</td>\n",
       "    </tr>\n",
       "  </tbody>\n",
       "</table>\n",
       "<p>418 rows × 8 columns</p>\n",
       "</div>"
      ],
      "text/plain": [
       "     PassengerId  Pclass     Sex   Age  SibSp  Parch      Fare Embarked\n",
       "0            892       3    male  34.5      0      0    7.8292        Q\n",
       "1            893       3  female  47.0      1      0    7.0000        S\n",
       "2            894       2    male  62.0      0      0    9.6875        Q\n",
       "3            895       3    male  27.0      0      0    8.6625        S\n",
       "4            896       3  female  22.0      1      1   12.2875        S\n",
       "..           ...     ...     ...   ...    ...    ...       ...      ...\n",
       "413         1305       3    male   NaN      0      0    8.0500        S\n",
       "414         1306       1  female  39.0      0      0  108.9000        C\n",
       "415         1307       3    male  38.5      0      0    7.2500        S\n",
       "416         1308       3    male   NaN      0      0    8.0500        S\n",
       "417         1309       3    male   NaN      1      1   22.3583        C\n",
       "\n",
       "[418 rows x 8 columns]"
      ]
     },
     "execution_count": 22,
     "metadata": {},
     "output_type": "execute_result"
    }
   ],
   "source": [
    "median_fare = test_dataset[\"Fare\"].median()\n",
    "test_dataset.fillna({\"Fare\": median_fare}, inplace=True)\n",
    "check_data(data=test_dataset, clean=False)\n",
    "test_dataset"
   ]
  },
  {
   "cell_type": "code",
   "execution_count": 23,
   "id": "748b47a4",
   "metadata": {
    "execution": {
     "iopub.execute_input": "2024-07-13T18:56:15.585977Z",
     "iopub.status.busy": "2024-07-13T18:56:15.584956Z",
     "iopub.status.idle": "2024-07-13T18:56:15.598569Z",
     "shell.execute_reply": "2024-07-13T18:56:15.597519Z"
    },
    "papermill": {
     "duration": 0.643686,
     "end_time": "2024-07-13T18:56:15.600825",
     "exception": false,
     "start_time": "2024-07-13T18:56:14.957139",
     "status": "completed"
    },
    "tags": []
   },
   "outputs": [
    {
     "name": "stdout",
     "output_type": "stream",
     "text": [
      "Pclass unique values --> [3 2 1]\n",
      "Sex unique values --> [0 1]\n",
      "SibSp unique values --> [0 1 2 3 4 5 8]\n",
      "Parch unique values --> [0 1 3 2 4 6 5 9]\n",
      "Embarked unique values --> [2 0 1]\n"
     ]
    }
   ],
   "source": [
    "median_age = train_dataset[\"Age\"].median()\n",
    "test_dataset.fillna({\"Age\": median_age}, inplace=True)\n",
    "\n",
    "test_dataset[\"Sex\"] = test_dataset[\"Sex\"].map(sex_mapping)\n",
    "test_dataset[\"Embarked\"] = test_dataset[\"Embarked\"].map(embarked_mapping)\n",
    "\n",
    "check_data(data=test_dataset, clean=False)"
   ]
  },
  {
   "cell_type": "code",
   "execution_count": 24,
   "id": "a2dc795b",
   "metadata": {
    "execution": {
     "iopub.execute_input": "2024-07-13T18:56:16.751932Z",
     "iopub.status.busy": "2024-07-13T18:56:16.751585Z",
     "iopub.status.idle": "2024-07-13T18:56:16.759382Z",
     "shell.execute_reply": "2024-07-13T18:56:16.758504Z"
    },
    "papermill": {
     "duration": 0.589186,
     "end_time": "2024-07-13T18:56:16.761383",
     "exception": false,
     "start_time": "2024-07-13T18:56:16.172197",
     "status": "completed"
    },
    "tags": []
   },
   "outputs": [
    {
     "data": {
      "text/plain": [
       "PassengerId    418\n",
       "Pclass         418\n",
       "Sex            418\n",
       "Age            418\n",
       "SibSp          418\n",
       "Parch          418\n",
       "Fare           418\n",
       "Embarked       418\n",
       "dtype: int64"
      ]
     },
     "execution_count": 24,
     "metadata": {},
     "output_type": "execute_result"
    }
   ],
   "source": [
    "test_dataset.count()"
   ]
  },
  {
   "cell_type": "code",
   "execution_count": 25,
   "id": "a4bc1407",
   "metadata": {
    "execution": {
     "iopub.execute_input": "2024-07-13T18:56:17.978556Z",
     "iopub.status.busy": "2024-07-13T18:56:17.978089Z",
     "iopub.status.idle": "2024-07-13T18:56:17.993177Z",
     "shell.execute_reply": "2024-07-13T18:56:17.992243Z"
    },
    "papermill": {
     "duration": 0.593606,
     "end_time": "2024-07-13T18:56:17.995154",
     "exception": false,
     "start_time": "2024-07-13T18:56:17.401548",
     "status": "completed"
    },
    "tags": []
   },
   "outputs": [
    {
     "data": {
      "text/html": [
       "<div>\n",
       "<style scoped>\n",
       "    .dataframe tbody tr th:only-of-type {\n",
       "        vertical-align: middle;\n",
       "    }\n",
       "\n",
       "    .dataframe tbody tr th {\n",
       "        vertical-align: top;\n",
       "    }\n",
       "\n",
       "    .dataframe thead th {\n",
       "        text-align: right;\n",
       "    }\n",
       "</style>\n",
       "<table border=\"1\" class=\"dataframe\">\n",
       "  <thead>\n",
       "    <tr style=\"text-align: right;\">\n",
       "      <th></th>\n",
       "      <th>PassengerId</th>\n",
       "      <th>Pclass</th>\n",
       "      <th>Sex</th>\n",
       "      <th>Age</th>\n",
       "      <th>SibSp</th>\n",
       "      <th>Parch</th>\n",
       "      <th>Fare</th>\n",
       "      <th>Embarked</th>\n",
       "    </tr>\n",
       "  </thead>\n",
       "  <tbody>\n",
       "    <tr>\n",
       "      <th>348</th>\n",
       "      <td>1240</td>\n",
       "      <td>2</td>\n",
       "      <td>0</td>\n",
       "      <td>24.0</td>\n",
       "      <td>0</td>\n",
       "      <td>0</td>\n",
       "      <td>13.5</td>\n",
       "      <td>0</td>\n",
       "    </tr>\n",
       "    <tr>\n",
       "      <th>218</th>\n",
       "      <td>1110</td>\n",
       "      <td>1</td>\n",
       "      <td>1</td>\n",
       "      <td>50.0</td>\n",
       "      <td>1</td>\n",
       "      <td>1</td>\n",
       "      <td>211.5</td>\n",
       "      <td>1</td>\n",
       "    </tr>\n",
       "    <tr>\n",
       "      <th>382</th>\n",
       "      <td>1274</td>\n",
       "      <td>3</td>\n",
       "      <td>1</td>\n",
       "      <td>28.0</td>\n",
       "      <td>0</td>\n",
       "      <td>0</td>\n",
       "      <td>14.5</td>\n",
       "      <td>0</td>\n",
       "    </tr>\n",
       "    <tr>\n",
       "      <th>229</th>\n",
       "      <td>1121</td>\n",
       "      <td>2</td>\n",
       "      <td>0</td>\n",
       "      <td>36.0</td>\n",
       "      <td>0</td>\n",
       "      <td>0</td>\n",
       "      <td>13.0</td>\n",
       "      <td>0</td>\n",
       "    </tr>\n",
       "    <tr>\n",
       "      <th>172</th>\n",
       "      <td>1064</td>\n",
       "      <td>3</td>\n",
       "      <td>0</td>\n",
       "      <td>23.0</td>\n",
       "      <td>1</td>\n",
       "      <td>0</td>\n",
       "      <td>13.9</td>\n",
       "      <td>0</td>\n",
       "    </tr>\n",
       "  </tbody>\n",
       "</table>\n",
       "</div>"
      ],
      "text/plain": [
       "     PassengerId  Pclass  Sex   Age  SibSp  Parch   Fare  Embarked\n",
       "348         1240       2    0  24.0      0      0   13.5         0\n",
       "218         1110       1    1  50.0      1      1  211.5         1\n",
       "382         1274       3    1  28.0      0      0   14.5         0\n",
       "229         1121       2    0  36.0      0      0   13.0         0\n",
       "172         1064       3    0  23.0      1      0   13.9         0"
      ]
     },
     "execution_count": 25,
     "metadata": {},
     "output_type": "execute_result"
    }
   ],
   "source": [
    "test_dataset.sample(5)"
   ]
  },
  {
   "cell_type": "code",
   "execution_count": 26,
   "id": "b89e07cb",
   "metadata": {
    "execution": {
     "iopub.execute_input": "2024-07-13T18:56:19.151091Z",
     "iopub.status.busy": "2024-07-13T18:56:19.150316Z",
     "iopub.status.idle": "2024-07-13T18:56:19.157353Z",
     "shell.execute_reply": "2024-07-13T18:56:19.156463Z"
    },
    "papermill": {
     "duration": 0.589864,
     "end_time": "2024-07-13T18:56:19.159253",
     "exception": false,
     "start_time": "2024-07-13T18:56:18.569389",
     "status": "completed"
    },
    "tags": []
   },
   "outputs": [],
   "source": [
    "def model_inference(model, data):\n",
    "    model.eval()\n",
    "    outputs = {\n",
    "        \"PassengerId\": [],\n",
    "        \"Survived\": []\n",
    "    }\n",
    "\n",
    "    for i in range(len(data)):\n",
    "        Pid = data[\"PassengerId\"].iloc[i]\n",
    "\n",
    "        inputs = torch.tensor(data.drop(columns=\"PassengerId\").iloc[i].to_numpy(), dtype=torch.float32)\n",
    "        with torch.inference_mode():\n",
    "            logits = model(inputs) # shape of 1\n",
    "            probs = torch.sigmoid(logits)\n",
    "            pred = (probs > 0.5).int()\n",
    "            outputs[\"PassengerId\"].append(Pid)\n",
    "            outputs[\"Survived\"].append(pred.item())\n",
    "    return outputs\n"
   ]
  },
  {
   "cell_type": "code",
   "execution_count": 27,
   "id": "9d1d4dbe",
   "metadata": {
    "execution": {
     "iopub.execute_input": "2024-07-13T18:56:20.412893Z",
     "iopub.status.busy": "2024-07-13T18:56:20.412560Z",
     "iopub.status.idle": "2024-07-13T18:56:21.797211Z",
     "shell.execute_reply": "2024-07-13T18:56:21.796317Z"
    },
    "papermill": {
     "duration": 1.983102,
     "end_time": "2024-07-13T18:56:21.799597",
     "exception": false,
     "start_time": "2024-07-13T18:56:19.816495",
     "status": "completed"
    },
    "tags": []
   },
   "outputs": [],
   "source": [
    "df = pd.DataFrame(model_inference(model=model, data=test_dataset))\n",
    "df.to_csv(\"/kaggle/working/submission.csv\", index=False)\n"
   ]
  },
  {
   "cell_type": "code",
   "execution_count": null,
   "id": "b6dcdd37",
   "metadata": {
    "papermill": {
     "duration": 0.627217,
     "end_time": "2024-07-13T18:56:23.009340",
     "exception": false,
     "start_time": "2024-07-13T18:56:22.382123",
     "status": "completed"
    },
    "tags": []
   },
   "outputs": [],
   "source": []
  }
 ],
 "metadata": {
  "kaggle": {
   "accelerator": "none",
   "dataSources": [
    {
     "databundleVersionId": 26502,
     "sourceId": 3136,
     "sourceType": "competition"
    }
   ],
   "isGpuEnabled": false,
   "isInternetEnabled": true,
   "language": "python",
   "sourceType": "notebook"
  },
  "kernelspec": {
   "display_name": "Python 3",
   "language": "python",
   "name": "python3"
  },
  "language_info": {
   "codemirror_mode": {
    "name": "ipython",
    "version": 3
   },
   "file_extension": ".py",
   "mimetype": "text/x-python",
   "name": "python",
   "nbconvert_exporter": "python",
   "pygments_lexer": "ipython3",
   "version": "3.10.13"
  },
  "papermill": {
   "default_parameters": {},
   "duration": 789.413011,
   "end_time": "2024-07-13T18:56:25.134442",
   "environment_variables": {},
   "exception": null,
   "input_path": "__notebook__.ipynb",
   "output_path": "__notebook__.ipynb",
   "parameters": {},
   "start_time": "2024-07-13T18:43:15.721431",
   "version": "2.5.0"
  }
 },
 "nbformat": 4,
 "nbformat_minor": 5
}
