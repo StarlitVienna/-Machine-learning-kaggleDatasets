{
 "cells": [
  {
   "cell_type": "code",
   "execution_count": 1,
   "id": "3a7587e6",
   "metadata": {
    "execution": {
     "iopub.execute_input": "2024-07-13T17:48:04.207600Z",
     "iopub.status.busy": "2024-07-13T17:48:04.206735Z",
     "iopub.status.idle": "2024-07-13T17:48:09.959170Z",
     "shell.execute_reply": "2024-07-13T17:48:09.958133Z"
    },
    "papermill": {
     "duration": 5.764376,
     "end_time": "2024-07-13T17:48:09.961615",
     "exception": false,
     "start_time": "2024-07-13T17:48:04.197239",
     "status": "completed"
    },
    "tags": []
   },
   "outputs": [],
   "source": [
    "import matplotlib.pyplot as plt\n",
    "from tqdm import tqdm\n",
    "import seaborn as sns\n",
    "import pandas as pd\n",
    "\n",
    "import torch\n",
    "from torch import nn"
   ]
  },
  {
   "cell_type": "code",
   "execution_count": 2,
   "id": "6d7bf4b3",
   "metadata": {
    "execution": {
     "iopub.execute_input": "2024-07-13T17:48:09.978403Z",
     "iopub.status.busy": "2024-07-13T17:48:09.977937Z",
     "iopub.status.idle": "2024-07-13T17:48:10.045015Z",
     "shell.execute_reply": "2024-07-13T17:48:10.043899Z"
    },
    "papermill": {
     "duration": 0.077654,
     "end_time": "2024-07-13T17:48:10.047059",
     "exception": false,
     "start_time": "2024-07-13T17:48:09.969405",
     "status": "completed"
    },
    "tags": []
   },
   "outputs": [
    {
     "name": "stdout",
     "output_type": "stream",
     "text": [
      "default device set to cuda\n"
     ]
    }
   ],
   "source": [
    "device = \"cuda\" if torch.cuda.is_available() else \"cpu\"\n",
    "torch.set_default_device(device)\n",
    "print(f\"default device set to {device}\")"
   ]
  },
  {
   "cell_type": "markdown",
   "id": "3b2975bc",
   "metadata": {
    "papermill": {
     "duration": 0.007322,
     "end_time": "2024-07-13T17:48:10.061950",
     "exception": false,
     "start_time": "2024-07-13T17:48:10.054628",
     "status": "completed"
    },
    "tags": []
   },
   "source": [
    "# Data cleaning\n",
    "- Remove columns that won't be passed through the model\n",
    "- Find and replace/remove missing data"
   ]
  },
  {
   "cell_type": "code",
   "execution_count": 3,
   "id": "3bfd7d1b",
   "metadata": {
    "execution": {
     "iopub.execute_input": "2024-07-13T17:48:10.078425Z",
     "iopub.status.busy": "2024-07-13T17:48:10.077633Z",
     "iopub.status.idle": "2024-07-13T17:48:10.125968Z",
     "shell.execute_reply": "2024-07-13T17:48:10.125021Z"
    },
    "papermill": {
     "duration": 0.059063,
     "end_time": "2024-07-13T17:48:10.128282",
     "exception": false,
     "start_time": "2024-07-13T17:48:10.069219",
     "status": "completed"
    },
    "tags": []
   },
   "outputs": [
    {
     "data": {
      "text/html": [
       "<div>\n",
       "<style scoped>\n",
       "    .dataframe tbody tr th:only-of-type {\n",
       "        vertical-align: middle;\n",
       "    }\n",
       "\n",
       "    .dataframe tbody tr th {\n",
       "        vertical-align: top;\n",
       "    }\n",
       "\n",
       "    .dataframe thead th {\n",
       "        text-align: right;\n",
       "    }\n",
       "</style>\n",
       "<table border=\"1\" class=\"dataframe\">\n",
       "  <thead>\n",
       "    <tr style=\"text-align: right;\">\n",
       "      <th></th>\n",
       "      <th>PassengerId</th>\n",
       "      <th>Survived</th>\n",
       "      <th>Pclass</th>\n",
       "      <th>Name</th>\n",
       "      <th>Sex</th>\n",
       "      <th>Age</th>\n",
       "      <th>SibSp</th>\n",
       "      <th>Parch</th>\n",
       "      <th>Ticket</th>\n",
       "      <th>Fare</th>\n",
       "      <th>Cabin</th>\n",
       "      <th>Embarked</th>\n",
       "    </tr>\n",
       "  </thead>\n",
       "  <tbody>\n",
       "    <tr>\n",
       "      <th>716</th>\n",
       "      <td>717</td>\n",
       "      <td>1</td>\n",
       "      <td>1</td>\n",
       "      <td>Endres, Miss. Caroline Louise</td>\n",
       "      <td>female</td>\n",
       "      <td>38.0</td>\n",
       "      <td>0</td>\n",
       "      <td>0</td>\n",
       "      <td>PC 17757</td>\n",
       "      <td>227.5250</td>\n",
       "      <td>C45</td>\n",
       "      <td>C</td>\n",
       "    </tr>\n",
       "    <tr>\n",
       "      <th>501</th>\n",
       "      <td>502</td>\n",
       "      <td>0</td>\n",
       "      <td>3</td>\n",
       "      <td>Canavan, Miss. Mary</td>\n",
       "      <td>female</td>\n",
       "      <td>21.0</td>\n",
       "      <td>0</td>\n",
       "      <td>0</td>\n",
       "      <td>364846</td>\n",
       "      <td>7.7500</td>\n",
       "      <td>NaN</td>\n",
       "      <td>Q</td>\n",
       "    </tr>\n",
       "    <tr>\n",
       "      <th>861</th>\n",
       "      <td>862</td>\n",
       "      <td>0</td>\n",
       "      <td>2</td>\n",
       "      <td>Giles, Mr. Frederick Edward</td>\n",
       "      <td>male</td>\n",
       "      <td>21.0</td>\n",
       "      <td>1</td>\n",
       "      <td>0</td>\n",
       "      <td>28134</td>\n",
       "      <td>11.5000</td>\n",
       "      <td>NaN</td>\n",
       "      <td>S</td>\n",
       "    </tr>\n",
       "    <tr>\n",
       "      <th>572</th>\n",
       "      <td>573</td>\n",
       "      <td>1</td>\n",
       "      <td>1</td>\n",
       "      <td>Flynn, Mr. John Irwin (\"Irving\")</td>\n",
       "      <td>male</td>\n",
       "      <td>36.0</td>\n",
       "      <td>0</td>\n",
       "      <td>0</td>\n",
       "      <td>PC 17474</td>\n",
       "      <td>26.3875</td>\n",
       "      <td>E25</td>\n",
       "      <td>S</td>\n",
       "    </tr>\n",
       "    <tr>\n",
       "      <th>529</th>\n",
       "      <td>530</td>\n",
       "      <td>0</td>\n",
       "      <td>2</td>\n",
       "      <td>Hocking, Mr. Richard George</td>\n",
       "      <td>male</td>\n",
       "      <td>23.0</td>\n",
       "      <td>2</td>\n",
       "      <td>1</td>\n",
       "      <td>29104</td>\n",
       "      <td>11.5000</td>\n",
       "      <td>NaN</td>\n",
       "      <td>S</td>\n",
       "    </tr>\n",
       "  </tbody>\n",
       "</table>\n",
       "</div>"
      ],
      "text/plain": [
       "     PassengerId  Survived  Pclass                              Name     Sex  \\\n",
       "716          717         1       1     Endres, Miss. Caroline Louise  female   \n",
       "501          502         0       3               Canavan, Miss. Mary  female   \n",
       "861          862         0       2       Giles, Mr. Frederick Edward    male   \n",
       "572          573         1       1  Flynn, Mr. John Irwin (\"Irving\")    male   \n",
       "529          530         0       2       Hocking, Mr. Richard George    male   \n",
       "\n",
       "      Age  SibSp  Parch    Ticket      Fare Cabin Embarked  \n",
       "716  38.0      0      0  PC 17757  227.5250   C45        C  \n",
       "501  21.0      0      0    364846    7.7500   NaN        Q  \n",
       "861  21.0      1      0     28134   11.5000   NaN        S  \n",
       "572  36.0      0      0  PC 17474   26.3875   E25        S  \n",
       "529  23.0      2      1     29104   11.5000   NaN        S  "
      ]
     },
     "execution_count": 3,
     "metadata": {},
     "output_type": "execute_result"
    }
   ],
   "source": [
    "train_dataset = pd.read_csv(\"/kaggle/input/titanic/train.csv\")\n",
    "train_dataset.sample(n=5)"
   ]
  },
  {
   "cell_type": "code",
   "execution_count": 4,
   "id": "aa830658",
   "metadata": {
    "execution": {
     "iopub.execute_input": "2024-07-13T17:48:10.145705Z",
     "iopub.status.busy": "2024-07-13T17:48:10.145383Z",
     "iopub.status.idle": "2024-07-13T17:48:10.151921Z",
     "shell.execute_reply": "2024-07-13T17:48:10.151140Z"
    },
    "papermill": {
     "duration": 0.017333,
     "end_time": "2024-07-13T17:48:10.153920",
     "exception": false,
     "start_time": "2024-07-13T17:48:10.136587",
     "status": "completed"
    },
    "tags": []
   },
   "outputs": [],
   "source": [
    "train_dataset.drop(columns=[\"Name\", \"Cabin\", \"Ticket\", \"PassengerId\"], inplace=True)"
   ]
  },
  {
   "cell_type": "code",
   "execution_count": 5,
   "id": "d67cb2b8",
   "metadata": {
    "execution": {
     "iopub.execute_input": "2024-07-13T17:48:10.170387Z",
     "iopub.status.busy": "2024-07-13T17:48:10.170086Z",
     "iopub.status.idle": "2024-07-13T17:48:10.183174Z",
     "shell.execute_reply": "2024-07-13T17:48:10.182322Z"
    },
    "papermill": {
     "duration": 0.023443,
     "end_time": "2024-07-13T17:48:10.185035",
     "exception": false,
     "start_time": "2024-07-13T17:48:10.161592",
     "status": "completed"
    },
    "tags": []
   },
   "outputs": [
    {
     "data": {
      "text/html": [
       "<div>\n",
       "<style scoped>\n",
       "    .dataframe tbody tr th:only-of-type {\n",
       "        vertical-align: middle;\n",
       "    }\n",
       "\n",
       "    .dataframe tbody tr th {\n",
       "        vertical-align: top;\n",
       "    }\n",
       "\n",
       "    .dataframe thead th {\n",
       "        text-align: right;\n",
       "    }\n",
       "</style>\n",
       "<table border=\"1\" class=\"dataframe\">\n",
       "  <thead>\n",
       "    <tr style=\"text-align: right;\">\n",
       "      <th></th>\n",
       "      <th>Survived</th>\n",
       "      <th>Pclass</th>\n",
       "      <th>Sex</th>\n",
       "      <th>Age</th>\n",
       "      <th>SibSp</th>\n",
       "      <th>Parch</th>\n",
       "      <th>Fare</th>\n",
       "      <th>Embarked</th>\n",
       "    </tr>\n",
       "  </thead>\n",
       "  <tbody>\n",
       "    <tr>\n",
       "      <th>820</th>\n",
       "      <td>1</td>\n",
       "      <td>1</td>\n",
       "      <td>female</td>\n",
       "      <td>52.0</td>\n",
       "      <td>1</td>\n",
       "      <td>1</td>\n",
       "      <td>93.5000</td>\n",
       "      <td>S</td>\n",
       "    </tr>\n",
       "    <tr>\n",
       "      <th>625</th>\n",
       "      <td>0</td>\n",
       "      <td>1</td>\n",
       "      <td>male</td>\n",
       "      <td>61.0</td>\n",
       "      <td>0</td>\n",
       "      <td>0</td>\n",
       "      <td>32.3208</td>\n",
       "      <td>S</td>\n",
       "    </tr>\n",
       "    <tr>\n",
       "      <th>838</th>\n",
       "      <td>1</td>\n",
       "      <td>3</td>\n",
       "      <td>male</td>\n",
       "      <td>32.0</td>\n",
       "      <td>0</td>\n",
       "      <td>0</td>\n",
       "      <td>56.4958</td>\n",
       "      <td>S</td>\n",
       "    </tr>\n",
       "    <tr>\n",
       "      <th>215</th>\n",
       "      <td>1</td>\n",
       "      <td>1</td>\n",
       "      <td>female</td>\n",
       "      <td>31.0</td>\n",
       "      <td>1</td>\n",
       "      <td>0</td>\n",
       "      <td>113.2750</td>\n",
       "      <td>C</td>\n",
       "    </tr>\n",
       "  </tbody>\n",
       "</table>\n",
       "</div>"
      ],
      "text/plain": [
       "     Survived  Pclass     Sex   Age  SibSp  Parch      Fare Embarked\n",
       "820         1       1  female  52.0      1      1   93.5000        S\n",
       "625         0       1    male  61.0      0      0   32.3208        S\n",
       "838         1       3    male  32.0      0      0   56.4958        S\n",
       "215         1       1  female  31.0      1      0  113.2750        C"
      ]
     },
     "execution_count": 5,
     "metadata": {},
     "output_type": "execute_result"
    }
   ],
   "source": [
    "train_dataset.sample(n=4)"
   ]
  },
  {
   "cell_type": "code",
   "execution_count": 6,
   "id": "178cd8fd",
   "metadata": {
    "execution": {
     "iopub.execute_input": "2024-07-13T17:48:10.202056Z",
     "iopub.status.busy": "2024-07-13T17:48:10.201736Z",
     "iopub.status.idle": "2024-07-13T17:48:10.208845Z",
     "shell.execute_reply": "2024-07-13T17:48:10.207981Z"
    },
    "papermill": {
     "duration": 0.017825,
     "end_time": "2024-07-13T17:48:10.210742",
     "exception": false,
     "start_time": "2024-07-13T17:48:10.192917",
     "status": "completed"
    },
    "tags": []
   },
   "outputs": [],
   "source": [
    "def clean_data(data, column, total_null):\n",
    "    if total_null <= len(data) * (5/100): # less than 5%\n",
    "        data.dropna(subset=[column], inplace=True)\n",
    "        \n",
    "def check_data(data, clean: bool):\n",
    "    for column in data.columns:\n",
    "        if data[column].isnull().any():\n",
    "            total_null_entries = data[column].isnull().sum()\n",
    "            null_percent = total_null_entries / len(data) * 100\n",
    "            print(f\"null value found in the column {column}; totaling {total_null_entries} null entries; {null_percent}%\")\n",
    "            \n",
    "            if clean:\n",
    "                clean_data(data=data, column=column, total_null=total_null_entries)\n",
    "        if column not in [\"Age\", \"Fare\", \"PassengerId\"]:\n",
    "            print(f\"{column} unique values --> {data[column].unique()}\")"
   ]
  },
  {
   "cell_type": "code",
   "execution_count": 7,
   "id": "ad8a9c6c",
   "metadata": {
    "execution": {
     "iopub.execute_input": "2024-07-13T17:48:10.228767Z",
     "iopub.status.busy": "2024-07-13T17:48:10.228451Z",
     "iopub.status.idle": "2024-07-13T17:48:10.243810Z",
     "shell.execute_reply": "2024-07-13T17:48:10.242718Z"
    },
    "papermill": {
     "duration": 0.026061,
     "end_time": "2024-07-13T17:48:10.245749",
     "exception": false,
     "start_time": "2024-07-13T17:48:10.219688",
     "status": "completed"
    },
    "tags": []
   },
   "outputs": [
    {
     "name": "stdout",
     "output_type": "stream",
     "text": [
      "Survived unique values --> [0 1]\n",
      "Pclass unique values --> [3 1 2]\n",
      "Sex unique values --> ['male' 'female']\n",
      "null value found in the column Age; totaling 177 null entries; 19.865319865319865%\n",
      "SibSp unique values --> [1 0 3 4 2 5 8]\n",
      "Parch unique values --> [0 1 2 5 3 4 6]\n",
      "null value found in the column Embarked; totaling 2 null entries; 0.22446689113355783%\n",
      "Embarked unique values --> ['S' 'C' 'Q']\n",
      "Survived unique values --> [0 1]\n",
      "Pclass unique values --> [3 1 2]\n",
      "Sex unique values --> ['male' 'female']\n",
      "null value found in the column Age; totaling 177 null entries; 19.910011248593925%\n",
      "SibSp unique values --> [1 0 3 4 2 5 8]\n",
      "Parch unique values --> [0 1 2 5 3 4 6]\n",
      "Embarked unique values --> ['S' 'C' 'Q']\n"
     ]
    }
   ],
   "source": [
    "check_data(data=train_dataset, clean=True)\n",
    "check_data(data=train_dataset, clean=False)"
   ]
  },
  {
   "cell_type": "code",
   "execution_count": 8,
   "id": "70b19899",
   "metadata": {
    "execution": {
     "iopub.execute_input": "2024-07-13T17:48:10.262956Z",
     "iopub.status.busy": "2024-07-13T17:48:10.262601Z",
     "iopub.status.idle": "2024-07-13T17:48:10.269729Z",
     "shell.execute_reply": "2024-07-13T17:48:10.269034Z"
    },
    "papermill": {
     "duration": 0.017813,
     "end_time": "2024-07-13T17:48:10.271578",
     "exception": false,
     "start_time": "2024-07-13T17:48:10.253765",
     "status": "completed"
    },
    "tags": []
   },
   "outputs": [],
   "source": [
    "median_age = train_dataset[\"Age\"].median()\n",
    "train_dataset.fillna({\"Age\": median_age}, inplace=True)"
   ]
  },
  {
   "cell_type": "code",
   "execution_count": 9,
   "id": "d324f9ed",
   "metadata": {
    "execution": {
     "iopub.execute_input": "2024-07-13T17:48:10.288579Z",
     "iopub.status.busy": "2024-07-13T17:48:10.288281Z",
     "iopub.status.idle": "2024-07-13T17:48:10.302971Z",
     "shell.execute_reply": "2024-07-13T17:48:10.302155Z"
    },
    "papermill": {
     "duration": 0.025417,
     "end_time": "2024-07-13T17:48:10.304977",
     "exception": false,
     "start_time": "2024-07-13T17:48:10.279560",
     "status": "completed"
    },
    "tags": []
   },
   "outputs": [
    {
     "data": {
      "text/html": [
       "<div>\n",
       "<style scoped>\n",
       "    .dataframe tbody tr th:only-of-type {\n",
       "        vertical-align: middle;\n",
       "    }\n",
       "\n",
       "    .dataframe tbody tr th {\n",
       "        vertical-align: top;\n",
       "    }\n",
       "\n",
       "    .dataframe thead th {\n",
       "        text-align: right;\n",
       "    }\n",
       "</style>\n",
       "<table border=\"1\" class=\"dataframe\">\n",
       "  <thead>\n",
       "    <tr style=\"text-align: right;\">\n",
       "      <th></th>\n",
       "      <th>Survived</th>\n",
       "      <th>Pclass</th>\n",
       "      <th>Sex</th>\n",
       "      <th>Age</th>\n",
       "      <th>SibSp</th>\n",
       "      <th>Parch</th>\n",
       "      <th>Fare</th>\n",
       "      <th>Embarked</th>\n",
       "    </tr>\n",
       "  </thead>\n",
       "  <tbody>\n",
       "    <tr>\n",
       "      <th>694</th>\n",
       "      <td>0</td>\n",
       "      <td>1</td>\n",
       "      <td>male</td>\n",
       "      <td>60.0</td>\n",
       "      <td>0</td>\n",
       "      <td>0</td>\n",
       "      <td>26.550</td>\n",
       "      <td>S</td>\n",
       "    </tr>\n",
       "    <tr>\n",
       "      <th>708</th>\n",
       "      <td>1</td>\n",
       "      <td>1</td>\n",
       "      <td>female</td>\n",
       "      <td>22.0</td>\n",
       "      <td>0</td>\n",
       "      <td>0</td>\n",
       "      <td>151.550</td>\n",
       "      <td>S</td>\n",
       "    </tr>\n",
       "    <tr>\n",
       "      <th>92</th>\n",
       "      <td>0</td>\n",
       "      <td>1</td>\n",
       "      <td>male</td>\n",
       "      <td>46.0</td>\n",
       "      <td>1</td>\n",
       "      <td>0</td>\n",
       "      <td>61.175</td>\n",
       "      <td>S</td>\n",
       "    </tr>\n",
       "    <tr>\n",
       "      <th>712</th>\n",
       "      <td>1</td>\n",
       "      <td>1</td>\n",
       "      <td>male</td>\n",
       "      <td>48.0</td>\n",
       "      <td>1</td>\n",
       "      <td>0</td>\n",
       "      <td>52.000</td>\n",
       "      <td>S</td>\n",
       "    </tr>\n",
       "    <tr>\n",
       "      <th>256</th>\n",
       "      <td>1</td>\n",
       "      <td>1</td>\n",
       "      <td>female</td>\n",
       "      <td>28.0</td>\n",
       "      <td>0</td>\n",
       "      <td>0</td>\n",
       "      <td>79.200</td>\n",
       "      <td>C</td>\n",
       "    </tr>\n",
       "  </tbody>\n",
       "</table>\n",
       "</div>"
      ],
      "text/plain": [
       "     Survived  Pclass     Sex   Age  SibSp  Parch     Fare Embarked\n",
       "694         0       1    male  60.0      0      0   26.550        S\n",
       "708         1       1  female  22.0      0      0  151.550        S\n",
       "92          0       1    male  46.0      1      0   61.175        S\n",
       "712         1       1    male  48.0      1      0   52.000        S\n",
       "256         1       1  female  28.0      0      0   79.200        C"
      ]
     },
     "execution_count": 9,
     "metadata": {},
     "output_type": "execute_result"
    }
   ],
   "source": [
    "train_dataset.sample(n=5)"
   ]
  },
  {
   "cell_type": "markdown",
   "id": "977f33d8",
   "metadata": {
    "papermill": {
     "duration": 0.00852,
     "end_time": "2024-07-13T17:48:10.322111",
     "exception": false,
     "start_time": "2024-07-13T17:48:10.313591",
     "status": "completed"
    },
    "tags": []
   },
   "source": [
    "# Data visualization, survival comparison\n",
    "- Visualize the relation within the data"
   ]
  },
  {
   "cell_type": "code",
   "execution_count": 10,
   "id": "2e7d939b",
   "metadata": {
    "execution": {
     "iopub.execute_input": "2024-07-13T17:48:10.340108Z",
     "iopub.status.busy": "2024-07-13T17:48:10.339783Z",
     "iopub.status.idle": "2024-07-13T17:48:11.541015Z",
     "shell.execute_reply": "2024-07-13T17:48:11.540040Z"
    },
    "papermill": {
     "duration": 1.212509,
     "end_time": "2024-07-13T17:48:11.543235",
     "exception": false,
     "start_time": "2024-07-13T17:48:10.330726",
     "status": "completed"
    },
    "tags": []
   },
   "outputs": [
    {
     "data": {
      "image/png": "[encoded data removed]",
      "text/plain": [
       "<Figure size 2400x600 with 5 Axes>"
      ]
     },
     "metadata": {},
     "output_type": "display_data"
    }
   ],
   "source": [
    "def plot_data(data):\n",
    "    fig, axis = plt.subplots(1, 5, figsize=(24, 6))\n",
    "    sns.countplot(data=data, x=\"Survived\", hue=\"Parch\", palette=\"magma\", ax=axis[0])\n",
    "    sns.countplot(data=data, x=\"Survived\", hue=\"Pclass\", palette=\"magma\", ax=axis[1])\n",
    "    sns.countplot(data=data, x=\"Survived\", hue=\"Embarked\", palette=\"magma\", ax=axis[2])\n",
    "    sns.countplot(data=data, x=\"Survived\", hue=\"SibSp\", palette=\"magma\", ax=axis[3])\n",
    "    sns.countplot(data=data, x=\"Survived\", hue=\"Sex\", palette=\"magma\", ax=axis[4])\n",
    "    \n",
    "    axis[0].set_title(\"Survived X Parch\")\n",
    "    axis[1].set_title(\"Survived X Class\")\n",
    "    axis[2].set_title(\"Survived X Embarked\")\n",
    "    axis[3].set_title(\"Survived X SibblingSpouse\")\n",
    "    axis[4].set_title(\"Survived X Sex\")\n",
    "    \n",
    "    plt.show()\n",
    "plot_data(data=train_dataset)"
   ]
  },
  {
   "cell_type": "markdown",
   "id": "f7e73b62",
   "metadata": {
    "papermill": {
     "duration": 0.008731,
     "end_time": "2024-07-13T17:48:11.561177",
     "exception": false,
     "start_time": "2024-07-13T17:48:11.552446",
     "status": "completed"
    },
    "tags": []
   },
   "source": [
    "# Mapping classes to numbers"
   ]
  },
  {
   "cell_type": "code",
   "execution_count": 11,
   "id": "ecb09f71",
   "metadata": {
    "execution": {
     "iopub.execute_input": "2024-07-13T17:48:11.580841Z",
     "iopub.status.busy": "2024-07-13T17:48:11.580154Z",
     "iopub.status.idle": "2024-07-13T17:48:11.596096Z",
     "shell.execute_reply": "2024-07-13T17:48:11.595216Z"
    },
    "papermill": {
     "duration": 0.027894,
     "end_time": "2024-07-13T17:48:11.597909",
     "exception": false,
     "start_time": "2024-07-13T17:48:11.570015",
     "status": "completed"
    },
    "tags": []
   },
   "outputs": [
    {
     "data": {
      "text/html": [
       "<div>\n",
       "<style scoped>\n",
       "    .dataframe tbody tr th:only-of-type {\n",
       "        vertical-align: middle;\n",
       "    }\n",
       "\n",
       "    .dataframe tbody tr th {\n",
       "        vertical-align: top;\n",
       "    }\n",
       "\n",
       "    .dataframe thead th {\n",
       "        text-align: right;\n",
       "    }\n",
       "</style>\n",
       "<table border=\"1\" class=\"dataframe\">\n",
       "  <thead>\n",
       "    <tr style=\"text-align: right;\">\n",
       "      <th></th>\n",
       "      <th>Survived</th>\n",
       "      <th>Pclass</th>\n",
       "      <th>Sex</th>\n",
       "      <th>Age</th>\n",
       "      <th>SibSp</th>\n",
       "      <th>Parch</th>\n",
       "      <th>Fare</th>\n",
       "      <th>Embarked</th>\n",
       "    </tr>\n",
       "  </thead>\n",
       "  <tbody>\n",
       "    <tr>\n",
       "      <th>248</th>\n",
       "      <td>1</td>\n",
       "      <td>1</td>\n",
       "      <td>0</td>\n",
       "      <td>37.00</td>\n",
       "      <td>1</td>\n",
       "      <td>1</td>\n",
       "      <td>52.5542</td>\n",
       "      <td>0</td>\n",
       "    </tr>\n",
       "    <tr>\n",
       "      <th>755</th>\n",
       "      <td>1</td>\n",
       "      <td>2</td>\n",
       "      <td>0</td>\n",
       "      <td>0.67</td>\n",
       "      <td>1</td>\n",
       "      <td>1</td>\n",
       "      <td>14.5000</td>\n",
       "      <td>0</td>\n",
       "    </tr>\n",
       "    <tr>\n",
       "      <th>245</th>\n",
       "      <td>0</td>\n",
       "      <td>1</td>\n",
       "      <td>0</td>\n",
       "      <td>44.00</td>\n",
       "      <td>2</td>\n",
       "      <td>0</td>\n",
       "      <td>90.0000</td>\n",
       "      <td>2</td>\n",
       "    </tr>\n",
       "    <tr>\n",
       "      <th>533</th>\n",
       "      <td>1</td>\n",
       "      <td>3</td>\n",
       "      <td>1</td>\n",
       "      <td>28.00</td>\n",
       "      <td>0</td>\n",
       "      <td>2</td>\n",
       "      <td>22.3583</td>\n",
       "      <td>1</td>\n",
       "    </tr>\n",
       "    <tr>\n",
       "      <th>614</th>\n",
       "      <td>0</td>\n",
       "      <td>3</td>\n",
       "      <td>0</td>\n",
       "      <td>35.00</td>\n",
       "      <td>0</td>\n",
       "      <td>0</td>\n",
       "      <td>8.0500</td>\n",
       "      <td>0</td>\n",
       "    </tr>\n",
       "  </tbody>\n",
       "</table>\n",
       "</div>"
      ],
      "text/plain": [
       "     Survived  Pclass  Sex    Age  SibSp  Parch     Fare  Embarked\n",
       "248         1       1    0  37.00      1      1  52.5542         0\n",
       "755         1       2    0   0.67      1      1  14.5000         0\n",
       "245         0       1    0  44.00      2      0  90.0000         2\n",
       "533         1       3    1  28.00      0      2  22.3583         1\n",
       "614         0       3    0  35.00      0      0   8.0500         0"
      ]
     },
     "execution_count": 11,
     "metadata": {},
     "output_type": "execute_result"
    }
   ],
   "source": [
    "sex_mapping = {k: v for v, k in enumerate(train_dataset[\"Sex\"].unique())}\n",
    "embarked_mapping = {k: v for v, k in enumerate(train_dataset[\"Embarked\"].unique())}\n",
    "\n",
    "train_dataset[\"Sex\"] = train_dataset[\"Sex\"].map(sex_mapping)\n",
    "train_dataset[\"Embarked\"] = train_dataset[\"Embarked\"].map(embarked_mapping)\n",
    "train_dataset.sample(n=5)"
   ]
  },
  {
   "cell_type": "markdown",
   "id": "8ceee009",
   "metadata": {
    "papermill": {
     "duration": 0.008861,
     "end_time": "2024-07-13T17:48:11.616050",
     "exception": false,
     "start_time": "2024-07-13T17:48:11.607189",
     "status": "completed"
    },
    "tags": []
   },
   "source": [
    "# Get batch function"
   ]
  },
  {
   "cell_type": "code",
   "execution_count": 12,
   "id": "4c5a8f78",
   "metadata": {
    "execution": {
     "iopub.execute_input": "2024-07-13T17:48:11.635765Z",
     "iopub.status.busy": "2024-07-13T17:48:11.635194Z",
     "iopub.status.idle": "2024-07-13T17:48:12.084047Z",
     "shell.execute_reply": "2024-07-13T17:48:12.083144Z"
    },
    "papermill": {
     "duration": 0.461056,
     "end_time": "2024-07-13T17:48:12.086117",
     "exception": false,
     "start_time": "2024-07-13T17:48:11.625061",
     "status": "completed"
    },
    "tags": []
   },
   "outputs": [
    {
     "data": {
      "text/plain": [
       "(tensor([[ 3.0000,  0.0000, 28.0000,  0.0000,  0.0000, 22.5250,  0.0000],\n",
       "         [ 3.0000,  1.0000, 19.0000,  0.0000,  0.0000,  7.8792,  2.0000],\n",
       "         [ 3.0000,  0.0000, 18.0000,  1.0000,  1.0000,  7.8542,  0.0000],\n",
       "         [ 3.0000,  0.0000, 20.0000,  0.0000,  0.0000,  7.8542,  0.0000]],\n",
       "        device='cuda:0'),\n",
       " tensor([0, 1, 0, 0], device='cuda:0'))"
      ]
     },
     "execution_count": 12,
     "metadata": {},
     "output_type": "execute_result"
    }
   ],
   "source": [
    "def get_batch(data, batch_size):\n",
    "    batch = data.sample(n=batch_size)\n",
    "    batch_labels = batch[\"Survived\"].to_numpy()\n",
    "    batch_inputs = batch.drop(columns=[\"Survived\"]).to_numpy()\n",
    "    \n",
    "    batch_inputs = torch.tensor(batch_inputs, dtype=torch.float32)\n",
    "    batch_labels = torch.tensor(batch_labels, dtype=torch.long)\n",
    "    \n",
    "    return (batch_inputs, batch_labels)\n",
    "\n",
    "get_batch(data=train_dataset, batch_size=4)"
   ]
  },
  {
   "cell_type": "code",
   "execution_count": 13,
   "id": "c6457ad4",
   "metadata": {
    "execution": {
     "iopub.execute_input": "2024-07-13T17:48:12.106514Z",
     "iopub.status.busy": "2024-07-13T17:48:12.105799Z",
     "iopub.status.idle": "2024-07-13T17:48:12.113722Z",
     "shell.execute_reply": "2024-07-13T17:48:12.112949Z"
    },
    "papermill": {
     "duration": 0.020048,
     "end_time": "2024-07-13T17:48:12.115664",
     "exception": false,
     "start_time": "2024-07-13T17:48:12.095616",
     "status": "completed"
    },
    "tags": []
   },
   "outputs": [],
   "source": [
    "class MLP(nn.Module):\n",
    "    def __init__(self, n_inputs, n_classes, hidden_units_array, n_layers, dropout):\n",
    "        super(MLP, self).__init__()\n",
    "        layers = []\n",
    "        prev_hidden_units = n_inputs\n",
    "        \n",
    "        for _ in range(n_layers):\n",
    "            for hidden_units in hidden_units_array:\n",
    "                layers.append(nn.Linear(in_features=prev_hidden_units, out_features=hidden_units))\n",
    "                #layers.append(nn.BatchNorm1d(hidden_units))\n",
    "                layers.append(nn.LayerNorm(hidden_units))\n",
    "                layers.append(nn.LeakyReLU())\n",
    "                #layers.append(nn.Dropout(dropout))\n",
    "                print(f\"from {prev_hidden_units} to {hidden_units}\")\n",
    "                prev_hidden_units = hidden_units\n",
    "            #layers.append(nn.LayerNorm(hidden_units_array[-1]))\n",
    "        #layers.append(nn.LayerNorm(hidden_units_array[-1]))\n",
    "        layers.append(nn.Linear(in_features=hidden_units_array[-1], out_features=n_classes))\n",
    "        \n",
    "        \n",
    "        self.network = nn.Sequential(*layers)\n",
    "    \n",
    "    def forward(self, x: torch.Tensor) -> torch.Tensor:\n",
    "        #return self.network(x) # (B, n_classes)\n",
    "        x = self.network(x)\n",
    "        return x"
   ]
  },
  {
   "cell_type": "code",
   "execution_count": 14,
   "id": "db1d79a6",
   "metadata": {
    "execution": {
     "iopub.execute_input": "2024-07-13T17:48:12.136257Z",
     "iopub.status.busy": "2024-07-13T17:48:12.135713Z",
     "iopub.status.idle": "2024-07-13T17:48:12.175319Z",
     "shell.execute_reply": "2024-07-13T17:48:12.174426Z"
    },
    "papermill": {
     "duration": 0.052177,
     "end_time": "2024-07-13T17:48:12.177513",
     "exception": false,
     "start_time": "2024-07-13T17:48:12.125336",
     "status": "completed"
    },
    "tags": []
   },
   "outputs": [
    {
     "name": "stdout",
     "output_type": "stream",
     "text": [
      "from 7 to 512\n",
      "from 512 to 512\n",
      "from 512 to 512\n",
      "from 512 to 512\n",
      "from 512 to 512\n",
      "from 512 to 512\n",
      "from 512 to 512\n",
      "from 512 to 512\n",
      "from 512 to 512\n",
      "from 512 to 512\n",
      "from 512 to 512\n",
      "from 512 to 512\n"
     ]
    }
   ],
   "source": [
    "n_inputs = len(train_dataset.drop(columns=[\"Survived\"]).columns)\n",
    "n_classes = 1 # Either dead of alive; Binary Cross Entropy should suffice\n",
    "#hidden_units_array = [8*8, 8*8*8, 8*8*8*8, 8*8*8*8]\n",
    "hidden_units_array = [8*8*8, 8*8*8, 8*8*8, 8*8*8]\n",
    "n_layers = 3\n",
    "dropout = 0.15\n",
    "model = MLP(n_inputs=n_inputs, n_classes=n_classes, hidden_units_array=hidden_units_array, n_layers=n_layers, dropout=dropout)"
   ]
  },
  {
   "cell_type": "code",
   "execution_count": 15,
   "id": "dad3135d",
   "metadata": {
    "execution": {
     "iopub.execute_input": "2024-07-13T17:48:12.198174Z",
     "iopub.status.busy": "2024-07-13T17:48:12.197817Z",
     "iopub.status.idle": "2024-07-13T17:48:12.456751Z",
     "shell.execute_reply": "2024-07-13T17:48:12.455778Z"
    },
    "papermill": {
     "duration": 0.271739,
     "end_time": "2024-07-13T17:48:12.459005",
     "exception": false,
     "start_time": "2024-07-13T17:48:12.187266",
     "status": "completed"
    },
    "tags": []
   },
   "outputs": [
    {
     "name": "stdout",
     "output_type": "stream",
     "text": [
      "tensor(0.7487, device='cuda:0')\n"
     ]
    }
   ],
   "source": [
    "test_loss_fn = nn.BCEWithLogitsLoss()\n",
    "model.eval()\n",
    "with torch.inference_mode():\n",
    "    batch_inputs, batch_labels = get_batch(data=train_dataset, batch_size=32)\n",
    "    logits = model(batch_inputs) # (B, n_classes); labels are (B,)\n",
    "    loss = test_loss_fn(logits.view(-1), batch_labels.to(torch.float32)) # For BCEWithLogitsLoss, labels must be in float32 format; for CrossEntropyLoss use torch.long instead\n",
    "    print(loss)"
   ]
  },
  {
   "cell_type": "code",
   "execution_count": 16,
   "id": "aad035e1",
   "metadata": {
    "execution": {
     "iopub.execute_input": "2024-07-13T17:48:12.480554Z",
     "iopub.status.busy": "2024-07-13T17:48:12.479772Z",
     "iopub.status.idle": "2024-07-13T17:48:12.486757Z",
     "shell.execute_reply": "2024-07-13T17:48:12.485895Z"
    },
    "papermill": {
     "duration": 0.019963,
     "end_time": "2024-07-13T17:48:12.488713",
     "exception": false,
     "start_time": "2024-07-13T17:48:12.468750",
     "status": "completed"
    },
    "tags": []
   },
   "outputs": [],
   "source": [
    "def train_model(model, data, batch_size, loss_fn, optimizer, epochs):\n",
    "    model.train()\n",
    "\n",
    "    #writer = SummaryWriter()\n",
    "    #writer.add_text('Model Architecture', str(model))\n",
    "\n",
    "    for epoch in tqdm(range(epochs)):\n",
    "        batch_inputs, batch_labels = get_batch(data=train_dataset, batch_size=batch_size)\n",
    "        logits = model(batch_inputs) # (B, n_classes)\n",
    "        loss = loss_fn(logits.view(-1), batch_labels.to(torch.float32))\n",
    "        optimizer.zero_grad()\n",
    "        loss.backward()\n",
    "        optimizer.step()\n",
    "\n",
    "        #scheduler.step()\n",
    "\n",
    "        #writer.add_scalar(\"Training Loss\", loss.item(), epoch)\n",
    "\n",
    "        \n",
    "        if (epoch+1) % 500 == 0:\n",
    "            print(f\"loss for epoch {epoch+1} --> {loss}\")\n",
    "            #print(batch_inputs)\n",
    "            #print(logits)\n",
    "    #writer.close()"
   ]
  },
  {
   "cell_type": "code",
   "execution_count": 17,
   "id": "4d8cdc49",
   "metadata": {
    "execution": {
     "iopub.execute_input": "2024-07-13T17:48:12.508981Z",
     "iopub.status.busy": "2024-07-13T17:48:12.508684Z",
     "iopub.status.idle": "2024-07-13T17:52:54.270101Z",
     "shell.execute_reply": "2024-07-13T17:52:54.269041Z"
    },
    "papermill": {
     "duration": 281.774377,
     "end_time": "2024-07-13T17:52:54.272631",
     "exception": false,
     "start_time": "2024-07-13T17:48:12.498254",
     "status": "completed"
    },
    "tags": []
   },
   "outputs": [
    {
     "name": "stderr",
     "output_type": "stream",
     "text": [
      "  2%|▏         | 511/30000 [00:04<04:42, 104.54it/s]"
     ]
    },
    {
     "name": "stdout",
     "output_type": "stream",
     "text": [
      "loss for epoch 500 --> 0.4318639039993286\n"
     ]
    },
    {
     "name": "stderr",
     "output_type": "stream",
     "text": [
      "  3%|▎         | 1012/30000 [00:09<04:30, 107.02it/s]"
     ]
    },
    {
     "name": "stdout",
     "output_type": "stream",
     "text": [
      "loss for epoch 1000 --> 0.2856111228466034\n"
     ]
    },
    {
     "name": "stderr",
     "output_type": "stream",
     "text": [
      "  5%|▌         | 1513/30000 [00:14<04:24, 107.66it/s]"
     ]
    },
    {
     "name": "stdout",
     "output_type": "stream",
     "text": [
      "loss for epoch 1500 --> 0.2901860177516937\n"
     ]
    },
    {
     "name": "stderr",
     "output_type": "stream",
     "text": [
      "  7%|▋         | 2021/30000 [00:19<04:17, 108.55it/s]"
     ]
    },
    {
     "name": "stdout",
     "output_type": "stream",
     "text": [
      "loss for epoch 2000 --> 0.2914644479751587\n"
     ]
    },
    {
     "name": "stderr",
     "output_type": "stream",
     "text": [
      "  8%|▊         | 2511/30000 [00:23<04:11, 109.13it/s]"
     ]
    },
    {
     "name": "stdout",
     "output_type": "stream",
     "text": [
      "loss for epoch 2500 --> 0.23706293106079102\n"
     ]
    },
    {
     "name": "stderr",
     "output_type": "stream",
     "text": [
      " 10%|█         | 3019/30000 [00:28<04:07, 108.89it/s]"
     ]
    },
    {
     "name": "stdout",
     "output_type": "stream",
     "text": [
      "loss for epoch 3000 --> 0.24958378076553345\n"
     ]
    },
    {
     "name": "stderr",
     "output_type": "stream",
     "text": [
      " 12%|█▏        | 3521/30000 [00:33<04:09, 106.18it/s]"
     ]
    },
    {
     "name": "stdout",
     "output_type": "stream",
     "text": [
      "loss for epoch 3500 --> 0.22984667122364044\n"
     ]
    },
    {
     "name": "stderr",
     "output_type": "stream",
     "text": [
      " 13%|█▎        | 4017/30000 [00:37<04:00, 108.08it/s]"
     ]
    },
    {
     "name": "stdout",
     "output_type": "stream",
     "text": [
      "loss for epoch 4000 --> 0.18716485798358917\n"
     ]
    },
    {
     "name": "stderr",
     "output_type": "stream",
     "text": [
      " 15%|█▌        | 4513/30000 [00:42<03:53, 109.08it/s]"
     ]
    },
    {
     "name": "stdout",
     "output_type": "stream",
     "text": [
      "loss for epoch 4500 --> 0.2152276635169983\n"
     ]
    },
    {
     "name": "stderr",
     "output_type": "stream",
     "text": [
      " 17%|█▋        | 5018/30000 [00:47<03:54, 106.46it/s]"
     ]
    },
    {
     "name": "stdout",
     "output_type": "stream",
     "text": [
      "loss for epoch 5000 --> 0.16482950747013092\n"
     ]
    },
    {
     "name": "stderr",
     "output_type": "stream",
     "text": [
      " 18%|█▊        | 5511/30000 [00:51<03:45, 108.59it/s]"
     ]
    },
    {
     "name": "stdout",
     "output_type": "stream",
     "text": [
      "loss for epoch 5500 --> 0.18029451370239258\n"
     ]
    },
    {
     "name": "stderr",
     "output_type": "stream",
     "text": [
      " 20%|██        | 6020/30000 [00:56<03:42, 107.70it/s]"
     ]
    },
    {
     "name": "stdout",
     "output_type": "stream",
     "text": [
      "loss for epoch 6000 --> 0.1520034670829773\n"
     ]
    },
    {
     "name": "stderr",
     "output_type": "stream",
     "text": [
      " 22%|██▏       | 6521/30000 [01:01<03:38, 107.59it/s]"
     ]
    },
    {
     "name": "stdout",
     "output_type": "stream",
     "text": [
      "loss for epoch 6500 --> 0.16727888584136963\n"
     ]
    },
    {
     "name": "stderr",
     "output_type": "stream",
     "text": [
      " 23%|██▎       | 7020/30000 [01:05<03:31, 108.80it/s]"
     ]
    },
    {
     "name": "stdout",
     "output_type": "stream",
     "text": [
      "loss for epoch 7000 --> 0.17981065809726715\n"
     ]
    },
    {
     "name": "stderr",
     "output_type": "stream",
     "text": [
      " 25%|██▌       | 7518/30000 [01:10<03:26, 109.13it/s]"
     ]
    },
    {
     "name": "stdout",
     "output_type": "stream",
     "text": [
      "loss for epoch 7500 --> 0.1206294596195221\n"
     ]
    },
    {
     "name": "stderr",
     "output_type": "stream",
     "text": [
      " 27%|██▋       | 8014/30000 [01:15<03:39, 100.20it/s]"
     ]
    },
    {
     "name": "stdout",
     "output_type": "stream",
     "text": [
      "loss for epoch 8000 --> 0.13582319021224976\n"
     ]
    },
    {
     "name": "stderr",
     "output_type": "stream",
     "text": [
      " 28%|██▊       | 8511/30000 [01:19<03:17, 108.84it/s]"
     ]
    },
    {
     "name": "stdout",
     "output_type": "stream",
     "text": [
      "loss for epoch 8500 --> 0.12582172453403473\n"
     ]
    },
    {
     "name": "stderr",
     "output_type": "stream",
     "text": [
      " 30%|███       | 9019/30000 [01:24<03:13, 108.37it/s]"
     ]
    },
    {
     "name": "stdout",
     "output_type": "stream",
     "text": [
      "loss for epoch 9000 --> 0.10836541652679443\n"
     ]
    },
    {
     "name": "stderr",
     "output_type": "stream",
     "text": [
      " 32%|███▏      | 9516/30000 [01:29<03:11, 106.91it/s]"
     ]
    },
    {
     "name": "stdout",
     "output_type": "stream",
     "text": [
      "loss for epoch 9500 --> 0.10767907649278641\n"
     ]
    },
    {
     "name": "stderr",
     "output_type": "stream",
     "text": [
      " 33%|███▎      | 10017/30000 [01:33<03:07, 106.48it/s]"
     ]
    },
    {
     "name": "stdout",
     "output_type": "stream",
     "text": [
      "loss for epoch 10000 --> 0.090298593044281\n"
     ]
    },
    {
     "name": "stderr",
     "output_type": "stream",
     "text": [
      " 35%|███▌      | 10521/30000 [01:38<03:00, 107.65it/s]"
     ]
    },
    {
     "name": "stdout",
     "output_type": "stream",
     "text": [
      "loss for epoch 10500 --> 0.13881801068782806\n"
     ]
    },
    {
     "name": "stderr",
     "output_type": "stream",
     "text": [
      " 37%|███▋      | 11015/30000 [01:42<02:55, 108.00it/s]"
     ]
    },
    {
     "name": "stdout",
     "output_type": "stream",
     "text": [
      "loss for epoch 11000 --> 0.115406334400177\n"
     ]
    },
    {
     "name": "stderr",
     "output_type": "stream",
     "text": [
      " 38%|███▊      | 11519/30000 [01:47<02:51, 107.86it/s]"
     ]
    },
    {
     "name": "stdout",
     "output_type": "stream",
     "text": [
      "loss for epoch 11500 --> 0.10284578800201416\n"
     ]
    },
    {
     "name": "stderr",
     "output_type": "stream",
     "text": [
      " 40%|████      | 12012/30000 [01:52<02:47, 107.53it/s]"
     ]
    },
    {
     "name": "stdout",
     "output_type": "stream",
     "text": [
      "loss for epoch 12000 --> 0.11145912855863571\n"
     ]
    },
    {
     "name": "stderr",
     "output_type": "stream",
     "text": [
      " 42%|████▏     | 12521/30000 [01:57<02:42, 107.27it/s]"
     ]
    },
    {
     "name": "stdout",
     "output_type": "stream",
     "text": [
      "loss for epoch 12500 --> 0.10741164535284042\n"
     ]
    },
    {
     "name": "stderr",
     "output_type": "stream",
     "text": [
      " 43%|████▎     | 13018/30000 [02:01<02:37, 107.73it/s]"
     ]
    },
    {
     "name": "stdout",
     "output_type": "stream",
     "text": [
      "loss for epoch 13000 --> 0.14663496613502502\n"
     ]
    },
    {
     "name": "stderr",
     "output_type": "stream",
     "text": [
      " 45%|████▌     | 13516/30000 [02:06<02:34, 106.56it/s]"
     ]
    },
    {
     "name": "stdout",
     "output_type": "stream",
     "text": [
      "loss for epoch 13500 --> 0.07802259922027588\n"
     ]
    },
    {
     "name": "stderr",
     "output_type": "stream",
     "text": [
      " 47%|████▋     | 14014/30000 [02:10<02:25, 109.65it/s]"
     ]
    },
    {
     "name": "stdout",
     "output_type": "stream",
     "text": [
      "loss for epoch 14000 --> 0.10190865397453308\n"
     ]
    },
    {
     "name": "stderr",
     "output_type": "stream",
     "text": [
      " 48%|████▊     | 14512/30000 [02:15<02:23, 107.61it/s]"
     ]
    },
    {
     "name": "stdout",
     "output_type": "stream",
     "text": [
      "loss for epoch 14500 --> 0.1219617947936058\n"
     ]
    },
    {
     "name": "stderr",
     "output_type": "stream",
     "text": [
      " 50%|█████     | 15015/30000 [02:20<02:20, 106.97it/s]"
     ]
    },
    {
     "name": "stdout",
     "output_type": "stream",
     "text": [
      "loss for epoch 15000 --> 0.12142063677310944\n"
     ]
    },
    {
     "name": "stderr",
     "output_type": "stream",
     "text": [
      " 52%|█████▏    | 15521/30000 [02:25<02:17, 105.00it/s]"
     ]
    },
    {
     "name": "stdout",
     "output_type": "stream",
     "text": [
      "loss for epoch 15500 --> 0.11061516404151917\n"
     ]
    },
    {
     "name": "stderr",
     "output_type": "stream",
     "text": [
      " 53%|█████▎    | 16018/30000 [02:29<02:11, 106.37it/s]"
     ]
    },
    {
     "name": "stdout",
     "output_type": "stream",
     "text": [
      "loss for epoch 16000 --> 0.0851648598909378\n"
     ]
    },
    {
     "name": "stderr",
     "output_type": "stream",
     "text": [
      " 55%|█████▌    | 16519/30000 [02:34<02:04, 108.46it/s]"
     ]
    },
    {
     "name": "stdout",
     "output_type": "stream",
     "text": [
      "loss for epoch 16500 --> 0.08239895105361938\n"
     ]
    },
    {
     "name": "stderr",
     "output_type": "stream",
     "text": [
      " 57%|█████▋    | 17016/30000 [02:39<02:03, 105.18it/s]"
     ]
    },
    {
     "name": "stdout",
     "output_type": "stream",
     "text": [
      "loss for epoch 17000 --> 0.08048472553491592\n"
     ]
    },
    {
     "name": "stderr",
     "output_type": "stream",
     "text": [
      " 58%|█████▊    | 17514/30000 [02:43<01:55, 108.18it/s]"
     ]
    },
    {
     "name": "stdout",
     "output_type": "stream",
     "text": [
      "loss for epoch 17500 --> 0.08167343586683273\n"
     ]
    },
    {
     "name": "stderr",
     "output_type": "stream",
     "text": [
      " 60%|██████    | 18021/30000 [02:48<01:56, 102.64it/s]"
     ]
    },
    {
     "name": "stdout",
     "output_type": "stream",
     "text": [
      "loss for epoch 18000 --> 0.078924261033535\n"
     ]
    },
    {
     "name": "stderr",
     "output_type": "stream",
     "text": [
      " 62%|██████▏   | 18511/30000 [02:53<01:45, 108.85it/s]"
     ]
    },
    {
     "name": "stdout",
     "output_type": "stream",
     "text": [
      "loss for epoch 18500 --> 0.09637214988470078\n"
     ]
    },
    {
     "name": "stderr",
     "output_type": "stream",
     "text": [
      " 63%|██████▎   | 19016/30000 [02:57<01:40, 109.56it/s]"
     ]
    },
    {
     "name": "stdout",
     "output_type": "stream",
     "text": [
      "loss for epoch 19000 --> 0.08096767961978912\n"
     ]
    },
    {
     "name": "stderr",
     "output_type": "stream",
     "text": [
      " 65%|██████▌   | 19520/30000 [03:02<01:35, 109.99it/s]"
     ]
    },
    {
     "name": "stdout",
     "output_type": "stream",
     "text": [
      "loss for epoch 19500 --> 0.07654213905334473\n"
     ]
    },
    {
     "name": "stderr",
     "output_type": "stream",
     "text": [
      " 67%|██████▋   | 20018/30000 [03:07<01:31, 108.83it/s]"
     ]
    },
    {
     "name": "stdout",
     "output_type": "stream",
     "text": [
      "loss for epoch 20000 --> 0.07582807540893555\n"
     ]
    },
    {
     "name": "stderr",
     "output_type": "stream",
     "text": [
      " 68%|██████▊   | 20515/30000 [03:11<01:27, 108.90it/s]"
     ]
    },
    {
     "name": "stdout",
     "output_type": "stream",
     "text": [
      "loss for epoch 20500 --> 0.07669326663017273\n"
     ]
    },
    {
     "name": "stderr",
     "output_type": "stream",
     "text": [
      " 70%|███████   | 21013/30000 [03:16<01:22, 109.30it/s]"
     ]
    },
    {
     "name": "stdout",
     "output_type": "stream",
     "text": [
      "loss for epoch 21000 --> 0.06852342933416367\n"
     ]
    },
    {
     "name": "stderr",
     "output_type": "stream",
     "text": [
      " 72%|███████▏  | 21518/30000 [03:21<01:18, 108.08it/s]"
     ]
    },
    {
     "name": "stdout",
     "output_type": "stream",
     "text": [
      "loss for epoch 21500 --> 0.07947579026222229\n"
     ]
    },
    {
     "name": "stderr",
     "output_type": "stream",
     "text": [
      " 73%|███████▎  | 22018/30000 [03:25<01:14, 106.68it/s]"
     ]
    },
    {
     "name": "stdout",
     "output_type": "stream",
     "text": [
      "loss for epoch 22000 --> 0.09512034058570862\n"
     ]
    },
    {
     "name": "stderr",
     "output_type": "stream",
     "text": [
      " 75%|███████▌  | 22520/30000 [03:30<01:10, 106.27it/s]"
     ]
    },
    {
     "name": "stdout",
     "output_type": "stream",
     "text": [
      "loss for epoch 22500 --> 0.32141542434692383\n"
     ]
    },
    {
     "name": "stderr",
     "output_type": "stream",
     "text": [
      " 77%|███████▋  | 23014/30000 [03:34<01:06, 104.47it/s]"
     ]
    },
    {
     "name": "stdout",
     "output_type": "stream",
     "text": [
      "loss for epoch 23000 --> 0.08427149057388306\n"
     ]
    },
    {
     "name": "stderr",
     "output_type": "stream",
     "text": [
      " 78%|███████▊  | 23519/30000 [03:39<00:59, 108.98it/s]"
     ]
    },
    {
     "name": "stdout",
     "output_type": "stream",
     "text": [
      "loss for epoch 23500 --> 0.08060865104198456\n"
     ]
    },
    {
     "name": "stderr",
     "output_type": "stream",
     "text": [
      " 80%|████████  | 24011/30000 [03:44<00:54, 109.35it/s]"
     ]
    },
    {
     "name": "stdout",
     "output_type": "stream",
     "text": [
      "loss for epoch 24000 --> 0.08181087672710419\n"
     ]
    },
    {
     "name": "stderr",
     "output_type": "stream",
     "text": [
      " 82%|████████▏ | 24514/30000 [03:48<00:49, 110.76it/s]"
     ]
    },
    {
     "name": "stdout",
     "output_type": "stream",
     "text": [
      "loss for epoch 24500 --> 0.058844536542892456\n"
     ]
    },
    {
     "name": "stderr",
     "output_type": "stream",
     "text": [
      " 83%|████████▎ | 25012/30000 [03:53<00:46, 107.84it/s]"
     ]
    },
    {
     "name": "stdout",
     "output_type": "stream",
     "text": [
      "loss for epoch 25000 --> 0.09632784128189087\n"
     ]
    },
    {
     "name": "stderr",
     "output_type": "stream",
     "text": [
      " 85%|████████▌ | 25516/30000 [03:58<00:41, 107.87it/s]"
     ]
    },
    {
     "name": "stdout",
     "output_type": "stream",
     "text": [
      "loss for epoch 25500 --> 0.0853881686925888\n"
     ]
    },
    {
     "name": "stderr",
     "output_type": "stream",
     "text": [
      " 87%|████████▋ | 26019/30000 [04:02<00:37, 107.56it/s]"
     ]
    },
    {
     "name": "stdout",
     "output_type": "stream",
     "text": [
      "loss for epoch 26000 --> 0.07220478355884552\n"
     ]
    },
    {
     "name": "stderr",
     "output_type": "stream",
     "text": [
      " 88%|████████▊ | 26518/30000 [04:07<00:32, 106.09it/s]"
     ]
    },
    {
     "name": "stdout",
     "output_type": "stream",
     "text": [
      "loss for epoch 26500 --> 0.09600336849689484\n"
     ]
    },
    {
     "name": "stderr",
     "output_type": "stream",
     "text": [
      " 90%|█████████ | 27017/30000 [04:12<00:27, 108.48it/s]"
     ]
    },
    {
     "name": "stdout",
     "output_type": "stream",
     "text": [
      "loss for epoch 27000 --> 0.1531456708908081\n"
     ]
    },
    {
     "name": "stderr",
     "output_type": "stream",
     "text": [
      " 92%|█████████▏| 27518/30000 [04:16<00:23, 104.49it/s]"
     ]
    },
    {
     "name": "stdout",
     "output_type": "stream",
     "text": [
      "loss for epoch 27500 --> 0.09704552590847015\n"
     ]
    },
    {
     "name": "stderr",
     "output_type": "stream",
     "text": [
      " 93%|█████████▎| 28009/30000 [04:21<00:21, 92.49it/s]"
     ]
    },
    {
     "name": "stdout",
     "output_type": "stream",
     "text": [
      "loss for epoch 28000 --> 0.0896797925233841\n"
     ]
    },
    {
     "name": "stderr",
     "output_type": "stream",
     "text": [
      " 95%|█████████▌| 28513/30000 [04:26<00:14, 104.50it/s]"
     ]
    },
    {
     "name": "stdout",
     "output_type": "stream",
     "text": [
      "loss for epoch 28500 --> 0.06203358620405197\n"
     ]
    },
    {
     "name": "stderr",
     "output_type": "stream",
     "text": [
      " 97%|█████████▋| 29021/30000 [04:31<00:09, 105.17it/s]"
     ]
    },
    {
     "name": "stdout",
     "output_type": "stream",
     "text": [
      "loss for epoch 29000 --> 0.0788012146949768\n"
     ]
    },
    {
     "name": "stderr",
     "output_type": "stream",
     "text": [
      " 98%|█████████▊| 29518/30000 [04:36<00:04, 108.45it/s]"
     ]
    },
    {
     "name": "stdout",
     "output_type": "stream",
     "text": [
      "loss for epoch 29500 --> 0.05215046554803848\n"
     ]
    },
    {
     "name": "stderr",
     "output_type": "stream",
     "text": [
      "100%|██████████| 30000/30000 [04:40<00:00, 106.91it/s]"
     ]
    },
    {
     "name": "stdout",
     "output_type": "stream",
     "text": [
      "loss for epoch 30000 --> 0.09059187024831772\n"
     ]
    },
    {
     "name": "stderr",
     "output_type": "stream",
     "text": [
      "\n"
     ]
    }
   ],
   "source": [
    "optimizer = torch.optim.AdamW(params=model.parameters(), lr=1e-4)\n",
    "#scheduler = torch.optim.lr_scheduler.StepLR(optimizer, step_size=5, gamma=0.05)\n",
    "loss_fn = nn.BCEWithLogitsLoss()\n",
    "\n",
    "epochs = 30000\n",
    "train_model(model=model, data=train_dataset, batch_size=256, loss_fn=loss_fn, optimizer=optimizer, epochs=epochs)"
   ]
  },
  {
   "cell_type": "code",
   "execution_count": 18,
   "id": "5b54d89d",
   "metadata": {
    "execution": {
     "iopub.execute_input": "2024-07-13T17:52:54.752187Z",
     "iopub.status.busy": "2024-07-13T17:52:54.751235Z",
     "iopub.status.idle": "2024-07-13T17:52:54.781580Z",
     "shell.execute_reply": "2024-07-13T17:52:54.780441Z"
    },
    "papermill": {
     "duration": 0.284864,
     "end_time": "2024-07-13T17:52:54.783847",
     "exception": false,
     "start_time": "2024-07-13T17:52:54.498983",
     "status": "completed"
    },
    "tags": []
   },
   "outputs": [
    {
     "name": "stdout",
     "output_type": "stream",
     "text": [
      "Pclass unique values --> [3 2 1]\n",
      "Sex unique values --> ['male' 'female']\n",
      "null value found in the column Age; totaling 86 null entries; 20.574162679425836%\n",
      "SibSp unique values --> [0 1 2 3 4 5 8]\n",
      "Parch unique values --> [0 1 3 2 4 6 5 9]\n",
      "null value found in the column Fare; totaling 1 null entries; 0.23923444976076555%\n",
      "Embarked unique values --> ['Q' 'S' 'C']\n",
      "Pclass unique values --> [3 2 1]\n",
      "Sex unique values --> ['male' 'female']\n",
      "null value found in the column Age; totaling 86 null entries; 20.623501199040767%\n",
      "SibSp unique values --> [0 1 2 3 4 5 8]\n",
      "Parch unique values --> [0 1 3 2 4 6 5 9]\n",
      "Embarked unique values --> ['Q' 'S' 'C']\n"
     ]
    },
    {
     "data": {
      "text/plain": [
       "PassengerId    417\n",
       "Pclass         417\n",
       "Sex            417\n",
       "Age            331\n",
       "SibSp          417\n",
       "Parch          417\n",
       "Fare           417\n",
       "Embarked       417\n",
       "dtype: int64"
      ]
     },
     "execution_count": 18,
     "metadata": {},
     "output_type": "execute_result"
    }
   ],
   "source": [
    "test_dataset = pd.read_csv(\"/kaggle/input/titanic/test.csv\")\n",
    "test_dataset.drop(columns=[\"Name\", \"Cabin\", \"Ticket\"], inplace=True)\n",
    "check_data(data=test_dataset, clean=True)\n",
    "check_data(data=test_dataset, clean=True)\n",
    "test_dataset.count()"
   ]
  },
  {
   "cell_type": "code",
   "execution_count": 19,
   "id": "da064607",
   "metadata": {
    "execution": {
     "iopub.execute_input": "2024-07-13T17:52:55.259328Z",
     "iopub.status.busy": "2024-07-13T17:52:55.258681Z",
     "iopub.status.idle": "2024-07-13T17:52:55.270638Z",
     "shell.execute_reply": "2024-07-13T17:52:55.269644Z"
    },
    "papermill": {
     "duration": 0.242061,
     "end_time": "2024-07-13T17:52:55.273109",
     "exception": false,
     "start_time": "2024-07-13T17:52:55.031048",
     "status": "completed"
    },
    "tags": []
   },
   "outputs": [
    {
     "name": "stdout",
     "output_type": "stream",
     "text": [
      "Pclass unique values --> [3 2 1]\n",
      "Sex unique values --> [0 1]\n",
      "SibSp unique values --> [0 1 2 3 4 5 8]\n",
      "Parch unique values --> [0 1 3 2 4 6 5 9]\n",
      "Embarked unique values --> [2 0 1]\n"
     ]
    }
   ],
   "source": [
    "median_age = train_dataset[\"Age\"].median()\n",
    "test_dataset.fillna({\"Age\": median_age}, inplace=True)\n",
    "\n",
    "test_dataset[\"Sex\"] = test_dataset[\"Sex\"].map(sex_mapping)\n",
    "test_dataset[\"Embarked\"] = test_dataset[\"Embarked\"].map(embarked_mapping)\n",
    "\n",
    "check_data(data=test_dataset, clean=False)"
   ]
  },
  {
   "cell_type": "code",
   "execution_count": 20,
   "id": "e5bf69bf",
   "metadata": {
    "execution": {
     "iopub.execute_input": "2024-07-13T17:52:55.724901Z",
     "iopub.status.busy": "2024-07-13T17:52:55.724088Z",
     "iopub.status.idle": "2024-07-13T17:52:55.732084Z",
     "shell.execute_reply": "2024-07-13T17:52:55.731164Z"
    },
    "papermill": {
     "duration": 0.233735,
     "end_time": "2024-07-13T17:52:55.734004",
     "exception": false,
     "start_time": "2024-07-13T17:52:55.500269",
     "status": "completed"
    },
    "tags": []
   },
   "outputs": [
    {
     "data": {
      "text/plain": [
       "PassengerId    417\n",
       "Pclass         417\n",
       "Sex            417\n",
       "Age            417\n",
       "SibSp          417\n",
       "Parch          417\n",
       "Fare           417\n",
       "Embarked       417\n",
       "dtype: int64"
      ]
     },
     "execution_count": 20,
     "metadata": {},
     "output_type": "execute_result"
    }
   ],
   "source": [
    "test_dataset.count()"
   ]
  },
  {
   "cell_type": "code",
   "execution_count": 21,
   "id": "02341d23",
   "metadata": {
    "execution": {
     "iopub.execute_input": "2024-07-13T17:52:56.224888Z",
     "iopub.status.busy": "2024-07-13T17:52:56.224008Z",
     "iopub.status.idle": "2024-07-13T17:52:56.236918Z",
     "shell.execute_reply": "2024-07-13T17:52:56.236061Z"
    },
    "papermill": {
     "duration": 0.284719,
     "end_time": "2024-07-13T17:52:56.239029",
     "exception": false,
     "start_time": "2024-07-13T17:52:55.954310",
     "status": "completed"
    },
    "tags": []
   },
   "outputs": [
    {
     "data": {
      "text/html": [
       "<div>\n",
       "<style scoped>\n",
       "    .dataframe tbody tr th:only-of-type {\n",
       "        vertical-align: middle;\n",
       "    }\n",
       "\n",
       "    .dataframe tbody tr th {\n",
       "        vertical-align: top;\n",
       "    }\n",
       "\n",
       "    .dataframe thead th {\n",
       "        text-align: right;\n",
       "    }\n",
       "</style>\n",
       "<table border=\"1\" class=\"dataframe\">\n",
       "  <thead>\n",
       "    <tr style=\"text-align: right;\">\n",
       "      <th></th>\n",
       "      <th>PassengerId</th>\n",
       "      <th>Pclass</th>\n",
       "      <th>Sex</th>\n",
       "      <th>Age</th>\n",
       "      <th>SibSp</th>\n",
       "      <th>Parch</th>\n",
       "      <th>Fare</th>\n",
       "      <th>Embarked</th>\n",
       "    </tr>\n",
       "  </thead>\n",
       "  <tbody>\n",
       "    <tr>\n",
       "      <th>334</th>\n",
       "      <td>1226</td>\n",
       "      <td>3</td>\n",
       "      <td>0</td>\n",
       "      <td>27.0</td>\n",
       "      <td>0</td>\n",
       "      <td>0</td>\n",
       "      <td>7.8958</td>\n",
       "      <td>0</td>\n",
       "    </tr>\n",
       "    <tr>\n",
       "      <th>4</th>\n",
       "      <td>896</td>\n",
       "      <td>3</td>\n",
       "      <td>1</td>\n",
       "      <td>22.0</td>\n",
       "      <td>1</td>\n",
       "      <td>1</td>\n",
       "      <td>12.2875</td>\n",
       "      <td>0</td>\n",
       "    </tr>\n",
       "    <tr>\n",
       "      <th>378</th>\n",
       "      <td>1270</td>\n",
       "      <td>1</td>\n",
       "      <td>0</td>\n",
       "      <td>55.0</td>\n",
       "      <td>0</td>\n",
       "      <td>0</td>\n",
       "      <td>50.0000</td>\n",
       "      <td>0</td>\n",
       "    </tr>\n",
       "    <tr>\n",
       "      <th>387</th>\n",
       "      <td>1279</td>\n",
       "      <td>2</td>\n",
       "      <td>0</td>\n",
       "      <td>57.0</td>\n",
       "      <td>0</td>\n",
       "      <td>0</td>\n",
       "      <td>13.0000</td>\n",
       "      <td>0</td>\n",
       "    </tr>\n",
       "    <tr>\n",
       "      <th>207</th>\n",
       "      <td>1099</td>\n",
       "      <td>2</td>\n",
       "      <td>0</td>\n",
       "      <td>24.0</td>\n",
       "      <td>0</td>\n",
       "      <td>0</td>\n",
       "      <td>10.5000</td>\n",
       "      <td>0</td>\n",
       "    </tr>\n",
       "  </tbody>\n",
       "</table>\n",
       "</div>"
      ],
      "text/plain": [
       "     PassengerId  Pclass  Sex   Age  SibSp  Parch     Fare  Embarked\n",
       "334         1226       3    0  27.0      0      0   7.8958         0\n",
       "4            896       3    1  22.0      1      1  12.2875         0\n",
       "378         1270       1    0  55.0      0      0  50.0000         0\n",
       "387         1279       2    0  57.0      0      0  13.0000         0\n",
       "207         1099       2    0  24.0      0      0  10.5000         0"
      ]
     },
     "execution_count": 21,
     "metadata": {},
     "output_type": "execute_result"
    }
   ],
   "source": [
    "test_dataset.sample(5)"
   ]
  },
  {
   "cell_type": "code",
   "execution_count": 22,
   "id": "4e8b2be6",
   "metadata": {
    "execution": {
     "iopub.execute_input": "2024-07-13T17:52:56.696956Z",
     "iopub.status.busy": "2024-07-13T17:52:56.696227Z",
     "iopub.status.idle": "2024-07-13T17:52:56.703173Z",
     "shell.execute_reply": "2024-07-13T17:52:56.702298Z"
    },
    "papermill": {
     "duration": 0.231168,
     "end_time": "2024-07-13T17:52:56.705055",
     "exception": false,
     "start_time": "2024-07-13T17:52:56.473887",
     "status": "completed"
    },
    "tags": []
   },
   "outputs": [],
   "source": [
    "def model_inference(model, data):\n",
    "    model.eval()\n",
    "    outputs = {\n",
    "        \"PassengerId\": [],\n",
    "        \"Survived\": []\n",
    "    }\n",
    "\n",
    "    for i in range(len(data)):\n",
    "        Pid = data[\"PassengerId\"].iloc[i]\n",
    "\n",
    "        inputs = torch.tensor(data.drop(columns=\"PassengerId\").iloc[i].to_numpy(), dtype=torch.float32)\n",
    "        with torch.inference_mode():\n",
    "            logits = model(inputs) # shape of 1\n",
    "            probs = torch.sigmoid(logits)\n",
    "            pred = (probs > 0.5).int()\n",
    "            outputs[\"PassengerId\"].append(Pid)\n",
    "            outputs[\"Survived\"].append(pred.item())\n",
    "    return outputs\n"
   ]
  },
  {
   "cell_type": "code",
   "execution_count": 23,
   "id": "28916976",
   "metadata": {
    "execution": {
     "iopub.execute_input": "2024-07-13T17:52:57.156219Z",
     "iopub.status.busy": "2024-07-13T17:52:57.155511Z",
     "iopub.status.idle": "2024-07-13T17:52:58.090144Z",
     "shell.execute_reply": "2024-07-13T17:52:58.089319Z"
    },
    "papermill": {
     "duration": 1.162491,
     "end_time": "2024-07-13T17:52:58.092446",
     "exception": false,
     "start_time": "2024-07-13T17:52:56.929955",
     "status": "completed"
    },
    "tags": []
   },
   "outputs": [],
   "source": [
    "df = pd.DataFrame(model_inference(model=model, data=test_dataset))\n",
    "df.to_csv(\"./submission.csv\", index=False)\n"
   ]
  },
  {
   "cell_type": "code",
   "execution_count": null,
   "id": "28dec2a9",
   "metadata": {
    "papermill": {
     "duration": 0.238977,
     "end_time": "2024-07-13T17:52:58.568105",
     "exception": false,
     "start_time": "2024-07-13T17:52:58.329128",
     "status": "completed"
    },
    "tags": []
   },
   "outputs": [],
   "source": []
  }
 ],
 "metadata": {
  "kaggle": {
   "accelerator": "none",
   "dataSources": [
    {
     "databundleVersionId": 26502,
     "sourceId": 3136,
     "sourceType": "competition"
    }
   ],
   "dockerImageVersionId": 30746,
   "isGpuEnabled": false,
   "isInternetEnabled": true,
   "language": "python",
   "sourceType": "notebook"
  },
  "kernelspec": {
   "display_name": "Python 3",
   "language": "python",
   "name": "python3"
  },
  "language_info": {
   "codemirror_mode": {
    "name": "ipython",
    "version": 3
   },
   "file_extension": ".py",
   "mimetype": "text/x-python",
   "name": "python",
   "nbconvert_exporter": "python",
   "pygments_lexer": "ipython3",
   "version": "3.10.13"
  },
  "papermill": {
   "default_parameters": {},
   "duration": 298.949685,
   "end_time": "2024-07-13T17:53:00.312625",
   "environment_variables": {},
   "exception": null,
   "input_path": "__notebook__.ipynb",
   "output_path": "__notebook__.ipynb",
   "parameters": {},
   "start_time": "2024-07-13T17:48:01.362940",
   "version": "2.5.0"
  }
 },
 "nbformat": 4,
 "nbformat_minor": 5
}
