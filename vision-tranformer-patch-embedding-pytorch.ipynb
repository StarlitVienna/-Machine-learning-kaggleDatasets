{
 "cells": [
  {
   "cell_type": "markdown",
   "id": "5c36855c",
   "metadata": {
    "papermill": {
     "duration": 0.007021,
     "end_time": "2024-07-16T11:18:35.410550",
     "exception": false,
     "start_time": "2024-07-16T11:18:35.403529",
     "status": "completed"
    },
    "tags": []
   },
   "source": [
    "!kaggle competitions download -c digit-recognizer"
   ]
  },
  {
   "cell_type": "markdown",
   "id": "b7bdcebd",
   "metadata": {
    "papermill": {
     "duration": 0.005654,
     "end_time": "2024-07-16T11:18:35.422761",
     "exception": false,
     "start_time": "2024-07-16T11:18:35.417107",
     "status": "completed"
    },
    "tags": []
   },
   "source": [
    "!unzip -x ./digit-recognizer.zip"
   ]
  },
  {
   "cell_type": "code",
   "execution_count": 1,
   "id": "915c0cfa",
   "metadata": {
    "execution": {
     "iopub.execute_input": "2024-07-16T11:18:35.437876Z",
     "iopub.status.busy": "2024-07-16T11:18:35.437381Z",
     "iopub.status.idle": "2024-07-16T11:18:44.666769Z",
     "shell.execute_reply": "2024-07-16T11:18:44.665484Z"
    },
    "papermill": {
     "duration": 9.241099,
     "end_time": "2024-07-16T11:18:44.669897",
     "exception": false,
     "start_time": "2024-07-16T11:18:35.428798",
     "status": "completed"
    },
    "tags": []
   },
   "outputs": [],
   "source": [
    "from typing import Tuple\n",
    "import torch\n",
    "from torch import nn\n",
    "from torch.utils.data import Dataset, DataLoader, TensorDataset\n",
    "from torch.optim.lr_scheduler import StepLR\n",
    "from torchvision.datasets import MNIST\n",
    "import torchvision\n",
    "from sklearn.model_selection import train_test_split\n",
    "import pandas as pd\n",
    "from tqdm import tqdm\n",
    "import matplotlib.pyplot as plt\n",
    "import numpy as np"
   ]
  },
  {
   "cell_type": "markdown",
   "id": "55b6122e",
   "metadata": {
    "papermill": {
     "duration": 0.005983,
     "end_time": "2024-07-16T11:18:44.682603",
     "exception": false,
     "start_time": "2024-07-16T11:18:44.676620",
     "status": "completed"
    },
    "tags": []
   },
   "source": [
    "# Device agnostic code"
   ]
  },
  {
   "cell_type": "code",
   "execution_count": 2,
   "id": "7e52b7b3",
   "metadata": {
    "execution": {
     "iopub.execute_input": "2024-07-16T11:18:44.697257Z",
     "iopub.status.busy": "2024-07-16T11:18:44.696520Z",
     "iopub.status.idle": "2024-07-16T11:18:44.704281Z",
     "shell.execute_reply": "2024-07-16T11:18:44.702862Z"
    },
    "papermill": {
     "duration": 0.018856,
     "end_time": "2024-07-16T11:18:44.707609",
     "exception": false,
     "start_time": "2024-07-16T11:18:44.688753",
     "status": "completed"
    },
    "tags": []
   },
   "outputs": [
    {
     "name": "stdout",
     "output_type": "stream",
     "text": [
      "default device set to cpu\n"
     ]
    }
   ],
   "source": [
    "device = \"cuda\" if torch.cuda.is_available() else \"cpu\"\n",
    "torch.set_default_device(device)\n",
    "print(f\"default device set to {device}\")"
   ]
  },
  {
   "cell_type": "code",
   "execution_count": 3,
   "id": "b30be76f",
   "metadata": {
    "execution": {
     "iopub.execute_input": "2024-07-16T11:18:44.722882Z",
     "iopub.status.busy": "2024-07-16T11:18:44.722409Z",
     "iopub.status.idle": "2024-07-16T11:18:52.025341Z",
     "shell.execute_reply": "2024-07-16T11:18:52.024002Z"
    },
    "papermill": {
     "duration": 7.314821,
     "end_time": "2024-07-16T11:18:52.028804",
     "exception": false,
     "start_time": "2024-07-16T11:18:44.713983",
     "status": "completed"
    },
    "tags": []
   },
   "outputs": [],
   "source": [
    "train_df = pd.read_csv(\"/kaggle/input/digit-recognizer/train.csv\")\n",
    "test_df = pd.read_csv(\"/kaggle/input/digit-recognizer/test.csv\")"
   ]
  },
  {
   "cell_type": "code",
   "execution_count": 4,
   "id": "d12010ef",
   "metadata": {
    "execution": {
     "iopub.execute_input": "2024-07-16T11:18:52.043807Z",
     "iopub.status.busy": "2024-07-16T11:18:52.043313Z",
     "iopub.status.idle": "2024-07-16T11:18:52.052494Z",
     "shell.execute_reply": "2024-07-16T11:18:52.051096Z"
    },
    "papermill": {
     "duration": 0.020523,
     "end_time": "2024-07-16T11:18:52.055824",
     "exception": false,
     "start_time": "2024-07-16T11:18:52.035301",
     "status": "completed"
    },
    "tags": []
   },
   "outputs": [],
   "source": [
    "class MNIST(Dataset):\n",
    "    def __init__(self, df: pd.DataFrame):\n",
    "        self.dataset = df\n",
    "    \n",
    "    def __len__(self):\n",
    "        return len(self.dataset)\n",
    "\n",
    "    def __getitem__(self, idx):\n",
    "        inputs = torch.tensor(self.dataset.drop(columns=[\"label\"]).iloc[idx].to_numpy().reshape(1, 28, 28), dtype=torch.float32)\n",
    "        label = torch.tensor(self.dataset[\"label\"].iloc[idx], dtype=torch.long)\n",
    "\n",
    "        return (inputs, label)"
   ]
  },
  {
   "cell_type": "code",
   "execution_count": 5,
   "id": "b472a8df",
   "metadata": {
    "execution": {
     "iopub.execute_input": "2024-07-16T11:18:52.070833Z",
     "iopub.status.busy": "2024-07-16T11:18:52.070369Z",
     "iopub.status.idle": "2024-07-16T11:18:52.592390Z",
     "shell.execute_reply": "2024-07-16T11:18:52.591219Z"
    },
    "papermill": {
     "duration": 0.53258,
     "end_time": "2024-07-16T11:18:52.594984",
     "exception": false,
     "start_time": "2024-07-16T11:18:52.062404",
     "status": "completed"
    },
    "tags": []
   },
   "outputs": [
    {
     "data": {
      "text/plain": [
       "(tensor([[[  0.,   0.,   0.,   0.,   0.,   0.,   0.,   0.,   0.,   0.,   0.,\n",
       "             0.,   0.,   0.,   0.,   0.,   0.,   0.,   0.,   0.,   0.,   0.,\n",
       "             0.,   0.,   0.,   0.,   0.,   0.],\n",
       "          [  0.,   0.,   0.,   0.,   0.,   0.,   0.,   0.,   0.,   0.,   0.,\n",
       "             0.,   0.,   0.,   0.,   0.,   0.,   0.,   0.,   0.,   0.,   0.,\n",
       "             0.,   0.,   0.,   0.,   0.,   0.],\n",
       "          [  0.,   0.,   0.,   0.,   0.,   0.,   0.,   0.,   0.,   0.,   0.,\n",
       "             0.,   0.,   0.,   0.,   0.,   0.,   0.,   0.,   0.,   0.,   0.,\n",
       "             0.,   0.,   0.,   0.,   0.,   0.],\n",
       "          [  0.,   0.,   0.,   0.,   0.,   0.,   0.,   0.,   0.,   0.,   0.,\n",
       "             0.,   0.,   0.,   0.,   0.,   0.,   0.,   0.,   0.,   0.,   0.,\n",
       "             0.,   0.,   0.,   0.,   0.,   0.],\n",
       "          [  0.,   0.,   0.,   0.,   0.,   0.,   0.,   0.,   0.,   0.,   0.,\n",
       "             0.,   0.,   0.,   0.,   0.,   0.,   0.,   0.,   0.,   0.,   0.,\n",
       "             0.,   0.,   0.,   0.,   0.,   0.],\n",
       "          [  0.,   0.,   0.,   0.,   0.,   0.,   0.,   0.,   0.,   0.,   0.,\n",
       "             0.,   0.,   0., 130., 216.,   0.,   0.,   0.,   0.,   0.,   0.,\n",
       "             0.,   0.,   0.,   0.,   0.,   0.],\n",
       "          [  0.,   0.,   0.,   0.,   0.,   0.,   0.,   0.,   0.,   0.,   0.,\n",
       "             0.,   0.,   0., 130., 241.,  31.,   0.,   0.,   0.,   0.,   0.,\n",
       "             0.,   0.,   0.,   0.,   0.,   0.],\n",
       "          [  0.,   0.,   0.,   0.,   0.,   0.,   0.,   0.,   0.,   0.,   0.,\n",
       "             0.,   0.,   0., 130., 254.,  47.,   0.,   0.,   0.,   0.,   0.,\n",
       "             0.,   0.,   0.,   0.,   0.,   0.],\n",
       "          [  0.,   0.,   0.,   0.,   0.,   0.,   0.,   0.,   0.,   0.,   0.,\n",
       "             0.,   0.,   0., 130., 231.,  19.,   0.,   0.,   0.,   0.,   0.,\n",
       "             0.,   0.,   0.,   0.,   0.,   0.],\n",
       "          [  0.,   0.,   0.,   0.,   0.,   0.,   0.,   0.,   0.,   0.,   0.,\n",
       "             0.,   0.,   0., 211., 215.,   0.,   0.,   0.,   0.,   0.,   0.,\n",
       "             0.,   0.,   0.,   0.,   0.,   0.],\n",
       "          [  0.,   0.,   0.,   0.,   0.,   0.,   0.,   0.,   0.,   0.,   0.,\n",
       "             0.,   0.,  28., 238., 215.,   0.,   0.,   0.,   0.,   0.,   0.,\n",
       "             0.,   0.,   0.,   0.,   0.,   0.],\n",
       "          [  0.,   0.,   0.,   0.,   0.,   0.,   0.,   0.,   0.,   0.,   0.,\n",
       "             0.,   0.,  48., 254., 215.,   0.,   0.,   0.,   0.,   0.,   0.,\n",
       "             0.,   0.,   0.,   0.,   0.,   0.],\n",
       "          [  0.,   0.,   0.,   0.,   0.,   0.,   0.,   0.,   0.,   0.,   0.,\n",
       "             0.,   0.,  32., 242., 215.,   0.,   0.,   0.,   0.,   0.,   0.,\n",
       "             0.,   0.,   0.,   0.,   0.,   0.],\n",
       "          [  0.,   0.,   0.,   0.,   0.,   0.,   0.,   0.,   0.,   0.,   0.,\n",
       "             0.,   0.,  48., 254., 215.,   0.,   0.,   0.,   0.,   0.,   0.,\n",
       "             0.,   0.,   0.,   0.,   0.,   0.],\n",
       "          [  0.,   0.,   0.,   0.,   0.,   0.,   0.,   0.,   0.,   0.,   0.,\n",
       "             0.,   0.,  48., 255., 186.,   0.,   0.,   0.,   0.,   0.,   0.,\n",
       "             0.,   0.,   0.,   0.,   0.,   0.],\n",
       "          [  0.,   0.,   0.,   0.,   0.,   0.,   0.,   0.,   0.,   0.,   0.,\n",
       "             0.,   0.,  48., 254., 186.,   0.,   0.,   0.,   0.,   0.,   0.,\n",
       "             0.,   0.,   0.,   0.,   0.,   0.],\n",
       "          [  0.,   0.,   0.,   0.,   0.,   0.,   0.,   0.,   0.,   0.,   0.,\n",
       "             0.,   0.,  48., 255., 215.,   0.,   0.,   0.,   0.,   0.,   0.,\n",
       "             0.,   0.,   0.,   0.,   0.,   0.],\n",
       "          [  0.,   0.,   0.,   0.,   0.,   0.,   0.,   0.,   0.,   0.,   0.,\n",
       "             0.,   0.,  10., 224., 146.,   0.,   0.,   0.,   0.,   0.,   0.,\n",
       "             0.,   0.,   0.,   0.,   0.,   0.],\n",
       "          [  0.,   0.,   0.,   0.,   0.,   0.,   0.,   0.,   0.,   0.,   0.,\n",
       "             0.,   0.,   0., 216., 197.,   0.,   0.,   0.,   0.,   0.,   0.,\n",
       "             0.,   0.,   0.,   0.,   0.,   0.],\n",
       "          [  0.,   0.,   0.,   0.,   0.,   0.,   0.,   0.,   0.,   0.,   0.,\n",
       "             0.,   0.,   0., 216., 215.,   0.,   0.,   0.,   0.,   0.,   0.,\n",
       "             0.,   0.,   0.,   0.,   0.,   0.],\n",
       "          [  0.,   0.,   0.,   0.,   0.,   0.,   0.,   0.,   0.,   0.,   0.,\n",
       "             0.,   0.,   0., 216., 215.,   0.,   0.,   0.,   0.,   0.,   0.,\n",
       "             0.,   0.,   0.,   0.,   0.,   0.],\n",
       "          [  0.,   0.,   0.,   0.,   0.,   0.,   0.,   0.,   0.,   0.,   0.,\n",
       "             0.,   0.,   0., 216., 215.,   0.,   0.,   0.,   0.,   0.,   0.,\n",
       "             0.,   0.,   0.,   0.,   0.,   0.],\n",
       "          [  0.,   0.,   0.,   0.,   0.,   0.,   0.,   0.,   0.,   0.,   0.,\n",
       "             0.,   0.,   0., 216., 215.,   0.,   0.,   0.,   0.,   0.,   0.,\n",
       "             0.,   0.,   0.,   0.,   0.,   0.],\n",
       "          [  0.,   0.,   0.,   0.,   0.,   0.,   0.,   0.,   0.,   0.,   0.,\n",
       "             0.,   0.,   0., 156., 215.,   0.,   0.,   0.,   0.,   0.,   0.,\n",
       "             0.,   0.,   0.,   0.,   0.,   0.],\n",
       "          [  0.,   0.,   0.,   0.,   0.,   0.,   0.,   0.,   0.,   0.,   0.,\n",
       "             0.,   0.,   0., 189., 215.,   0.,   0.,   0.,   0.,   0.,   0.,\n",
       "             0.,   0.,   0.,   0.,   0.,   0.],\n",
       "          [  0.,   0.,   0.,   0.,   0.,   0.,   0.,   0.,   0.,   0.,   0.,\n",
       "             0.,   0.,   0.,   0.,   0.,   0.,   0.,   0.,   0.,   0.,   0.,\n",
       "             0.,   0.,   0.,   0.,   0.,   0.],\n",
       "          [  0.,   0.,   0.,   0.,   0.,   0.,   0.,   0.,   0.,   0.,   0.,\n",
       "             0.,   0.,   0.,   0.,   0.,   0.,   0.,   0.,   0.,   0.,   0.,\n",
       "             0.,   0.,   0.,   0.,   0.,   0.],\n",
       "          [  0.,   0.,   0.,   0.,   0.,   0.,   0.,   0.,   0.,   0.,   0.,\n",
       "             0.,   0.,   0.,   0.,   0.,   0.,   0.,   0.,   0.,   0.,   0.,\n",
       "             0.,   0.,   0.,   0.,   0.,   0.]]]),\n",
       " tensor(1))"
      ]
     },
     "execution_count": 5,
     "metadata": {},
     "output_type": "execute_result"
    }
   ],
   "source": [
    "train_split, val_split = train_test_split(train_df, test_size=0.2, shuffle=True)\n",
    "train_dataset = MNIST(df=train_split)\n",
    "val_dataset = MNIST(df=val_split)\n",
    "\n",
    "train_dataset[0]"
   ]
  },
  {
   "cell_type": "code",
   "execution_count": 6,
   "id": "400e51f2",
   "metadata": {
    "execution": {
     "iopub.execute_input": "2024-07-16T11:18:52.609069Z",
     "iopub.status.busy": "2024-07-16T11:18:52.608633Z",
     "iopub.status.idle": "2024-07-16T11:18:52.615223Z",
     "shell.execute_reply": "2024-07-16T11:18:52.614106Z"
    },
    "papermill": {
     "duration": 0.016527,
     "end_time": "2024-07-16T11:18:52.617692",
     "exception": false,
     "start_time": "2024-07-16T11:18:52.601165",
     "status": "completed"
    },
    "tags": []
   },
   "outputs": [],
   "source": [
    "train_dataloader = DataLoader(dataset=train_dataset, batch_size=8, generator=torch.Generator(device=device), shuffle=True)\n",
    "val_dataloader = DataLoader(dataset=val_dataset, batch_size=32, generator=torch.Generator(device=device), shuffle=True)"
   ]
  },
  {
   "cell_type": "code",
   "execution_count": 7,
   "id": "27d56833",
   "metadata": {
    "execution": {
     "iopub.execute_input": "2024-07-16T11:18:52.631849Z",
     "iopub.status.busy": "2024-07-16T11:18:52.631449Z",
     "iopub.status.idle": "2024-07-16T11:18:53.265177Z",
     "shell.execute_reply": "2024-07-16T11:18:53.263939Z"
    },
    "papermill": {
     "duration": 0.643821,
     "end_time": "2024-07-16T11:18:53.267883",
     "exception": false,
     "start_time": "2024-07-16T11:18:52.624062",
     "status": "completed"
    },
    "tags": []
   },
   "outputs": [
    {
     "data": {
      "text/plain": [
       "[tensor([[[[0., 0., 0.,  ..., 0., 0., 0.],\n",
       "           [0., 0., 0.,  ..., 0., 0., 0.],\n",
       "           [0., 0., 0.,  ..., 0., 0., 0.],\n",
       "           ...,\n",
       "           [0., 0., 0.,  ..., 0., 0., 0.],\n",
       "           [0., 0., 0.,  ..., 0., 0., 0.],\n",
       "           [0., 0., 0.,  ..., 0., 0., 0.]]],\n",
       " \n",
       " \n",
       "         [[[0., 0., 0.,  ..., 0., 0., 0.],\n",
       "           [0., 0., 0.,  ..., 0., 0., 0.],\n",
       "           [0., 0., 0.,  ..., 0., 0., 0.],\n",
       "           ...,\n",
       "           [0., 0., 0.,  ..., 0., 0., 0.],\n",
       "           [0., 0., 0.,  ..., 0., 0., 0.],\n",
       "           [0., 0., 0.,  ..., 0., 0., 0.]]],\n",
       " \n",
       " \n",
       "         [[[0., 0., 0.,  ..., 0., 0., 0.],\n",
       "           [0., 0., 0.,  ..., 0., 0., 0.],\n",
       "           [0., 0., 0.,  ..., 0., 0., 0.],\n",
       "           ...,\n",
       "           [0., 0., 0.,  ..., 0., 0., 0.],\n",
       "           [0., 0., 0.,  ..., 0., 0., 0.],\n",
       "           [0., 0., 0.,  ..., 0., 0., 0.]]],\n",
       " \n",
       " \n",
       "         ...,\n",
       " \n",
       " \n",
       "         [[[0., 0., 0.,  ..., 0., 0., 0.],\n",
       "           [0., 0., 0.,  ..., 0., 0., 0.],\n",
       "           [0., 0., 0.,  ..., 0., 0., 0.],\n",
       "           ...,\n",
       "           [0., 0., 0.,  ..., 0., 0., 0.],\n",
       "           [0., 0., 0.,  ..., 0., 0., 0.],\n",
       "           [0., 0., 0.,  ..., 0., 0., 0.]]],\n",
       " \n",
       " \n",
       "         [[[0., 0., 0.,  ..., 0., 0., 0.],\n",
       "           [0., 0., 0.,  ..., 0., 0., 0.],\n",
       "           [0., 0., 0.,  ..., 0., 0., 0.],\n",
       "           ...,\n",
       "           [0., 0., 0.,  ..., 0., 0., 0.],\n",
       "           [0., 0., 0.,  ..., 0., 0., 0.],\n",
       "           [0., 0., 0.,  ..., 0., 0., 0.]]],\n",
       " \n",
       " \n",
       "         [[[0., 0., 0.,  ..., 0., 0., 0.],\n",
       "           [0., 0., 0.,  ..., 0., 0., 0.],\n",
       "           [0., 0., 0.,  ..., 0., 0., 0.],\n",
       "           ...,\n",
       "           [0., 0., 0.,  ..., 0., 0., 0.],\n",
       "           [0., 0., 0.,  ..., 0., 0., 0.],\n",
       "           [0., 0., 0.,  ..., 0., 0., 0.]]]]),\n",
       " tensor([0, 4, 4, 5, 6, 8, 1, 4, 4, 8, 6, 2, 9, 1, 2, 8, 2, 8, 6, 0, 5, 3, 9, 9,\n",
       "         2, 6, 3, 5, 0, 5, 8, 9])]"
      ]
     },
     "execution_count": 7,
     "metadata": {},
     "output_type": "execute_result"
    }
   ],
   "source": [
    "next(iter(val_dataloader))"
   ]
  },
  {
   "cell_type": "code",
   "execution_count": 8,
   "id": "9540dada",
   "metadata": {
    "execution": {
     "iopub.execute_input": "2024-07-16T11:18:53.282646Z",
     "iopub.status.busy": "2024-07-16T11:18:53.282178Z",
     "iopub.status.idle": "2024-07-16T11:18:53.633757Z",
     "shell.execute_reply": "2024-07-16T11:18:53.632593Z"
    },
    "papermill": {
     "duration": 0.362275,
     "end_time": "2024-07-16T11:18:53.636572",
     "exception": false,
     "start_time": "2024-07-16T11:18:53.274297",
     "status": "completed"
    },
    "tags": []
   },
   "outputs": [
    {
     "name": "stdout",
     "output_type": "stream",
     "text": [
      "torch.Size([28, 28, 1])\n",
      "label is 4\n"
     ]
    },
    {
     "data": {
      "image/png": "[encoded data removed]",
      "text/plain": [
       "<Figure size 640x480 with 1 Axes>"
      ]
     },
     "metadata": {},
     "output_type": "display_data"
    }
   ],
   "source": [
    "def plot_random_image(dataset):\n",
    "    x = torch.randint(0, len(dataset), size=(1, )).item()\n",
    "    image = dataset[x][0] # C, W, H\n",
    "    print(image.permute(1, 2, 0).shape)\n",
    "    plt.imshow(image.permute(1, 2, 0).cpu().numpy(), cmap=\"gray\") # W, H, C\n",
    "    print(f\"label is {dataset[x][1]}\")\n",
    "\n",
    "plot_random_image(dataset=val_dataset)"
   ]
  },
  {
   "cell_type": "markdown",
   "id": "95d8a79c",
   "metadata": {
    "papermill": {
     "duration": 0.006853,
     "end_time": "2024-07-16T11:18:53.650352",
     "exception": false,
     "start_time": "2024-07-16T11:18:53.643499",
     "status": "completed"
    },
    "tags": []
   },
   "source": [
    "https://poloclub.github.io/cnn-explainer/"
   ]
  },
  {
   "cell_type": "code",
   "execution_count": 9,
   "id": "d585de47",
   "metadata": {
    "execution": {
     "iopub.execute_input": "2024-07-16T11:18:53.665649Z",
     "iopub.status.busy": "2024-07-16T11:18:53.665225Z",
     "iopub.status.idle": "2024-07-16T11:18:53.676157Z",
     "shell.execute_reply": "2024-07-16T11:18:53.674929Z"
    },
    "papermill": {
     "duration": 0.021702,
     "end_time": "2024-07-16T11:18:53.678887",
     "exception": false,
     "start_time": "2024-07-16T11:18:53.657185",
     "status": "completed"
    },
    "tags": []
   },
   "outputs": [],
   "source": [
    "# for starters, I will be assuming patch_size and img_size are both squares (images of same width and height)\n",
    "class PatchEmbedding(nn.Module):\n",
    "    def __init__(self, img_size: Tuple[int, int], patch_size: Tuple[int, int], in_channels: int, n_embd: int):\n",
    "        super(PatchEmbedding, self).__init__()\n",
    "\n",
    "        self.n_embd = n_embd\n",
    "        self.img_size = img_size\n",
    "        self.patch_size = patch_size\n",
    "\n",
    "        # For an image of size 16x16 and patch size 4x4:\n",
    "        # We divide the image size by the patch size to get the number of patches along each dimension\n",
    "        # (16 / 4) * (16 / 4) = 4 * 4 = 16 patches in total to cover the entire image\n",
    "        self.n_patches = (img_size[0] // patch_size[0]) * (img_size[1] // patch_size[1])\n",
    "\n",
    "        # The Conv2D layer's filter will move patch_size pixels horizontally and vertically because\n",
    "        # the stride is set to patch_size. This creates non-overlapping patches of size patch_size.\n",
    "        self.projection = nn.Conv2d(in_channels=in_channels, kernel_size=patch_size, stride=patch_size, out_channels=n_embd)\n",
    "\n",
    "    def forward(self, x: torch.Tensor) -> torch.Tensor:\n",
    "        # x is of shape (B, in_channels, W, H)\n",
    "        # Applying the Conv2D layer to x. This will create an output of shape:\n",
    "        # (B, n_embd, sqrt(n_patches), sqrt(n_patches))\n",
    "        # where sqrt(n_patches) * sqrt(n_patches) = n_patches. This means we have n_embd channels,\n",
    "        # each of size sqrt(n_patches) x sqrt(n_patches).\n",
    "        x = self.projection(x)\n",
    "        \n",
    "        # Reshape x to a tensor of shape (B, n_embd, n_patches)\n",
    "        # We are flattening the spatial dimensions (sqrt(n_patches) * sqrt(n_patches)) into one dimension (n_patches).\n",
    "        x = x.view(x.shape[0], self.n_embd, -1)\n",
    "        \n",
    "        # Transpose to get a tensor of shape (B, n_patches, n_embd)\n",
    "        return x.transpose(2, 1)\n"
   ]
  },
  {
   "cell_type": "code",
   "execution_count": 10,
   "id": "5ecbea18",
   "metadata": {
    "execution": {
     "iopub.execute_input": "2024-07-16T11:18:53.694635Z",
     "iopub.status.busy": "2024-07-16T11:18:53.694189Z",
     "iopub.status.idle": "2024-07-16T11:18:53.705430Z",
     "shell.execute_reply": "2024-07-16T11:18:53.704278Z"
    },
    "papermill": {
     "duration": 0.022031,
     "end_time": "2024-07-16T11:18:53.708117",
     "exception": false,
     "start_time": "2024-07-16T11:18:53.686086",
     "status": "completed"
    },
    "tags": []
   },
   "outputs": [],
   "source": [
    "img_size = (28, 28)\n",
    "patch_size = (4, 4)\n",
    "in_channels = 1\n",
    "n_embd = 256\n",
    "patch_embedding = PatchEmbedding(img_size=img_size, patch_size=patch_size, in_channels=in_channels, n_embd=n_embd)"
   ]
  },
  {
   "cell_type": "code",
   "execution_count": 11,
   "id": "fd41ee5f",
   "metadata": {
    "execution": {
     "iopub.execute_input": "2024-07-16T11:18:53.723457Z",
     "iopub.status.busy": "2024-07-16T11:18:53.723054Z",
     "iopub.status.idle": "2024-07-16T11:18:54.304351Z",
     "shell.execute_reply": "2024-07-16T11:18:54.302828Z"
    },
    "papermill": {
     "duration": 0.592172,
     "end_time": "2024-07-16T11:18:54.307199",
     "exception": false,
     "start_time": "2024-07-16T11:18:53.715027",
     "status": "completed"
    },
    "tags": []
   },
   "outputs": [
    {
     "name": "stdout",
     "output_type": "stream",
     "text": [
      "torch.Size([8, 49, 256])\n"
     ]
    }
   ],
   "source": [
    "patch_embedding.eval()\n",
    "with torch.inference_mode():\n",
    "    batch_inputs, batch_labels = next(iter(train_dataloader))\n",
    "    logits = patch_embedding(batch_inputs)\n",
    "    print(logits.shape) "
   ]
  },
  {
   "cell_type": "code",
   "execution_count": null,
   "id": "e45edf50",
   "metadata": {
    "papermill": {
     "duration": 0.00724,
     "end_time": "2024-07-16T11:18:54.322257",
     "exception": false,
     "start_time": "2024-07-16T11:18:54.315017",
     "status": "completed"
    },
    "tags": []
   },
   "outputs": [],
   "source": []
  }
 ],
 "metadata": {
  "kaggle": {
   "accelerator": "none",
   "dataSources": [
    {
     "databundleVersionId": 861823,
     "sourceId": 3004,
     "sourceType": "competition"
    }
   ],
   "dockerImageVersionId": 30746,
   "isGpuEnabled": false,
   "isInternetEnabled": true,
   "language": "python",
   "sourceType": "notebook"
  },
  "kernelspec": {
   "display_name": "Python 3",
   "language": "python",
   "name": "python3"
  },
  "language_info": {
   "codemirror_mode": {
    "name": "ipython",
    "version": 3
   },
   "file_extension": ".py",
   "mimetype": "text/x-python",
   "name": "python",
   "nbconvert_exporter": "python",
   "pygments_lexer": "ipython3",
   "version": "3.10.13"
  },
  "papermill": {
   "default_parameters": {},
   "duration": 23.554325,
   "end_time": "2024-07-16T11:18:55.653595",
   "environment_variables": {},
   "exception": null,
   "input_path": "__notebook__.ipynb",
   "output_path": "__notebook__.ipynb",
   "parameters": {},
   "start_time": "2024-07-16T11:18:32.099270",
   "version": "2.5.0"
  }
 },
 "nbformat": 4,
 "nbformat_minor": 5
}
