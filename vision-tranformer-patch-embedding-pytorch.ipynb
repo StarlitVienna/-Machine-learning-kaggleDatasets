{
 "cells": [
  {
   "cell_type": "markdown",
   "id": "e77ecd68",
   "metadata": {
    "papermill": {
     "duration": 0.00443,
     "end_time": "2024-07-15T21:57:38.256771",
     "exception": false,
     "start_time": "2024-07-15T21:57:38.252341",
     "status": "completed"
    },
    "tags": []
   },
   "source": [
    "!kaggle competitions download -c digit-recognizer"
   ]
  },
  {
   "cell_type": "markdown",
   "id": "7f489521",
   "metadata": {
    "papermill": {
     "duration": 0.003877,
     "end_time": "2024-07-15T21:57:38.265391",
     "exception": false,
     "start_time": "2024-07-15T21:57:38.261514",
     "status": "completed"
    },
    "tags": []
   },
   "source": [
    "!unzip -x ./digit-recognizer.zip"
   ]
  },
  {
   "cell_type": "code",
   "execution_count": 1,
   "id": "249c3a89",
   "metadata": {
    "execution": {
     "iopub.execute_input": "2024-07-15T21:57:38.275497Z",
     "iopub.status.busy": "2024-07-15T21:57:38.275062Z",
     "iopub.status.idle": "2024-07-15T21:57:45.988377Z",
     "shell.execute_reply": "2024-07-15T21:57:45.987104Z"
    },
    "papermill": {
     "duration": 7.721732,
     "end_time": "2024-07-15T21:57:45.991220",
     "exception": false,
     "start_time": "2024-07-15T21:57:38.269488",
     "status": "completed"
    },
    "tags": []
   },
   "outputs": [],
   "source": [
    "from typing import Tuple\n",
    "import torch\n",
    "from torch import nn\n",
    "from torch.utils.data import Dataset, DataLoader, TensorDataset\n",
    "from torch.optim.lr_scheduler import StepLR\n",
    "from torchvision.datasets import MNIST\n",
    "import torchvision\n",
    "from sklearn.model_selection import train_test_split\n",
    "import pandas as pd\n",
    "from tqdm import tqdm\n",
    "import matplotlib.pyplot as plt\n",
    "import numpy as np"
   ]
  },
  {
   "cell_type": "markdown",
   "id": "0fd242ad",
   "metadata": {
    "papermill": {
     "duration": 0.003859,
     "end_time": "2024-07-15T21:57:45.999481",
     "exception": false,
     "start_time": "2024-07-15T21:57:45.995622",
     "status": "completed"
    },
    "tags": []
   },
   "source": [
    "# Device agnostic code"
   ]
  },
  {
   "cell_type": "code",
   "execution_count": 2,
   "id": "cdaa4b1b",
   "metadata": {
    "execution": {
     "iopub.execute_input": "2024-07-15T21:57:46.009756Z",
     "iopub.status.busy": "2024-07-15T21:57:46.009192Z",
     "iopub.status.idle": "2024-07-15T21:57:46.015729Z",
     "shell.execute_reply": "2024-07-15T21:57:46.014642Z"
    },
    "papermill": {
     "duration": 0.014407,
     "end_time": "2024-07-15T21:57:46.018050",
     "exception": false,
     "start_time": "2024-07-15T21:57:46.003643",
     "status": "completed"
    },
    "tags": []
   },
   "outputs": [
    {
     "name": "stdout",
     "output_type": "stream",
     "text": [
      "default device set to cpu\n"
     ]
    }
   ],
   "source": [
    "device = \"cuda\" if torch.cuda.is_available() else \"cpu\"\n",
    "torch.set_default_device(device)\n",
    "print(f\"default device set to {device}\")"
   ]
  },
  {
   "cell_type": "code",
   "execution_count": 3,
   "id": "11d7ee96",
   "metadata": {
    "execution": {
     "iopub.execute_input": "2024-07-15T21:57:46.028684Z",
     "iopub.status.busy": "2024-07-15T21:57:46.027769Z",
     "iopub.status.idle": "2024-07-15T21:57:51.477198Z",
     "shell.execute_reply": "2024-07-15T21:57:51.476173Z"
    },
    "papermill": {
     "duration": 5.457325,
     "end_time": "2024-07-15T21:57:51.479717",
     "exception": false,
     "start_time": "2024-07-15T21:57:46.022392",
     "status": "completed"
    },
    "tags": []
   },
   "outputs": [],
   "source": [
    "train_df = pd.read_csv(\"/kaggle/input/digit-recognizer/train.csv\")\n",
    "test_df = pd.read_csv(\"/kaggle/input/digit-recognizer/test.csv\")"
   ]
  },
  {
   "cell_type": "code",
   "execution_count": 4,
   "id": "15296551",
   "metadata": {
    "execution": {
     "iopub.execute_input": "2024-07-15T21:57:51.490516Z",
     "iopub.status.busy": "2024-07-15T21:57:51.490171Z",
     "iopub.status.idle": "2024-07-15T21:57:51.497500Z",
     "shell.execute_reply": "2024-07-15T21:57:51.496288Z"
    },
    "papermill": {
     "duration": 0.015672,
     "end_time": "2024-07-15T21:57:51.500041",
     "exception": false,
     "start_time": "2024-07-15T21:57:51.484369",
     "status": "completed"
    },
    "tags": []
   },
   "outputs": [],
   "source": [
    "class MNIST(Dataset):\n",
    "    def __init__(self, df: pd.DataFrame):\n",
    "        self.dataset = df\n",
    "    \n",
    "    def __len__(self):\n",
    "        return len(self.dataset)\n",
    "\n",
    "    def __getitem__(self, idx):\n",
    "        inputs = torch.tensor(self.dataset.drop(columns=[\"label\"]).iloc[idx].to_numpy().reshape(1, 28, 28), dtype=torch.float32)\n",
    "        label = torch.tensor(self.dataset[\"label\"].iloc[idx], dtype=torch.long)\n",
    "\n",
    "        return (inputs, label)"
   ]
  },
  {
   "cell_type": "code",
   "execution_count": 5,
   "id": "82927bae",
   "metadata": {
    "execution": {
     "iopub.execute_input": "2024-07-15T21:57:51.511076Z",
     "iopub.status.busy": "2024-07-15T21:57:51.510385Z",
     "iopub.status.idle": "2024-07-15T21:57:51.981458Z",
     "shell.execute_reply": "2024-07-15T21:57:51.980410Z"
    },
    "papermill": {
     "duration": 0.479538,
     "end_time": "2024-07-15T21:57:51.983913",
     "exception": false,
     "start_time": "2024-07-15T21:57:51.504375",
     "status": "completed"
    },
    "tags": []
   },
   "outputs": [
    {
     "data": {
      "text/plain": [
       "(tensor([[[  0.,   0.,   0.,   0.,   0.,   0.,   0.,   0.,   0.,   0.,   0.,\n",
       "             0.,   0.,   0.,   0.,   0.,   0.,   0.,   0.,   0.,   0.,   0.,\n",
       "             0.,   0.,   0.,   0.,   0.,   0.],\n",
       "          [  0.,   0.,   0.,   0.,   0.,   0.,   0.,   0.,   0.,   0.,   0.,\n",
       "             0.,   0.,   0.,   0.,   0.,   0.,   0.,   0.,   0.,   0.,   0.,\n",
       "             0.,   0.,   0.,   0.,   0.,   0.],\n",
       "          [  0.,   0.,   0.,   0.,   0.,   0.,   0.,   0.,   0.,   0.,   0.,\n",
       "             0.,   0.,   0.,   0.,   0.,   0.,   0.,   0.,   0.,   0.,   0.,\n",
       "             0.,   0.,   0.,   0.,   0.,   0.],\n",
       "          [  0.,   0.,   0.,   0.,   0.,   0.,   0.,   0.,   0.,   0.,   0.,\n",
       "             0.,   0.,   0.,   0.,   0.,   0.,   0.,   0.,   0.,   0.,   0.,\n",
       "             0.,   0.,   0.,   0.,   0.,   0.],\n",
       "          [  0.,   0.,   0.,   0.,   0.,   0.,   0.,   0.,   0.,   0.,   0.,\n",
       "             0.,   0.,  12., 195.,  59.,   0.,   0.,   0.,   0.,   0.,   0.,\n",
       "             0.,   0.,   0.,   0.,   0.,   0.],\n",
       "          [  0.,   0.,   0.,   0.,   0.,   0.,   0.,   0.,   0.,   0.,   0.,\n",
       "             0.,   0.,  84., 253.,  91.,   0.,   0.,   0.,   0.,   0.,   0.,\n",
       "             0.,   0.,   0.,   0.,   0.,   0.],\n",
       "          [  0.,   0.,   0.,   0.,   0.,   0.,   0.,   0.,   0.,   0.,   0.,\n",
       "             0.,   0.,  97., 253., 168.,   0.,   0.,   0.,   0.,   0.,   0.,\n",
       "             0.,   0.,   0.,   0.,   0.,   0.],\n",
       "          [  0.,   0.,   0.,   0.,   0.,   0.,   0.,   0.,   0.,   0.,   0.,\n",
       "             0.,   0.,  70., 253., 212.,   8.,   0.,   0.,   0.,   0.,   0.,\n",
       "             0.,   0.,   0.,   0.,   0.,   0.],\n",
       "          [  0.,   0.,   0.,   0.,   0.,   0.,   0.,   0.,   0.,   0.,   0.,\n",
       "             0.,   0.,  19., 253., 254.,  50.,   0.,   0.,   0.,   0.,   0.,\n",
       "             0.,   0.,   0.,   0.,   0.,   0.],\n",
       "          [  0.,   0.,   0.,   0.,   0.,   0.,   0.,   0.,   0.,   0.,   0.,\n",
       "             0.,   0.,  19., 254., 255., 109.,   0.,   0.,   0.,   0.,   0.,\n",
       "             0.,   0.,   0.,   0.,   0.,   0.],\n",
       "          [  0.,   0.,   0.,   0.,   0.,   0.,   0.,   0.,   0.,   0.,   0.,\n",
       "             0.,   0.,  19., 253., 254., 108.,   0.,   0.,   0.,   0.,   0.,\n",
       "             0.,   0.,   0.,   0.,   0.,   0.],\n",
       "          [  0.,   0.,   0.,   0.,   0.,   0.,   0.,   0.,   0.,   0.,   0.,\n",
       "             0.,   0.,  64., 253., 254.,  30.,   0.,   0.,   0.,   0.,   0.,\n",
       "             0.,   0.,   0.,   0.,   0.,   0.],\n",
       "          [  0.,   0.,   0.,   0.,   0.,   0.,   0.,   0.,   0.,   0.,   0.,\n",
       "             0.,   0., 109., 253., 222.,  10.,   0.,   0.,   0.,   0.,   0.,\n",
       "             0.,   0.,   0.,   0.,   0.,   0.],\n",
       "          [  0.,   0.,   0.,   0.,   0.,   0.,   0.,   0.,   0.,   0.,   0.,\n",
       "             0.,   0., 173., 253., 181.,   0.,   0.,   0.,   0.,   0.,   0.,\n",
       "             0.,   0.,   0.,   0.,   0.,   0.],\n",
       "          [  0.,   0.,   0.,   0.,   0.,   0.,   0.,   0.,   0.,   0.,   0.,\n",
       "             0.,   0., 200., 254., 182.,   0.,   0.,   0.,   0.,   0.,   0.,\n",
       "             0.,   0.,   0.,   0.,   0.,   0.],\n",
       "          [  0.,   0.,   0.,   0.,   0.,   0.,   0.,   0.,   0.,   0.,   0.,\n",
       "             0.,   0., 199., 253., 181.,   0.,   0.,   0.,   0.,   0.,   0.,\n",
       "             0.,   0.,   0.,   0.,   0.,   0.],\n",
       "          [  0.,   0.,   0.,   0.,   0.,   0.,   0.,   0.,   0.,   0.,   0.,\n",
       "             0.,   0., 199., 253., 181.,   0.,   0.,   0.,   0.,   0.,   0.,\n",
       "             0.,   0.,   0.,   0.,   0.,   0.],\n",
       "          [  0.,   0.,   0.,   0.,   0.,   0.,   0.,   0.,   0.,   0.,   0.,\n",
       "             0.,   0., 199., 253., 181.,   0.,   0.,   0.,   0.,   0.,   0.,\n",
       "             0.,   0.,   0.,   0.,   0.,   0.],\n",
       "          [  0.,   0.,   0.,   0.,   0.,   0.,   0.,   0.,   0.,   0.,   0.,\n",
       "             0.,   0., 199., 253., 181.,   0.,   0.,   0.,   0.,   0.,   0.,\n",
       "             0.,   0.,   0.,   0.,   0.,   0.],\n",
       "          [  0.,   0.,   0.,   0.,   0.,   0.,   0.,   0.,   0.,   0.,   0.,\n",
       "             0.,   0., 200., 254., 228.,  12.,   0.,   0.,   0.,   0.,   0.,\n",
       "             0.,   0.,   0.,   0.,   0.,   0.],\n",
       "          [  0.,   0.,   0.,   0.,   0.,   0.,   0.,   0.,   0.,   0.,   0.,\n",
       "             0.,   0., 116., 253., 254., 122.,   0.,   0.,   0.,   0.,   0.,\n",
       "             0.,   0.,   0.,   0.,   0.,   0.],\n",
       "          [  0.,   0.,   0.,   0.,   0.,   0.,   0.,   0.,   0.,   0.,   0.,\n",
       "             0.,   0., 109., 253., 254., 153.,   0.,   0.,   0.,   0.,   0.,\n",
       "             0.,   0.,   0.,   0.,   0.,   0.],\n",
       "          [  0.,   0.,   0.,   0.,   0.,   0.,   0.,   0.,   0.,   0.,   0.,\n",
       "             0.,   0., 103., 253., 254., 108.,   0.,   0.,   0.,   0.,   0.,\n",
       "             0.,   0.,   0.,   0.,   0.,   0.],\n",
       "          [  0.,   0.,   0.,   0.,   0.,   0.,   0.,   0.,   0.,   0.,   0.,\n",
       "             0.,   0.,  12., 194., 254.,  76.,   0.,   0.,   0.,   0.,   0.,\n",
       "             0.,   0.,   0.,   0.,   0.,   0.],\n",
       "          [  0.,   0.,   0.,   0.,   0.,   0.,   0.,   0.,   0.,   0.,   0.,\n",
       "             0.,   0.,   0.,   0.,   0.,   0.,   0.,   0.,   0.,   0.,   0.,\n",
       "             0.,   0.,   0.,   0.,   0.,   0.],\n",
       "          [  0.,   0.,   0.,   0.,   0.,   0.,   0.,   0.,   0.,   0.,   0.,\n",
       "             0.,   0.,   0.,   0.,   0.,   0.,   0.,   0.,   0.,   0.,   0.,\n",
       "             0.,   0.,   0.,   0.,   0.,   0.],\n",
       "          [  0.,   0.,   0.,   0.,   0.,   0.,   0.,   0.,   0.,   0.,   0.,\n",
       "             0.,   0.,   0.,   0.,   0.,   0.,   0.,   0.,   0.,   0.,   0.,\n",
       "             0.,   0.,   0.,   0.,   0.,   0.],\n",
       "          [  0.,   0.,   0.,   0.,   0.,   0.,   0.,   0.,   0.,   0.,   0.,\n",
       "             0.,   0.,   0.,   0.,   0.,   0.,   0.,   0.,   0.,   0.,   0.,\n",
       "             0.,   0.,   0.,   0.,   0.,   0.]]]),\n",
       " tensor(1))"
      ]
     },
     "execution_count": 5,
     "metadata": {},
     "output_type": "execute_result"
    }
   ],
   "source": [
    "train_split, val_split = train_test_split(train_df, test_size=0.2, shuffle=True)\n",
    "train_dataset = MNIST(df=train_split)\n",
    "val_dataset = MNIST(df=val_split)\n",
    "\n",
    "train_dataset[0]"
   ]
  },
  {
   "cell_type": "code",
   "execution_count": 6,
   "id": "9de722b3",
   "metadata": {
    "execution": {
     "iopub.execute_input": "2024-07-15T21:57:51.994421Z",
     "iopub.status.busy": "2024-07-15T21:57:51.994028Z",
     "iopub.status.idle": "2024-07-15T21:57:51.999972Z",
     "shell.execute_reply": "2024-07-15T21:57:51.998854Z"
    },
    "papermill": {
     "duration": 0.013939,
     "end_time": "2024-07-15T21:57:52.002271",
     "exception": false,
     "start_time": "2024-07-15T21:57:51.988332",
     "status": "completed"
    },
    "tags": []
   },
   "outputs": [],
   "source": [
    "train_dataloader = DataLoader(dataset=train_dataset, batch_size=8, generator=torch.Generator(device=device), shuffle=True)\n",
    "val_dataloader = DataLoader(dataset=val_dataset, batch_size=32, generator=torch.Generator(device=device), shuffle=True)"
   ]
  },
  {
   "cell_type": "code",
   "execution_count": 7,
   "id": "1a88a432",
   "metadata": {
    "execution": {
     "iopub.execute_input": "2024-07-15T21:57:52.012801Z",
     "iopub.status.busy": "2024-07-15T21:57:52.012441Z",
     "iopub.status.idle": "2024-07-15T21:57:52.622081Z",
     "shell.execute_reply": "2024-07-15T21:57:52.621053Z"
    },
    "papermill": {
     "duration": 0.61769,
     "end_time": "2024-07-15T21:57:52.624463",
     "exception": false,
     "start_time": "2024-07-15T21:57:52.006773",
     "status": "completed"
    },
    "tags": []
   },
   "outputs": [
    {
     "data": {
      "text/plain": [
       "[tensor([[[[0., 0., 0.,  ..., 0., 0., 0.],\n",
       "           [0., 0., 0.,  ..., 0., 0., 0.],\n",
       "           [0., 0., 0.,  ..., 0., 0., 0.],\n",
       "           ...,\n",
       "           [0., 0., 0.,  ..., 0., 0., 0.],\n",
       "           [0., 0., 0.,  ..., 0., 0., 0.],\n",
       "           [0., 0., 0.,  ..., 0., 0., 0.]]],\n",
       " \n",
       " \n",
       "         [[[0., 0., 0.,  ..., 0., 0., 0.],\n",
       "           [0., 0., 0.,  ..., 0., 0., 0.],\n",
       "           [0., 0., 0.,  ..., 0., 0., 0.],\n",
       "           ...,\n",
       "           [0., 0., 0.,  ..., 0., 0., 0.],\n",
       "           [0., 0., 0.,  ..., 0., 0., 0.],\n",
       "           [0., 0., 0.,  ..., 0., 0., 0.]]],\n",
       " \n",
       " \n",
       "         [[[0., 0., 0.,  ..., 0., 0., 0.],\n",
       "           [0., 0., 0.,  ..., 0., 0., 0.],\n",
       "           [0., 0., 0.,  ..., 0., 0., 0.],\n",
       "           ...,\n",
       "           [0., 0., 0.,  ..., 0., 0., 0.],\n",
       "           [0., 0., 0.,  ..., 0., 0., 0.],\n",
       "           [0., 0., 0.,  ..., 0., 0., 0.]]],\n",
       " \n",
       " \n",
       "         ...,\n",
       " \n",
       " \n",
       "         [[[0., 0., 0.,  ..., 0., 0., 0.],\n",
       "           [0., 0., 0.,  ..., 0., 0., 0.],\n",
       "           [0., 0., 0.,  ..., 0., 0., 0.],\n",
       "           ...,\n",
       "           [0., 0., 0.,  ..., 0., 0., 0.],\n",
       "           [0., 0., 0.,  ..., 0., 0., 0.],\n",
       "           [0., 0., 0.,  ..., 0., 0., 0.]]],\n",
       " \n",
       " \n",
       "         [[[0., 0., 0.,  ..., 0., 0., 0.],\n",
       "           [0., 0., 0.,  ..., 0., 0., 0.],\n",
       "           [0., 0., 0.,  ..., 0., 0., 0.],\n",
       "           ...,\n",
       "           [0., 0., 0.,  ..., 0., 0., 0.],\n",
       "           [0., 0., 0.,  ..., 0., 0., 0.],\n",
       "           [0., 0., 0.,  ..., 0., 0., 0.]]],\n",
       " \n",
       " \n",
       "         [[[0., 0., 0.,  ..., 0., 0., 0.],\n",
       "           [0., 0., 0.,  ..., 0., 0., 0.],\n",
       "           [0., 0., 0.,  ..., 0., 0., 0.],\n",
       "           ...,\n",
       "           [0., 0., 0.,  ..., 0., 0., 0.],\n",
       "           [0., 0., 0.,  ..., 0., 0., 0.],\n",
       "           [0., 0., 0.,  ..., 0., 0., 0.]]]]),\n",
       " tensor([3, 9, 5, 5, 5, 0, 9, 1, 1, 2, 1, 1, 0, 5, 7, 1, 8, 9, 7, 0, 5, 0, 6, 6,\n",
       "         4, 7, 8, 3, 0, 4, 2, 3])]"
      ]
     },
     "execution_count": 7,
     "metadata": {},
     "output_type": "execute_result"
    }
   ],
   "source": [
    "next(iter(val_dataloader))"
   ]
  },
  {
   "cell_type": "code",
   "execution_count": 8,
   "id": "a5c235a1",
   "metadata": {
    "execution": {
     "iopub.execute_input": "2024-07-15T21:57:52.636098Z",
     "iopub.status.busy": "2024-07-15T21:57:52.635009Z",
     "iopub.status.idle": "2024-07-15T21:57:52.955724Z",
     "shell.execute_reply": "2024-07-15T21:57:52.954622Z"
    },
    "papermill": {
     "duration": 0.329054,
     "end_time": "2024-07-15T21:57:52.958174",
     "exception": false,
     "start_time": "2024-07-15T21:57:52.629120",
     "status": "completed"
    },
    "tags": []
   },
   "outputs": [
    {
     "name": "stdout",
     "output_type": "stream",
     "text": [
      "torch.Size([28, 28, 1])\n",
      "label is 3\n"
     ]
    },
    {
     "data": {
      "image/png": "[encoded data removed]",
      "text/plain": [
       "<Figure size 640x480 with 1 Axes>"
      ]
     },
     "metadata": {},
     "output_type": "display_data"
    }
   ],
   "source": [
    "def plot_random_image(dataset):\n",
    "    x = torch.randint(0, len(dataset), size=(1, )).item()\n",
    "    image = dataset[x][0] # C, W, H\n",
    "    print(image.permute(1, 2, 0).shape)\n",
    "    plt.imshow(image.permute(1, 2, 0).cpu().numpy(), cmap=\"gray\") # W, H, C\n",
    "    print(f\"label is {dataset[x][1]}\")\n",
    "\n",
    "plot_random_image(dataset=val_dataset)"
   ]
  },
  {
   "cell_type": "code",
   "execution_count": 9,
   "id": "3e9c1ae9",
   "metadata": {
    "execution": {
     "iopub.execute_input": "2024-07-15T21:57:52.969956Z",
     "iopub.status.busy": "2024-07-15T21:57:52.969533Z",
     "iopub.status.idle": "2024-07-15T21:57:52.978348Z",
     "shell.execute_reply": "2024-07-15T21:57:52.977223Z"
    },
    "papermill": {
     "duration": 0.01738,
     "end_time": "2024-07-15T21:57:52.980626",
     "exception": false,
     "start_time": "2024-07-15T21:57:52.963246",
     "status": "completed"
    },
    "tags": []
   },
   "outputs": [],
   "source": [
    "# for starters, I will be assuming patch_size and img_size are both squares (images of same width and height)\n",
    "class PatchEmbedding(nn.Module):\n",
    "    def __init__(self, img_size: Tuple[int, int], patch_size: Tuple[int, int], in_channels: int, n_embd: int):\n",
    "        super(PatchEmbedding, self).__init__()\n",
    "\n",
    "        self.n_embd = n_embd\n",
    "        self.img_size = img_size\n",
    "        self.patch_size = patch_size\n",
    "\n",
    "        # For an image of size 16x16 and patch size 4x4:\n",
    "        # We divide the image size by the patch size to get the number of patches along each dimension\n",
    "        # (16 / 4) * (16 / 4) = 4 * 4 = 16 patches in total to cover the entire image\n",
    "        self.n_patches = (img_size[0] // patch_size[0]) * (img_size[1] // patch_size[1])\n",
    "\n",
    "        # The Conv2D layer's filter will move patch_size pixels horizontally and vertically because\n",
    "        # the stride is set to patch_size. This creates non-overlapping patches of size patch_size.\n",
    "        self.projection = nn.Conv2d(in_channels=in_channels, kernel_size=patch_size, stride=patch_size, out_channels=n_embd)\n",
    "\n",
    "    def forward(self, x: torch.Tensor) -> torch.Tensor:\n",
    "        # x is of shape (B, in_channels, W, H)\n",
    "        # Applying the Conv2D layer to x. This will create an output of shape:\n",
    "        # (B, n_embd, sqrt(n_patches), sqrt(n_patches))\n",
    "        # where sqrt(n_patches) * sqrt(n_patches) = n_patches. This means we have n_embd channels,\n",
    "        # each of size sqrt(n_patches) x sqrt(n_patches).\n",
    "        x = self.projection(x)\n",
    "        \n",
    "        # Reshape x to a tensor of shape (B, n_embd, n_patches)\n",
    "        # We are flattening the spatial dimensions (sqrt(n_patches) * sqrt(n_patches)) into one dimension (n_patches).\n",
    "        x = x.view(x.shape[0], self.n_embd, -1)\n",
    "        \n",
    "        # Transpose to get a tensor of shape (B, n_patches, n_embd)\n",
    "        return x.transpose(2, 1)\n"
   ]
  },
  {
   "cell_type": "code",
   "execution_count": 10,
   "id": "d05607fb",
   "metadata": {
    "execution": {
     "iopub.execute_input": "2024-07-15T21:57:52.991962Z",
     "iopub.status.busy": "2024-07-15T21:57:52.991585Z",
     "iopub.status.idle": "2024-07-15T21:57:52.999200Z",
     "shell.execute_reply": "2024-07-15T21:57:52.998060Z"
    },
    "papermill": {
     "duration": 0.016082,
     "end_time": "2024-07-15T21:57:53.001638",
     "exception": false,
     "start_time": "2024-07-15T21:57:52.985556",
     "status": "completed"
    },
    "tags": []
   },
   "outputs": [],
   "source": [
    "img_size = (28, 28)\n",
    "patch_size = (4, 4)\n",
    "in_channels = 1\n",
    "n_embd = 256\n",
    "patch_embedding = PatchEmbedding(img_size=img_size, patch_size=patch_size, in_channels=in_channels, n_embd=n_embd)"
   ]
  },
  {
   "cell_type": "code",
   "execution_count": 11,
   "id": "c459ee23",
   "metadata": {
    "execution": {
     "iopub.execute_input": "2024-07-15T21:57:53.013122Z",
     "iopub.status.busy": "2024-07-15T21:57:53.012722Z",
     "iopub.status.idle": "2024-07-15T21:57:53.596397Z",
     "shell.execute_reply": "2024-07-15T21:57:53.595308Z"
    },
    "papermill": {
     "duration": 0.592153,
     "end_time": "2024-07-15T21:57:53.598730",
     "exception": false,
     "start_time": "2024-07-15T21:57:53.006577",
     "status": "completed"
    },
    "tags": []
   },
   "outputs": [
    {
     "name": "stdout",
     "output_type": "stream",
     "text": [
      "torch.Size([8, 49, 256])\n"
     ]
    }
   ],
   "source": [
    "patch_embedding.eval()\n",
    "with torch.inference_mode():\n",
    "    batch_inputs, batch_labels = next(iter(train_dataloader))\n",
    "    logits = patch_embedding(batch_inputs)\n",
    "    print(logits.shape) "
   ]
  },
  {
   "cell_type": "code",
   "execution_count": null,
   "id": "f32e30ff",
   "metadata": {
    "papermill": {
     "duration": 0.005213,
     "end_time": "2024-07-15T21:57:53.608875",
     "exception": false,
     "start_time": "2024-07-15T21:57:53.603662",
     "status": "completed"
    },
    "tags": []
   },
   "outputs": [],
   "source": []
  }
 ],
 "metadata": {
  "kaggle": {
   "accelerator": "none",
   "dataSources": [
    {
     "databundleVersionId": 861823,
     "sourceId": 3004,
     "sourceType": "competition"
    }
   ],
   "dockerImageVersionId": 30746,
   "isGpuEnabled": false,
   "isInternetEnabled": true,
   "language": "python",
   "sourceType": "notebook"
  },
  "kernelspec": {
   "display_name": "aiStuff",
   "language": "python",
   "name": "python3"
  },
  "language_info": {
   "codemirror_mode": {
    "name": "ipython",
    "version": 3
   },
   "file_extension": ".py",
   "mimetype": "text/x-python",
   "name": "python",
   "nbconvert_exporter": "python",
   "pygments_lexer": "ipython3",
   "version": "3.10.13"
  },
  "papermill": {
   "default_parameters": {},
   "duration": 19.619832,
   "end_time": "2024-07-15T21:57:54.937830",
   "environment_variables": {},
   "exception": null,
   "input_path": "__notebook__.ipynb",
   "output_path": "__notebook__.ipynb",
   "parameters": {},
   "start_time": "2024-07-15T21:57:35.317998",
   "version": "2.5.0"
  }
 },
 "nbformat": 4,
 "nbformat_minor": 5
}
