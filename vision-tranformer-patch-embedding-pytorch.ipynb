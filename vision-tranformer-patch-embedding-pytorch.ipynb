{
 "cells": [
  {
   "cell_type": "markdown",
   "id": "34502aef",
   "metadata": {
    "papermill": {
     "duration": 0.004858,
     "end_time": "2024-07-15T21:58:14.184826",
     "exception": false,
     "start_time": "2024-07-15T21:58:14.179968",
     "status": "completed"
    },
    "tags": []
   },
   "source": [
    "!kaggle competitions download -c digit-recognizer"
   ]
  },
  {
   "cell_type": "markdown",
   "id": "261c96bf",
   "metadata": {
    "papermill": {
     "duration": 0.003983,
     "end_time": "2024-07-15T21:58:14.193765",
     "exception": false,
     "start_time": "2024-07-15T21:58:14.189782",
     "status": "completed"
    },
    "tags": []
   },
   "source": [
    "!unzip -x ./digit-recognizer.zip"
   ]
  },
  {
   "cell_type": "code",
   "execution_count": 1,
   "id": "e0c41f22",
   "metadata": {
    "execution": {
     "iopub.execute_input": "2024-07-15T21:58:14.204165Z",
     "iopub.status.busy": "2024-07-15T21:58:14.203729Z",
     "iopub.status.idle": "2024-07-15T21:58:21.899066Z",
     "shell.execute_reply": "2024-07-15T21:58:21.898058Z"
    },
    "papermill": {
     "duration": 7.703795,
     "end_time": "2024-07-15T21:58:21.901808",
     "exception": false,
     "start_time": "2024-07-15T21:58:14.198013",
     "status": "completed"
    },
    "tags": []
   },
   "outputs": [],
   "source": [
    "from typing import Tuple\n",
    "import torch\n",
    "from torch import nn\n",
    "from torch.utils.data import Dataset, DataLoader, TensorDataset\n",
    "from torch.optim.lr_scheduler import StepLR\n",
    "from torchvision.datasets import MNIST\n",
    "import torchvision\n",
    "from sklearn.model_selection import train_test_split\n",
    "import pandas as pd\n",
    "from tqdm import tqdm\n",
    "import matplotlib.pyplot as plt\n",
    "import numpy as np"
   ]
  },
  {
   "cell_type": "markdown",
   "id": "06e88d4e",
   "metadata": {
    "papermill": {
     "duration": 0.003786,
     "end_time": "2024-07-15T21:58:21.909903",
     "exception": false,
     "start_time": "2024-07-15T21:58:21.906117",
     "status": "completed"
    },
    "tags": []
   },
   "source": [
    "# Device agnostic code"
   ]
  },
  {
   "cell_type": "code",
   "execution_count": 2,
   "id": "c28fe093",
   "metadata": {
    "execution": {
     "iopub.execute_input": "2024-07-15T21:58:21.919636Z",
     "iopub.status.busy": "2024-07-15T21:58:21.919077Z",
     "iopub.status.idle": "2024-07-15T21:58:21.925273Z",
     "shell.execute_reply": "2024-07-15T21:58:21.924141Z"
    },
    "papermill": {
     "duration": 0.013676,
     "end_time": "2024-07-15T21:58:21.927545",
     "exception": false,
     "start_time": "2024-07-15T21:58:21.913869",
     "status": "completed"
    },
    "tags": []
   },
   "outputs": [
    {
     "name": "stdout",
     "output_type": "stream",
     "text": [
      "default device set to cpu\n"
     ]
    }
   ],
   "source": [
    "device = \"cuda\" if torch.cuda.is_available() else \"cpu\"\n",
    "torch.set_default_device(device)\n",
    "print(f\"default device set to {device}\")"
   ]
  },
  {
   "cell_type": "code",
   "execution_count": 3,
   "id": "43dabcd5",
   "metadata": {
    "execution": {
     "iopub.execute_input": "2024-07-15T21:58:21.937713Z",
     "iopub.status.busy": "2024-07-15T21:58:21.937354Z",
     "iopub.status.idle": "2024-07-15T21:58:27.275076Z",
     "shell.execute_reply": "2024-07-15T21:58:27.273773Z"
    },
    "papermill": {
     "duration": 5.345955,
     "end_time": "2024-07-15T21:58:27.277922",
     "exception": false,
     "start_time": "2024-07-15T21:58:21.931967",
     "status": "completed"
    },
    "tags": []
   },
   "outputs": [],
   "source": [
    "train_df = pd.read_csv(\"/kaggle/input/digit-recognizer/train.csv\")\n",
    "test_df = pd.read_csv(\"/kaggle/input/digit-recognizer/test.csv\")"
   ]
  },
  {
   "cell_type": "code",
   "execution_count": 4,
   "id": "eadcb9f7",
   "metadata": {
    "execution": {
     "iopub.execute_input": "2024-07-15T21:58:27.289182Z",
     "iopub.status.busy": "2024-07-15T21:58:27.288814Z",
     "iopub.status.idle": "2024-07-15T21:58:27.296322Z",
     "shell.execute_reply": "2024-07-15T21:58:27.295032Z"
    },
    "papermill": {
     "duration": 0.016211,
     "end_time": "2024-07-15T21:58:27.299129",
     "exception": false,
     "start_time": "2024-07-15T21:58:27.282918",
     "status": "completed"
    },
    "tags": []
   },
   "outputs": [],
   "source": [
    "class MNIST(Dataset):\n",
    "    def __init__(self, df: pd.DataFrame):\n",
    "        self.dataset = df\n",
    "    \n",
    "    def __len__(self):\n",
    "        return len(self.dataset)\n",
    "\n",
    "    def __getitem__(self, idx):\n",
    "        inputs = torch.tensor(self.dataset.drop(columns=[\"label\"]).iloc[idx].to_numpy().reshape(1, 28, 28), dtype=torch.float32)\n",
    "        label = torch.tensor(self.dataset[\"label\"].iloc[idx], dtype=torch.long)\n",
    "\n",
    "        return (inputs, label)"
   ]
  },
  {
   "cell_type": "code",
   "execution_count": 5,
   "id": "9fce5131",
   "metadata": {
    "execution": {
     "iopub.execute_input": "2024-07-15T21:58:27.309923Z",
     "iopub.status.busy": "2024-07-15T21:58:27.309065Z",
     "iopub.status.idle": "2024-07-15T21:58:27.744086Z",
     "shell.execute_reply": "2024-07-15T21:58:27.742840Z"
    },
    "papermill": {
     "duration": 0.442923,
     "end_time": "2024-07-15T21:58:27.746510",
     "exception": false,
     "start_time": "2024-07-15T21:58:27.303587",
     "status": "completed"
    },
    "tags": []
   },
   "outputs": [
    {
     "data": {
      "text/plain": [
       "(tensor([[[  0.,   0.,   0.,   0.,   0.,   0.,   0.,   0.,   0.,   0.,   0.,\n",
       "             0.,   0.,   0.,   0.,   0.,   0.,   0.,   0.,   0.,   0.,   0.,\n",
       "             0.,   0.,   0.,   0.,   0.,   0.],\n",
       "          [  0.,   0.,   0.,   0.,   0.,   0.,   0.,   0.,   0.,   0.,   0.,\n",
       "             0.,   0.,   0.,   0.,   0.,   0.,   0.,   0.,   0.,   0.,   0.,\n",
       "             0.,   0.,   0.,   0.,   0.,   0.],\n",
       "          [  0.,   0.,   0.,   0.,   0.,   0.,   0.,   0.,   0.,   0.,   0.,\n",
       "             0.,   0.,   0.,   0.,   0.,   0.,   0.,   0.,   0.,   0.,   0.,\n",
       "             0.,   0.,   0.,   0.,   0.,   0.],\n",
       "          [  0.,   0.,   0.,   0.,   0.,   0.,   0.,   0.,   0.,   0.,   0.,\n",
       "             0.,   0.,   0.,   0.,   0.,   0.,   0.,   0.,   0.,   0.,   0.,\n",
       "             0.,   0.,   0.,   0.,   0.,   0.],\n",
       "          [  0.,   0.,   0.,   0.,   0.,   0.,   0.,   0.,   0.,   0.,   0.,\n",
       "             5.,  89., 119., 194., 255., 254., 223.,  95.,   0.,   0.,   0.,\n",
       "             0.,   0.,   0.,   0.,   0.,   0.],\n",
       "          [  0.,   0.,   0.,   0.,   0.,   0.,   0.,   0.,   0.,   0.,   0.,\n",
       "           111., 253., 253., 253., 254., 253., 253., 247.,  95.,   0.,   0.,\n",
       "             0.,   0.,   0.,   0.,   0.,   0.],\n",
       "          [  0.,   0.,   0.,   0.,   0.,   0.,   0.,   0.,   0.,   0., 109.,\n",
       "           241., 253., 253., 222.,  78.,  85., 199., 253., 223.,   0.,   0.,\n",
       "             0.,   0.,   0.,   0.,   0.,   0.],\n",
       "          [  0.,   0.,   0.,   0.,   0.,   0.,   0.,   0.,   0.,   0., 209.,\n",
       "           253., 253., 216.,  34.,   0.,   0.,   6., 145., 253., 106.,   0.,\n",
       "             0.,   0.,   0.,   0.,   0.,   0.],\n",
       "          [  0.,   0.,   0.,   0.,   0.,   0.,   0.,   0.,   0.,  76., 254.,\n",
       "           253., 253., 117.,   0.,   0.,   0.,   0.,  47., 230., 195.,   0.,\n",
       "             0.,   0.,   0.,   0.,   0.,   0.],\n",
       "          [  0.,   0.,   0.,   0.,   0.,   0.,   0.,   0.,  10., 209., 255.,\n",
       "           219.,  68.,   0.,   0.,   0.,   0.,   0.,   0., 135., 232.,  47.,\n",
       "             0.,   0.,   0.,   0.,   0.,   0.],\n",
       "          [  0.,   0.,   0.,   0.,   0.,   0.,   0.,   0.,  47., 253., 254.,\n",
       "           128.,   0.,   0.,   0.,   0.,   0.,   0.,   0.,  98., 254., 135.,\n",
       "             0.,   0.,   0.,   0.,   0.,   0.],\n",
       "          [  0.,   0.,   0.,   0.,   0.,   0.,   0.,   0., 204., 253., 183.,\n",
       "            12.,   0.,   0.,   0.,   0.,   0.,   0.,   0.,  60., 254., 135.,\n",
       "             0.,   0.,   0.,   0.,   0.,   0.],\n",
       "          [  0.,   0.,   0.,   0.,   0.,   0.,   0.,   0., 234., 253.,  98.,\n",
       "             0.,   0.,   0.,   0.,   0.,   0.,   0.,   0.,   8., 254., 226.,\n",
       "             0.,   0.,   0.,   0.,   0.,   0.],\n",
       "          [  0.,   0.,   0.,   0.,   0.,   0.,   0.,  61., 248., 215.,  23.,\n",
       "             0.,   0.,   0.,   0.,   0.,   0.,   0.,   0.,  76., 254., 233.,\n",
       "             0.,   0.,   0.,   0.,   0.,   0.],\n",
       "          [  0.,   0.,   0.,   0.,   0.,   0.,   0.,  79., 254., 133.,   0.,\n",
       "             0.,   0.,   0.,   0.,   0.,   0.,   0.,   0.,  99., 255., 234.,\n",
       "             0.,   0.,   0.,   0.,   0.,   0.],\n",
       "          [  0.,   0.,   0.,   0.,   0.,   0.,   0.,  79., 253.,  58.,   0.,\n",
       "             0.,   0.,   0.,   0.,   0.,   0.,   0.,   0.,  98., 254., 233.,\n",
       "             0.,   0.,   0.,   0.,   0.,   0.],\n",
       "          [  0.,   0.,   0.,   0.,   0.,   0.,   0.,  79., 253.,  58.,   0.,\n",
       "             0.,   0.,   0.,   0.,   0.,   0.,   0.,   0., 128., 254., 233.,\n",
       "             0.,   0.,   0.,   0.,   0.,   0.],\n",
       "          [  0.,   0.,   0.,   0.,   0.,   0.,   0.,  79., 253.,  58.,   0.,\n",
       "             0.,   0.,   0.,   0.,   0.,   0.,   0.,  22., 226., 254., 180.,\n",
       "             0.,   0.,   0.,   0.,   0.,   0.],\n",
       "          [  0.,   0.,   0.,   0.,   0.,   0.,   0.,  79., 253.,  58.,   0.,\n",
       "             0.,   0.,   0.,   0.,   0.,   0.,   0., 152., 253., 254.,  61.,\n",
       "             0.,   0.,   0.,   0.,   0.,   0.],\n",
       "          [  0.,   0.,   0.,   0.,   0.,   0.,   0.,   0., 235., 119.,   0.,\n",
       "             0.,   0.,   0.,   0.,   0.,  28., 156., 254., 254., 218.,  15.,\n",
       "             0.,   0.,   0.,   0.,   0.,   0.],\n",
       "          [  0.,   0.,   0.,   0.,   0.,   0.,   0.,   0., 234., 238.,  58.,\n",
       "            20.,  20.,  73., 118., 215., 232., 253., 253., 245., 180.,   0.,\n",
       "             0.,   0.,   0.,   0.,   0.,   0.],\n",
       "          [  0.,   0.,   0.,   0.,   0.,   0.,   0.,   0.,  99., 253., 254.,\n",
       "           253., 253., 253., 253., 254., 253., 253., 253., 126.,   0.,   0.,\n",
       "             0.,   0.,   0.,   0.,   0.,   0.],\n",
       "          [  0.,   0.,   0.,   0.,   0.,   0.,   0.,   0.,  18., 221., 254.,\n",
       "           253., 253., 253., 253., 229., 213., 146.,  64.,   5.,   0.,   0.,\n",
       "             0.,   0.,   0.,   0.,   0.,   0.],\n",
       "          [  0.,   0.,   0.,   0.,   0.,   0.,   0.,   0.,   0.,  45., 193.,\n",
       "           200., 222., 155., 118.,  23.,   0.,   0.,   0.,   0.,   0.,   0.,\n",
       "             0.,   0.,   0.,   0.,   0.,   0.],\n",
       "          [  0.,   0.,   0.,   0.,   0.,   0.,   0.,   0.,   0.,   0.,   0.,\n",
       "             0.,   0.,   0.,   0.,   0.,   0.,   0.,   0.,   0.,   0.,   0.,\n",
       "             0.,   0.,   0.,   0.,   0.,   0.],\n",
       "          [  0.,   0.,   0.,   0.,   0.,   0.,   0.,   0.,   0.,   0.,   0.,\n",
       "             0.,   0.,   0.,   0.,   0.,   0.,   0.,   0.,   0.,   0.,   0.,\n",
       "             0.,   0.,   0.,   0.,   0.,   0.],\n",
       "          [  0.,   0.,   0.,   0.,   0.,   0.,   0.,   0.,   0.,   0.,   0.,\n",
       "             0.,   0.,   0.,   0.,   0.,   0.,   0.,   0.,   0.,   0.,   0.,\n",
       "             0.,   0.,   0.,   0.,   0.,   0.],\n",
       "          [  0.,   0.,   0.,   0.,   0.,   0.,   0.,   0.,   0.,   0.,   0.,\n",
       "             0.,   0.,   0.,   0.,   0.,   0.,   0.,   0.,   0.,   0.,   0.,\n",
       "             0.,   0.,   0.,   0.,   0.,   0.]]]),\n",
       " tensor(0))"
      ]
     },
     "execution_count": 5,
     "metadata": {},
     "output_type": "execute_result"
    }
   ],
   "source": [
    "train_split, val_split = train_test_split(train_df, test_size=0.2, shuffle=True)\n",
    "train_dataset = MNIST(df=train_split)\n",
    "val_dataset = MNIST(df=val_split)\n",
    "\n",
    "train_dataset[0]"
   ]
  },
  {
   "cell_type": "code",
   "execution_count": 6,
   "id": "b8f3ba82",
   "metadata": {
    "execution": {
     "iopub.execute_input": "2024-07-15T21:58:27.757326Z",
     "iopub.status.busy": "2024-07-15T21:58:27.756516Z",
     "iopub.status.idle": "2024-07-15T21:58:27.762333Z",
     "shell.execute_reply": "2024-07-15T21:58:27.761271Z"
    },
    "papermill": {
     "duration": 0.013689,
     "end_time": "2024-07-15T21:58:27.764654",
     "exception": false,
     "start_time": "2024-07-15T21:58:27.750965",
     "status": "completed"
    },
    "tags": []
   },
   "outputs": [],
   "source": [
    "train_dataloader = DataLoader(dataset=train_dataset, batch_size=8, generator=torch.Generator(device=device), shuffle=True)\n",
    "val_dataloader = DataLoader(dataset=val_dataset, batch_size=32, generator=torch.Generator(device=device), shuffle=True)"
   ]
  },
  {
   "cell_type": "code",
   "execution_count": 7,
   "id": "5d6a3a41",
   "metadata": {
    "execution": {
     "iopub.execute_input": "2024-07-15T21:58:27.775917Z",
     "iopub.status.busy": "2024-07-15T21:58:27.775525Z",
     "iopub.status.idle": "2024-07-15T21:58:28.391020Z",
     "shell.execute_reply": "2024-07-15T21:58:28.389974Z"
    },
    "papermill": {
     "duration": 0.624048,
     "end_time": "2024-07-15T21:58:28.393394",
     "exception": false,
     "start_time": "2024-07-15T21:58:27.769346",
     "status": "completed"
    },
    "tags": []
   },
   "outputs": [
    {
     "data": {
      "text/plain": [
       "[tensor([[[[0., 0., 0.,  ..., 0., 0., 0.],\n",
       "           [0., 0., 0.,  ..., 0., 0., 0.],\n",
       "           [0., 0., 0.,  ..., 0., 0., 0.],\n",
       "           ...,\n",
       "           [0., 0., 0.,  ..., 0., 0., 0.],\n",
       "           [0., 0., 0.,  ..., 0., 0., 0.],\n",
       "           [0., 0., 0.,  ..., 0., 0., 0.]]],\n",
       " \n",
       " \n",
       "         [[[0., 0., 0.,  ..., 0., 0., 0.],\n",
       "           [0., 0., 0.,  ..., 0., 0., 0.],\n",
       "           [0., 0., 0.,  ..., 0., 0., 0.],\n",
       "           ...,\n",
       "           [0., 0., 0.,  ..., 0., 0., 0.],\n",
       "           [0., 0., 0.,  ..., 0., 0., 0.],\n",
       "           [0., 0., 0.,  ..., 0., 0., 0.]]],\n",
       " \n",
       " \n",
       "         [[[0., 0., 0.,  ..., 0., 0., 0.],\n",
       "           [0., 0., 0.,  ..., 0., 0., 0.],\n",
       "           [0., 0., 0.,  ..., 0., 0., 0.],\n",
       "           ...,\n",
       "           [0., 0., 0.,  ..., 0., 0., 0.],\n",
       "           [0., 0., 0.,  ..., 0., 0., 0.],\n",
       "           [0., 0., 0.,  ..., 0., 0., 0.]]],\n",
       " \n",
       " \n",
       "         ...,\n",
       " \n",
       " \n",
       "         [[[0., 0., 0.,  ..., 0., 0., 0.],\n",
       "           [0., 0., 0.,  ..., 0., 0., 0.],\n",
       "           [0., 0., 0.,  ..., 0., 0., 0.],\n",
       "           ...,\n",
       "           [0., 0., 0.,  ..., 0., 0., 0.],\n",
       "           [0., 0., 0.,  ..., 0., 0., 0.],\n",
       "           [0., 0., 0.,  ..., 0., 0., 0.]]],\n",
       " \n",
       " \n",
       "         [[[0., 0., 0.,  ..., 0., 0., 0.],\n",
       "           [0., 0., 0.,  ..., 0., 0., 0.],\n",
       "           [0., 0., 0.,  ..., 0., 0., 0.],\n",
       "           ...,\n",
       "           [0., 0., 0.,  ..., 0., 0., 0.],\n",
       "           [0., 0., 0.,  ..., 0., 0., 0.],\n",
       "           [0., 0., 0.,  ..., 0., 0., 0.]]],\n",
       " \n",
       " \n",
       "         [[[0., 0., 0.,  ..., 0., 0., 0.],\n",
       "           [0., 0., 0.,  ..., 0., 0., 0.],\n",
       "           [0., 0., 0.,  ..., 0., 0., 0.],\n",
       "           ...,\n",
       "           [0., 0., 0.,  ..., 0., 0., 0.],\n",
       "           [0., 0., 0.,  ..., 0., 0., 0.],\n",
       "           [0., 0., 0.,  ..., 0., 0., 0.]]]]),\n",
       " tensor([6, 9, 1, 0, 2, 2, 3, 1, 6, 6, 9, 1, 0, 0, 9, 1, 1, 8, 5, 1, 3, 6, 5, 5,\n",
       "         2, 8, 6, 8, 8, 8, 7, 1])]"
      ]
     },
     "execution_count": 7,
     "metadata": {},
     "output_type": "execute_result"
    }
   ],
   "source": [
    "next(iter(val_dataloader))"
   ]
  },
  {
   "cell_type": "code",
   "execution_count": 8,
   "id": "784d3c32",
   "metadata": {
    "execution": {
     "iopub.execute_input": "2024-07-15T21:58:28.405118Z",
     "iopub.status.busy": "2024-07-15T21:58:28.404323Z",
     "iopub.status.idle": "2024-07-15T21:58:28.718080Z",
     "shell.execute_reply": "2024-07-15T21:58:28.717087Z"
    },
    "papermill": {
     "duration": 0.32216,
     "end_time": "2024-07-15T21:58:28.720386",
     "exception": false,
     "start_time": "2024-07-15T21:58:28.398226",
     "status": "completed"
    },
    "tags": []
   },
   "outputs": [
    {
     "name": "stdout",
     "output_type": "stream",
     "text": [
      "torch.Size([28, 28, 1])\n",
      "label is 8\n"
     ]
    },
    {
     "data": {
      "image/png": "[encoded data removed]",
      "text/plain": [
       "<Figure size 640x480 with 1 Axes>"
      ]
     },
     "metadata": {},
     "output_type": "display_data"
    }
   ],
   "source": [
    "def plot_random_image(dataset):\n",
    "    x = torch.randint(0, len(dataset), size=(1, )).item()\n",
    "    image = dataset[x][0] # C, W, H\n",
    "    print(image.permute(1, 2, 0).shape)\n",
    "    plt.imshow(image.permute(1, 2, 0).cpu().numpy(), cmap=\"gray\") # W, H, C\n",
    "    print(f\"label is {dataset[x][1]}\")\n",
    "\n",
    "plot_random_image(dataset=val_dataset)"
   ]
  },
  {
   "cell_type": "markdown",
   "id": "ff58ff8f",
   "metadata": {
    "papermill": {
     "duration": 0.004596,
     "end_time": "2024-07-15T21:58:28.729996",
     "exception": false,
     "start_time": "2024-07-15T21:58:28.725400",
     "status": "completed"
    },
    "tags": []
   },
   "source": [
    "https://poloclub.github.io/cnn-explainer/"
   ]
  },
  {
   "cell_type": "code",
   "execution_count": 9,
   "id": "117bf132",
   "metadata": {
    "execution": {
     "iopub.execute_input": "2024-07-15T21:58:28.741537Z",
     "iopub.status.busy": "2024-07-15T21:58:28.740785Z",
     "iopub.status.idle": "2024-07-15T21:58:28.749330Z",
     "shell.execute_reply": "2024-07-15T21:58:28.748226Z"
    },
    "papermill": {
     "duration": 0.016715,
     "end_time": "2024-07-15T21:58:28.751479",
     "exception": false,
     "start_time": "2024-07-15T21:58:28.734764",
     "status": "completed"
    },
    "tags": []
   },
   "outputs": [],
   "source": [
    "# for starters, I will be assuming patch_size and img_size are both squares (images of same width and height)\n",
    "class PatchEmbedding(nn.Module):\n",
    "    def __init__(self, img_size: Tuple[int, int], patch_size: Tuple[int, int], in_channels: int, n_embd: int):\n",
    "        super(PatchEmbedding, self).__init__()\n",
    "\n",
    "        self.n_embd = n_embd\n",
    "        self.img_size = img_size\n",
    "        self.patch_size = patch_size\n",
    "\n",
    "        # For an image of size 16x16 and patch size 4x4:\n",
    "        # We divide the image size by the patch size to get the number of patches along each dimension\n",
    "        # (16 / 4) * (16 / 4) = 4 * 4 = 16 patches in total to cover the entire image\n",
    "        self.n_patches = (img_size[0] // patch_size[0]) * (img_size[1] // patch_size[1])\n",
    "\n",
    "        # The Conv2D layer's filter will move patch_size pixels horizontally and vertically because\n",
    "        # the stride is set to patch_size. This creates non-overlapping patches of size patch_size.\n",
    "        self.projection = nn.Conv2d(in_channels=in_channels, kernel_size=patch_size, stride=patch_size, out_channels=n_embd)\n",
    "\n",
    "    def forward(self, x: torch.Tensor) -> torch.Tensor:\n",
    "        # x is of shape (B, in_channels, W, H)\n",
    "        # Applying the Conv2D layer to x. This will create an output of shape:\n",
    "        # (B, n_embd, sqrt(n_patches), sqrt(n_patches))\n",
    "        # where sqrt(n_patches) * sqrt(n_patches) = n_patches. This means we have n_embd channels,\n",
    "        # each of size sqrt(n_patches) x sqrt(n_patches).\n",
    "        x = self.projection(x)\n",
    "        \n",
    "        # Reshape x to a tensor of shape (B, n_embd, n_patches)\n",
    "        # We are flattening the spatial dimensions (sqrt(n_patches) * sqrt(n_patches)) into one dimension (n_patches).\n",
    "        x = x.view(x.shape[0], self.n_embd, -1)\n",
    "        \n",
    "        # Transpose to get a tensor of shape (B, n_patches, n_embd)\n",
    "        return x.transpose(2, 1)\n"
   ]
  },
  {
   "cell_type": "code",
   "execution_count": 10,
   "id": "5a897dc7",
   "metadata": {
    "execution": {
     "iopub.execute_input": "2024-07-15T21:58:28.764086Z",
     "iopub.status.busy": "2024-07-15T21:58:28.763154Z",
     "iopub.status.idle": "2024-07-15T21:58:28.771936Z",
     "shell.execute_reply": "2024-07-15T21:58:28.770837Z"
    },
    "papermill": {
     "duration": 0.017647,
     "end_time": "2024-07-15T21:58:28.774605",
     "exception": false,
     "start_time": "2024-07-15T21:58:28.756958",
     "status": "completed"
    },
    "tags": []
   },
   "outputs": [],
   "source": [
    "img_size = (28, 28)\n",
    "patch_size = (4, 4)\n",
    "in_channels = 1\n",
    "n_embd = 256\n",
    "patch_embedding = PatchEmbedding(img_size=img_size, patch_size=patch_size, in_channels=in_channels, n_embd=n_embd)"
   ]
  },
  {
   "cell_type": "code",
   "execution_count": 11,
   "id": "a86cd267",
   "metadata": {
    "execution": {
     "iopub.execute_input": "2024-07-15T21:58:28.787043Z",
     "iopub.status.busy": "2024-07-15T21:58:28.786115Z",
     "iopub.status.idle": "2024-07-15T21:58:29.361897Z",
     "shell.execute_reply": "2024-07-15T21:58:29.360727Z"
    },
    "papermill": {
     "duration": 0.584588,
     "end_time": "2024-07-15T21:58:29.364327",
     "exception": false,
     "start_time": "2024-07-15T21:58:28.779739",
     "status": "completed"
    },
    "tags": []
   },
   "outputs": [
    {
     "name": "stdout",
     "output_type": "stream",
     "text": [
      "torch.Size([8, 49, 256])\n"
     ]
    }
   ],
   "source": [
    "patch_embedding.eval()\n",
    "with torch.inference_mode():\n",
    "    batch_inputs, batch_labels = next(iter(train_dataloader))\n",
    "    logits = patch_embedding(batch_inputs)\n",
    "    print(logits.shape) "
   ]
  },
  {
   "cell_type": "code",
   "execution_count": null,
   "id": "5c285da1",
   "metadata": {
    "papermill": {
     "duration": 0.004685,
     "end_time": "2024-07-15T21:58:29.374031",
     "exception": false,
     "start_time": "2024-07-15T21:58:29.369346",
     "status": "completed"
    },
    "tags": []
   },
   "outputs": [],
   "source": []
  }
 ],
 "metadata": {
  "kaggle": {
   "accelerator": "none",
   "dataSources": [
    {
     "databundleVersionId": 861823,
     "sourceId": 3004,
     "sourceType": "competition"
    }
   ],
   "dockerImageVersionId": 30746,
   "isGpuEnabled": false,
   "isInternetEnabled": true,
   "language": "python",
   "sourceType": "notebook"
  },
  "kernelspec": {
   "display_name": "aiStuff",
   "language": "python",
   "name": "python3"
  },
  "language_info": {
   "codemirror_mode": {
    "name": "ipython",
    "version": 3
   },
   "file_extension": ".py",
   "mimetype": "text/x-python",
   "name": "python",
   "nbconvert_exporter": "python",
   "pygments_lexer": "ipython3",
   "version": "3.10.13"
  },
  "papermill": {
   "default_parameters": {},
   "duration": 19.354904,
   "end_time": "2024-07-15T21:58:30.702742",
   "environment_variables": {},
   "exception": null,
   "input_path": "__notebook__.ipynb",
   "output_path": "__notebook__.ipynb",
   "parameters": {},
   "start_time": "2024-07-15T21:58:11.347838",
   "version": "2.5.0"
  }
 },
 "nbformat": 4,
 "nbformat_minor": 5
}
