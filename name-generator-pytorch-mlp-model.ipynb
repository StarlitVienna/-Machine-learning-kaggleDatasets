{
 "cells": [
  {
   "cell_type": "code",
   "execution_count": 1,
   "id": "eee1ca12",
   "metadata": {
    "_cell_guid": "b1076dfc-b9ad-4769-8c92-a6c4dae69d19",
    "_uuid": "8f2839f25d086af736a60e9eeb907d3b93b6e0e5",
    "execution": {
     "iopub.execute_input": "2024-07-08T18:29:48.966142Z",
     "iopub.status.busy": "2024-07-08T18:29:48.964929Z",
     "iopub.status.idle": "2024-07-08T18:29:50.016746Z",
     "shell.execute_reply": "2024-07-08T18:29:50.014892Z"
    },
    "papermill": {
     "duration": 1.066072,
     "end_time": "2024-07-08T18:29:50.020272",
     "exception": false,
     "start_time": "2024-07-08T18:29:48.954200",
     "status": "completed"
    },
    "tags": []
   },
   "outputs": [
    {
     "name": "stdout",
     "output_type": "stream",
     "text": [
      "/kaggle/input/us-baby-names/StateNames.csv\n",
      "/kaggle/input/us-baby-names/NationalReadMe.pdf\n",
      "/kaggle/input/us-baby-names/hashes.txt\n",
      "/kaggle/input/us-baby-names/NationalNames.csv\n",
      "/kaggle/input/us-baby-names/StateReadMe.pdf\n",
      "/kaggle/input/us-baby-names/database.sqlite\n"
     ]
    }
   ],
   "source": [
    "# This Python 3 environment comes with many helpful analytics libraries installed\n",
    "# It is defined by the kaggle/python Docker image: https://github.com/kaggle/docker-python\n",
    "# For example, here's several helpful packages to load\n",
    "\n",
    "import numpy as np # linear algebra\n",
    "import pandas as pd # data processing, CSV file I/O (e.g. pd.read_csv)\n",
    "\n",
    "# Input data files are available in the read-only \"../input/\" directory\n",
    "# For example, running this (by clicking run or pressing Shift+Enter) will list all files under the input directory\n",
    "\n",
    "import os\n",
    "for dirname, _, filenames in os.walk('/kaggle/input'):\n",
    "    for filename in filenames:\n",
    "        print(os.path.join(dirname, filename))\n",
    "\n",
    "# You can write up to 20GB to the current directory (/kaggle/working/) that gets preserved as output when you create a version using \"Save & Run All\" \n",
    "# You can also write temporary files to /kaggle/temp/, but they won't be saved outside of the current session"
   ]
  },
  {
   "cell_type": "markdown",
   "id": "7b583948",
   "metadata": {
    "papermill": {
     "duration": 0.008375,
     "end_time": "2024-07-08T18:29:50.037558",
     "exception": false,
     "start_time": "2024-07-08T18:29:50.029183",
     "status": "completed"
    },
    "tags": []
   },
   "source": [
    "# Import libraries"
   ]
  },
  {
   "cell_type": "code",
   "execution_count": 2,
   "id": "e9285e91",
   "metadata": {
    "execution": {
     "iopub.execute_input": "2024-07-08T18:29:50.056675Z",
     "iopub.status.busy": "2024-07-08T18:29:50.056154Z",
     "iopub.status.idle": "2024-07-08T18:29:54.227017Z",
     "shell.execute_reply": "2024-07-08T18:29:54.225337Z"
    },
    "papermill": {
     "duration": 4.184269,
     "end_time": "2024-07-08T18:29:54.230473",
     "exception": false,
     "start_time": "2024-07-08T18:29:50.046204",
     "status": "completed"
    },
    "tags": []
   },
   "outputs": [],
   "source": [
    "import torch\n",
    "from torch import nn\n",
    "from torch.utils.data import TensorDataset, DataLoader, random_split\n",
    "\n",
    "from tqdm import tqdm"
   ]
  },
  {
   "cell_type": "markdown",
   "id": "b537d2e8",
   "metadata": {
    "papermill": {
     "duration": 0.008866,
     "end_time": "2024-07-08T18:29:54.248497",
     "exception": false,
     "start_time": "2024-07-08T18:29:54.239631",
     "status": "completed"
    },
    "tags": []
   },
   "source": [
    "# Device agnostic code"
   ]
  },
  {
   "cell_type": "code",
   "execution_count": 3,
   "id": "fa4bff73",
   "metadata": {
    "execution": {
     "iopub.execute_input": "2024-07-08T18:29:54.267345Z",
     "iopub.status.busy": "2024-07-08T18:29:54.266762Z",
     "iopub.status.idle": "2024-07-08T18:29:54.276906Z",
     "shell.execute_reply": "2024-07-08T18:29:54.275283Z"
    },
    "papermill": {
     "duration": 0.023266,
     "end_time": "2024-07-08T18:29:54.280181",
     "exception": false,
     "start_time": "2024-07-08T18:29:54.256915",
     "status": "completed"
    },
    "tags": []
   },
   "outputs": [
    {
     "name": "stdout",
     "output_type": "stream",
     "text": [
      "default device set to cpu\n"
     ]
    }
   ],
   "source": [
    "device = \"cuda\" if torch.cuda.is_available() else \"cpu\"\n",
    "torch.set_default_device(device)\n",
    "generator = torch.Generator(device=device)\n",
    "print(f\"default device set to {device}\")"
   ]
  },
  {
   "cell_type": "code",
   "execution_count": 4,
   "id": "3dbfbde9",
   "metadata": {
    "execution": {
     "iopub.execute_input": "2024-07-08T18:29:54.300405Z",
     "iopub.status.busy": "2024-07-08T18:29:54.299974Z",
     "iopub.status.idle": "2024-07-08T18:29:56.525152Z",
     "shell.execute_reply": "2024-07-08T18:29:56.523666Z"
    },
    "papermill": {
     "duration": 2.239033,
     "end_time": "2024-07-08T18:29:56.528486",
     "exception": false,
     "start_time": "2024-07-08T18:29:54.289453",
     "status": "completed"
    },
    "tags": []
   },
   "outputs": [
    {
     "data": {
      "text/html": [
       "<div>\n",
       "<style scoped>\n",
       "    .dataframe tbody tr th:only-of-type {\n",
       "        vertical-align: middle;\n",
       "    }\n",
       "\n",
       "    .dataframe tbody tr th {\n",
       "        vertical-align: top;\n",
       "    }\n",
       "\n",
       "    .dataframe thead th {\n",
       "        text-align: right;\n",
       "    }\n",
       "</style>\n",
       "<table border=\"1\" class=\"dataframe\">\n",
       "  <thead>\n",
       "    <tr style=\"text-align: right;\">\n",
       "      <th></th>\n",
       "      <th>Id</th>\n",
       "      <th>Name</th>\n",
       "      <th>Year</th>\n",
       "      <th>Gender</th>\n",
       "      <th>Count</th>\n",
       "    </tr>\n",
       "  </thead>\n",
       "  <tbody>\n",
       "    <tr>\n",
       "      <th>0</th>\n",
       "      <td>1</td>\n",
       "      <td>Mary</td>\n",
       "      <td>1880</td>\n",
       "      <td>F</td>\n",
       "      <td>7065</td>\n",
       "    </tr>\n",
       "    <tr>\n",
       "      <th>1</th>\n",
       "      <td>2</td>\n",
       "      <td>Anna</td>\n",
       "      <td>1880</td>\n",
       "      <td>F</td>\n",
       "      <td>2604</td>\n",
       "    </tr>\n",
       "    <tr>\n",
       "      <th>2</th>\n",
       "      <td>3</td>\n",
       "      <td>Emma</td>\n",
       "      <td>1880</td>\n",
       "      <td>F</td>\n",
       "      <td>2003</td>\n",
       "    </tr>\n",
       "    <tr>\n",
       "      <th>3</th>\n",
       "      <td>4</td>\n",
       "      <td>Elizabeth</td>\n",
       "      <td>1880</td>\n",
       "      <td>F</td>\n",
       "      <td>1939</td>\n",
       "    </tr>\n",
       "    <tr>\n",
       "      <th>4</th>\n",
       "      <td>5</td>\n",
       "      <td>Minnie</td>\n",
       "      <td>1880</td>\n",
       "      <td>F</td>\n",
       "      <td>1746</td>\n",
       "    </tr>\n",
       "    <tr>\n",
       "      <th>...</th>\n",
       "      <td>...</td>\n",
       "      <td>...</td>\n",
       "      <td>...</td>\n",
       "      <td>...</td>\n",
       "      <td>...</td>\n",
       "    </tr>\n",
       "    <tr>\n",
       "      <th>1825428</th>\n",
       "      <td>1825429</td>\n",
       "      <td>Zykeem</td>\n",
       "      <td>2014</td>\n",
       "      <td>M</td>\n",
       "      <td>5</td>\n",
       "    </tr>\n",
       "    <tr>\n",
       "      <th>1825429</th>\n",
       "      <td>1825430</td>\n",
       "      <td>Zymeer</td>\n",
       "      <td>2014</td>\n",
       "      <td>M</td>\n",
       "      <td>5</td>\n",
       "    </tr>\n",
       "    <tr>\n",
       "      <th>1825430</th>\n",
       "      <td>1825431</td>\n",
       "      <td>Zymiere</td>\n",
       "      <td>2014</td>\n",
       "      <td>M</td>\n",
       "      <td>5</td>\n",
       "    </tr>\n",
       "    <tr>\n",
       "      <th>1825431</th>\n",
       "      <td>1825432</td>\n",
       "      <td>Zyran</td>\n",
       "      <td>2014</td>\n",
       "      <td>M</td>\n",
       "      <td>5</td>\n",
       "    </tr>\n",
       "    <tr>\n",
       "      <th>1825432</th>\n",
       "      <td>1825433</td>\n",
       "      <td>Zyrin</td>\n",
       "      <td>2014</td>\n",
       "      <td>M</td>\n",
       "      <td>5</td>\n",
       "    </tr>\n",
       "  </tbody>\n",
       "</table>\n",
       "<p>1825433 rows × 5 columns</p>\n",
       "</div>"
      ],
      "text/plain": [
       "              Id       Name  Year Gender  Count\n",
       "0              1       Mary  1880      F   7065\n",
       "1              2       Anna  1880      F   2604\n",
       "2              3       Emma  1880      F   2003\n",
       "3              4  Elizabeth  1880      F   1939\n",
       "4              5     Minnie  1880      F   1746\n",
       "...          ...        ...   ...    ...    ...\n",
       "1825428  1825429     Zykeem  2014      M      5\n",
       "1825429  1825430     Zymeer  2014      M      5\n",
       "1825430  1825431    Zymiere  2014      M      5\n",
       "1825431  1825432      Zyran  2014      M      5\n",
       "1825432  1825433      Zyrin  2014      M      5\n",
       "\n",
       "[1825433 rows x 5 columns]"
      ]
     },
     "execution_count": 4,
     "metadata": {},
     "output_type": "execute_result"
    }
   ],
   "source": [
    "names_csv = pd.read_csv(\"/kaggle/input/us-baby-names/NationalNames.csv\")\n",
    "names_csv"
   ]
  },
  {
   "cell_type": "markdown",
   "id": "a3435f8b",
   "metadata": {
    "papermill": {
     "duration": 0.009287,
     "end_time": "2024-07-08T18:29:56.547356",
     "exception": false,
     "start_time": "2024-07-08T18:29:56.538069",
     "status": "completed"
    },
    "tags": []
   },
   "source": [
    "# Model hyperparameters\n",
    "- context_size --> how many characters the model look at before making a prediction\n",
    "- n_embd --> number of values per character token"
   ]
  },
  {
   "cell_type": "code",
   "execution_count": 5,
   "id": "b9152f12",
   "metadata": {
    "execution": {
     "iopub.execute_input": "2024-07-08T18:29:56.568620Z",
     "iopub.status.busy": "2024-07-08T18:29:56.567490Z",
     "iopub.status.idle": "2024-07-08T18:29:57.210573Z",
     "shell.execute_reply": "2024-07-08T18:29:57.209074Z"
    },
    "papermill": {
     "duration": 0.657847,
     "end_time": "2024-07-08T18:29:57.213989",
     "exception": false,
     "start_time": "2024-07-08T18:29:56.556142",
     "status": "completed"
    },
    "tags": []
   },
   "outputs": [],
   "source": [
    "context_size = 4\n",
    "n_embd = 5\n",
    "vocab = set(\"\".join(names_csv[\"Name\"]))\n",
    "vocab.add(\".\")\n",
    "vocab_size = len(vocab)"
   ]
  },
  {
   "cell_type": "markdown",
   "id": "0707e469",
   "metadata": {
    "papermill": {
     "duration": 0.009109,
     "end_time": "2024-07-08T18:29:57.232106",
     "exception": false,
     "start_time": "2024-07-08T18:29:57.222997",
     "status": "completed"
    },
    "tags": []
   },
   "source": [
    "# Prepare dataset"
   ]
  },
  {
   "cell_type": "code",
   "execution_count": 6,
   "id": "ab39680e",
   "metadata": {
    "execution": {
     "iopub.execute_input": "2024-07-08T18:29:57.251827Z",
     "iopub.status.busy": "2024-07-08T18:29:57.251320Z",
     "iopub.status.idle": "2024-07-08T18:29:57.259733Z",
     "shell.execute_reply": "2024-07-08T18:29:57.258069Z"
    },
    "papermill": {
     "duration": 0.02203,
     "end_time": "2024-07-08T18:29:57.262951",
     "exception": false,
     "start_time": "2024-07-08T18:29:57.240921",
     "status": "completed"
    },
    "tags": []
   },
   "outputs": [
    {
     "name": "stdout",
     "output_type": "stream",
     "text": [
      "36\n",
      "O\n"
     ]
    }
   ],
   "source": [
    "stoi = {c: v for v, c in enumerate(vocab)}\n",
    "itos = {v: c for c, v in stoi.items()}\n",
    "print(stoi[\".\"])\n",
    "print(itos[39])"
   ]
  },
  {
   "cell_type": "code",
   "execution_count": 7,
   "id": "9ec2c6a1",
   "metadata": {
    "execution": {
     "iopub.execute_input": "2024-07-08T18:29:57.282778Z",
     "iopub.status.busy": "2024-07-08T18:29:57.282287Z",
     "iopub.status.idle": "2024-07-08T18:29:57.291068Z",
     "shell.execute_reply": "2024-07-08T18:29:57.289685Z"
    },
    "papermill": {
     "duration": 0.021897,
     "end_time": "2024-07-08T18:29:57.293727",
     "exception": false,
     "start_time": "2024-07-08T18:29:57.271830",
     "status": "completed"
    },
    "tags": []
   },
   "outputs": [],
   "source": [
    "def make_dataset(data, context_size):\n",
    "    inputs = []\n",
    "    labels = []\n",
    "    context = [stoi[\".\"]] * context_size\n",
    "    for name in names_csv[\"Name\"]:\n",
    "        for ch in name:\n",
    "            inputs.append(context)\n",
    "            labels.append(stoi[ch])\n",
    "            context = context[1:] + [stoi[ch]]\n",
    "    \n",
    "    inputs = torch.tensor(inputs, dtype=torch.long)\n",
    "    labels = torch.tensor(labels, dtype=torch.long)\n",
    "    \n",
    "    return TensorDataset(inputs, labels)"
   ]
  },
  {
   "cell_type": "code",
   "execution_count": 8,
   "id": "9a475ec0",
   "metadata": {
    "execution": {
     "iopub.execute_input": "2024-07-08T18:29:57.315128Z",
     "iopub.status.busy": "2024-07-08T18:29:57.313834Z",
     "iopub.status.idle": "2024-07-08T18:30:25.473244Z",
     "shell.execute_reply": "2024-07-08T18:30:25.471929Z"
    },
    "papermill": {
     "duration": 28.173291,
     "end_time": "2024-07-08T18:30:25.476316",
     "exception": false,
     "start_time": "2024-07-08T18:29:57.303025",
     "status": "completed"
    },
    "tags": []
   },
   "outputs": [],
   "source": [
    "dataset = make_dataset(data=names_csv, context_size=context_size)"
   ]
  },
  {
   "cell_type": "code",
   "execution_count": 9,
   "id": "b54d8836",
   "metadata": {
    "execution": {
     "iopub.execute_input": "2024-07-08T18:30:25.498425Z",
     "iopub.status.busy": "2024-07-08T18:30:25.497984Z",
     "iopub.status.idle": "2024-07-08T18:30:27.319468Z",
     "shell.execute_reply": "2024-07-08T18:30:27.318213Z"
    },
    "papermill": {
     "duration": 1.83745,
     "end_time": "2024-07-08T18:30:27.323275",
     "exception": false,
     "start_time": "2024-07-08T18:30:25.485825",
     "status": "completed"
    },
    "tags": []
   },
   "outputs": [],
   "source": [
    "train_split = int(len(dataset) * 0.8)\n",
    "test_split = int(len(dataset) - train_split)\n",
    "train_dataset, test_dataset = random_split(dataset=dataset, lengths=[train_split, test_split])"
   ]
  },
  {
   "cell_type": "code",
   "execution_count": 10,
   "id": "95963499",
   "metadata": {
    "execution": {
     "iopub.execute_input": "2024-07-08T18:30:27.347029Z",
     "iopub.status.busy": "2024-07-08T18:30:27.346454Z",
     "iopub.status.idle": "2024-07-08T18:30:27.353818Z",
     "shell.execute_reply": "2024-07-08T18:30:27.352537Z"
    },
    "papermill": {
     "duration": 0.02115,
     "end_time": "2024-07-08T18:30:27.357054",
     "exception": false,
     "start_time": "2024-07-08T18:30:27.335904",
     "status": "completed"
    },
    "tags": []
   },
   "outputs": [],
   "source": [
    "batch_size = 128\n",
    "train_dataloader = DataLoader(dataset=train_dataset, batch_size=batch_size, shuffle=True, generator=generator)\n",
    "test_dataloader = DataLoader(dataset=train_dataset, batch_size=batch_size, shuffle=True, generator=generator)"
   ]
  },
  {
   "cell_type": "markdown",
   "id": "371a5ee5",
   "metadata": {
    "papermill": {
     "duration": 0.01259,
     "end_time": "2024-07-08T18:30:27.382673",
     "exception": false,
     "start_time": "2024-07-08T18:30:27.370083",
     "status": "completed"
    },
    "tags": []
   },
   "source": [
    "# Model"
   ]
  },
  {
   "cell_type": "code",
   "execution_count": 11,
   "id": "0a879e4b",
   "metadata": {
    "execution": {
     "iopub.execute_input": "2024-07-08T18:30:27.404665Z",
     "iopub.status.busy": "2024-07-08T18:30:27.404237Z",
     "iopub.status.idle": "2024-07-08T18:30:27.521101Z",
     "shell.execute_reply": "2024-07-08T18:30:27.519391Z"
    },
    "papermill": {
     "duration": 0.130838,
     "end_time": "2024-07-08T18:30:27.524339",
     "exception": false,
     "start_time": "2024-07-08T18:30:27.393501",
     "status": "completed"
    },
    "tags": []
   },
   "outputs": [],
   "source": [
    "class MLP(nn.Module):\n",
    "    def __init__(self, context_size, vocab_size, n_embd):\n",
    "        super().__init__()\n",
    "        \n",
    "        self.context_size = context_size\n",
    "        self.vocab_size = vocab_size\n",
    "        self.n_embd = n_embd\n",
    "        \n",
    "        self.token_emb = nn.Embedding(vocab_size, n_embd) # B x T x C (B=batches; T=context_size, C=n_embd)\n",
    "        self.linear1 = nn.Linear(in_features=context_size*n_embd, out_features=8*8)\n",
    "        self.linear2 = nn.Linear(in_features=8*8, out_features=vocab_size)\n",
    "        self.act_fn = nn.Tanh()\n",
    "        \n",
    "    def forward(self, x: torch.Tensor) -> torch.Tensor:\n",
    "        x = self.token_emb(x)\n",
    "        \n",
    "        B, T, C = x.shape\n",
    "        x = x.view(B, T*C)\n",
    "        x = self.act_fn(self.linear1(x))\n",
    "        x = self.linear2(x)\n",
    "        \n",
    "        return x\n",
    "    \n",
    "    def generate_name(self, starting_char, max_length, randomize: bool):\n",
    "        name = \"\"\n",
    "        last_char = starting_char\n",
    "        i = 0\n",
    "        while last_char != \".\" and i < max_length:\n",
    "            context = [stoi[\".\"]] * (self.context_size - 1) + [stoi[last_char]]\n",
    "            context = torch.tensor(context, dtype=torch.long).view(1, len(context))\n",
    "\n",
    "            logits = self(context)\n",
    "            percents = torch.softmax(logits, dim=1)\n",
    "            \n",
    "            if randomize:\n",
    "                pred = torch.multinomial(percents, num_samples=1)\n",
    "            else:\n",
    "                pred = torch.argmax(percents, dim=1)\n",
    "            \n",
    "            i += 1\n",
    "            name += itos[pred.item()]\n",
    "            last_char = itos[pred.item()]\n",
    "        return name"
   ]
  },
  {
   "cell_type": "markdown",
   "id": "377949bf",
   "metadata": {
    "papermill": {
     "duration": 0.00904,
     "end_time": "2024-07-08T18:30:27.543202",
     "exception": false,
     "start_time": "2024-07-08T18:30:27.534162",
     "status": "completed"
    },
    "tags": []
   },
   "source": [
    "# Define the model, optimizer and loss function"
   ]
  },
  {
   "cell_type": "code",
   "execution_count": 12,
   "id": "a0fc5029",
   "metadata": {
    "execution": {
     "iopub.execute_input": "2024-07-08T18:30:27.564567Z",
     "iopub.status.busy": "2024-07-08T18:30:27.563295Z",
     "iopub.status.idle": "2024-07-08T18:30:29.337233Z",
     "shell.execute_reply": "2024-07-08T18:30:29.335838Z"
    },
    "papermill": {
     "duration": 1.788144,
     "end_time": "2024-07-08T18:30:29.340683",
     "exception": false,
     "start_time": "2024-07-08T18:30:27.552539",
     "status": "completed"
    },
    "tags": []
   },
   "outputs": [],
   "source": [
    "model = MLP(context_size=context_size, vocab_size=vocab_size, n_embd=n_embd)\n",
    "optimizer = torch.optim.Adam(params=model.parameters(), lr=1e-3)\n",
    "loss_fn = nn.CrossEntropyLoss()"
   ]
  },
  {
   "cell_type": "code",
   "execution_count": 13,
   "id": "5aa711fe",
   "metadata": {
    "execution": {
     "iopub.execute_input": "2024-07-08T18:30:29.361255Z",
     "iopub.status.busy": "2024-07-08T18:30:29.360653Z",
     "iopub.status.idle": "2024-07-08T18:30:29.453454Z",
     "shell.execute_reply": "2024-07-08T18:30:29.452243Z"
    },
    "papermill": {
     "duration": 0.106716,
     "end_time": "2024-07-08T18:30:29.456718",
     "exception": false,
     "start_time": "2024-07-08T18:30:29.350002",
     "status": "completed"
    },
    "tags": []
   },
   "outputs": [
    {
     "name": "stdout",
     "output_type": "stream",
     "text": [
      "tensor([1.0000])\n",
      "R\n"
     ]
    }
   ],
   "source": [
    "# way to generate characters from probability distribution\n",
    "tensor = torch.softmax(torch.randn(size=(1, vocab_size)), dim=1)\n",
    "print(tensor.sum(dim=1))\n",
    "multinomial = torch.multinomial(tensor, num_samples=1)\n",
    "print(itos[multinomial.item()])"
   ]
  },
  {
   "cell_type": "code",
   "execution_count": 14,
   "id": "6e6e88f6",
   "metadata": {
    "execution": {
     "iopub.execute_input": "2024-07-08T18:30:29.478400Z",
     "iopub.status.busy": "2024-07-08T18:30:29.477364Z",
     "iopub.status.idle": "2024-07-08T18:30:29.514619Z",
     "shell.execute_reply": "2024-07-08T18:30:29.513059Z"
    },
    "papermill": {
     "duration": 0.051144,
     "end_time": "2024-07-08T18:30:29.517482",
     "exception": false,
     "start_time": "2024-07-08T18:30:29.466338",
     "status": "completed"
    },
    "tags": []
   },
   "outputs": [
    {
     "name": "stdout",
     "output_type": "stream",
     "text": [
      ".\n",
      "XCXCX\n"
     ]
    }
   ],
   "source": [
    "name_from_distribution = model.generate_name(starting_char=\"L\", max_length=5, randomize=True)\n",
    "name = model.generate_name(starting_char=\"L\", max_length=5, randomize=False)\n",
    "\n",
    "print(name_from_distribution)\n",
    "print(name)"
   ]
  },
  {
   "cell_type": "markdown",
   "id": "f54b1354",
   "metadata": {
    "papermill": {
     "duration": 0.008932,
     "end_time": "2024-07-08T18:30:29.536061",
     "exception": false,
     "start_time": "2024-07-08T18:30:29.527129",
     "status": "completed"
    },
    "tags": []
   },
   "source": [
    "# Train the model"
   ]
  },
  {
   "cell_type": "code",
   "execution_count": 15,
   "id": "05697465",
   "metadata": {
    "execution": {
     "iopub.execute_input": "2024-07-08T18:30:29.557930Z",
     "iopub.status.busy": "2024-07-08T18:30:29.556719Z",
     "iopub.status.idle": "2024-07-08T18:30:29.565952Z",
     "shell.execute_reply": "2024-07-08T18:30:29.564398Z"
    },
    "papermill": {
     "duration": 0.023619,
     "end_time": "2024-07-08T18:30:29.569014",
     "exception": false,
     "start_time": "2024-07-08T18:30:29.545395",
     "status": "completed"
    },
    "tags": []
   },
   "outputs": [],
   "source": [
    "def train_model(model, dataloader, loss_fn, optimizer, epochs):\n",
    "    model.train()\n",
    "    for epoch in range(epochs):\n",
    "        for batch, (X, y) in enumerate(dataloader):\n",
    "            logits = model(X)\n",
    "            loss = loss_fn(logits, y)\n",
    "            optimizer.zero_grad()\n",
    "            loss.backward()\n",
    "            optimizer.step()\n",
    "            \n",
    "            if batch % 5000 == 0:\n",
    "                print(f\"loss for batch {batch} --> {loss} at epoch {epoch}\")\n",
    "                \n",
    "    print(f\"loss for the very last batch --> {loss}\")"
   ]
  },
  {
   "cell_type": "code",
   "execution_count": 16,
   "id": "28a327b6",
   "metadata": {
    "execution": {
     "iopub.execute_input": "2024-07-08T18:30:29.591189Z",
     "iopub.status.busy": "2024-07-08T18:30:29.589717Z",
     "iopub.status.idle": "2024-07-08T18:34:36.077950Z",
     "shell.execute_reply": "2024-07-08T18:34:36.076438Z"
    },
    "papermill": {
     "duration": 246.502678,
     "end_time": "2024-07-08T18:34:36.081109",
     "exception": false,
     "start_time": "2024-07-08T18:30:29.578431",
     "status": "completed"
    },
    "tags": []
   },
   "outputs": [
    {
     "name": "stdout",
     "output_type": "stream",
     "text": [
      "loss for batch 0 --> 4.044730186462402 at epoch 0\n",
      "loss for batch 5000 --> 2.564631223678589 at epoch 0\n",
      "loss for batch 10000 --> 2.4463095664978027 at epoch 0\n",
      "loss for batch 15000 --> 2.381837844848633 at epoch 0\n",
      "loss for batch 20000 --> 2.5656380653381348 at epoch 0\n",
      "loss for batch 25000 --> 2.3179445266723633 at epoch 0\n",
      "loss for batch 30000 --> 2.4941458702087402 at epoch 0\n",
      "loss for batch 35000 --> 2.3904638290405273 at epoch 0\n",
      "loss for batch 40000 --> 2.551481008529663 at epoch 0\n",
      "loss for batch 45000 --> 2.371795654296875 at epoch 0\n",
      "loss for batch 50000 --> 2.34086012840271 at epoch 0\n",
      "loss for batch 55000 --> 2.4614946842193604 at epoch 0\n",
      "loss for batch 60000 --> 2.264216184616089 at epoch 0\n",
      "loss for batch 65000 --> 2.3846659660339355 at epoch 0\n",
      "loss for batch 70000 --> 2.4509963989257812 at epoch 0\n",
      "loss for the very last batch --> 2.38173246383667\n"
     ]
    }
   ],
   "source": [
    "train_model(model=model, dataloader=train_dataloader, loss_fn=loss_fn, optimizer=optimizer, epochs=1)"
   ]
  },
  {
   "cell_type": "markdown",
   "id": "923fd2e3",
   "metadata": {
    "papermill": {
     "duration": 0.010471,
     "end_time": "2024-07-08T18:34:36.102477",
     "exception": false,
     "start_time": "2024-07-08T18:34:36.092006",
     "status": "completed"
    },
    "tags": []
   },
   "source": [
    "# Sample from the model"
   ]
  },
  {
   "cell_type": "code",
   "execution_count": 17,
   "id": "aece06f6",
   "metadata": {
    "execution": {
     "iopub.execute_input": "2024-07-08T18:34:36.126352Z",
     "iopub.status.busy": "2024-07-08T18:34:36.125408Z",
     "iopub.status.idle": "2024-07-08T18:34:36.138459Z",
     "shell.execute_reply": "2024-07-08T18:34:36.136625Z"
    },
    "papermill": {
     "duration": 0.028351,
     "end_time": "2024-07-08T18:34:36.141454",
     "exception": false,
     "start_time": "2024-07-08T18:34:36.113103",
     "status": "completed"
    },
    "tags": []
   },
   "outputs": [
    {
     "name": "stdout",
     "output_type": "stream",
     "text": [
      "eElCh\n",
      "aShaS\n"
     ]
    }
   ],
   "source": [
    "name_from_distribution = model.generate_name(starting_char=\"L\", max_length=5, randomize=True)\n",
    "name = model.generate_name(starting_char=\"L\", max_length=5, randomize=False)\n",
    "\n",
    "print(name_from_distribution)\n",
    "print(name)"
   ]
  },
  {
   "cell_type": "code",
   "execution_count": null,
   "id": "24b3ee77",
   "metadata": {
    "papermill": {
     "duration": 0.010868,
     "end_time": "2024-07-08T18:34:36.163131",
     "exception": false,
     "start_time": "2024-07-08T18:34:36.152263",
     "status": "completed"
    },
    "tags": []
   },
   "outputs": [],
   "source": []
  }
 ],
 "metadata": {
  "kaggle": {
   "accelerator": "none",
   "dataSources": [
    {
     "datasetId": 13,
     "sourceId": 7651,
     "sourceType": "datasetVersion"
    }
   ],
   "dockerImageVersionId": 30732,
   "isGpuEnabled": false,
   "isInternetEnabled": true,
   "language": "python",
   "sourceType": "notebook"
  },
  "kernelspec": {
   "display_name": "Python 3",
   "language": "python",
   "name": "python3"
  },
  "language_info": {
   "codemirror_mode": {
    "name": "ipython",
    "version": 3
   },
   "file_extension": ".py",
   "mimetype": "text/x-python",
   "name": "python",
   "nbconvert_exporter": "python",
   "pygments_lexer": "ipython3",
   "version": "3.10.13"
  },
  "papermill": {
   "default_parameters": {},
   "duration": 292.245188,
   "end_time": "2024-07-08T18:34:37.801579",
   "environment_variables": {},
   "exception": null,
   "input_path": "__notebook__.ipynb",
   "output_path": "__notebook__.ipynb",
   "parameters": {},
   "start_time": "2024-07-08T18:29:45.556391",
   "version": "2.5.0"
  }
 },
 "nbformat": 4,
 "nbformat_minor": 5
}
