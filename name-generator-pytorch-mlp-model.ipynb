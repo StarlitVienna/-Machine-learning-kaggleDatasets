{
 "cells": [
  {
   "cell_type": "code",
   "execution_count": 1,
   "id": "ed219f06",
   "metadata": {
    "_cell_guid": "b1076dfc-b9ad-4769-8c92-a6c4dae69d19",
    "_uuid": "8f2839f25d086af736a60e9eeb907d3b93b6e0e5",
    "execution": {
     "iopub.execute_input": "2024-07-08T18:24:26.246425Z",
     "iopub.status.busy": "2024-07-08T18:24:26.246012Z",
     "iopub.status.idle": "2024-07-08T18:24:27.160430Z",
     "shell.execute_reply": "2024-07-08T18:24:27.159277Z"
    },
    "papermill": {
     "duration": 0.928027,
     "end_time": "2024-07-08T18:24:27.162914",
     "exception": false,
     "start_time": "2024-07-08T18:24:26.234887",
     "status": "completed"
    },
    "tags": []
   },
   "outputs": [
    {
     "name": "stdout",
     "output_type": "stream",
     "text": [
      "/kaggle/input/us-baby-names/StateNames.csv\n",
      "/kaggle/input/us-baby-names/NationalReadMe.pdf\n",
      "/kaggle/input/us-baby-names/hashes.txt\n",
      "/kaggle/input/us-baby-names/NationalNames.csv\n",
      "/kaggle/input/us-baby-names/StateReadMe.pdf\n",
      "/kaggle/input/us-baby-names/database.sqlite\n"
     ]
    }
   ],
   "source": [
    "# This Python 3 environment comes with many helpful analytics libraries installed\n",
    "# It is defined by the kaggle/python Docker image: https://github.com/kaggle/docker-python\n",
    "# For example, here's several helpful packages to load\n",
    "\n",
    "import numpy as np # linear algebra\n",
    "import pandas as pd # data processing, CSV file I/O (e.g. pd.read_csv)\n",
    "\n",
    "# Input data files are available in the read-only \"../input/\" directory\n",
    "# For example, running this (by clicking run or pressing Shift+Enter) will list all files under the input directory\n",
    "\n",
    "import os\n",
    "for dirname, _, filenames in os.walk('/kaggle/input'):\n",
    "    for filename in filenames:\n",
    "        print(os.path.join(dirname, filename))\n",
    "\n",
    "# You can write up to 20GB to the current directory (/kaggle/working/) that gets preserved as output when you create a version using \"Save & Run All\" \n",
    "# You can also write temporary files to /kaggle/temp/, but they won't be saved outside of the current session"
   ]
  },
  {
   "cell_type": "markdown",
   "id": "67097bc1",
   "metadata": {
    "papermill": {
     "duration": 0.007725,
     "end_time": "2024-07-08T18:24:27.178759",
     "exception": false,
     "start_time": "2024-07-08T18:24:27.171034",
     "status": "completed"
    },
    "tags": []
   },
   "source": [
    "# Import libraries"
   ]
  },
  {
   "cell_type": "code",
   "execution_count": 2,
   "id": "f1cb337d",
   "metadata": {
    "execution": {
     "iopub.execute_input": "2024-07-08T18:24:27.196684Z",
     "iopub.status.busy": "2024-07-08T18:24:27.195702Z",
     "iopub.status.idle": "2024-07-08T18:24:30.759239Z",
     "shell.execute_reply": "2024-07-08T18:24:30.758204Z"
    },
    "papermill": {
     "duration": 3.575435,
     "end_time": "2024-07-08T18:24:30.762075",
     "exception": false,
     "start_time": "2024-07-08T18:24:27.186640",
     "status": "completed"
    },
    "tags": []
   },
   "outputs": [],
   "source": [
    "import torch\n",
    "from torch import nn\n",
    "from torch.utils.data import TensorDataset, DataLoader, random_split\n",
    "\n",
    "from tqdm import tqdm"
   ]
  },
  {
   "cell_type": "markdown",
   "id": "b66aef64",
   "metadata": {
    "papermill": {
     "duration": 0.007647,
     "end_time": "2024-07-08T18:24:30.778135",
     "exception": false,
     "start_time": "2024-07-08T18:24:30.770488",
     "status": "completed"
    },
    "tags": []
   },
   "source": [
    "# Device agnostic code"
   ]
  },
  {
   "cell_type": "code",
   "execution_count": 3,
   "id": "c1a05656",
   "metadata": {
    "execution": {
     "iopub.execute_input": "2024-07-08T18:24:30.796236Z",
     "iopub.status.busy": "2024-07-08T18:24:30.795669Z",
     "iopub.status.idle": "2024-07-08T18:24:30.803404Z",
     "shell.execute_reply": "2024-07-08T18:24:30.802253Z"
    },
    "papermill": {
     "duration": 0.019358,
     "end_time": "2024-07-08T18:24:30.805607",
     "exception": false,
     "start_time": "2024-07-08T18:24:30.786249",
     "status": "completed"
    },
    "tags": []
   },
   "outputs": [
    {
     "name": "stdout",
     "output_type": "stream",
     "text": [
      "default device set to cpu\n"
     ]
    }
   ],
   "source": [
    "device = \"cuda\" if torch.cuda.is_available() else \"cpu\"\n",
    "torch.set_default_device(device)\n",
    "generator = torch.Generator(device=device)\n",
    "print(f\"default device set to {device}\")"
   ]
  },
  {
   "cell_type": "code",
   "execution_count": 4,
   "id": "f4263ecb",
   "metadata": {
    "execution": {
     "iopub.execute_input": "2024-07-08T18:24:30.823219Z",
     "iopub.status.busy": "2024-07-08T18:24:30.822807Z",
     "iopub.status.idle": "2024-07-08T18:24:33.046209Z",
     "shell.execute_reply": "2024-07-08T18:24:33.045044Z"
    },
    "papermill": {
     "duration": 2.235113,
     "end_time": "2024-07-08T18:24:33.048713",
     "exception": false,
     "start_time": "2024-07-08T18:24:30.813600",
     "status": "completed"
    },
    "tags": []
   },
   "outputs": [
    {
     "data": {
      "text/html": [
       "<div>\n",
       "<style scoped>\n",
       "    .dataframe tbody tr th:only-of-type {\n",
       "        vertical-align: middle;\n",
       "    }\n",
       "\n",
       "    .dataframe tbody tr th {\n",
       "        vertical-align: top;\n",
       "    }\n",
       "\n",
       "    .dataframe thead th {\n",
       "        text-align: right;\n",
       "    }\n",
       "</style>\n",
       "<table border=\"1\" class=\"dataframe\">\n",
       "  <thead>\n",
       "    <tr style=\"text-align: right;\">\n",
       "      <th></th>\n",
       "      <th>Id</th>\n",
       "      <th>Name</th>\n",
       "      <th>Year</th>\n",
       "      <th>Gender</th>\n",
       "      <th>Count</th>\n",
       "    </tr>\n",
       "  </thead>\n",
       "  <tbody>\n",
       "    <tr>\n",
       "      <th>0</th>\n",
       "      <td>1</td>\n",
       "      <td>Mary</td>\n",
       "      <td>1880</td>\n",
       "      <td>F</td>\n",
       "      <td>7065</td>\n",
       "    </tr>\n",
       "    <tr>\n",
       "      <th>1</th>\n",
       "      <td>2</td>\n",
       "      <td>Anna</td>\n",
       "      <td>1880</td>\n",
       "      <td>F</td>\n",
       "      <td>2604</td>\n",
       "    </tr>\n",
       "    <tr>\n",
       "      <th>2</th>\n",
       "      <td>3</td>\n",
       "      <td>Emma</td>\n",
       "      <td>1880</td>\n",
       "      <td>F</td>\n",
       "      <td>2003</td>\n",
       "    </tr>\n",
       "    <tr>\n",
       "      <th>3</th>\n",
       "      <td>4</td>\n",
       "      <td>Elizabeth</td>\n",
       "      <td>1880</td>\n",
       "      <td>F</td>\n",
       "      <td>1939</td>\n",
       "    </tr>\n",
       "    <tr>\n",
       "      <th>4</th>\n",
       "      <td>5</td>\n",
       "      <td>Minnie</td>\n",
       "      <td>1880</td>\n",
       "      <td>F</td>\n",
       "      <td>1746</td>\n",
       "    </tr>\n",
       "    <tr>\n",
       "      <th>...</th>\n",
       "      <td>...</td>\n",
       "      <td>...</td>\n",
       "      <td>...</td>\n",
       "      <td>...</td>\n",
       "      <td>...</td>\n",
       "    </tr>\n",
       "    <tr>\n",
       "      <th>1825428</th>\n",
       "      <td>1825429</td>\n",
       "      <td>Zykeem</td>\n",
       "      <td>2014</td>\n",
       "      <td>M</td>\n",
       "      <td>5</td>\n",
       "    </tr>\n",
       "    <tr>\n",
       "      <th>1825429</th>\n",
       "      <td>1825430</td>\n",
       "      <td>Zymeer</td>\n",
       "      <td>2014</td>\n",
       "      <td>M</td>\n",
       "      <td>5</td>\n",
       "    </tr>\n",
       "    <tr>\n",
       "      <th>1825430</th>\n",
       "      <td>1825431</td>\n",
       "      <td>Zymiere</td>\n",
       "      <td>2014</td>\n",
       "      <td>M</td>\n",
       "      <td>5</td>\n",
       "    </tr>\n",
       "    <tr>\n",
       "      <th>1825431</th>\n",
       "      <td>1825432</td>\n",
       "      <td>Zyran</td>\n",
       "      <td>2014</td>\n",
       "      <td>M</td>\n",
       "      <td>5</td>\n",
       "    </tr>\n",
       "    <tr>\n",
       "      <th>1825432</th>\n",
       "      <td>1825433</td>\n",
       "      <td>Zyrin</td>\n",
       "      <td>2014</td>\n",
       "      <td>M</td>\n",
       "      <td>5</td>\n",
       "    </tr>\n",
       "  </tbody>\n",
       "</table>\n",
       "<p>1825433 rows × 5 columns</p>\n",
       "</div>"
      ],
      "text/plain": [
       "              Id       Name  Year Gender  Count\n",
       "0              1       Mary  1880      F   7065\n",
       "1              2       Anna  1880      F   2604\n",
       "2              3       Emma  1880      F   2003\n",
       "3              4  Elizabeth  1880      F   1939\n",
       "4              5     Minnie  1880      F   1746\n",
       "...          ...        ...   ...    ...    ...\n",
       "1825428  1825429     Zykeem  2014      M      5\n",
       "1825429  1825430     Zymeer  2014      M      5\n",
       "1825430  1825431    Zymiere  2014      M      5\n",
       "1825431  1825432      Zyran  2014      M      5\n",
       "1825432  1825433      Zyrin  2014      M      5\n",
       "\n",
       "[1825433 rows x 5 columns]"
      ]
     },
     "execution_count": 4,
     "metadata": {},
     "output_type": "execute_result"
    }
   ],
   "source": [
    "names_csv = pd.read_csv(\"/kaggle/input/us-baby-names/NationalNames.csv\")\n",
    "names_csv"
   ]
  },
  {
   "cell_type": "markdown",
   "id": "42a597d4",
   "metadata": {
    "papermill": {
     "duration": 0.007957,
     "end_time": "2024-07-08T18:24:33.065139",
     "exception": false,
     "start_time": "2024-07-08T18:24:33.057182",
     "status": "completed"
    },
    "tags": []
   },
   "source": [
    "# Model hyperparameters\n",
    "- context_size --> how many characters the model look at before making a prediction\n",
    "- n_embd --> number of values per character token"
   ]
  },
  {
   "cell_type": "code",
   "execution_count": 5,
   "id": "1602a1ec",
   "metadata": {
    "execution": {
     "iopub.execute_input": "2024-07-08T18:24:33.083542Z",
     "iopub.status.busy": "2024-07-08T18:24:33.082819Z",
     "iopub.status.idle": "2024-07-08T18:24:33.623574Z",
     "shell.execute_reply": "2024-07-08T18:24:33.622433Z"
    },
    "papermill": {
     "duration": 0.552846,
     "end_time": "2024-07-08T18:24:33.626080",
     "exception": false,
     "start_time": "2024-07-08T18:24:33.073234",
     "status": "completed"
    },
    "tags": []
   },
   "outputs": [],
   "source": [
    "context_size = 4\n",
    "n_embd = 5\n",
    "vocab = set(\"\".join(names_csv[\"Name\"]))\n",
    "vocab.add(\".\")\n",
    "vocab_size = len(vocab)"
   ]
  },
  {
   "cell_type": "markdown",
   "id": "40456e8d",
   "metadata": {
    "papermill": {
     "duration": 0.008066,
     "end_time": "2024-07-08T18:24:33.642597",
     "exception": false,
     "start_time": "2024-07-08T18:24:33.634531",
     "status": "completed"
    },
    "tags": []
   },
   "source": [
    "# Prepare dataset"
   ]
  },
  {
   "cell_type": "code",
   "execution_count": 6,
   "id": "bf8a5c3a",
   "metadata": {
    "execution": {
     "iopub.execute_input": "2024-07-08T18:24:33.661492Z",
     "iopub.status.busy": "2024-07-08T18:24:33.660580Z",
     "iopub.status.idle": "2024-07-08T18:24:33.667590Z",
     "shell.execute_reply": "2024-07-08T18:24:33.666390Z"
    },
    "papermill": {
     "duration": 0.019158,
     "end_time": "2024-07-08T18:24:33.670115",
     "exception": false,
     "start_time": "2024-07-08T18:24:33.650957",
     "status": "completed"
    },
    "tags": []
   },
   "outputs": [
    {
     "name": "stdout",
     "output_type": "stream",
     "text": [
      "29\n",
      "D\n"
     ]
    }
   ],
   "source": [
    "stoi = {c: v for v, c in enumerate(vocab)}\n",
    "itos = {v: c for c, v in stoi.items()}\n",
    "print(stoi[\".\"])\n",
    "print(itos[39])"
   ]
  },
  {
   "cell_type": "code",
   "execution_count": 7,
   "id": "02ca387b",
   "metadata": {
    "execution": {
     "iopub.execute_input": "2024-07-08T18:24:33.688952Z",
     "iopub.status.busy": "2024-07-08T18:24:33.688561Z",
     "iopub.status.idle": "2024-07-08T18:24:33.696253Z",
     "shell.execute_reply": "2024-07-08T18:24:33.695167Z"
    },
    "papermill": {
     "duration": 0.019896,
     "end_time": "2024-07-08T18:24:33.698673",
     "exception": false,
     "start_time": "2024-07-08T18:24:33.678777",
     "status": "completed"
    },
    "tags": []
   },
   "outputs": [],
   "source": [
    "def make_dataset(data, context_size):\n",
    "    inputs = []\n",
    "    labels = []\n",
    "    context = [stoi[\".\"]] * context_size\n",
    "    for name in names_csv[\"Name\"]:\n",
    "        for ch in name:\n",
    "            inputs.append(context)\n",
    "            labels.append(stoi[ch])\n",
    "            context = context[1:] + [stoi[ch]]\n",
    "    \n",
    "    inputs = torch.tensor(inputs, dtype=torch.long)\n",
    "    labels = torch.tensor(labels, dtype=torch.long)\n",
    "    \n",
    "    return TensorDataset(inputs, labels)"
   ]
  },
  {
   "cell_type": "code",
   "execution_count": 8,
   "id": "bb18a43f",
   "metadata": {
    "execution": {
     "iopub.execute_input": "2024-07-08T18:24:33.717821Z",
     "iopub.status.busy": "2024-07-08T18:24:33.716876Z",
     "iopub.status.idle": "2024-07-08T18:25:01.116874Z",
     "shell.execute_reply": "2024-07-08T18:25:01.115675Z"
    },
    "papermill": {
     "duration": 27.412766,
     "end_time": "2024-07-08T18:25:01.120019",
     "exception": false,
     "start_time": "2024-07-08T18:24:33.707253",
     "status": "completed"
    },
    "tags": []
   },
   "outputs": [],
   "source": [
    "dataset = make_dataset(data=names_csv, context_size=context_size)"
   ]
  },
  {
   "cell_type": "code",
   "execution_count": 9,
   "id": "5b74de41",
   "metadata": {
    "execution": {
     "iopub.execute_input": "2024-07-08T18:25:01.138998Z",
     "iopub.status.busy": "2024-07-08T18:25:01.138581Z",
     "iopub.status.idle": "2024-07-08T18:25:02.789614Z",
     "shell.execute_reply": "2024-07-08T18:25:02.788444Z"
    },
    "papermill": {
     "duration": 1.663733,
     "end_time": "2024-07-08T18:25:02.792327",
     "exception": false,
     "start_time": "2024-07-08T18:25:01.128594",
     "status": "completed"
    },
    "tags": []
   },
   "outputs": [],
   "source": [
    "train_split = int(len(dataset) * 0.8)\n",
    "test_split = int(len(dataset) - train_split)\n",
    "train_dataset, test_dataset = random_split(dataset=dataset, lengths=[train_split, test_split])"
   ]
  },
  {
   "cell_type": "code",
   "execution_count": 10,
   "id": "6422001e",
   "metadata": {
    "execution": {
     "iopub.execute_input": "2024-07-08T18:25:02.811242Z",
     "iopub.status.busy": "2024-07-08T18:25:02.810839Z",
     "iopub.status.idle": "2024-07-08T18:25:02.816793Z",
     "shell.execute_reply": "2024-07-08T18:25:02.815748Z"
    },
    "papermill": {
     "duration": 0.017931,
     "end_time": "2024-07-08T18:25:02.819093",
     "exception": false,
     "start_time": "2024-07-08T18:25:02.801162",
     "status": "completed"
    },
    "tags": []
   },
   "outputs": [],
   "source": [
    "batch_size = 128\n",
    "train_dataloader = DataLoader(dataset=train_dataset, batch_size=batch_size, shuffle=True, generator=generator)\n",
    "test_dataloader = DataLoader(dataset=train_dataset, batch_size=batch_size, shuffle=True, generator=generator)"
   ]
  },
  {
   "cell_type": "markdown",
   "id": "4b47b469",
   "metadata": {
    "papermill": {
     "duration": 0.008061,
     "end_time": "2024-07-08T18:25:02.835602",
     "exception": false,
     "start_time": "2024-07-08T18:25:02.827541",
     "status": "completed"
    },
    "tags": []
   },
   "source": [
    "# Model"
   ]
  },
  {
   "cell_type": "code",
   "execution_count": 11,
   "id": "9d6882b8",
   "metadata": {
    "execution": {
     "iopub.execute_input": "2024-07-08T18:25:02.855298Z",
     "iopub.status.busy": "2024-07-08T18:25:02.854359Z",
     "iopub.status.idle": "2024-07-08T18:25:02.961937Z",
     "shell.execute_reply": "2024-07-08T18:25:02.960722Z"
    },
    "papermill": {
     "duration": 0.119746,
     "end_time": "2024-07-08T18:25:02.964462",
     "exception": false,
     "start_time": "2024-07-08T18:25:02.844716",
     "status": "completed"
    },
    "tags": []
   },
   "outputs": [],
   "source": [
    "class MLP(nn.Module):\n",
    "    def __init__(self, context_size, vocab_size, n_embd):\n",
    "        super().__init__()\n",
    "        \n",
    "        self.context_size = context_size\n",
    "        self.vocab_size = vocab_size\n",
    "        self.n_embd = n_embd\n",
    "        \n",
    "        self.token_emb = nn.Embedding(vocab_size, n_embd) # B x T x C (B=batches; T=context_size, C=n_embd)\n",
    "        self.linear1 = nn.Linear(in_features=context_size*n_embd, out_features=8*8)\n",
    "        self.linear2 = nn.Linear(in_features=8*8, out_features=vocab_size)\n",
    "        self.act_fn = nn.Tanh()\n",
    "        \n",
    "    def forward(self, x: torch.Tensor) -> torch.Tensor:\n",
    "        x = self.token_emb(x)\n",
    "        \n",
    "        B, T, C = x.shape\n",
    "        x = x.view(B, T*C)\n",
    "        x = self.act_fn(self.linear1(x))\n",
    "        x = self.linear2(x)\n",
    "        \n",
    "        return x\n",
    "    \n",
    "    def generate_name(self, starting_char, max_length, randomize: bool):\n",
    "        name = \"\"\n",
    "        last_char = starting_char\n",
    "        i = 0\n",
    "        while last_char != \".\" and i < max_length:\n",
    "            context = [stoi[\".\"]] * (self.context_size - 1) + [stoi[last_char]]\n",
    "            context = torch.tensor(context, dtype=torch.long).view(1, len(context))\n",
    "\n",
    "            logits = self(context)\n",
    "            percents = torch.softmax(logits, dim=1)\n",
    "            \n",
    "            if randomize:\n",
    "                pred = torch.multinomial(percents, num_samples=1)\n",
    "            else:\n",
    "                pred = torch.argmax(percents, dim=1)\n",
    "            \n",
    "            i += 1\n",
    "            name += itos[pred.item()]\n",
    "            last_char = itos[pred.item()]\n",
    "        return name"
   ]
  },
  {
   "cell_type": "markdown",
   "id": "f360ace0",
   "metadata": {
    "papermill": {
     "duration": 0.008047,
     "end_time": "2024-07-08T18:25:02.980961",
     "exception": false,
     "start_time": "2024-07-08T18:25:02.972914",
     "status": "completed"
    },
    "tags": []
   },
   "source": [
    "# Define the model, optimizer and loss function"
   ]
  },
  {
   "cell_type": "code",
   "execution_count": 12,
   "id": "f0b170fb",
   "metadata": {
    "execution": {
     "iopub.execute_input": "2024-07-08T18:25:02.999678Z",
     "iopub.status.busy": "2024-07-08T18:25:02.999264Z",
     "iopub.status.idle": "2024-07-08T18:25:04.546911Z",
     "shell.execute_reply": "2024-07-08T18:25:04.545755Z"
    },
    "papermill": {
     "duration": 1.560611,
     "end_time": "2024-07-08T18:25:04.549796",
     "exception": false,
     "start_time": "2024-07-08T18:25:02.989185",
     "status": "completed"
    },
    "tags": []
   },
   "outputs": [],
   "source": [
    "model = MLP(context_size=context_size, vocab_size=vocab_size, n_embd=n_embd)\n",
    "optimizer = torch.optim.Adam(params=model.parameters(), lr=1e-3)\n",
    "loss_fn = nn.CrossEntropyLoss()"
   ]
  },
  {
   "cell_type": "code",
   "execution_count": 13,
   "id": "3c0b0677",
   "metadata": {
    "execution": {
     "iopub.execute_input": "2024-07-08T18:25:04.568422Z",
     "iopub.status.busy": "2024-07-08T18:25:04.567860Z",
     "iopub.status.idle": "2024-07-08T18:25:04.662172Z",
     "shell.execute_reply": "2024-07-08T18:25:04.660781Z"
    },
    "papermill": {
     "duration": 0.106649,
     "end_time": "2024-07-08T18:25:04.664882",
     "exception": false,
     "start_time": "2024-07-08T18:25:04.558233",
     "status": "completed"
    },
    "tags": []
   },
   "outputs": [
    {
     "name": "stdout",
     "output_type": "stream",
     "text": [
      "sCjVd\n",
      "RRRRR\n"
     ]
    }
   ],
   "source": [
    "name_from_distribution = model.generate_name(starting_char=\"L\", max_length=5, randomize=True)\n",
    "name = model.generate_name(starting_char=\"L\", max_length=5, randomize=False)\n",
    "\n",
    "print(name_from_distribution)\n",
    "print(name)"
   ]
  },
  {
   "cell_type": "markdown",
   "id": "154b2049",
   "metadata": {
    "papermill": {
     "duration": 0.008362,
     "end_time": "2024-07-08T18:25:04.681771",
     "exception": false,
     "start_time": "2024-07-08T18:25:04.673409",
     "status": "completed"
    },
    "tags": []
   },
   "source": [
    "# Train the model"
   ]
  },
  {
   "cell_type": "code",
   "execution_count": 14,
   "id": "e6634afe",
   "metadata": {
    "execution": {
     "iopub.execute_input": "2024-07-08T18:25:04.701475Z",
     "iopub.status.busy": "2024-07-08T18:25:04.701052Z",
     "iopub.status.idle": "2024-07-08T18:25:04.726494Z",
     "shell.execute_reply": "2024-07-08T18:25:04.725164Z"
    },
    "papermill": {
     "duration": 0.038479,
     "end_time": "2024-07-08T18:25:04.728820",
     "exception": false,
     "start_time": "2024-07-08T18:25:04.690341",
     "status": "completed"
    },
    "tags": []
   },
   "outputs": [
    {
     "name": "stdout",
     "output_type": "stream",
     "text": [
      "tensor([1.])\n",
      "d\n"
     ]
    }
   ],
   "source": [
    "# way to generate characters from probability distribution\n",
    "tensor = torch.softmax(torch.randn(size=(1, vocab_size)), dim=1)\n",
    "print(tensor.sum(dim=1))\n",
    "multinomial = torch.multinomial(tensor, num_samples=1)\n",
    "print(itos[multinomial.item()])"
   ]
  },
  {
   "cell_type": "code",
   "execution_count": 15,
   "id": "b73507fa",
   "metadata": {
    "execution": {
     "iopub.execute_input": "2024-07-08T18:25:04.747842Z",
     "iopub.status.busy": "2024-07-08T18:25:04.746900Z",
     "iopub.status.idle": "2024-07-08T18:25:04.754473Z",
     "shell.execute_reply": "2024-07-08T18:25:04.753419Z"
    },
    "papermill": {
     "duration": 0.019506,
     "end_time": "2024-07-08T18:25:04.756778",
     "exception": false,
     "start_time": "2024-07-08T18:25:04.737272",
     "status": "completed"
    },
    "tags": []
   },
   "outputs": [],
   "source": [
    "def train_model(model, dataloader, loss_fn, optimizer, epochs):\n",
    "    model.train()\n",
    "    for epoch in range(epochs):\n",
    "        for batch, (X, y) in enumerate(dataloader):\n",
    "            logits = model(X)\n",
    "            loss = loss_fn(logits, y)\n",
    "            optimizer.zero_grad()\n",
    "            loss.backward()\n",
    "            optimizer.step()\n",
    "            \n",
    "            if batch % 5000 == 0:\n",
    "                print(f\"loss for batch {batch} --> {loss} at epoch {epoch}\")\n",
    "                \n",
    "    print(f\"loss for the very last batch --> {loss}\")"
   ]
  },
  {
   "cell_type": "markdown",
   "id": "0a537c17",
   "metadata": {
    "papermill": {
     "duration": 0.008148,
     "end_time": "2024-07-08T18:25:04.773320",
     "exception": false,
     "start_time": "2024-07-08T18:25:04.765172",
     "status": "completed"
    },
    "tags": []
   },
   "source": [
    "# Generate name\n"
   ]
  },
  {
   "cell_type": "code",
   "execution_count": 16,
   "id": "ea20f10e",
   "metadata": {
    "execution": {
     "iopub.execute_input": "2024-07-08T18:25:04.792049Z",
     "iopub.status.busy": "2024-07-08T18:25:04.791652Z",
     "iopub.status.idle": "2024-07-08T18:28:44.040197Z",
     "shell.execute_reply": "2024-07-08T18:28:44.038512Z"
    },
    "papermill": {
     "duration": 219.261037,
     "end_time": "2024-07-08T18:28:44.042932",
     "exception": false,
     "start_time": "2024-07-08T18:25:04.781895",
     "status": "completed"
    },
    "tags": []
   },
   "outputs": [
    {
     "name": "stdout",
     "output_type": "stream",
     "text": [
      "loss for batch 0 --> 4.0128560066223145 at epoch 0\n",
      "loss for batch 5000 --> 2.4125897884368896 at epoch 0\n",
      "loss for batch 10000 --> 2.5368590354919434 at epoch 0\n",
      "loss for batch 15000 --> 2.449019193649292 at epoch 0\n",
      "loss for batch 20000 --> 2.512877941131592 at epoch 0\n",
      "loss for batch 25000 --> 2.5113461017608643 at epoch 0\n",
      "loss for batch 30000 --> 2.3550734519958496 at epoch 0\n",
      "loss for batch 35000 --> 2.6542630195617676 at epoch 0\n",
      "loss for batch 40000 --> 2.38313364982605 at epoch 0\n",
      "loss for batch 45000 --> 2.613328695297241 at epoch 0\n",
      "loss for batch 50000 --> 2.399425506591797 at epoch 0\n",
      "loss for batch 55000 --> 2.3562099933624268 at epoch 0\n",
      "loss for batch 60000 --> 2.545130491256714 at epoch 0\n",
      "loss for batch 65000 --> 2.5407092571258545 at epoch 0\n",
      "loss for batch 70000 --> 2.373792886734009 at epoch 0\n",
      "loss for the very last batch --> 2.1669206619262695\n"
     ]
    }
   ],
   "source": [
    "train_model(model=model, dataloader=train_dataloader, loss_fn=loss_fn, optimizer=optimizer, epochs=1)"
   ]
  },
  {
   "cell_type": "code",
   "execution_count": null,
   "id": "05719b2b",
   "metadata": {
    "papermill": {
     "duration": 0.009617,
     "end_time": "2024-07-08T18:28:44.063779",
     "exception": false,
     "start_time": "2024-07-08T18:28:44.054162",
     "status": "completed"
    },
    "tags": []
   },
   "outputs": [],
   "source": []
  }
 ],
 "metadata": {
  "kaggle": {
   "accelerator": "none",
   "dataSources": [
    {
     "datasetId": 13,
     "sourceId": 7651,
     "sourceType": "datasetVersion"
    }
   ],
   "dockerImageVersionId": 30732,
   "isGpuEnabled": false,
   "isInternetEnabled": true,
   "language": "python",
   "sourceType": "notebook"
  },
  "kernelspec": {
   "display_name": "Python 3",
   "language": "python",
   "name": "python3"
  },
  "language_info": {
   "codemirror_mode": {
    "name": "ipython",
    "version": 3
   },
   "file_extension": ".py",
   "mimetype": "text/x-python",
   "name": "python",
   "nbconvert_exporter": "python",
   "pygments_lexer": "ipython3",
   "version": "3.10.13"
  },
  "papermill": {
   "default_parameters": {},
   "duration": 262.203313,
   "end_time": "2024-07-08T18:28:45.398982",
   "environment_variables": {},
   "exception": null,
   "input_path": "__notebook__.ipynb",
   "output_path": "__notebook__.ipynb",
   "parameters": {},
   "start_time": "2024-07-08T18:24:23.195669",
   "version": "2.5.0"
  }
 },
 "nbformat": 4,
 "nbformat_minor": 5
}
